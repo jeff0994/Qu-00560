{
  "cells": [
    {
      "metadata": {
        "collapsed": true
      },
      "cell_type": "markdown",
      "source": "# Universidad de Costa Rica\n\n## Facultad de Ciencias\n\n## Escuela de Química\n\n## Sección de Fisicoquímica\n\n## Qu-0560 Tópicos de Química Física: Herramientas Computacionales para Química\n\n### Profesor Gutierrez\n### Asistente no oficial: Yefry López"
    },
    {
      "metadata": {},
      "cell_type": "markdown",
      "source": "## Aplicación II: Regresiones\n\nEn esta sección aprenderás a hacer regresiones y gráficos con Python! <br>\nHasta ahora has aprendido sobre las primivitas básicas: strings, boleans, integers, floats y listas. Así mismo podes hacer cálculos básicos de matemática elemental y usar variables como contenedores de valores <br>\n\nCon lo anterior, ya podemos hacer regresiones lineales y no lineales! Tema fundamental en el mundo científico, pues en última instancia queremos medir usando algún modelo y realizar predicciones. <br>\n\nEn este modulo emplearemos los siguientes recursos:\n\n* [match](https://docs.python.org/2/library/math.html) Para cálculo de funciones básicas de matemática elemental <br>\n* [uncertainties](https://pythonhosted.org/uncertainties/) Para manejo de propagación de incertidumbres <br>\n* [Numpy](http://www.numpy.org/) para manejar arrays, vectores, columnnas y hacer cálculos numéricos <br>\n* [scikit-learn](http://scikit-learn.org/) para realizar regresiones lineales y no lineales <br>\n* [statsmodels](http://www.statsmodels.org/stable/index.html) para manejar estadística y realizar regresiones <br>]\n* [GEKKO](https://gekko.readthedocs.io/en/latest/) para optimización algebraica de ecuaciones diferenciales e integrales\n* [matplolib](https://matplotlib.org/) Para realizar gráficos <br>\n* [scypython](https://www.scipy.org/)"
    },
    {
      "metadata": {},
      "cell_type": "markdown",
      "source": "## Regresión Lineal con Scypython\n\nScypython es un conjunto de librerias enfocadas en el cálculo científico y manejo numérico. Al instalarlo, viene con paquetes\ncomo Numpy , Matplotlib, SiPython y Pandas. Así mismo librerias extra para realizar diferentes cálculos. <br>\n\nHaremos uso de Scypython para ejemplificar nuestra primer regresión <br>\n\nDe forma general en Analitica I y II estarás trabajando con regresiones lineales mediante el método de mínimos cuadrados. De hecho, te pedirán que crees una hoja de excel para realizar las regresiones. <br>\n\nEn Fisicoquímica harás uso de regresiones lineales pero también no lineales. Sin embargo se busca que el estudiante use un software que automatice el modelado, pues hacerlo manual en excel puede llevar su tiempo. <br>\n\nTe recordarás que un modelo lineal tiene la forma <br>\n$$ y(x) = mx + b(1)$$\n\nDonde __m__ es la pendiente y __b__ el intercepto.\ny(x) es tu variable dependiente\nx es tu variable independientes\n\nEste modelo de permite predecir como afecta la variable X a las Y de manera lineal.<br>\nEn analítica lo usarás para curvas de calibración. <br>\nNuestra misión en este primer modelo es obtener el $R^{2}$ que nos habla de la correlación o que tan bien se ajustan los datos\nal modelo, queremos sabe la pendiente __m__ y su error asociado y así mismo el intercepo __b__\n\nEn el laboratorio, tomamos una serie de medidas y ajustamos.<br>\n\nPara realizar la muestra de regresión, haremos uso del siguiente set datos."
    },
    {
      "metadata": {},
      "cell_type": "markdown",
      "source": "### Ejemplo 1\n\n![presion-volumen.PNG](attachment:presion-volumen.PNG)",
      "attachments": {
        "presion-volumen.PNG": {
          "image/png": "[encoded data removed]"
        }
      }
    },
    {
      "metadata": {},
      "cell_type": "markdown",
      "source": "#### Paso 1. Define tus variables dependiente e independiente.\n\nEn nuestro caso nuestra __x__ será la presión en atm y nuestra __y__ serán los logarimos naturales de los volúmenes en litros <br>\n\nSiguiendo el siguiente modelo <br>\n\n$$ln(V) = -\\kappa*P + b $$ \n\n$\\kappa$ representa el factor de compresión isotermica. Una propiedad física de los materiales. En este caso será nuestra pendiente <br>\n\nvolumen = [8.99 , 17.65 , 34.10 , 41.92 , 49.50 , 58.86 , 64.02] <br>\npresion = [2.000 , 1.000 , 0.500 , 0.400 , 0.333 , 0.286 , 0.250] <br>"
    },
    {
      "metadata": {
        "trusted": true
      },
      "cell_type": "code",
      "source": "# P de presión y V de volumen\npresion = [8.99 , 17.65 , 34.10 , 41.92 , 49.50 , 58.86 , 64.02]\nvolumen = [2.000 , 1.000 , 0.500 , 0.400 , 0.333 , 0.286 , 0.250]",
      "execution_count": null,
      "outputs": []
    },
    {
      "metadata": {},
      "cell_type": "markdown",
      "source": "#### Paso 2. Elige que paquete de Python deseas utilizar para optimizar y ajustar e importalo\n\n\nEn nuestro primer caso será Scipython que ya viene incluido en Jupyter Notebooks.\nPara hacer la regresión importaremos Numpy y Matplotlib\n\n* Importaremos matplotlib como plt\n* Importaremos numpy como np\n* Importaremos el paquete estadístico de Scipython"
    },
    {
      "metadata": {},
      "cell_type": "markdown",
      "source": "Importamos el paquete de gráficos ( no te preocupes por ahora, en el siguiente módulo te enseñaremos mas sobre el)"
    },
    {
      "metadata": {
        "trusted": true
      },
      "cell_type": "code",
      "source": "import matplotlib.pyplot as plt\n",
      "execution_count": null,
      "outputs": []
    },
    {
      "metadata": {},
      "cell_type": "markdown",
      "source": "Le estamos diciendo a Python... Hey Python en Jupyter Notebooks existe un paquete llamado __matplotlib__ <br>\nDentro de ese paquete quiero que busques la gráfica __pyplot__ que es una gráfica del tipo __dispersión__  como las de Excel\n\nY cuando yo la use, quiero usarla con el siguiente nombre __plt__ "
    },
    {
      "metadata": {},
      "cell_type": "markdown",
      "source": "Importamos el paquete numérico Numpy"
    },
    {
      "metadata": {
        "trusted": true
      },
      "cell_type": "code",
      "source": "import numpy as np\nimport math ",
      "execution_count": null,
      "outputs": []
    },
    {
      "metadata": {},
      "cell_type": "markdown",
      "source": "Le estamos diciendo a Python Hey Python en Jupyter Notebooks existe un paquete llamado Numpy para cálculos números y vectores. <br>\nY cuando yo la use, quiero usarla con el siguiente nombre __np__ <br>\n\nA su vez, importamos el maquete matemático <br>"
    },
    {
      "metadata": {},
      "cell_type": "markdown",
      "source": "Importamos el paquete estadístico de Scipython"
    },
    {
      "metadata": {
        "trusted": true
      },
      "cell_type": "code",
      "source": "from scipy import stats",
      "execution_count": null,
      "outputs": []
    },
    {
      "metadata": {},
      "cell_type": "markdown",
      "source": "Pues le acamos de enseñar a Python lo básico de estadística"
    },
    {
      "metadata": {},
      "cell_type": "markdown",
      "source": "#### Paso 3. Defina sus variables dependiente e independientes en términos de un numpy array\n\nNumpy te permite manejar vectores y matrices de forma numérica! Es increible! Se puede decir que es un paso mas allás que las __listas__ <br>\n\nLa razón? <br>\n\nSuponga que tenes una listaA = [300 , 400 , 500 , 600] <br>\nY queres multiplicar cada elemento por 3.45 <br>\n\nVeamos que sucede <br>"
    },
    {
      "metadata": {
        "trusted": true
      },
      "cell_type": "code",
      "source": "#Definimos la lista\nlistaA = [300 , 400 , 500 , 600]",
      "execution_count": null,
      "outputs": []
    },
    {
      "metadata": {
        "trusted": true
      },
      "cell_type": "code",
      "source": "#Efectuemos la multiplicación de la listaA * 3.45\nlistaA * 3.45",
      "execution_count": null,
      "outputs": []
    },
    {
      "metadata": {},
      "cell_type": "markdown",
      "source": "¿Te tiró error verdad? :(\nExacto!Ese es el problema de las lista en Python.\n\nPara poder modificarlas, tendrías que hacer el cambio uno a uno\n\nOsea tendrias que decir, el nuevo elemento cero de la lista es el antiguo elemento por 3.45"
    },
    {
      "metadata": {
        "trusted": true
      },
      "cell_type": "code",
      "source": "listaA[0] = listaA[0]* 3.45",
      "execution_count": null,
      "outputs": []
    },
    {
      "metadata": {},
      "cell_type": "markdown",
      "source": "Y luego hacer lo mismo para los siguientes"
    },
    {
      "metadata": {
        "trusted": true
      },
      "cell_type": "code",
      "source": "listaA[1] = listaA[1]* 3.45\nlistaA[2] = listaA[2]* 3.45\nlistaA[3] = listaA[3]* 3.45",
      "execution_count": null,
      "outputs": []
    },
    {
      "metadata": {
        "trusted": true
      },
      "cell_type": "code",
      "source": "listaA",
      "execution_count": null,
      "outputs": []
    },
    {
      "metadata": {},
      "cell_type": "markdown",
      "source": "Talvez no sea tan tendioso por que son sólo 4 elemenetos.... <br>\nPero ahora imagínatelo con cientos o miles... <br>\n\nNumpy al rescate <br>"
    },
    {
      "metadata": {},
      "cell_type": "markdown",
      "source": "Creemos un numpy arrary a partir de la listA"
    },
    {
      "metadata": {
        "trusted": true
      },
      "cell_type": "code",
      "source": "numpyA = np.array([300 , 400, 500 , 600])",
      "execution_count": null,
      "outputs": []
    },
    {
      "metadata": {},
      "cell_type": "markdown",
      "source": "Viste? Es como crear una lista, pero encerrada entre paréntesis y antesedida por la palabra __np.array__ <br>\n\nQue sucede sí hacemos la multiplicación numpyA*3.45 y lo guardamos en un nuevo array llamado __numpyB__"
    },
    {
      "metadata": {
        "trusted": true
      },
      "cell_type": "code",
      "source": "numpyB = numpyA*3.45",
      "execution_count": null,
      "outputs": []
    },
    {
      "metadata": {
        "trusted": true
      },
      "cell_type": "code",
      "source": "numpyB",
      "execution_count": null,
      "outputs": []
    },
    {
      "metadata": {},
      "cell_type": "markdown",
      "source": "Y eso es la maravilla de Numpy! Te permite simplificar muchos cálculos!\n\nPara los siguientes módulos, aprenderás mas sobre numpy."
    },
    {
      "metadata": {},
      "cell_type": "markdown",
      "source": "#### Volviendo a la regresión que haciamos ...\nDefinamos nustros ejes P presión y logarimo natural V de volumen en términos de numpy\n"
    },
    {
      "metadata": {
        "trusted": true
      },
      "cell_type": "code",
      "source": "V= np.array(volumen)\nP = np.array(presion)",
      "execution_count": null,
      "outputs": []
    },
    {
      "metadata": {},
      "cell_type": "markdown",
      "source": "Pero queremos el logaritmo natural de V"
    },
    {
      "metadata": {
        "trusted": true
      },
      "cell_type": "code",
      "source": "lnV = np.log(V)",
      "execution_count": null,
      "outputs": []
    },
    {
      "metadata": {
        "trusted": true
      },
      "cell_type": "code",
      "source": "lnV",
      "execution_count": null,
      "outputs": []
    },
    {
      "metadata": {
        "trusted": true
      },
      "cell_type": "code",
      "source": "P",
      "execution_count": null,
      "outputs": []
    },
    {
      "metadata": {},
      "cell_type": "markdown",
      "source": "#### Paso 4.\nSiguiendo las reglas del paquete que escogiste. <br>\nHagamos la regresión.<br>\n\nPara hacer la regresión en Scypython se usa la siguiente línea de código\n* slope, intercept, r_value, p_value, std_err = stats.linregress(x, y)\n\nDonde x y y en nuestro caso son el volumen V y la presion P"
    },
    {
      "metadata": {
        "trusted": true
      },
      "cell_type": "code",
      "source": "slope, intercept, r_value, p_value, std_err = stats.linregress(P, lnV)",
      "execution_count": null,
      "outputs": []
    },
    {
      "metadata": {},
      "cell_type": "markdown",
      "source": "Listo. Ya hiceste la regresión! <br>\n\nEn la __celda 28__ creaste un modelo lineal, por lo cual le preguntaste a Python que calculase <br>\n1. La pendiente slope\n2. Intercepto intercept\n3. El valor de R\n4. Valor p\n5. El error estandar del intercepto y la pendiente\n\nAhora simplemente tenes que preguntarle a Python por dichos valores! <br>"
    },
    {
      "metadata": {
        "trusted": true
      },
      "cell_type": "code",
      "source": "## Si queremos el R cuadrado, simplemente elevamos al cuadrado el r_value\nprint(\"r-squared:\", r_value**2)",
      "execution_count": null,
      "outputs": []
    },
    {
      "metadata": {},
      "cell_type": "markdown",
      "source": "El $R^{2}$ da un valor cercano a 1 por lo tanto nuestro modelo se ajusta a una linea recta.<br>\n\nPreguntemos ahora por el intercepto y la pendiente <br>"
    },
    {
      "metadata": {
        "trusted": true
      },
      "cell_type": "code",
      "source": "intercept",
      "execution_count": null,
      "outputs": []
    },
    {
      "metadata": {
        "trusted": true
      },
      "cell_type": "code",
      "source": "slope",
      "execution_count": null,
      "outputs": []
    },
    {
      "metadata": {
        "trusted": true
      },
      "cell_type": "code",
      "source": "## Error estardar de la pendiente\nstd_err",
      "execution_count": null,
      "outputs": []
    },
    {
      "metadata": {},
      "cell_type": "markdown",
      "source": "Para que podas ver mejor el ajuste, veamos un gráfico sencillo"
    },
    {
      "metadata": {
        "trusted": true
      },
      "cell_type": "code",
      "source": "plt.plot(P, lnV, 'o', label='Datos experimentales')\nplt.plot(P, intercept + slope*P, 'r', label='Regresión Lineal')\nplt.legend()\nplt.show()",
      "execution_count": null,
      "outputs": []
    },
    {
      "metadata": {},
      "cell_type": "markdown",
      "source": "Por ahora el gráfico está un poco profesional <br>\nSin embargo en los próximos módulos de enseñaremos a sacarle mas provecho a matplotlib!\n\nLa idea es que te des una idea de como se ve....\n\nQue tal si haces lo mismo pero en Excel y luego Origin"
    },
    {
      "metadata": {},
      "cell_type": "markdown",
      "source": "### Resumen génerico de Regresiones Lineales con Scypython\n\nimport matplotlib.pyplot as plt <br>\nimport numpy as np <br>\nfrom scipy import stats <br>\n\n\nx = np.array( pon acá tu array X) <br>\ny = np.arryarandom(pon aca tu array Y) <br>\nslope, intercept, r_value, p_value, std_err = stats.linregress(x, y) <br>\n\n\n\nprint(\"r-squared:\", r_value**2) <br>\n\n\nplt.plot(x, y, 'o', label='original data') <br>\nplt.plot(x, intercept + slope*x, 'r', label='fitted line') <br>\nplt.legend() <br>\nplt.show() <br>"
    },
    {
      "metadata": {},
      "cell_type": "markdown",
      "source": "## Regresión Lineal con Statsmodel\n\nSí querés un algoritmo mas estadísticos, nos encontramos con Stats model. <br>\nStats model está enfocado en regresión lineal y multilineal <br>\n\nPasos <br>\n<br>\n1.  Instale el paquete statsmodel Comando __!pip install -U statsmodels__ <br>\n2.  Importe el paquete a su hoja de cálculo Comando __import statsmodels.api as sm__ <br>\n3.  Defina dos listas __x__ y __y__ que representan sus ejes <br>\n4.  Defina su eje X y eje X en términos de numpy array. Comando __X = np.array(x) Y = np.array(y)__ donde y y x representan listas previamente definidas <br>\n5. Agregue su constante o intercepto a X. Código __X = sm.add_constant(X)__ <br>\n6. Defina su modelo Código __modelo = sm.OLS(Y,X).fit()__ <br>\n7. Imprimia resultados de regresión. Código __print(model.summary())__ <br>\n\n<br>\n\nVolvamos a hacer el ejemplo pasado. <br>\nSiguiendo pasos anteriores <br>\n"
    },
    {
      "metadata": {},
      "cell_type": "markdown",
      "source": "#### Paso 1. Instalar el paquete statsmodels."
    },
    {
      "metadata": {
        "trusted": true
      },
      "cell_type": "code",
      "source": "!pip install -U statsmodels",
      "execution_count": null,
      "outputs": []
    },
    {
      "metadata": {},
      "cell_type": "markdown",
      "source": "#### Paso 2. Importar el paquete."
    },
    {
      "metadata": {
        "trusted": true
      },
      "cell_type": "code",
      "source": "import statsmodels.api as sm",
      "execution_count": null,
      "outputs": []
    },
    {
      "metadata": {},
      "cell_type": "markdown",
      "source": "Con el comando anterior le decís a Python! Hey Python, yo acabo de instalar un paquete en Jupyter <br>\nAhora, quiero importarlo en esta hoja de cálculo porque lo deseo usar. <br>\nAsí mismo lo quiero usar como __sm__ ( lo bautizaste así) <br>\n<br>\nPudiste decir import statsmodels.api as Guapo <br>\nPor ejemplo\n<br>"
    },
    {
      "metadata": {},
      "cell_type": "markdown",
      "source": "#### Paso 3 y 4. Definiendo listas que contentan nuestros datos y luego convertirlas a Numpy array.\n\nEn esta parte.<br>\n__x__ es presion <br>\n__y__ es volumen <br>\n\n__X__ es p <br>\n__Y__ es v <br>"
    },
    {
      "metadata": {
        "trusted": true
      },
      "cell_type": "code",
      "source": "# P de presión y V de volumen\npresion = [8.99 , 17.65 , 34.10 , 41.92 , 49.50 , 58.86 , 64.02]\nvolumen = [2.000 , 1.000 , 0.500 , 0.400 , 0.333 , 0.286 , 0.250]\n\npresion = np.array(presion)\nv = np.log(volumen) # RECUERDA. Para esta regresión ocupamos el logarimo de V según el modelo.",
      "execution_count": null,
      "outputs": []
    },
    {
      "metadata": {},
      "cell_type": "markdown",
      "source": "#### Paso 5. Agregar intercepto o constante\n\nPor alguna razón de la vida. Los programadores del paquete no incluyeron por defecto el intercepto __b__ de la recta. <br>\nHay que agregarlo <br>"
    },
    {
      "metadata": {
        "trusted": true
      },
      "cell_type": "code",
      "source": "p = sm.add_constant(presion)",
      "execution_count": null,
      "outputs": []
    },
    {
      "metadata": {},
      "cell_type": "markdown",
      "source": "#### Paso 6. Modelado lineal\n\nRecuerde!! Primero va su eje y luego x en el código sm.OLS(Y,X).fit() <br>"
    },
    {
      "metadata": {
        "trusted": true
      },
      "cell_type": "code",
      "source": "modelo = sm.OLS(v,p).fit()",
      "execution_count": null,
      "outputs": []
    },
    {
      "metadata": {},
      "cell_type": "markdown",
      "source": "#### Paso 7. Resultados"
    },
    {
      "metadata": {
        "trusted": true
      },
      "cell_type": "code",
      "source": "print(modelo.summary())",
      "execution_count": null,
      "outputs": []
    },
    {
      "metadata": {},
      "cell_type": "markdown",
      "source": "Veamos los datos que nos interesan y comparemos respecto al paquete anterior... <br>\n<br>\nstatsmodesl reporta un $R^{2}$  R-squared: 0.941 , mientras tanto scipython reportaba 0.9407068590556042 <br>\n<br>\nstatsmodels reporta un intecepto (const) de 0.7361 con error de (std err) de 0.175, mientras scipython reporta un valor de 0.7360696712998822 sin incertidumbre <br>\n<br>\nstatsmodels reporta una pendiente (x1) de -0.0357 con error de (std err) de 0.004, mientras scipython reporta una slope o pendiente de -0.03565462859677574 con error de 0.00400318801554946 <br>\n<br>\n\nEn resumen valores muy similares. <br>\nSin embargo el algoritmo de statsmodels es mas robusto y tira mas información <br>"
    },
    {
      "metadata": {
        "trusted": true
      },
      "cell_type": "code",
      "source": "## Sí querés el gráfico recuerda el código de matploblib\nconst = 0.7361\nx1 = -0.0357\nmodel = const + x1*presion\nplt.plot(presion, v, 'x', label='Datos experimentales')\nplt.plot(presion, model  , 'r', label='Regresión Lineal con Statsmodels')\nplt.legend()\nplt.show()",
      "execution_count": null,
      "outputs": []
    },
    {
      "metadata": {},
      "cell_type": "markdown",
      "source": "### Resumen Código Genérico para hacer regresión lineal con stats modeles"
    },
    {
      "metadata": {},
      "cell_type": "markdown",
      "source": "1.  Instale el paquete statsmodel Comando __!pip install -U statsmodels__ <br>\n2.  Importe el paquete a su hoja de cálculo Comando __import statsmodels.api as sm__ <br>\n3.  Defina dos listas __x__ y __y__ que representan sus ejes <br>\n4.  Defina su eje X y eje X en términos de numpy array. Comando __X = np.array(x) Y = np.array(y)__ donde y y x representan listas previamente definidas <br>\n5. Agregue su constante o intercepto a X. Código __X = sm.add_constant(X)__ <br>\n6. Defina su modelo Código __modelo = sm.OLS(Y,X).fit()__ <br>\n7. Imprimia resultados de regresión. Código __print(model.summary())__ <br>"
    },
    {
      "metadata": {
        "trusted": false
      },
      "cell_type": "markdown",
      "source": "[Volver al índice](https://notebooks.azure.com/jeff0994/libraries/QU-0560-1-1/html/01Introducci%C3%B3n-Indice.ipynb)"
    },
    {
      "metadata": {
        "trusted": true
      },
      "cell_type": "code",
      "source": "",
      "execution_count": null,
      "outputs": []
    }
  ],
  "metadata": {
    "kernelspec": {
      "name": "python36",
      "display_name": "Python 3.6",
      "language": "python"
    },
    "language_info": {
      "mimetype": "text/x-python",
      "nbconvert_exporter": "python",
      "name": "python",
      "pygments_lexer": "ipython3",
      "version": "3.6.6",
      "file_extension": ".py",
      "codemirror_mode": {
        "version": 3,
        "name": "ipython"
      }
    }
  },
  "nbformat": 4,
  "nbformat_minor": 2
}