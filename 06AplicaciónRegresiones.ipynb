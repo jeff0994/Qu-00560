{
  "nbformat": 4,
  "nbformat_minor": 0,
  "metadata": {
    "kernelspec": {
      "name": "python36",
      "display_name": "Python 3.6",
      "language": "python"
    },
    "language_info": {
      "mimetype": "text/x-python",
      "nbconvert_exporter": "python",
      "name": "python",
      "pygments_lexer": "ipython3",
      "version": "3.6.6",
      "file_extension": ".py",
      "codemirror_mode": {
        "version": 3,
        "name": "ipython"
      }
    },
    "colab": {
      "name": "06AplicaciónRegresiones.ipynb",
      "provenance": [],
      "include_colab_link": true
    }
  },
  "cells": [
    {
      "cell_type": "markdown",
      "metadata": {
        "id": "view-in-github",
        "colab_type": "text"
      },
      "source": [
        "<a href=\"https://colab.research.google.com/github/jeff0994/Qu-00560/blob/master/06Aplicaci%C3%B3nRegresiones.ipynb\" target=\"_parent\"><img src=\"https://colab.research.google.com/assets/colab-badge.svg\" alt=\"Open In Colab\"/></a>"
      ]
    },
    {
      "cell_type": "markdown",
      "metadata": {
        "collapsed": true,
        "id": "TJIVPJpfn8Ac"
      },
      "source": [
        "# Universidad de Costa Rica\n",
        "\n",
        "## Facultad de Ciencias\n",
        "\n",
        "## Escuela de Química\n",
        "\n",
        "## Sección de Fisicoquímica\n",
        "\n",
        "## Qu-0560 Tópicos de Química Física: Herramientas Computacionales para Química\n",
        "\n",
        "### Profesor Gutiérrez\n",
        "### Asistente no oficial: Yefry López"
      ]
    },
    {
      "cell_type": "markdown",
      "metadata": {
        "id": "7XqZ9tNan8Ae"
      },
      "source": [
        "## Aplicación II: Regresiones\n",
        "\n",
        "En esta sección aprenderás a hacer regresiones y gráficos con Python! <br>\n",
        "Hasta ahora has aprendido sobre las primitivas básicas: strings, boleans, integers, floats y listas. Así mismo podes hacer cálculos básicos de matemática elemental y usar variables como contenedores de valores <br>\n",
        "\n",
        "Con lo anterior, ya podemos hacer regresiones lineales y no lineales! Tema fundamental en el mundo científico, pues en última instancia queremos medir usando algún modelo y realizar predicciones. <br>\n",
        "\n",
        "En este modulo emplearemos los siguientes recursos:\n",
        "\n",
        "* [match](https://docs.python.org/2/library/math.html) Para cálculo de funciones básicas de matemática elemental <br>\n",
        "* [uncertainties](https://pythonhosted.org/uncertainties/) Para manejo de propagación de incertidumbres <br>\n",
        "* [Numpy](http://www.numpy.org/) para manejar arrays, vectores, columnnas y hacer cálculos numéricos <br>\n",
        "* [scikit-learn](http://scikit-learn.org/) para realizar regresiones lineales y no lineales <br>\n",
        "* [statsmodels](http://www.statsmodels.org/stable/index.html) para manejar estadística y realizar regresiones <br>]\n",
        "* [GEKKO](https://gekko.readthedocs.io/en/latest/) para optimización algebraica de ecuaciones diferenciales e integrales\n",
        "* [matplolib](https://matplotlib.org/) Para realizar gráficos <br>\n",
        "* [scypython](https://www.scipy.org/)"
      ]
    },
    {
      "cell_type": "markdown",
      "metadata": {
        "id": "UPwBsU13n8Af"
      },
      "source": [
        "## Regresión Lineal con Scypython\n",
        "\n",
        "Scypython es un conjunto de librerias enfocadas en el cálculo científico y manejo numérico. Al instalarlo, viene con paquetes\n",
        "como Numpy , Matplotlib, SiPython y Pandas. Así mismo librerias extra para realizar diferentes cálculos. <br>\n",
        "\n",
        "Haremos uso de Scypython para ejemplificar nuestra primer regresión <br>\n",
        "\n",
        "De forma general en Analitica I y II estarás trabajando con regresiones lineales mediante el método de mínimos cuadrados. De hecho, te pedirán que crees una hoja de excel para realizar las regresiones. <br>\n",
        "\n",
        "En Fisicoquímica harás uso de regresiones lineales pero también no lineales. Sin embargo se busca que el estudiante use un software que automatice el modelado, pues hacerlo manual en excel puede llevar su tiempo. <br>\n",
        "\n",
        "Te recordarás que un modelo lineal tiene la forma <br>\n",
        "$$ y(x) = mx + b(1)$$\n",
        "\n",
        "Donde __m__ es la pendiente y __b__ el intercepto.\n",
        "y(x) es tu variable dependiente\n",
        "x es tu variable independientes\n",
        "\n",
        "Este modelo de permite predecir como afecta la variable X a las Y de manera lineal.<br>\n",
        "En analítica lo usarás para curvas de calibración. <br>\n",
        "Nuestra misión en este primer modelo es obtener el $R^{2}$ que nos habla de la correlación o que tan bien se ajustan los datos\n",
        "al modelo, queremos sabe la pendiente __m__ y su error asociado y así mismo el intercepo __b__\n",
        "\n",
        "En el laboratorio, tomamos una serie de medidas y ajustamos.<br>\n",
        "\n",
        "Para realizar la muestra de regresión, haremos uso del siguiente set datos."
      ]
    },
    {
      "cell_type": "markdown",
      "metadata": {
        "id": "EmfkO3Crn8Ag"
      },
      "source": [
        "### Ejemplo 1\n",
        "\n",
        "![presion-volumen.PNG](attachment:presion-volumen.PNG)"
      ]
    },
    {
      "cell_type": "markdown",
      "metadata": {
        "id": "trO34Hz0n8Ag"
      },
      "source": [
        "#### Paso 1. Define tus variables dependiente e independiente.\n",
        "\n",
        "En nuestro caso nuestra __x__ será la presión en atm y nuestra __y__ serán los logarimos naturales de los volúmenes en litros <br>\n",
        "\n",
        "Siguiendo el siguiente modelo <br>\n",
        "\n",
        "$$ln(V) = -\\kappa*P + b $$ \n",
        "\n",
        "$\\kappa$ representa el factor de compresión isotermica. Una propiedad física de los materiales. En este caso será nuestra pendiente <br>\n",
        "\n",
        "volumen = [8.99 , 17.65 , 34.10 , 41.92 , 49.50 , 58.86 , 64.02] <br>\n",
        "presion = [2.000 , 1.000 , 0.500 , 0.400 , 0.333 , 0.286 , 0.250] <br>"
      ]
    },
    {
      "cell_type": "code",
      "metadata": {
        "trusted": true,
        "id": "Qox8kIXun8Ah"
      },
      "source": [
        "# P de presión y V de volumen\n",
        "presion = [8.99 , 17.65 , 34.10 , 41.92 , 49.50 , 58.86 , 64.02]\n",
        "volumen = [2.000 , 1.000 , 0.500 , 0.400 , 0.333 , 0.286 , 0.250]"
      ],
      "execution_count": null,
      "outputs": []
    },
    {
      "cell_type": "markdown",
      "metadata": {
        "id": "VfuWgh5Qn8Ah"
      },
      "source": [
        "#### Paso 2. Elige que paquete de Python deseas utilizar para optimizar y ajustar e importalo\n",
        "\n",
        "\n",
        "En nuestro primer caso será Scipython que ya viene incluido en Jupyter Notebooks.\n",
        "Para hacer la regresión importaremos Numpy y Matplotlib\n",
        "\n",
        "* Importaremos matplotlib como plt\n",
        "* Importaremos numpy como np\n",
        "* Importaremos el paquete estadístico de Scipython"
      ]
    },
    {
      "cell_type": "markdown",
      "metadata": {
        "id": "_5LedTBjn8Ah"
      },
      "source": [
        "Importamos el paquete de gráficos ( no te preocupes por ahora, en el siguiente módulo te enseñaremos mas sobre el)"
      ]
    },
    {
      "cell_type": "code",
      "metadata": {
        "trusted": true,
        "id": "hxCpzYyZn8Ai"
      },
      "source": [
        "import matplotlib.pyplot as plt\n"
      ],
      "execution_count": null,
      "outputs": []
    },
    {
      "cell_type": "markdown",
      "metadata": {
        "id": "jLZVmJFMn8Ai"
      },
      "source": [
        "Le estamos diciendo a Python... Hey Python en Jupyter Notebooks existe un paquete llamado __matplotlib__ <br>\n",
        "Dentro de ese paquete quiero que busques la gráfica __pyplot__ que es una gráfica del tipo __dispersión__  como las de Excel\n",
        "\n",
        "Y cuando yo la use, quiero usarla con el siguiente nombre __plt__ "
      ]
    },
    {
      "cell_type": "markdown",
      "metadata": {
        "id": "0Tm5bP7Mn8Ai"
      },
      "source": [
        "Importamos el paquete numérico Numpy"
      ]
    },
    {
      "cell_type": "code",
      "metadata": {
        "trusted": true,
        "id": "Gvlm0HNmn8Aj"
      },
      "source": [
        "import numpy as np\n",
        "import math "
      ],
      "execution_count": null,
      "outputs": []
    },
    {
      "cell_type": "markdown",
      "metadata": {
        "id": "o3mJTOwOn8Aj"
      },
      "source": [
        "Le estamos diciendo a Python Hey Python en Jupyter Notebooks existe un paquete llamado Numpy para cálculos números y vectores. <br>\n",
        "Y cuando yo la use, quiero usarla con el siguiente nombre __np__ <br>\n",
        "\n",
        "A su vez, importamos el maquete matemático <br>"
      ]
    },
    {
      "cell_type": "markdown",
      "metadata": {
        "id": "2fNC7A-Vn8Aj"
      },
      "source": [
        "Importamos el paquete estadístico de Scipython"
      ]
    },
    {
      "cell_type": "code",
      "metadata": {
        "trusted": true,
        "id": "dUelSXLQn8Aj"
      },
      "source": [
        "from scipy import stats"
      ],
      "execution_count": null,
      "outputs": []
    },
    {
      "cell_type": "markdown",
      "metadata": {
        "id": "28Fzto0an8Ak"
      },
      "source": [
        "Pues le acamos de enseñar a Python lo básico de estadística"
      ]
    },
    {
      "cell_type": "markdown",
      "metadata": {
        "id": "5xjzK2Cmn8Ak"
      },
      "source": [
        "#### Paso 3. Defina sus variables dependiente e independientes en términos de un numpy array\n",
        "\n",
        "Numpy te permite manejar vectores y matrices de forma numérica! Es increible! Se puede decir que es un paso mas allás que las __listas__ <br>\n",
        "\n",
        "La razón? <br>\n",
        "\n",
        "Suponga que tenes una listaA = [300 , 400 , 500 , 600] <br>\n",
        "Y queres multiplicar cada elemento por 3.45 <br>\n",
        "\n",
        "Veamos que sucede <br>"
      ]
    },
    {
      "cell_type": "code",
      "metadata": {
        "trusted": true,
        "id": "O0O-dY4cn8Ak"
      },
      "source": [
        "#Definimos la lista\n",
        "listaA = [300 , 400 , 500 , 600]"
      ],
      "execution_count": null,
      "outputs": []
    },
    {
      "cell_type": "code",
      "metadata": {
        "trusted": true,
        "id": "KGZEntX-n8Ak"
      },
      "source": [
        "#Efectuemos la multiplicación de la listaA * 3.45\n",
        "listaA * 3.45"
      ],
      "execution_count": null,
      "outputs": []
    },
    {
      "cell_type": "markdown",
      "metadata": {
        "id": "AX7PiE-rn8Al"
      },
      "source": [
        "¿Te tiró error verdad? :(\n",
        "Exacto!Ese es el problema de las lista en Python.\n",
        "\n",
        "Para poder modificarlas, tendrías que hacer el cambio uno a uno\n",
        "\n",
        "Osea tendrias que decir, el nuevo elemento cero de la lista es el antiguo elemento por 3.45"
      ]
    },
    {
      "cell_type": "code",
      "metadata": {
        "trusted": true,
        "id": "JHMZS3K-n8Al"
      },
      "source": [
        "listaA[0] = listaA[0]* 3.45"
      ],
      "execution_count": null,
      "outputs": []
    },
    {
      "cell_type": "markdown",
      "metadata": {
        "id": "kqq-0qMTn8Al"
      },
      "source": [
        "Y luego hacer lo mismo para los siguientes"
      ]
    },
    {
      "cell_type": "code",
      "metadata": {
        "trusted": true,
        "id": "R-LFTqy1n8Am"
      },
      "source": [
        "listaA[1] = listaA[1]* 3.45\n",
        "listaA[2] = listaA[2]* 3.45\n",
        "listaA[3] = listaA[3]* 3.45"
      ],
      "execution_count": null,
      "outputs": []
    },
    {
      "cell_type": "code",
      "metadata": {
        "trusted": true,
        "id": "bCSMmFL2n8Am"
      },
      "source": [
        "listaA"
      ],
      "execution_count": null,
      "outputs": []
    },
    {
      "cell_type": "markdown",
      "metadata": {
        "id": "OsE4fD2hn8Am"
      },
      "source": [
        "Talvez no sea tan tendioso por que son sólo 4 elemenetos.... <br>\n",
        "Pero ahora imagínatelo con cientos o miles... <br>\n",
        "\n",
        "Numpy al rescate <br>"
      ]
    },
    {
      "cell_type": "markdown",
      "metadata": {
        "id": "J2EpOu_8n8Am"
      },
      "source": [
        "Creemos un numpy arrary a partir de la listA"
      ]
    },
    {
      "cell_type": "code",
      "metadata": {
        "trusted": true,
        "id": "-h5YrajWn8An"
      },
      "source": [
        "numpyA = np.array([300 , 400, 500 , 600])"
      ],
      "execution_count": null,
      "outputs": []
    },
    {
      "cell_type": "markdown",
      "metadata": {
        "id": "RmNfTcjvn8An"
      },
      "source": [
        "Viste? Es como crear una lista, pero encerrada entre paréntesis y antesedida por la palabra __np.array__ <br>\n",
        "\n",
        "Que sucede sí hacemos la multiplicación numpyA*3.45 y lo guardamos en un nuevo array llamado __numpyB__"
      ]
    },
    {
      "cell_type": "code",
      "metadata": {
        "trusted": true,
        "id": "RfaCcj2Zn8An"
      },
      "source": [
        "numpyB = numpyA*3.45"
      ],
      "execution_count": null,
      "outputs": []
    },
    {
      "cell_type": "code",
      "metadata": {
        "trusted": true,
        "id": "MX5ZpMgGn8An"
      },
      "source": [
        "numpyB"
      ],
      "execution_count": null,
      "outputs": []
    },
    {
      "cell_type": "markdown",
      "metadata": {
        "id": "oOgOC7BHn8An"
      },
      "source": [
        "Y eso es la maravilla de Numpy! Te permite simplificar muchos cálculos!\n",
        "\n",
        "Para los siguientes módulos, aprenderás mas sobre numpy."
      ]
    },
    {
      "cell_type": "markdown",
      "metadata": {
        "id": "_F4rwWv2n8Ao"
      },
      "source": [
        "#### Volviendo a la regresión que haciamos ...\n",
        "Definamos nustros ejes P presión y logarimo natural V de volumen en términos de numpy\n"
      ]
    },
    {
      "cell_type": "code",
      "metadata": {
        "trusted": true,
        "id": "Yt8salIwn8Ao"
      },
      "source": [
        "V= np.array(volumen)\n",
        "P = np.array(presion)"
      ],
      "execution_count": null,
      "outputs": []
    },
    {
      "cell_type": "markdown",
      "metadata": {
        "id": "2xdd_0Xfn8Ao"
      },
      "source": [
        "Pero queremos el logaritmo natural de V"
      ]
    },
    {
      "cell_type": "code",
      "metadata": {
        "trusted": true,
        "id": "ffFUpC0On8Ao"
      },
      "source": [
        "lnV = np.log(V)"
      ],
      "execution_count": null,
      "outputs": []
    },
    {
      "cell_type": "code",
      "metadata": {
        "trusted": true,
        "id": "vC22DBb9n8Ao"
      },
      "source": [
        "lnV"
      ],
      "execution_count": null,
      "outputs": []
    },
    {
      "cell_type": "code",
      "metadata": {
        "trusted": true,
        "id": "pw3sBj34n8Ap"
      },
      "source": [
        "P"
      ],
      "execution_count": null,
      "outputs": []
    },
    {
      "cell_type": "markdown",
      "metadata": {
        "id": "teYrg4_Rn8Ap"
      },
      "source": [
        "#### Paso 4.\n",
        "Siguiendo las reglas del paquete que escogiste. <br>\n",
        "Hagamos la regresión.<br>\n",
        "\n",
        "Para hacer la regresión en Scypython se usa la siguiente línea de código\n",
        "* slope, intercept, r_value, p_value, std_err = stats.linregress(x, y)\n",
        "\n",
        "Donde x y y en nuestro caso son el volumen V y la presion P"
      ]
    },
    {
      "cell_type": "code",
      "metadata": {
        "trusted": true,
        "id": "xzCDXLt3n8Ap"
      },
      "source": [
        "slope, intercept, r_value, p_value, std_err = stats.linregress(P, lnV)"
      ],
      "execution_count": null,
      "outputs": []
    },
    {
      "cell_type": "markdown",
      "metadata": {
        "id": "A310DZYvn8Ap"
      },
      "source": [
        "Listo. Ya hiceste la regresión! <br>\n",
        "\n",
        "En la __celda 28__ creaste un modelo lineal, por lo cual le preguntaste a Python que calculase <br>\n",
        "1. La pendiente slope\n",
        "2. Intercepto intercept\n",
        "3. El valor de R\n",
        "4. Valor p\n",
        "5. El error estandar del intercepto y la pendiente\n",
        "\n",
        "Ahora simplemente tenes que preguntarle a Python por dichos valores! <br>"
      ]
    },
    {
      "cell_type": "code",
      "metadata": {
        "trusted": true,
        "id": "exQTkRfIn8Ap"
      },
      "source": [
        "## Si queremos el R cuadrado, simplemente elevamos al cuadrado el r_value\n",
        "print(\"r-squared:\", r_value**2)"
      ],
      "execution_count": null,
      "outputs": []
    },
    {
      "cell_type": "markdown",
      "metadata": {
        "id": "60t2D3Mwn8Aq"
      },
      "source": [
        "El $R^{2}$ da un valor cercano a 1 por lo tanto nuestro modelo se ajusta a una linea recta.<br>\n",
        "\n",
        "Preguntemos ahora por el intercepto y la pendiente <br>"
      ]
    },
    {
      "cell_type": "code",
      "metadata": {
        "trusted": true,
        "id": "c587CqPDn8Aq"
      },
      "source": [
        "intercept"
      ],
      "execution_count": null,
      "outputs": []
    },
    {
      "cell_type": "code",
      "metadata": {
        "trusted": true,
        "id": "XsmObtSin8Aq"
      },
      "source": [
        "slope"
      ],
      "execution_count": null,
      "outputs": []
    },
    {
      "cell_type": "code",
      "metadata": {
        "trusted": true,
        "id": "OSkKjj_2n8Aq"
      },
      "source": [
        "## Error estardar de la pendiente\n",
        "std_err"
      ],
      "execution_count": null,
      "outputs": []
    },
    {
      "cell_type": "markdown",
      "metadata": {
        "id": "dWcsmp4an8Ar"
      },
      "source": [
        "Para que podas ver mejor el ajuste, veamos un gráfico sencillo"
      ]
    },
    {
      "cell_type": "code",
      "metadata": {
        "trusted": true,
        "id": "iLJTozq6n8Ar"
      },
      "source": [
        "plt.plot(P, lnV, 'o', label='Datos experimentales')\n",
        "plt.plot(P, intercept + slope*P, 'r', label='Regresión Lineal')\n",
        "plt.legend()\n",
        "plt.show()"
      ],
      "execution_count": null,
      "outputs": []
    },
    {
      "cell_type": "markdown",
      "metadata": {
        "id": "xx2ShyzVn8Ar"
      },
      "source": [
        "Por ahora el gráfico está un poco profesional <br>\n",
        "Sin embargo en los próximos módulos de enseñaremos a sacarle mas provecho a matplotlib!\n",
        "\n",
        "La idea es que te des una idea de como se ve....\n",
        "\n",
        "Que tal si haces lo mismo pero en Excel y luego Origin"
      ]
    },
    {
      "cell_type": "markdown",
      "metadata": {
        "id": "pDPmXikgn8Ar"
      },
      "source": [
        "### Resumen génerico de Regresiones Lineales con Scypython\n",
        "\n",
        "import matplotlib.pyplot as plt <br>\n",
        "import numpy as np <br>\n",
        "from scipy import stats <br>\n",
        "\n",
        "\n",
        "x = np.array( pon acá tu array X) <br>\n",
        "y = np.arryarandom(pon aca tu array Y) <br>\n",
        "slope, intercept, r_value, p_value, std_err = stats.linregress(x, y) <br>\n",
        "\n",
        "\n",
        "\n",
        "print(\"r-squared:\", r_value**2) <br>\n",
        "\n",
        "\n",
        "plt.plot(x, y, 'o', label='original data') <br>\n",
        "plt.plot(x, intercept + slope*x, 'r', label='fitted line') <br>\n",
        "plt.legend() <br>\n",
        "plt.show() <br>"
      ]
    },
    {
      "cell_type": "markdown",
      "metadata": {
        "id": "wUIopdgzn8Ar"
      },
      "source": [
        "## Regresión Lineal con Statsmodel\n",
        "\n",
        "Sí querés un algoritmo mas estadísticos, nos encontramos con Stats model. <br>\n",
        "Stats model está enfocado en regresión lineal y multilineal <br>\n",
        "\n",
        "Pasos <br>\n",
        "<br>\n",
        "1.  Instale el paquete statsmodel Comando __!pip install -U statsmodels__ <br>\n",
        "2.  Importe el paquete a su hoja de cálculo Comando __import statsmodels.api as sm__ <br>\n",
        "3.  Defina dos listas __x__ y __y__ que representan sus ejes <br>\n",
        "4.  Defina su eje X y eje X en términos de numpy array. Comando __X = np.array(x) Y = np.array(y)__ donde y y x representan listas previamente definidas <br>\n",
        "5. Agregue su constante o intercepto a X. Código __X = sm.add_constant(X)__ <br>\n",
        "6. Defina su modelo Código __modelo = sm.OLS(Y,X).fit()__ <br>\n",
        "7. Imprimia resultados de regresión. Código __print(model.summary())__ <br>\n",
        "\n",
        "<br>\n",
        "\n",
        "Volvamos a hacer el ejemplo pasado. <br>\n",
        "Siguiendo pasos anteriores <br>\n"
      ]
    },
    {
      "cell_type": "markdown",
      "metadata": {
        "id": "YXRLwlK8n8As"
      },
      "source": [
        "#### Paso 1. Instalar el paquete statsmodels."
      ]
    },
    {
      "cell_type": "code",
      "metadata": {
        "trusted": true,
        "id": "r2wNFJKon8As"
      },
      "source": [
        "!pip install -U statsmodels"
      ],
      "execution_count": null,
      "outputs": []
    },
    {
      "cell_type": "markdown",
      "metadata": {
        "id": "pXLht5ybn8As"
      },
      "source": [
        "#### Paso 2. Importar el paquete."
      ]
    },
    {
      "cell_type": "code",
      "metadata": {
        "trusted": true,
        "id": "jWtLqpnqn8As"
      },
      "source": [
        "import statsmodels.api as sm"
      ],
      "execution_count": null,
      "outputs": []
    },
    {
      "cell_type": "markdown",
      "metadata": {
        "id": "OX-5aj4In8As"
      },
      "source": [
        "Con el comando anterior le decís a Python! Hey Python, yo acabo de instalar un paquete en Jupyter <br>\n",
        "Ahora, quiero importarlo en esta hoja de cálculo porque lo deseo usar. <br>\n",
        "Así mismo lo quiero usar como __sm__ ( lo bautizaste así) <br>\n",
        "<br>\n",
        "Pudiste decir import statsmodels.api as Guapo <br>\n",
        "Por ejemplo\n",
        "<br>"
      ]
    },
    {
      "cell_type": "markdown",
      "metadata": {
        "id": "Dz158d_Wn8At"
      },
      "source": [
        "#### Paso 3 y 4. Definiendo listas que contentan nuestros datos y luego convertirlas a Numpy array.\n",
        "\n",
        "En esta parte.<br>\n",
        "__x__ es presion <br>\n",
        "__y__ es volumen <br>\n",
        "\n",
        "__X__ es p <br>\n",
        "__Y__ es v <br>"
      ]
    },
    {
      "cell_type": "code",
      "metadata": {
        "trusted": true,
        "id": "I_EHS3vLn8At"
      },
      "source": [
        "# P de presión y V de volumen\n",
        "presion = [8.99 , 17.65 , 34.10 , 41.92 , 49.50 , 58.86 , 64.02]\n",
        "volumen = [2.000 , 1.000 , 0.500 , 0.400 , 0.333 , 0.286 , 0.250]\n",
        "\n",
        "presion = np.array(presion)\n",
        "v = np.log(volumen) # RECUERDA. Para esta regresión ocupamos el logarimo de V según el modelo."
      ],
      "execution_count": null,
      "outputs": []
    },
    {
      "cell_type": "markdown",
      "metadata": {
        "id": "_mqoWGK-n8At"
      },
      "source": [
        "#### Paso 5. Agregar intercepto o constante\n",
        "\n",
        "Por alguna razón de la vida. Los programadores del paquete no incluyeron por defecto el intercepto __b__ de la recta. <br>\n",
        "Hay que agregarlo <br>"
      ]
    },
    {
      "cell_type": "code",
      "metadata": {
        "trusted": true,
        "id": "AiKZXG-Kn8At"
      },
      "source": [
        "p = sm.add_constant(presion)"
      ],
      "execution_count": null,
      "outputs": []
    },
    {
      "cell_type": "markdown",
      "metadata": {
        "id": "LamzNiI6n8At"
      },
      "source": [
        "#### Paso 6. Modelado lineal\n",
        "\n",
        "Recuerde!! Primero va su eje y luego x en el código sm.OLS(Y,X).fit() <br>"
      ]
    },
    {
      "cell_type": "code",
      "metadata": {
        "trusted": true,
        "id": "CcBkyWikn8Au"
      },
      "source": [
        "modelo = sm.OLS(v,p).fit()"
      ],
      "execution_count": null,
      "outputs": []
    },
    {
      "cell_type": "markdown",
      "metadata": {
        "id": "5OBHi9vln8Au"
      },
      "source": [
        "#### Paso 7. Resultados"
      ]
    },
    {
      "cell_type": "code",
      "metadata": {
        "trusted": true,
        "id": "Ld68zh1ln8Au"
      },
      "source": [
        "print(modelo.summary())"
      ],
      "execution_count": null,
      "outputs": []
    },
    {
      "cell_type": "markdown",
      "metadata": {
        "id": "ysMhYGkfn8Au"
      },
      "source": [
        "Veamos los datos que nos interesan y comparemos respecto al paquete anterior... <br>\n",
        "<br>\n",
        "statsmodesl reporta un $R^{2}$  R-squared: 0.941 , mientras tanto scipython reportaba 0.9407068590556042 <br>\n",
        "<br>\n",
        "statsmodels reporta un intecepto (const) de 0.7361 con error de (std err) de 0.175, mientras scipython reporta un valor de 0.7360696712998822 sin incertidumbre <br>\n",
        "<br>\n",
        "statsmodels reporta una pendiente (x1) de -0.0357 con error de (std err) de 0.004, mientras scipython reporta una slope o pendiente de -0.03565462859677574 con error de 0.00400318801554946 <br>\n",
        "<br>\n",
        "\n",
        "En resumen valores muy similares. <br>\n",
        "Sin embargo el algoritmo de statsmodels es más robusto y tira mayor información <br>"
      ]
    },
    {
      "cell_type": "code",
      "metadata": {
        "trusted": true,
        "id": "lNHRlZs1n8Av"
      },
      "source": [
        "## Sí querés el gráfico recuerda el código de matploblib\n",
        "const = 0.7361\n",
        "x1 = -0.0357\n",
        "model = const + x1*presion\n",
        "plt.plot(presion, v, 'x', label='Datos experimentales')\n",
        "plt.plot(presion, model  , 'r', label='Regresión Lineal con Statsmodels')\n",
        "plt.legend()\n",
        "plt.show()"
      ],
      "execution_count": null,
      "outputs": []
    },
    {
      "cell_type": "markdown",
      "metadata": {
        "id": "7LVGAKiWn8Av"
      },
      "source": [
        "### Resumen Código Genérico para hacer regresión lineal con stats modeles"
      ]
    },
    {
      "cell_type": "markdown",
      "metadata": {
        "id": "TxMEUOD9n8Aw"
      },
      "source": [
        "1.  Instale el paquete statsmodel Comando __!pip install -U statsmodels__ <br>\n",
        "2.  Importe el paquete a su hoja de cálculo Comando __import statsmodels.api as sm__ <br>\n",
        "3.  Defina dos listas __x__ y __y__ que representan sus ejes <br>\n",
        "4.  Defina su eje X y eje X en términos de numpy array. Comando __X = np.array(x) Y = np.array(y)__ donde y y x representan listas previamente definidas <br>\n",
        "5. Agregue su constante o intercepto a X. Código __X = sm.add_constant(X)__ <br>\n",
        "6. Defina su modelo Código __modelo = sm.OLS(Y,X).fit()__ <br>\n",
        "7. Imprimia resultados de regresión. Código __print(model.summary())__ <br>"
      ]
    },
    {
      "cell_type": "markdown",
      "metadata": {
        "trusted": false,
        "id": "UEYG_G28n8Aw"
      },
      "source": [
        "[Volver al índice](https://notebooks.azure.com/jeff0994/libraries/QU-0560-1-1/html/01Introducci%C3%B3n-Indice.ipynb)"
      ]
    },
    {
      "cell_type": "code",
      "metadata": {
        "trusted": true,
        "id": "1kSmuabqn8Aw"
      },
      "source": [
        ""
      ],
      "execution_count": null,
      "outputs": []
    }
  ]
}