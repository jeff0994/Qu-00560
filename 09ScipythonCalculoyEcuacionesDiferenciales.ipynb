{
  "nbformat": 4,
  "nbformat_minor": 0,
  "metadata": {
    "kernelspec": {
      "name": "python36",
      "display_name": "Python 3.6",
      "language": "python"
    },
    "language_info": {
      "mimetype": "text/x-python",
      "nbconvert_exporter": "python",
      "name": "python",
      "pygments_lexer": "ipython3",
      "version": "3.6.6",
      "file_extension": ".py",
      "codemirror_mode": {
        "version": 3,
        "name": "ipython"
      }
    },
    "colab": {
      "name": "09ScipythonCalculoyEcuacionesDiferenciales.ipynb",
      "provenance": [],
      "include_colab_link": true
    }
  },
  "cells": [
    {
      "cell_type": "markdown",
      "metadata": {
        "id": "view-in-github",
        "colab_type": "text"
      },
      "source": [
        "<a href=\"https://colab.research.google.com/github/jeff0994/Qu-00560/blob/master/09ScipythonCalculoyEcuacionesDiferenciales.ipynb\" target=\"_parent\"><img src=\"https://colab.research.google.com/assets/colab-badge.svg\" alt=\"Open In Colab\"/></a>"
      ]
    },
    {
      "cell_type": "markdown",
      "metadata": {
        "collapsed": true,
        "id": "RjRXId9ypnXH"
      },
      "source": [
        "# Universidad de Costa Rica\n",
        "\n",
        "## Facultad de Ciencias\n",
        "\n",
        "## Escuela de Química\n",
        "\n",
        "## Sección de Fisicoquímica\n",
        "\n",
        "## Qu-0560 Tópicos de Química Física: Herramientas Computacionales para Química\n",
        "\n",
        "### Profesor Mauricio Gutiérrez\n",
        "### Asistente no oficial: Yefry López"
      ]
    },
    {
      "cell_type": "markdown",
      "metadata": {
        "id": "UBwlCcflpnXI"
      },
      "source": [
        "Objetivos\n",
        "\n",
        "* Usar el módulo scipython y numpy para resolución de problemas básicos\n",
        "* Emplear el módulo Symbolic Python para resolver diversos problemas matemáticas"
      ]
    },
    {
      "cell_type": "markdown",
      "metadata": {
        "id": "BoVAvRYvpnXJ"
      },
      "source": [
        "### Tópico 1. Resolviendo sistemas de ecuaciones con fsolve de Scipython\n",
        "\n",
        "Los ejemplos son aportados por AP Monitor Python y Scipython"
      ]
    },
    {
      "cell_type": "markdown",
      "metadata": {
        "id": "twO8KtV7pnXK"
      },
      "source": [
        "Para resolver ecuaciones debemos importar el fsolve de scipython y así mismo numpy"
      ]
    },
    {
      "cell_type": "code",
      "metadata": {
        "trusted": true,
        "id": "JFUlKtr8pnXK"
      },
      "source": [
        "import numpy as np\n",
        "from scipy.optimize import fsolve\n",
        "import matplotlib.pyplot as plt\n"
      ],
      "execution_count": null,
      "outputs": []
    },
    {
      "cell_type": "markdown",
      "metadata": {
        "id": "GZY7tQGNpnXL"
      },
      "source": [
        "Ejemplo 1. Encontrar las soluciones o raices de la ecuación  $f(x) = 2x^2 + 3x - 10$ usando fsolve"
      ]
    },
    {
      "cell_type": "markdown",
      "metadata": {
        "id": "-TtXBpq5pnXL"
      },
      "source": [
        "* Para resolver el problema, debe definir una función en Pytnon que nos de f(x)."
      ]
    },
    {
      "cell_type": "code",
      "metadata": {
        "trusted": true,
        "id": "RmIhF3topnXL"
      },
      "source": [
        "def f(x):\n",
        "    return 2.0*x**2 + 3.0*x -10.0"
      ],
      "execution_count": null,
      "outputs": []
    },
    {
      "cell_type": "markdown",
      "metadata": {
        "id": "y8QPKy3ApnXL"
      },
      "source": [
        "¿ Que tal si creamos un espacio lineal de x, para evaluar en f?"
      ]
    },
    {
      "cell_type": "code",
      "metadata": {
        "trusted": true,
        "id": "uzK_mJRZpnXM"
      },
      "source": [
        "x = np.linspace(-5,3)\n",
        "print(x)"
      ],
      "execution_count": null,
      "outputs": []
    },
    {
      "cell_type": "code",
      "metadata": {
        "trusted": true,
        "id": "FU7SBXaCpnXM"
      },
      "source": [
        "Veamos mas o menos donde se encuentran las soluciones de f, graficando!"
      ],
      "execution_count": null,
      "outputs": []
    },
    {
      "cell_type": "code",
      "metadata": {
        "trusted": true,
        "id": "FJHTtAb5pnXM"
      },
      "source": [
        "plt.plot(x,f(x))"
      ],
      "execution_count": null,
      "outputs": []
    },
    {
      "cell_type": "markdown",
      "metadata": {
        "id": "dos59xVxpnXM"
      },
      "source": [
        "Sabemos que las soluciones de f se encuentran en x = 0"
      ]
    },
    {
      "cell_type": "code",
      "metadata": {
        "trusted": true,
        "id": "ysGJroZ9pnXN"
      },
      "source": [
        "plt.plot(x,f(x))\n",
        "\n",
        "#Para agregar los ceros de la función usas el siguiente código\n",
        "plt.plot(x,np.zeros(len(x)))"
      ],
      "execution_count": null,
      "outputs": []
    },
    {
      "cell_type": "markdown",
      "metadata": {
        "id": "VoUOiTdapnXN"
      },
      "source": [
        "Con lo anterios gráficamente, mas o menos ya sabemos donde se encuentran las soluciones!"
      ]
    },
    {
      "cell_type": "markdown",
      "metadata": {
        "id": "o-Ph0nOBpnXN"
      },
      "source": [
        "Con fsolve simplemente tenes agregar la función a optimizar en nuestro caso f y un valor inicial donde buscar!\n",
        "\n",
        "Por ejemplo, a continuación daremos fsolve, con el valor inicial cero"
      ]
    },
    {
      "cell_type": "code",
      "metadata": {
        "trusted": true,
        "id": "z-QROb_JpnXN"
      },
      "source": [
        "solucion_aprox = fsolve(f,0)"
      ],
      "execution_count": null,
      "outputs": []
    },
    {
      "cell_type": "code",
      "metadata": {
        "trusted": true,
        "id": "qEFdv-MupnXN"
      },
      "source": [
        "print(solucion_aprox)"
      ],
      "execution_count": null,
      "outputs": []
    },
    {
      "cell_type": "markdown",
      "metadata": {
        "id": "Fl3IlZ9cpnXO"
      },
      "source": [
        "Ahora bien de la gráfica podemos decir que la solución se acerca como a 1.5 talvez...."
      ]
    },
    {
      "cell_type": "code",
      "metadata": {
        "trusted": true,
        "id": "VdpRFw3qpnXO"
      },
      "source": [
        "x1 = fsolve(f,1.5)"
      ],
      "execution_count": null,
      "outputs": []
    },
    {
      "cell_type": "code",
      "metadata": {
        "trusted": true,
        "id": "BeajuVf2pnXO"
      },
      "source": [
        "print(x1)"
      ],
      "execution_count": null,
      "outputs": []
    },
    {
      "cell_type": "markdown",
      "metadata": {
        "id": "rLE4FcwtpnXO"
      },
      "source": [
        "Para la segunda solución, podemos decir que -3 es un buen valor cercano ( ver gráfica, intercepción entre curvas)"
      ]
    },
    {
      "cell_type": "code",
      "metadata": {
        "trusted": true,
        "id": "1sCNe0LNpnXQ"
      },
      "source": [
        "x2 = fsolve(f,-3)\n",
        "print(x2)"
      ],
      "execution_count": null,
      "outputs": []
    },
    {
      "cell_type": "markdown",
      "metadata": {
        "id": "qyZKo1iWpnXQ"
      },
      "source": [
        "Ejercicio 1. Encontrar las soluciones o raices de la ecuación  $f(x) = 2x^3 + 3x^2 - 10*x + 2 $ usando fsolve\n",
        "\n",
        "Tiene tres soluciones"
      ]
    },
    {
      "cell_type": "markdown",
      "metadata": {
        "id": "WCUeD4W2pnXQ"
      },
      "source": [
        "### Tópico 2. Resolviendo sistemas de ecuaciones, derivadas e integrales con Simbolic Python.\n",
        "\n",
        "Simbolic Python es el relativo a Python a Maple, Matlab o Mathematica, sólo que usando la sintaxis de Python.\n",
        "\n",
        "En general vamos a importar lo siguiente al inicio"
      ]
    },
    {
      "cell_type": "code",
      "metadata": {
        "trusted": true,
        "id": "AmuQbus_pnXQ"
      },
      "source": [
        "import sympy as sp\n",
        "sym.init_printing()"
      ],
      "execution_count": null,
      "outputs": []
    },
    {
      "cell_type": "markdown",
      "metadata": {
        "id": "vlUYVo2ipnXQ"
      },
      "source": [
        "Con sym.inir_print() te permite obtener resultados similares a Maple en cuanto a manejo de datos. <br>\n",
        "\n",
        "Hagamos una prueba <br>"
      ]
    },
    {
      "cell_type": "markdown",
      "metadata": {
        "id": "_ko57C4WpnXR"
      },
      "source": [
        "Queremos resolver el siguiente sistema de ecuaciones.\n",
        "\n",
        "$$2*x^{2}+y+z = 1$$\n",
        "$$ x + 2*y + z = c_{1}$$\n",
        "$$ -2*x + y = -z$$"
      ]
    },
    {
      "cell_type": "markdown",
      "metadata": {
        "id": "moeIS2uTpnXR"
      },
      "source": [
        "#### Paso 1Primero debemos definir los símbolis de interés ( son las variable o parámetros de tu problema)\n",
        "Por ejemplo sí el simbolo es x <br>\n",
        "Código <br>\n",
        "x = sp.simbols('x')\n"
      ]
    },
    {
      "cell_type": "code",
      "metadata": {
        "trusted": true,
        "id": "SSDXkkwrpnXR"
      },
      "source": [
        "x = sp.symbols('x')\n"
      ],
      "execution_count": null,
      "outputs": []
    },
    {
      "cell_type": "code",
      "metadata": {
        "trusted": true,
        "id": "AlqidJvYpnXR"
      },
      "source": [
        "x"
      ],
      "execution_count": null,
      "outputs": []
    },
    {
      "cell_type": "markdown",
      "metadata": {
        "id": "I4-sfThmpnXR"
      },
      "source": [
        "Viste? Ya tenemos x como simbolo, como si se tratase de Maple <br>\n",
        "Podemos definir los simbolos de forma mas rápida de la siguiente manera <br>"
      ]
    },
    {
      "cell_type": "code",
      "metadata": {
        "trusted": true,
        "id": "KHxOqTi6pnXR"
      },
      "source": [
        "x,y,z = sp.symbols('x,y,z')\n",
        "c1 = sp.Symbol('c1')"
      ],
      "execution_count": null,
      "outputs": []
    },
    {
      "cell_type": "code",
      "metadata": {
        "trusted": true,
        "id": "zr-teM1wpnXS"
      },
      "source": [
        "x"
      ],
      "execution_count": null,
      "outputs": []
    },
    {
      "cell_type": "code",
      "metadata": {
        "trusted": true,
        "id": "usUjUMwPpnXS"
      },
      "source": [
        "y"
      ],
      "execution_count": null,
      "outputs": []
    },
    {
      "cell_type": "code",
      "metadata": {
        "trusted": true,
        "id": "3YBfzHw-pnXS"
      },
      "source": [
        "z"
      ],
      "execution_count": null,
      "outputs": []
    },
    {
      "cell_type": "code",
      "metadata": {
        "trusted": true,
        "id": "Q3QOTr4VpnXS"
      },
      "source": [
        "c1"
      ],
      "execution_count": null,
      "outputs": []
    },
    {
      "cell_type": "markdown",
      "metadata": {
        "id": "Mr9azrDTpnXS"
      },
      "source": [
        "#### Paso 2. ¿Como ingresar ecuaciones?\n",
        "\n",
        "Con el código sym.Eq( ecuación, valor al cual está igualado) <br>\n",
        "\n",
        "Por ejemplo nombremos f,g y h a las tres ecuaciones el ejercicio. <br>\n",
        "\n",
        "Entonces"
      ]
    },
    {
      "cell_type": "code",
      "metadata": {
        "trusted": true,
        "id": "EqoHyfsapnXS"
      },
      "source": [
        "f = sp.Eq(2*x**2+y+z,1)\n",
        "g = sp.Eq(x+2*y+z,c1)\n",
        "h = sp.Eq(-2*x+y,-z)"
      ],
      "execution_count": null,
      "outputs": []
    },
    {
      "cell_type": "markdown",
      "metadata": {
        "id": "ZF-Y1sfnpnXT"
      },
      "source": [
        "Preguntemos por f g y h"
      ]
    },
    {
      "cell_type": "code",
      "metadata": {
        "trusted": true,
        "id": "MKjdwx4epnXT"
      },
      "source": [
        "f"
      ],
      "execution_count": null,
      "outputs": []
    },
    {
      "cell_type": "code",
      "metadata": {
        "trusted": true,
        "id": "sUnkpBWxpnXT"
      },
      "source": [
        "g"
      ],
      "execution_count": null,
      "outputs": []
    },
    {
      "cell_type": "code",
      "metadata": {
        "trusted": true,
        "id": "f7DVp0UfpnXT"
      },
      "source": [
        "h"
      ],
      "execution_count": null,
      "outputs": []
    },
    {
      "cell_type": "markdown",
      "metadata": {
        "id": "DVvpaTPmpnXT"
      },
      "source": [
        "#### Paso 3. Resolviendo con sym.solve([ecuaciones],(para quienes resolver))\n",
        "\n",
        "Por ejemplo, nosotros queremos resolver f, g y h para las variables x y y z. <br>\n",
        "El código es <br>\n",
        "sp.solve([f,g,h],(x,y,z)) <br>"
      ]
    },
    {
      "cell_type": "code",
      "metadata": {
        "trusted": true,
        "id": "CLfdVB-ppnXT"
      },
      "source": [
        "sp.solve([f,g,h],(x,y,z))"
      ],
      "execution_count": null,
      "outputs": []
    },
    {
      "cell_type": "markdown",
      "metadata": {
        "id": "heMFLNiopnXU"
      },
      "source": [
        "Listo :3 resolviste el sistema de ecuacion"
      ]
    },
    {
      "cell_type": "markdown",
      "metadata": {
        "id": "IRMwpFGfpnXU"
      },
      "source": [
        "#### Ejercicio 1.\n",
        "\n",
        "Convierta a Simbolic Python la expresión , guarde la expresión en h <br>\n",
        "\n",
        "$$x^2+2x-5.$$"
      ]
    },
    {
      "cell_type": "code",
      "metadata": {
        "trusted": true,
        "id": "1zUtg5D-pnXU"
      },
      "source": [
        "h = x**2 + 2*x - 5\n",
        "h"
      ],
      "execution_count": null,
      "outputs": []
    },
    {
      "cell_type": "markdown",
      "metadata": {
        "id": "ctfi54J3pnXU"
      },
      "source": [
        "#### Ejercicio 2.1\n",
        "Evaluar en x = 1.5 con el método .subs(variable, lo que quiero sustituir) <br> \n",
        "\n",
        ".subs() viene de ( Sustitución) <br>"
      ]
    },
    {
      "cell_type": "code",
      "metadata": {
        "trusted": true,
        "id": "bDOSpaQ7pnXU"
      },
      "source": [
        "h.subs(x,1.5)"
      ],
      "execution_count": null,
      "outputs": []
    },
    {
      "cell_type": "markdown",
      "metadata": {
        "id": "xh-UIEtspnXU"
      },
      "source": [
        "#### Ejercicio 2.2 Haga un cambio de variable de x a z con subs()"
      ]
    },
    {
      "cell_type": "code",
      "metadata": {
        "trusted": true,
        "id": "RzobI8XRpnXV"
      },
      "source": [
        "h.subs(x,z)"
      ],
      "execution_count": null,
      "outputs": []
    },
    {
      "cell_type": "markdown",
      "metadata": {
        "id": "iVzw6yl4pnXV"
      },
      "source": [
        "#### Ejercicio 2.3. Haga un cambio de variable de x a $y^{2}$ con .subs()"
      ]
    },
    {
      "cell_type": "markdown",
      "metadata": {
        "id": "R48nO3zgpnXV"
      },
      "source": [
        "#### Ejercicio 3.1 \n",
        "\n",
        "Simplifique la siguiente expresión\n",
        "$$\\frac{x^2 - x - 6}{x^2-3x}.$$\n",
        "\n",
        "Con el código __sp.simplify(nombre de expresión)__"
      ]
    },
    {
      "cell_type": "code",
      "metadata": {
        "trusted": true,
        "id": "jAJdmprRpnXV"
      },
      "source": [
        "f = (x**2-x-6)/(x**-3*x)"
      ],
      "execution_count": null,
      "outputs": []
    },
    {
      "cell_type": "code",
      "metadata": {
        "trusted": true,
        "id": "MzmirzfPpnXV"
      },
      "source": [
        "sp.simplify(f)"
      ],
      "execution_count": null,
      "outputs": []
    },
    {
      "cell_type": "markdown",
      "metadata": {
        "id": "IaijSIArpnXW"
      },
      "source": [
        "#### Ejercicio 3.2\n",
        "\n",
        "Expandir simbólicamente la expresión <br>\n",
        "\n",
        " $$(x+1)^3(x-2)^2.$$\n",
        " \n",
        " Con el código __sp.expand(nombre de expresión)__"
      ]
    },
    {
      "cell_type": "code",
      "metadata": {
        "trusted": true,
        "id": "SPA6hTpZpnXW"
      },
      "source": [
        ""
      ],
      "execution_count": null,
      "outputs": []
    },
    {
      "cell_type": "markdown",
      "metadata": {
        "id": "nG2aZpFFpnXW"
      },
      "source": [
        "#### Ejercicio 3.3\n",
        "\n",
        "Factorice la siguien expresión\n",
        "\n",
        "$$3x^4 - 36x^3+99x^2-6x-144.$$\n",
        "\n",
        "Con el código __sp.factor(nombre de la expresión)__"
      ]
    },
    {
      "cell_type": "markdown",
      "metadata": {
        "id": "voKMfo2apnXW"
      },
      "source": [
        "### Derivadas en integrales\n",
        "\n",
        "sp puede resolver multitud de derivadas e integrales. <br>\n",
        "\n",
        "Por deficiòn tiene guardados diveras expresiones por ejemplo <br>\n",
        "\n",
        "* sp.sin(x) seno de x\n",
        "* sp.exp(x)\n",
        "* sp.cos(x)\n",
        "\n",
        "Y así sucesivamente! Es como cuando aprendiste a usar math.exp() o np.exp(), sólo que ahora lo hacemos con sp de Symbolic Python <br>\n",
        "\n",
        "\n",
        "Hagamos una prueba, escribamos una expresión para $$cos(x)*e^{5x}$$ y la guardamos en y <br>"
      ]
    },
    {
      "cell_type": "code",
      "metadata": {
        "trusted": true,
        "id": "3xeZuft_pnXW"
      },
      "source": [
        "y = sp.cos(x) * sp.exp(2*x)\n",
        "y"
      ],
      "execution_count": null,
      "outputs": []
    },
    {
      "cell_type": "markdown",
      "metadata": {
        "id": "dtanCKbbpnXX"
      },
      "source": [
        "Para calcular la derivadas usas el código\n",
        "__sp.diff(expresión, variable)__"
      ]
    },
    {
      "cell_type": "code",
      "metadata": {
        "trusted": true,
        "id": "pmEunrULpnXX"
      },
      "source": [
        "sp.diff(y,x)"
      ],
      "execution_count": null,
      "outputs": []
    },
    {
      "cell_type": "markdown",
      "metadata": {
        "id": "xnkwdKr0pnXX"
      },
      "source": [
        "#### Ejercicio 4.1\n",
        "\n",
        "Calcule la derivada $$\\frac{d}{dx}\\sin^2(x)e^{2x}.$$\n",
        "Luego evalue para $x=3.3.$"
      ]
    },
    {
      "cell_type": "code",
      "metadata": {
        "trusted": true,
        "id": "NibHmb-opnXX"
      },
      "source": [
        "# Primero guarde la expresión a derivar en h\n",
        "\n",
        "# Segundo aplique la derivadad y guardela en z\n",
        "\n",
        "# Haga sp.subs(z,3.3)"
      ],
      "execution_count": null,
      "outputs": []
    },
    {
      "cell_type": "markdown",
      "metadata": {
        "id": "oa1d7gF8pnXX"
      },
      "source": [
        "#### Ejercicio 4.2\n",
        "\n",
        "Represente de forma símbólica la siguiente integral y resuelva.\n",
        "\n",
        "$$\\int_0^5x^2\\sin(x^2)dx.$$"
      ]
    },
    {
      "cell_type": "markdown",
      "metadata": {
        "id": "69f_DzFzpnXX"
      },
      "source": [
        "Para resolver integrales el código es el siguiente <br>\n",
        "\n",
        "__sp.integrate(expresión a integrar , (variable de integración , límite inicial de integración, límite final de integración))__<br>"
      ]
    },
    {
      "cell_type": "code",
      "metadata": {
        "trusted": true,
        "id": "vDhPWvn5pnXY"
      },
      "source": [
        "f = x**2*sp.sin(x**2)"
      ],
      "execution_count": null,
      "outputs": []
    },
    {
      "cell_type": "code",
      "metadata": {
        "trusted": true,
        "id": "wm12HsvFpnXY"
      },
      "source": [
        "g = sp.integrate(f,(x,0,5))\n",
        "g"
      ],
      "execution_count": null,
      "outputs": []
    },
    {
      "cell_type": "markdown",
      "metadata": {
        "id": "r9iZ1xkMpnXY"
      },
      "source": [
        "Se ve espantasos :/ <br>\n",
        "    \n",
        "Pero esta es la solución analítica de dicha integral, esa simbolos que parecen L invertida se llaman función Gamma de Euler. <br>\n",
        "\n",
        "Sí, deseamos una aproximación numérica, podemos usar __g.evalf()__ <br>"
      ]
    },
    {
      "cell_type": "code",
      "metadata": {
        "trusted": true,
        "id": "-chPvxPbpnXZ"
      },
      "source": [
        "g.evalf()"
      ],
      "execution_count": null,
      "outputs": []
    },
    {
      "cell_type": "markdown",
      "metadata": {
        "id": "l_aA_KgypnXZ"
      },
      "source": [
        "Mucho mejor!"
      ]
    },
    {
      "cell_type": "markdown",
      "metadata": {
        "id": "fObL0FL9pnXa"
      },
      "source": [
        "#### Ejercicio 4.3\n",
        "\n",
        "Represente de forma símbólica la siguiente integral y resuelva\n",
        "\n",
        "$$\\int_0^2xe^{x^{2}}dx.$$\n",
        "\n"
      ]
    },
    {
      "cell_type": "markdown",
      "metadata": {
        "id": "gpdwGch0pnXa"
      },
      "source": [
        "#### Ejercicio 5.1"
      ]
    },
    {
      "cell_type": "markdown",
      "metadata": {
        "id": "Ka9GXDdBpnXa"
      },
      "source": [
        "Encuentre las 3 a soluciones de la expresión $$x^3+15x^2=3x-10.$$\n",
        "\n",
        "La expresión debe igualarse a cero <br>"
      ]
    },
    {
      "cell_type": "markdown",
      "metadata": {
        "id": "jqEEde0spnXa"
      },
      "source": [
        "* Primero guarde la expresión  use la función sp.Eq(acá va la expresión, a lo que es igual) y guarde en  y \n",
        "* Por ejemplo h = sp.Eq(x**3 + 15*x**2,3*x-10)\n",
        "* Segundo realice sp.solve(y,x) y guardela en z\n",
        "* Pregunte por z ( como son tres raices, z es una lista. Podes preguntar po los elentos de la lista, por ejemplo z[0] la primera raíz\n",
        "* Sí el resultado es horrible, puede usar z[0].evalf(),z[1].evalf()"
      ]
    },
    {
      "cell_type": "code",
      "metadata": {
        "trusted": true,
        "id": "q6uXZVgkpnXa"
      },
      "source": [
        "\n"
      ],
      "execution_count": null,
      "outputs": []
    },
    {
      "cell_type": "code",
      "metadata": {
        "trusted": true,
        "id": "-NExGQampnXa"
      },
      "source": [
        "z[0].evalf()"
      ],
      "execution_count": null,
      "outputs": []
    },
    {
      "cell_type": "markdown",
      "metadata": {
        "id": "xe9X13VxpnXb"
      },
      "source": [
        "Yup, las soluciones se encuentran dentro de los números imaginarioa"
      ]
    },
    {
      "cell_type": "markdown",
      "metadata": {
        "id": "6LkHv7NmpnXb"
      },
      "source": [
        "#### Ejercicio 5.2\n",
        "Resuelva el siguiente sistema de ecuaciones\n",
        "\n",
        "\\begin{align}\n",
        "x+y+z&=0 \\\\\n",
        "2x-y-z&=10 \\\\\n",
        "y+2z&=5\n",
        "\\end{align}"
      ]
    },
    {
      "cell_type": "markdown",
      "metadata": {
        "id": "8e7Lw3GRpnXb"
      },
      "source": [
        "HINT. <br>\n",
        "Defina tres ecuaciones, eq1, eq2, eq3 <br>\n",
        "Luego use sp.solve(eq1,eq2,eq3, [x,y,z]) <br>"
      ]
    },
    {
      "cell_type": "markdown",
      "metadata": {
        "id": "Y0naSd_BpnXc"
      },
      "source": [
        "#### Ejercicio 6.1 Resolviendo ecuaciones diferenciales"
      ]
    },
    {
      "cell_type": "markdown",
      "metadata": {
        "id": "d6_x_QhWpnXc"
      },
      "source": [
        "Resuelva la siguiente ecuación diferenciales usando la función ```dsolve``` :\n",
        "$$\\frac{df(x)}{dx} = x\\cos(x).$$"
      ]
    },
    {
      "cell_type": "markdown",
      "metadata": {
        "id": "nlsAPCB1pnXc"
      },
      "source": [
        "Para este caso, primero es necesario, decirle a Symbolic Python hay que resolver una función"
      ]
    },
    {
      "cell_type": "code",
      "metadata": {
        "trusted": true,
        "id": "zAAw49_spnXc"
      },
      "source": [
        "f = sp.Function('f')"
      ],
      "execution_count": null,
      "outputs": []
    },
    {
      "cell_type": "markdown",
      "metadata": {
        "id": "vVWyHSVipnXc"
      },
      "source": [
        "La expresión es la siguiente"
      ]
    },
    {
      "cell_type": "markdown",
      "metadata": {
        "id": "VTBDLfJxpnXd"
      },
      "source": [
        "$$\\frac{df(x)}{dx} - x\\cos(x) = 0.$$"
      ]
    },
    {
      "cell_type": "markdown",
      "metadata": {
        "id": "aWmqX_7NpnXd"
      },
      "source": [
        "Guardemos la expresión en h. <br>\n",
        "\n",
        "Para hacer la derivada de f respecto a x , el código es sp.Derivative(f(x),x) <br>"
      ]
    },
    {
      "cell_type": "code",
      "metadata": {
        "trusted": true,
        "id": "8Jjmj3xupnXd"
      },
      "source": [
        "h = sp.Derivative(f(x),x) - x*sp.cos(x)"
      ],
      "execution_count": null,
      "outputs": []
    },
    {
      "cell_type": "markdown",
      "metadata": {
        "id": "7vhMre38pnXd"
      },
      "source": [
        "Usamos sp.disolve(ecuación diferencial , para quién queremos resolver) <br>\n",
        "\n",
        "En nuestro caso, queremos resolver para f(x) <br>"
      ]
    },
    {
      "cell_type": "code",
      "metadata": {
        "trusted": true,
        "id": "99jNmHJBpnXd"
      },
      "source": [
        "y = sp.dsolve(h,f(x))"
      ],
      "execution_count": null,
      "outputs": []
    },
    {
      "cell_type": "code",
      "metadata": {
        "trusted": true,
        "id": "WEyJQ2ukpnXd"
      },
      "source": [
        "y"
      ],
      "execution_count": null,
      "outputs": []
    },
    {
      "cell_type": "markdown",
      "metadata": {
        "id": "NA3o7xRfpnXe"
      },
      "source": [
        "Y esa es la solución1"
      ]
    },
    {
      "cell_type": "markdown",
      "metadata": {
        "id": "nApfYYjFpnXe"
      },
      "source": [
        "sp tiene muchas mas opciones!\n",
        "\n",
        "Como Algebra de matrices y otros tópicos de algebra lineal.\n",
        "\n",
        "Podes sacarle mucho mas el provecho!"
      ]
    },
    {
      "cell_type": "markdown",
      "metadata": {
        "id": "BoqJFdoPpnXe"
      },
      "source": [
        "[Volver al índice](https://notebooks.azure.com/jeff0994/libraries/QU-0560-1-1/html/01Introducci%C3%B3n-Indice.ipynb)"
      ]
    },
    {
      "cell_type": "code",
      "metadata": {
        "trusted": true,
        "id": "F8O2AIM7pnXe"
      },
      "source": [
        ""
      ],
      "execution_count": null,
      "outputs": []
    }
  ]
}