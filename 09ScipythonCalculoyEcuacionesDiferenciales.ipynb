{
  "cells": [
    {
      "metadata": {
        "collapsed": true
      },
      "cell_type": "markdown",
      "source": "# Universidad de Costa Rica\n\n## Facultad de Ciencias\n\n## Escuela de Química\n\n## Sección de Fisicoquímica\n\n## Qu-0560 Tópicos de Química Física: Herramientas Computacionales para Química\n\n### Profesor Mauricio Gutierrez\n### Asistente no oficial: Yefry López"
    },
    {
      "metadata": {},
      "cell_type": "markdown",
      "source": "Objetivos\n\n* Usar el módulo scipython y numpy para resolución de problemas básicos\n* Emplear el módulo Symbolic Python para resolver diversos problemas matemáticas"
    },
    {
      "metadata": {},
      "cell_type": "markdown",
      "source": "### Tópico 1. Resolviendo sistemas de ecuaciones con fsolve de Scipython\n\nLos ejemplos son aportados por AP Monitor Python y Scipython"
    },
    {
      "metadata": {},
      "cell_type": "markdown",
      "source": "Para resolver ecuaciones debemos importar el fsolve de scipython y así mismo numpy"
    },
    {
      "metadata": {
        "trusted": true
      },
      "cell_type": "code",
      "source": "import numpy as np\nfrom scipy.optimize import fsolve\nimport matplotlib.pyplot as plt\n",
      "execution_count": null,
      "outputs": []
    },
    {
      "metadata": {},
      "cell_type": "markdown",
      "source": "Ejemplo 1. Encontrar las soluciones o raices de la ecuación  $f(x) = 2x^2 + 3x - 10$ usando fsolve"
    },
    {
      "metadata": {},
      "cell_type": "markdown",
      "source": "* Para resolver el problema, debe definir una función en Pytnon que nos de f(x)."
    },
    {
      "metadata": {
        "trusted": true
      },
      "cell_type": "code",
      "source": "def f(x):\n    return 2.0*x**2 + 3.0*x -10.0",
      "execution_count": null,
      "outputs": []
    },
    {
      "metadata": {},
      "cell_type": "markdown",
      "source": "¿ Que tal si rremos un espacio lineal de x, para evaluar en f?"
    },
    {
      "metadata": {
        "trusted": true
      },
      "cell_type": "code",
      "source": "x = np.linspace(-5,3)\nprint(x)",
      "execution_count": null,
      "outputs": []
    },
    {
      "metadata": {
        "trusted": true
      },
      "cell_type": "code",
      "source": "Veamos mas o menos donde se encuentran las soluciones de f, graficando!",
      "execution_count": null,
      "outputs": []
    },
    {
      "metadata": {
        "trusted": true
      },
      "cell_type": "code",
      "source": "plt.plot(x,f(x))",
      "execution_count": null,
      "outputs": []
    },
    {
      "metadata": {},
      "cell_type": "markdown",
      "source": "Sabemos que las soluciones de f se encuentran en x = 0"
    },
    {
      "metadata": {
        "trusted": true
      },
      "cell_type": "code",
      "source": "plt.plot(x,f(x))\n\n#Para agregar los ceros de la función usas el siguiente código\nplt.plot(x,np.zeros(len(x)))",
      "execution_count": null,
      "outputs": []
    },
    {
      "metadata": {},
      "cell_type": "markdown",
      "source": "Con lo anterios gráficamente, mas o menos ya sabemos donde se encuentran las soluciones!"
    },
    {
      "metadata": {},
      "cell_type": "markdown",
      "source": "Con fsolve simplemente tenes agregar la función a optimizar en nuestro caso f y un valor inicial donde buscar!\n\nPor ejemplo, a continuación daremos fsolve, con el valor inicial cero"
    },
    {
      "metadata": {
        "trusted": true
      },
      "cell_type": "code",
      "source": "solucion_aprox = fsolve(f,0)",
      "execution_count": null,
      "outputs": []
    },
    {
      "metadata": {
        "trusted": true
      },
      "cell_type": "code",
      "source": "print(solucion_aprox)",
      "execution_count": null,
      "outputs": []
    },
    {
      "metadata": {},
      "cell_type": "markdown",
      "source": "Ahora bien de la gráfica podemos decir que la solución se acerca como a 1.5 talvez...."
    },
    {
      "metadata": {
        "trusted": true
      },
      "cell_type": "code",
      "source": "x1 = fsolve(f,1.5)",
      "execution_count": null,
      "outputs": []
    },
    {
      "metadata": {
        "trusted": true
      },
      "cell_type": "code",
      "source": "print(x1)",
      "execution_count": null,
      "outputs": []
    },
    {
      "metadata": {},
      "cell_type": "markdown",
      "source": "Para la segunda solución, podemos decir que -3 es un buen valor cercano ( ver gráfica, intercepción entre curvas)"
    },
    {
      "metadata": {
        "trusted": true
      },
      "cell_type": "code",
      "source": "x2 = fsolve(f,-3)\nprint(x2)",
      "execution_count": null,
      "outputs": []
    },
    {
      "metadata": {},
      "cell_type": "markdown",
      "source": "Ejercicio 1. Encontrar las soluciones o raices de la ecuación  $f(x) = 2x^3 + 3x^2 - 10*x + 2 $ usando fsolve\n\nTiene tres soluciones"
    },
    {
      "metadata": {},
      "cell_type": "markdown",
      "source": "### Tópico 2. Resolviendo sistemas de ecuaciones, derivadas e integrales con Simbolic Python.\n\nSimbolic Python es el relativo a Python a Maple, Matlab o Mathematica, sólo que usando la sintaxis de Python.\n\nEn general vamos a importar lo siguiente al inicio"
    },
    {
      "metadata": {
        "trusted": true
      },
      "cell_type": "code",
      "source": "import sympy as sp\nsym.init_printing()",
      "execution_count": null,
      "outputs": []
    },
    {
      "metadata": {},
      "cell_type": "markdown",
      "source": "Con sym.inir_print() te permite obtener resultados similares a Maple en cuanto a manejo de datos. <br>\n\nHagamos una prueba <br>"
    },
    {
      "metadata": {},
      "cell_type": "markdown",
      "source": "Queremos resolver el siguiente sistema de ecuaciones.\n\n$$2*x^{2}+y+z = 1$$\n$$ x + 2*y + z = c_{1}$$\n$$ -2*x + y = -z$$"
    },
    {
      "metadata": {},
      "cell_type": "markdown",
      "source": "#### Paso 1Primero debemos definir los símbolis de interés ( son las variable o parámetros de tu problema)\nPor ejemplo sí el simbolo es x <br>\nCódigo <br>\nx = sp.simbols('x')\n"
    },
    {
      "metadata": {
        "trusted": true
      },
      "cell_type": "code",
      "source": "x = sp.symbols('x')\n",
      "execution_count": null,
      "outputs": []
    },
    {
      "metadata": {
        "trusted": true
      },
      "cell_type": "code",
      "source": "x",
      "execution_count": null,
      "outputs": []
    },
    {
      "metadata": {},
      "cell_type": "markdown",
      "source": "Viste? Ya tenemos x como simbolo, como si se tratase de Maple <br>\nPodemos definir los simbolos de forma mas rápida de la siguiente manera <br>"
    },
    {
      "metadata": {
        "trusted": true
      },
      "cell_type": "code",
      "source": "x,y,z = sp.symbols('x,y,z')\nc1 = sp.Symbol('c1')",
      "execution_count": null,
      "outputs": []
    },
    {
      "metadata": {
        "trusted": true
      },
      "cell_type": "code",
      "source": "x",
      "execution_count": null,
      "outputs": []
    },
    {
      "metadata": {
        "trusted": true
      },
      "cell_type": "code",
      "source": "y",
      "execution_count": null,
      "outputs": []
    },
    {
      "metadata": {
        "trusted": true
      },
      "cell_type": "code",
      "source": "z",
      "execution_count": null,
      "outputs": []
    },
    {
      "metadata": {
        "trusted": true
      },
      "cell_type": "code",
      "source": "c1",
      "execution_count": null,
      "outputs": []
    },
    {
      "metadata": {},
      "cell_type": "markdown",
      "source": "#### Paso 2. ¿Como ingresar ecuaciones?\n\nCon el código sym.Eq( ecuación, valor al cual está igualado) <br>\n\nPor ejemplo nombremos f,g y h a las tres ecuaciones el ejercicio. <br>\n\nEntonces"
    },
    {
      "metadata": {
        "trusted": true
      },
      "cell_type": "code",
      "source": "f = sp.Eq(2*x**2+y+z,1)\ng = sp.Eq(x+2*y+z,c1)\nh = sp.Eq(-2*x+y,-z)",
      "execution_count": null,
      "outputs": []
    },
    {
      "metadata": {},
      "cell_type": "markdown",
      "source": "Preguntemos por f g y h"
    },
    {
      "metadata": {
        "trusted": true
      },
      "cell_type": "code",
      "source": "f",
      "execution_count": null,
      "outputs": []
    },
    {
      "metadata": {
        "trusted": true
      },
      "cell_type": "code",
      "source": "g",
      "execution_count": null,
      "outputs": []
    },
    {
      "metadata": {
        "trusted": true
      },
      "cell_type": "code",
      "source": "h",
      "execution_count": null,
      "outputs": []
    },
    {
      "metadata": {},
      "cell_type": "markdown",
      "source": "#### Paso 3. Resolviendo con sym.solve([ecuaciones],(para quienes resolver))\n\nPor ejemplo, nosotros queremos resolver f, g y h para las variables x y y z. <br>\nEl código es <br>\nsp.solve([f,g,h],(x,y,z)) <br>"
    },
    {
      "metadata": {
        "trusted": true
      },
      "cell_type": "code",
      "source": "sp.solve([f,g,h],(x,y,z))",
      "execution_count": null,
      "outputs": []
    },
    {
      "metadata": {},
      "cell_type": "markdown",
      "source": "Listo :3 resolviste el sistema de ecuacion"
    },
    {
      "metadata": {},
      "cell_type": "markdown",
      "source": "#### Ejercicio 1.\n\nConvierta a Simbolic Python la expresión , guarde la expresión en h <br>\n\n$$x^2+2x-5.$$"
    },
    {
      "metadata": {
        "trusted": true
      },
      "cell_type": "code",
      "source": "h = x**2 + 2*x - 5\nh",
      "execution_count": null,
      "outputs": []
    },
    {
      "metadata": {},
      "cell_type": "markdown",
      "source": "#### Ejercicio 2.1\nEvaluar en x = 1.5 con el método .subs(variable, lo que quiero sustituir) <br> \n\n.subs() viene de ( Sustitución) <br>"
    },
    {
      "metadata": {
        "trusted": true
      },
      "cell_type": "code",
      "source": "h.subs(x,1.5)",
      "execution_count": null,
      "outputs": []
    },
    {
      "metadata": {},
      "cell_type": "markdown",
      "source": "#### Ejercicio 2.2 Haga un cambio de variable de x a z con subs()"
    },
    {
      "metadata": {
        "trusted": true
      },
      "cell_type": "code",
      "source": "h.subs(x,z)",
      "execution_count": null,
      "outputs": []
    },
    {
      "metadata": {},
      "cell_type": "markdown",
      "source": "#### Ejercicio 2.3. Haga un cambio de variable de x a $y^{2}$ con .subs()"
    },
    {
      "metadata": {},
      "cell_type": "markdown",
      "source": "#### Ejercicio 3.1 \n\nSimplifique la siguiente expresión\n$$\\frac{x^2 - x - 6}{x^2-3x}.$$\n\nCon el código __sp.simplify(nombre de expresión)__"
    },
    {
      "metadata": {
        "trusted": true
      },
      "cell_type": "code",
      "source": "f = (x**2-x-6)/(x**-3*x)",
      "execution_count": null,
      "outputs": []
    },
    {
      "metadata": {
        "trusted": true
      },
      "cell_type": "code",
      "source": "sp.simplify(f)",
      "execution_count": null,
      "outputs": []
    },
    {
      "metadata": {},
      "cell_type": "markdown",
      "source": "#### Ejercicio 3.2\n\nExpandir simbólicamente la expresión <br>\n\n $$(x+1)^3(x-2)^2.$$\n \n Con el código __sp.expand(nombre de expresión)__"
    },
    {
      "metadata": {
        "trusted": true
      },
      "cell_type": "code",
      "source": "",
      "execution_count": null,
      "outputs": []
    },
    {
      "metadata": {},
      "cell_type": "markdown",
      "source": "#### Ejercicio 3.3\n\nFactorice la siguien expresión\n\n$$3x^4 - 36x^3+99x^2-6x-144.$$\n\nCon el código __sp.factor(nombre de la expresión)__"
    },
    {
      "metadata": {},
      "cell_type": "markdown",
      "source": "### Derivadas en integrales\n\nsp puede resolver multitud de derivadas e integrales. <br>\n\nPor deficiòn tiene guardados diveras expresiones por ejemplo <br>\n\n* sp.sin(x) seno de x\n* sp.exp(x)\n* sp.cos(x)\n\nY así sucesivamente! Es como cuando aprendiste a usar math.exp() o np.exp(), sólo que ahora lo hacemos con sp de Symbolic Python <br>\n\n\nHagamos una prueba, escribamos una expresión para $$cos(x)*e^{5x}$$ y la guardamos en y <br>"
    },
    {
      "metadata": {
        "trusted": true
      },
      "cell_type": "code",
      "source": "y = sp.cos(x) * sp.exp(2*x)\ny",
      "execution_count": null,
      "outputs": []
    },
    {
      "metadata": {},
      "cell_type": "markdown",
      "source": "Para calcular la derivadas usas el código\n__sp.diff(expresión, variable)__"
    },
    {
      "metadata": {
        "trusted": true
      },
      "cell_type": "code",
      "source": "sp.diff(y,x)",
      "execution_count": null,
      "outputs": []
    },
    {
      "metadata": {},
      "cell_type": "markdown",
      "source": "#### Ejercicio 4.1\n\nCalcule la derivada $$\\frac{d}{dx}\\sin^2(x)e^{2x}.$$\nLuego evalue para $x=3.3.$"
    },
    {
      "metadata": {
        "trusted": true
      },
      "cell_type": "code",
      "source": "# Primero guarde la expresión a derivar en h\n\n# Segundo aplique la derivadad y guardela en z\n\n# Haga sp.subs(z,3.3)",
      "execution_count": null,
      "outputs": []
    },
    {
      "metadata": {},
      "cell_type": "markdown",
      "source": "#### Ejercicio 4.2\n\nRepresente de forma símbólica la siguiente integral y resuelva.\n\n$$\\int_0^5x^2\\sin(x^2)dx.$$"
    },
    {
      "metadata": {},
      "cell_type": "markdown",
      "source": "Para resolver integrales el código es el siguiente <br>\n\n__sp.integrate(expresión a integrar , (variable de integración , límite inicial de integración, límite final de integración))__<br>"
    },
    {
      "metadata": {
        "trusted": true
      },
      "cell_type": "code",
      "source": "f = x**2*sp.sin(x**2)",
      "execution_count": null,
      "outputs": []
    },
    {
      "metadata": {
        "trusted": true
      },
      "cell_type": "code",
      "source": "g = sp.integrate(f,(x,0,5))\ng",
      "execution_count": null,
      "outputs": []
    },
    {
      "metadata": {},
      "cell_type": "markdown",
      "source": "Se ve espantasos :/ <br>\n    \nPero esta es la solución analítica de dicha integral, esa simbolos que parecen L invertida se llaman función Gamma de Euler. <br>\n\nSí, deseamos una aproximación numérica, podemos usar __g.evalf()__ <br>"
    },
    {
      "metadata": {
        "trusted": true
      },
      "cell_type": "code",
      "source": "g.evalf()",
      "execution_count": null,
      "outputs": []
    },
    {
      "metadata": {},
      "cell_type": "markdown",
      "source": "Mucho mejor!"
    },
    {
      "metadata": {},
      "cell_type": "markdown",
      "source": "#### Ejercicio 4.3\n\nRepresente de forma símbólica la siguiente integral y resuelva\n\n$$\\int_0^2xe^{x^{2}}dx.$$\n\n"
    },
    {
      "metadata": {},
      "cell_type": "markdown",
      "source": "#### Ejercicio 5.1"
    },
    {
      "metadata": {},
      "cell_type": "markdown",
      "source": "Encuentre las 3 a soluciones de la expresión $$x^3+15x^2=3x-10.$$\n\nLa expresión debe igualarse a cero <br>"
    },
    {
      "metadata": {},
      "cell_type": "markdown",
      "source": "* Primero guarde la expresión  use la función sp.Eq(acá va la expresión, a lo que es igual) y guarde en  y \n* Por ejemplo h = sp.Eq(x**3 + 15*x**2,3*x-10)\n* Segundo realice sp.solve(y,x) y guardela en z\n* Pregunte por z ( como son tres raices, z es una lista. Podes preguntar po los elentos de la lista, por ejemplo z[0] la primera raíz\n* Sí el resultado es horrible, puede usar z[0].evalf(),z[1].evalf()"
    },
    {
      "metadata": {
        "trusted": true
      },
      "cell_type": "code",
      "source": "\n",
      "execution_count": null,
      "outputs": []
    },
    {
      "metadata": {
        "trusted": true
      },
      "cell_type": "code",
      "source": "z[0].evalf()",
      "execution_count": null,
      "outputs": []
    },
    {
      "metadata": {},
      "cell_type": "markdown",
      "source": "Yup, las soluciones se encuentran dentro de los números imaginarioa"
    },
    {
      "metadata": {},
      "cell_type": "markdown",
      "source": "#### Ejercicio 5.2\nResuelva el siguiente sistema de ecuaciones\n\n\\begin{align}\nx+y+z&=0 \\\\\n2x-y-z&=10 \\\\\ny+2z&=5\n\\end{align}"
    },
    {
      "metadata": {},
      "cell_type": "markdown",
      "source": "HINT. <br>\nDefina tres ecuaciones, eq1, eq2, eq3 <br>\nLuego use sp.solve(eq1,eq2,eq3, [x,y,z]) <br>"
    },
    {
      "metadata": {},
      "cell_type": "markdown",
      "source": "#### Ejercicio 6.1 Resolviendo ecuaciones diferenciales"
    },
    {
      "metadata": {},
      "cell_type": "markdown",
      "source": "Resuelva la siguiente ecuación diferenciales usando la función ```dsolve``` :\n$$\\frac{df(x)}{dx} = x\\cos(x).$$"
    },
    {
      "metadata": {},
      "cell_type": "markdown",
      "source": "Para este caso, primero es necesario, decirle a Symbolic Python hay que resolver una función"
    },
    {
      "metadata": {
        "trusted": true
      },
      "cell_type": "code",
      "source": "f = sp.Function('f')",
      "execution_count": null,
      "outputs": []
    },
    {
      "metadata": {},
      "cell_type": "markdown",
      "source": "La expresión es la siguiente"
    },
    {
      "metadata": {},
      "cell_type": "markdown",
      "source": "$$\\frac{df(x)}{dx} - x\\cos(x) = 0.$$"
    },
    {
      "metadata": {},
      "cell_type": "markdown",
      "source": "Guardemos la expresión en h. <br>\n\nPara hacer la derivada de f respecto a x , el código es sp.Derivative(f(x),x) <br>"
    },
    {
      "metadata": {
        "trusted": true
      },
      "cell_type": "code",
      "source": "h = sp.Derivative(f(x),x) - x*sp.cos(x)",
      "execution_count": null,
      "outputs": []
    },
    {
      "metadata": {},
      "cell_type": "markdown",
      "source": "Usamos sp.disolve(ecuación diferencial , para quién queremos resolver) <br>\n\nEn nuestro caso, queremos resolver para f(x) <br>"
    },
    {
      "metadata": {
        "trusted": true
      },
      "cell_type": "code",
      "source": "y = sp.dsolve(h,f(x))",
      "execution_count": null,
      "outputs": []
    },
    {
      "metadata": {
        "trusted": true
      },
      "cell_type": "code",
      "source": "y",
      "execution_count": null,
      "outputs": []
    },
    {
      "metadata": {},
      "cell_type": "markdown",
      "source": "Y esa es la solución1"
    },
    {
      "metadata": {},
      "cell_type": "markdown",
      "source": "sp tiene muchas mas opciones!\n\nComo Algebra de matrices y otros tópicos de algebra lineal.\n\nPodes sacarle mucho mas el provecho!"
    },
    {
      "metadata": {},
      "cell_type": "markdown",
      "source": "[Volver al índice](https://notebooks.azure.com/jeff0994/libraries/QU-0560-1-1/html/01Introducci%C3%B3n-Indice.ipynb)"
    },
    {
      "metadata": {
        "trusted": true
      },
      "cell_type": "code",
      "source": "",
      "execution_count": null,
      "outputs": []
    }
  ],
  "metadata": {
    "kernelspec": {
      "name": "python36",
      "display_name": "Python 3.6",
      "language": "python"
    },
    "language_info": {
      "mimetype": "text/x-python",
      "nbconvert_exporter": "python",
      "name": "python",
      "pygments_lexer": "ipython3",
      "version": "3.6.6",
      "file_extension": ".py",
      "codemirror_mode": {
        "version": 3,
        "name": "ipython"
      }
    }
  },
  "nbformat": 4,
  "nbformat_minor": 2
}