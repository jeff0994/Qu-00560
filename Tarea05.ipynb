{
  "nbformat": 4,
  "nbformat_minor": 0,
  "metadata": {
    "kernelspec": {
      "name": "python36",
      "display_name": "Python 3.6",
      "language": "python"
    },
    "language_info": {
      "mimetype": "text/x-python",
      "nbconvert_exporter": "python",
      "name": "python",
      "pygments_lexer": "ipython3",
      "version": "3.6.6",
      "file_extension": ".py",
      "codemirror_mode": {
        "version": 3,
        "name": "ipython"
      }
    },
    "colab": {
      "name": "Tarea05.ipynb",
      "provenance": [],
      "include_colab_link": true
    }
  },
  "cells": [
    {
      "cell_type": "markdown",
      "metadata": {
        "id": "view-in-github",
        "colab_type": "text"
      },
      "source": [
        "<a href=\"https://colab.research.google.com/github/jeff0994/Qu-00560/blob/master/Tarea05.ipynb\" target=\"_parent\"><img src=\"https://colab.research.google.com/assets/colab-badge.svg\" alt=\"Open In Colab\"/></a>"
      ]
    },
    {
      "cell_type": "markdown",
      "metadata": {
        "collapsed": true,
        "id": "9tAbHLIKprhx"
      },
      "source": [
        "# Universidad de Costa Rica\n",
        "\n",
        "## Facultad de Ciencias\n",
        "\n",
        "## Escuela de Química\n",
        "\n",
        "## Sección de Fisicoquímica\n",
        "\n",
        "## Qu-0560 Tópicos de Química Física: Herramientas Computacionales para Química\n",
        "\n",
        "### Profesor Gutiérrez\n",
        "### Asistente no oficial: Yefry López"
      ]
    },
    {
      "cell_type": "markdown",
      "metadata": {
        "id": "LfjalzSsprhz"
      },
      "source": [
        "### Tarea 05. Funciones y regresión no lineal"
      ]
    },
    {
      "cell_type": "markdown",
      "metadata": {
        "id": "sH3b1cpcprh0"
      },
      "source": [
        "#### Ejercicio 01\n",
        "Programe una función que calcule la presión de Redlich–Kwong para cualquier gas.\n",
        "La función tendrá  5 parámetros R fijo (que tendrá un valor definido por defecto), T, V, Pc y Tc\n",
        "\n",
        "Necesitará las siguientes ecuaciones\n",
        "$$ P = \\frac{RT}{V_{m} - b} - \\frac{a}{\\sqrt{T}V_{m}(V_{m} + b)}$$ <br>\n",
        "<br>\n",
        "\n",
        "Donde a y b están dados por <br>\n",
        "<br>\n",
        "\n",
        "$$ a = \\frac{0.427*R^{2}*(T_{c})^{2}}{P_{c}} $$ <br>\n",
        "$$ b = \\frac{0.0866*R*T_{c}}{P_{c}} $$ <br>\n",
        "\n",
        "<br>\n",
        "\n",
        "$T_{c} , P_{c}$ representan las variables críticas ( Calcularlas será un ejercicio divertido en Fisicoquímica.Recuerda en Cálculo I o II como sacar un punto crítico  Máximo o mínimo ... Pero eso se lo dejamos al Fisicoquímica <br>\n",
        "\n",
        "<br>\n",
        "                                                    \n",
        "Evalue su función con los siguientes entradas\n",
        "                                                    \n",
        "Para esto use los siguientes parámetros <br>\n",
        "<br>\n",
        "* R = 0.0821   L-atm/K\n",
        "* T = 500      K\n",
        "* V = 5        L/mol\n",
        "* Pc = 37.2    atm\n",
        "* Tc = 132.5   K\n",
        "\n",
        "<br>                                                    "
      ]
    },
    {
      "cell_type": "markdown",
      "metadata": {
        "id": "_2PaR-Dnprh0"
      },
      "source": [
        "¿Como definir valores por defecto en funciones? <br>\n",
        "\n",
        "Cuando ingrese parámetros, dele un valor <br>\n",
        "\n",
        "Por ejemplo <br>\n",
        "\n",
        "def gas_real( R = 0.0821 , T,V,Pc,Tc): <br>\n",
        "    * argumentos\n",
        "    \n",
        "\n",
        "La función tiene un R por defecto de 0.0821, osea cuando usted llama a la función, no necesita darle un valor a R. <br>\n",
        "\n",
        "La llamada puede ser <br>\n",
        "gas_real(R, 500,5,37.2,132.5) <br>"
      ]
    },
    {
      "cell_type": "markdown",
      "metadata": {
        "id": "stVqYHUcprh0"
      },
      "source": [
        "#### Ejercicio 02. Regresión no lineal para optener la energía de activación de una cinética.\n",
        "\n",
        "La constante de velocidad intrinseca de una reacción ,depende de la temperatura del sistema. <br>\n",
        "La ecuación que relaciona dicha variables es la siguiente <br>\n",
        "\n",
        "$$ k = A*e^{\\frac{-E_{a}}{RT}}(1)$$ <br>\n",
        "\n",
        "Donde k representa la constante de la cinética, Ea la energía de activación, R la constante de los gases y T la temperatura.\n",
        "\n",
        "Realice una regresión no lineal de la forma\n",
        "\n",
        "$$ k = A*e^{\\frac{-A}{T}}(1)$$ <br>\n",
        "\n",
        "Donde A = Ea / R.\n",
        "\n",
        "Y apartir de A, obtenga la energía de activación.\n",
        "\n",
        "Datos: https://raw.githubusercontent.com/jeff0994/Qu-00560/master/Datos5.csv"
      ]
    },
    {
      "cell_type": "markdown",
      "metadata": {
        "id": "zLQ9Z8r7prh1"
      },
      "source": [
        "#### Paso 1. Importe los paquetes necesarios."
      ]
    },
    {
      "cell_type": "code",
      "metadata": {
        "trusted": true,
        "id": "kbrQ6ZlPprh1"
      },
      "source": [
        ""
      ],
      "execution_count": null,
      "outputs": []
    },
    {
      "cell_type": "markdown",
      "metadata": {
        "id": "4EkkWduKprh2"
      },
      "source": [
        "#### Paso 2. Cargue sus datos y define su eje x y y con numpy\n"
      ]
    },
    {
      "cell_type": "code",
      "metadata": {
        "trusted": true,
        "id": "GF_GB4-tprh3"
      },
      "source": [
        ""
      ],
      "execution_count": null,
      "outputs": []
    },
    {
      "cell_type": "markdown",
      "metadata": {
        "id": "1ccCjclsprh3"
      },
      "source": [
        "#### Paso 3.  Definir función en Python"
      ]
    },
    {
      "cell_type": "code",
      "metadata": {
        "trusted": true,
        "id": "1uWTWbWRprh4"
      },
      "source": [
        ""
      ],
      "execution_count": null,
      "outputs": []
    },
    {
      "cell_type": "markdown",
      "metadata": {
        "id": "Zwc8eMtgprh4"
      },
      "source": [
        "####  Paso 4. Optimización"
      ]
    },
    {
      "cell_type": "code",
      "metadata": {
        "trusted": true,
        "id": "bot9m0QMprh4"
      },
      "source": [
        ""
      ],
      "execution_count": null,
      "outputs": []
    },
    {
      "cell_type": "markdown",
      "metadata": {
        "id": "p3HNBiY5prh4"
      },
      "source": [
        "#### Paso 5. Optenga los parámetros y los extras.\n",
        "Con los extras, obtenga la incertidumbre del parámetro.\n",
        "\n",
        "Recuerda? perr =np.sqrt(np.diag(extras))"
      ]
    },
    {
      "cell_type": "code",
      "metadata": {
        "trusted": true,
        "id": "Sm3XWMckprh4"
      },
      "source": [
        ""
      ],
      "execution_count": null,
      "outputs": []
    },
    {
      "cell_type": "markdown",
      "metadata": {
        "id": "FTADw3qJprh5"
      },
      "source": [
        "#### Paso 6. Grafique con matplotlib"
      ]
    },
    {
      "cell_type": "markdown",
      "metadata": {
        "id": "gA3XjJpFprh5"
      },
      "source": [
        "#### Ejercicio 03. Regresión no lineal para optener los parámetros de viscosidad para mezclas propanol-agua.\n",
        "\n",
        "La viscosidad de un mezcla, puede modelarse con la siguiente ecuación\n",
        "\n",
        "$$ {\\eta} = Ct -\\frac{D}{t}$$\n",
        "\n",
        "Donde  $ {\\eta}$ representa la viscosidad de la mezcla y t el tiempo de caída dentro del capilar del viscosímetro."
      ]
    },
    {
      "cell_type": "markdown",
      "metadata": {
        "id": "3iEfJBC0prh5"
      },
      "source": [
        "A continuación se le proveen datos, tomados de laboratorio"
      ]
    },
    {
      "cell_type": "code",
      "metadata": {
        "trusted": true,
        "id": "BPRAPGfGprh5"
      },
      "source": [
        "#En unidades SI\n",
        "viscosidades = [0.002083920136 , 0.00218444643 , 0.002550096351 , 0.002784608625 , 0.002617412841 , 0.001947641929 , 0.000933]\n",
        "tiempos = [179.18 , 185.98 , 210.7 , 220.62 , 198.49 , 141.04 , 64.29]\n",
        "\n",
        "# En (g/mL)\n",
        "densidades = [0.7995 , 0.8074 , 0.8320 , 0.8677 , 0.9065 , 0.9493 , 0.9976]"
      ],
      "execution_count": null,
      "outputs": []
    },
    {
      "cell_type": "markdown",
      "metadata": {
        "id": "7cPf2eQYprh5"
      },
      "source": [
        "A partir de una regresión no lineal obtenga los parámetros C y D junt con sus incertidumbres.\n",
        "\n",
        "Un modelo mas preciso es el siguiente\n",
        "\n",
        "$$ {\\eta} = \\rho tA -\\frac{B\\rho}{t}$$\n",
        "\n",
        "Es decir , de la primera regresión, en realidad usted tiene que\n",
        "\n",
        "$C = \\rho * A$ <br>\n",
        "$D = \\rho * B$ <br>"
      ]
    },
    {
      "cell_type": "markdown",
      "metadata": {
        "id": "DbQcRcpsprh6"
      },
      "source": [
        "1.  A partir de de los datos C y D que encontró y cada una de las densidades reportadas, encuentre los valores de A y B para cada una de las 7 densidades ( numpy array lo hace sencillo)\n",
        "\n",
        "TIP. Las densidades están en g/mL, primero conviertalas a unidades SI, es decir kg/m^3\n",
        "\n",
        "\n",
        "2. A y B son constantes, por lo tanto los datos de  A y B deberían ser similares. Reporte el valor promedio de A y B y así mismo determine su desviación estandar ( Recuerde, esto se puede hacer con numpy). Da cero?\n",
        "\n",
        "3. Suponga que la incertidumbre de las densidades en g/mL era de 0.0002 g /mL, pase esta cantidad a SI\n",
        "\n",
        "4. Ya que tiene la incertidumbre de las densidades y la incertidumbres de C y D ( perr de la regresión no lineal), obtenga entonces la incertidumbre de A y B con el paquete uncertainties python.\n",
        "\n",
        "5. Realice un gráfico con matplotlib\n",
        "\n",
        "HINT* En forma práctica A = C / $\\rho$ y B = D / $\\rho$ "
      ]
    },
    {
      "cell_type": "markdown",
      "metadata": {
        "trusted": true,
        "id": "izKqyDkSprh6"
      },
      "source": [
        "### Fin de Tarea"
      ]
    },
    {
      "cell_type": "code",
      "metadata": {
        "trusted": true,
        "id": "eJNruNe9prh6"
      },
      "source": [
        ""
      ],
      "execution_count": null,
      "outputs": []
    }
  ]
}