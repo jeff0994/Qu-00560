{
  "cells": [
    {
      "metadata": {
        "collapsed": true
      },
      "cell_type": "markdown",
      "source": "# Universidad de Costa Rica\n\n## Facultad de Ciencias\n\n## Escuela de Química\n\n## Sección de Fisicoquímica\n\n## Qu-0560 Tópicos de Química Física: Herramientas Computacionales para Química\n\n### Profesor Gutierrez\n### Asistente no oficial: Yefry López"
    },
    {
      "metadata": {},
      "cell_type": "markdown",
      "source": "### Tarea 05. Funciones y regresión no lineal"
    },
    {
      "metadata": {},
      "cell_type": "markdown",
      "source": "#### Ejercicio 01\nPrograme una función que calcule la presión de Redlich–Kwong para cualquier gas.\nLa función tendrá  5 parámetros R fijo (que tendrá un valor definido por defecto), T, V, Pc y Tc\n\nNecesitará las siguientes ecuaciones\n$$ P = \\frac{RT}{V_{m} - b} - \\frac{a}{\\sqrt{T}V_{m}(V_{m} + b)}$$ <br>\n<br>\n\nDonde a y b están dados por <br>\n<br>\n\n$$ a = \\frac{0.427*R^{2}*(T_{c})^{2}}{P_{c}} $$ <br>\n$$ b = \\frac{0.0866*R*T_{c}}{P_{c}} $$ <br>\n\n<br>\n\n$T_{c} , P_{c}$ representan las variables críticas ( Calcularlas será un ejercicio divertido en Fisicoquímica.Recuerda en Cálculo I o II como sacar un punto crítico  Máximo o mínimo ... Pero eso se lo dejamos al Fisicoquímica <br>\n\n<br>\n                                                    \nEvalue su función con los siguientes entradas\n                                                    \nPara esto use los siguientes parámetros <br>\n<br>\n* R = 0.0821   L-atm/K\n* T = 500      K\n* V = 5        L/mol\n* Pc = 37.2    atm\n* Tc = 132.5   K\n\n<br>                                                    "
    },
    {
      "metadata": {},
      "cell_type": "markdown",
      "source": "¿Como definir valores por defecto en funciones? <br>\n\nCuando ingrese parámetros, dele un valor <br>\n\nPor ejemplo <br>\n\ndef gas_real( R = 0.0821 , T,V,Pc,Tc): <br>\n    * argumentos\n    \n\nLa función tiene un R por defecto de 0.0821, osea cuando usted llama a la función, no necesita darle un valor a R. <br>\n\nLa llamada puede ser <br>\ngas_real(R, 500,5,37.2,132.5) <br>"
    },
    {
      "metadata": {},
      "cell_type": "markdown",
      "source": "#### Ejercicio 02. Regresión no lineal para optener la energía de activación de una cinética.\n\nLa constante de velocidad intrinseca de una reacción ,depende de la temperatura del sistema. <br>\nLa ecuación que relaciona dicha variables es la siguiente <br>\n\n$$ k = A*e^{\\frac{-E_{a}}{RT}}(1)$$ <br>\n\nDonde k representa la constante de la cinética, Ea la energía de activación, R la constante de los gases y T la temperatura.\n\nRealice una regresión no lineal de la forma\n\n$$ k = A*e^{\\frac{-A}{T}}(1)$$ <br>\n\nDonde A = Ea / R.\n\nY apartir de A, obtenga la energía de activación.\n\nDatos: https://raw.githubusercontent.com/jeff0994/Qu-00560/master/Datos5.csv"
    },
    {
      "metadata": {},
      "cell_type": "markdown",
      "source": "#### Paso 1. Importe los paquetes necesarios."
    },
    {
      "metadata": {
        "trusted": true
      },
      "cell_type": "code",
      "source": "",
      "execution_count": null,
      "outputs": []
    },
    {
      "metadata": {},
      "cell_type": "markdown",
      "source": "#### Paso 2. Cargue sus datos y define su eje x y y con numpy\n"
    },
    {
      "metadata": {
        "trusted": true
      },
      "cell_type": "code",
      "source": "",
      "execution_count": null,
      "outputs": []
    },
    {
      "metadata": {},
      "cell_type": "markdown",
      "source": "#### Paso 3.  Definir función en Python"
    },
    {
      "metadata": {
        "trusted": true
      },
      "cell_type": "code",
      "source": "",
      "execution_count": null,
      "outputs": []
    },
    {
      "metadata": {},
      "cell_type": "markdown",
      "source": "####  Paso 4. Optimización"
    },
    {
      "metadata": {
        "trusted": true
      },
      "cell_type": "code",
      "source": "",
      "execution_count": null,
      "outputs": []
    },
    {
      "metadata": {},
      "cell_type": "markdown",
      "source": "#### Paso 5. Optenga los parámetros y los extras.\nCon los extras, obtenga la incertidumbre del parámetro.\n\nRecuerda? perr =np.sqrt(np.diag(extras))"
    },
    {
      "metadata": {
        "trusted": true
      },
      "cell_type": "code",
      "source": "",
      "execution_count": null,
      "outputs": []
    },
    {
      "metadata": {},
      "cell_type": "markdown",
      "source": "#### Paso 6. Grafique con matplotlib"
    },
    {
      "metadata": {},
      "cell_type": "markdown",
      "source": "#### Ejercicio 03. Regresión no lineal para optener los parámetros de viscosidad para mezclas propanol-agua.\n\nLa viscosidad de un mezcla, puede modelarse con la siguiente ecuación\n\n$$ {\\eta} = Ct -\\frac{D}{t}$$\n\nDonde  $ {\\eta}$ representa la viscosidad de la mezcla y t el tiempo de caída dentro del capilar del viscosímetro."
    },
    {
      "metadata": {},
      "cell_type": "markdown",
      "source": "A continuación se le proveen datos, tomados de laboratorio"
    },
    {
      "metadata": {
        "trusted": true
      },
      "cell_type": "code",
      "source": "#En unidades SI\nviscosidades = [0.002083920136 , 0.00218444643 , 0.002550096351 , 0.002784608625 , 0.002617412841 , 0.001947641929 , 0.000933]\ntiempos = [179.18 , 185.98 , 210.7 , 220.62 , 198.49 , 141.04 , 64.29]\n\n# En (g/mL)\ndensidades = [0.7995 , 0.8074 , 0.8320 , 0.8677 , 0.9065 , 0.9493 , 0.9976]",
      "execution_count": null,
      "outputs": []
    },
    {
      "metadata": {},
      "cell_type": "markdown",
      "source": "A partir de una regresión no lineal obtenga los parámetros C y D junt con sus incertidumbres.\n\nUn modelo mas preciso es el siguiente\n\n$$ {\\eta} = \\rho tA -\\frac{B\\rho}{t}$$\n\nEs decir , de la primera regresión, en realidad usted tiene que\n\n$C = \\rho * A$ <br>\n$D = \\rho * B$ <br>"
    },
    {
      "metadata": {},
      "cell_type": "markdown",
      "source": "1.  A partir de de los datos C y D que encontró y cada una de las densidades reportadas, encuentre los valores de A y B para cada una de las 7 densidades ( numpy array lo hace sencillo)\n\nTIP. Las densidades están en g/mL, primero conviertalas a unidades SI, es decir kg/m^3\n\n\n2. A y B son constantes, por lo tanto los datos de  A y B deberían ser similares. Reporte el valor promedio de A y B y así mismo determine su desviación estandar ( Recuerde, esto se puede hacer con numpy). Da cero?\n\n3. Suponga que la incertidumbre de las densidades en g/mL era de 0.0002 g /mL, pase esta cantidad a SI\n\n4. Ya que tiene la incertidumbre de las densidades y la incertidumbres de C y D ( perr de la regresión no lineal), obtenga entonces la incertidumbre de A y B con el paquete uncertainties python.\n\n5. Realice un gráfico con matplotlib\n\nHINT* En forma práctica A = C / $\\rho$ y B = D / $\\rho$ "
    },
    {
      "metadata": {
        "trusted": true
      },
      "cell_type": "markdown",
      "source": "### Fin de Tarea"
    },
    {
      "metadata": {
        "trusted": true
      },
      "cell_type": "code",
      "source": "",
      "execution_count": null,
      "outputs": []
    }
  ],
  "metadata": {
    "kernelspec": {
      "name": "python36",
      "display_name": "Python 3.6",
      "language": "python"
    },
    "language_info": {
      "mimetype": "text/x-python",
      "nbconvert_exporter": "python",
      "name": "python",
      "pygments_lexer": "ipython3",
      "version": "3.6.6",
      "file_extension": ".py",
      "codemirror_mode": {
        "version": 3,
        "name": "ipython"
      }
    }
  },
  "nbformat": 4,
  "nbformat_minor": 2
}