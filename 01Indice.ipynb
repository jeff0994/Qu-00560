{
 "cells": [
  {
   "cell_type": "markdown",
   "metadata": {
    "collapsed": true
   },
   "source": [
    "# Universidad de Costa Rica\n",
    "\n",
    "## Facultad de Ciencias\n",
    "\n",
    "## Escuela de Química\n",
    "\n",
    "## Sección de Fisicoquímica\n",
    "\n",
    "## Qu-0560 Tópicos de Química Física: Herramientas Computacionales para Química\n",
    "\n",
    "### Profesor Gutierrez\n",
    "### Asistente no oficial: Yefry López\n"
   ]
  },
  {
   "cell_type": "markdown",
   "metadata": {},
   "source": [
    "# Contenidos.\n",
    "\n",
    "A continuación se presenta la estructura de esta parte del curso.Corresponde a Python enfocado a aplicaciones para química y así mismo su comparación con otras aplicaciones como Maple, Origin y excel. <br>\n",
    "\n",
    "Cada tema, tendrá su práctica respectiva y tareas a realizar para ayudarle en su aprendizaje. Así mismo habrán enlaces a recursos externos que ampliarán mas los contenidos vistos, en caso de no entender los Jupyter Notebooks acá presentados <br>\n",
    "\n",
    "Indice\n",
    "\n",
    "\n",
    "* [Principios de Python Parte I](https://notebooks.azure.com/jeff0994/libraries/QU-0560/html/02PrincipiosParteI.ipynb)\n",
    "* [Aplicación: Propagación de Incertidumbres](https://notebooks.azure.com/jeff0994/libraries/QU-0560/html/03Aplicaci%C3%B3nC%C3%A1lculoIncertidumbres.ipynb)\n",
    "* [Principios de Python Parte II](https://notebooks.azure.com/jeff0994/libraries/QU-0560/html/04PrincipiosParteII.ipynb)\n",
    "* [Aplicación: Regresiones](https://notebooks.azure.com/jeff0994/libraries/QU-0560/html/05Aplicaci%C3%B3nRegresiones.ipynb)"
   ]
  },
  {
   "cell_type": "code",
   "execution_count": null,
   "metadata": {},
   "outputs": [],
   "source": []
  }
 ],
 "metadata": {
  "kernelspec": {
   "display_name": "Python 3.6",
   "language": "python",
   "name": "python36"
  },
  "language_info": {
   "codemirror_mode": {
    "name": "ipython",
    "version": 3
   },
   "file_extension": ".py",
   "mimetype": "text/x-python",
   "name": "python",
   "nbconvert_exporter": "python",
   "pygments_lexer": "ipython3",
   "version": "3.6.6"
  }
 },
 "nbformat": 4,
 "nbformat_minor": 2
}
