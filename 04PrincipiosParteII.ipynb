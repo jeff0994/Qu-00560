{
  "cells": [
    {
      "metadata": {
        "collapsed": true,
        "trusted": false
      },
      "cell_type": "code",
      "source": "# Universidad de Costa Rica\n\n## Facultad de Ciencias\n\n## Escuela de Química\n\n## Sección de Fisicoquímica\n\n## Qu-0560 Tópicos de Química Física: Herramientas Computacionales para Química\n\n### Profesor Mauricio Gutierrez\n### Asistente no oficial: Yefry López",
      "execution_count": null,
      "outputs": []
    },
    {
      "metadata": {},
      "cell_type": "markdown",
      "source": "# Módulo II Principios de Python\n***\n\n* Expresiones operadores boleanos y operadores de comparación en Python\n* Mencionar algunos ejemplos de Declaraciones Condicionales\n* Mencionar las estructuras de control \"for\" y \"while\" mediante ejemplos gráficos\n* Dicernir las diferencias entre funciones y métodos"
    },
    {
      "metadata": {},
      "cell_type": "markdown",
      "source": ""
    },
    {
      "metadata": {},
      "cell_type": "markdown",
      "source": "Por ahora has aprendido a manejar Python en sus términos mas sencillos... Obvio es de esperar que hagas comparaciones con Excel ,Maple o Origin y te estes preguntando que valor agregado ganamos con Python! Fijo te estas preguntando: <br>\n\n<img src='https://emojipedia-us.s3.dualstack.us-west-1.amazonaws.com/thumbs/72/google/146/thinking-face_1f914.png' alt=\"Jupyter\"  align= \"left\">\n\n\n\"Con excel , puedo manejar columnas de muchas celdas, es super cómodo.... Y que con Python? \"\n\n\n"
    },
    {
      "metadata": {},
      "cell_type": "markdown",
      "source": "Con la pregunta anterior comenzaremos esta parte II del módulo de princpios"
    },
    {
      "metadata": {},
      "cell_type": "markdown",
      "source": "## Strings\n\n__Strings__ es un tipo de primitiva en Python. Es una colección de caracteres. Recuerda que en Python creamos un String usando comillas dobles o comillas simples <br>\n\nEs importante mencionar que los caracteres en Python pueden ser un número, una letra, un signo de exclamación, un espacio etc etc.\n\nPor lo tanto, es útil pensar que en Python un string es una secuencia ordenada de caracteres\n\nPor ejemplo, veamos el siguiente string"
    },
    {
      "metadata": {
        "trusted": true
      },
      "cell_type": "code",
      "source": "my_String = \"Amo estudiar Fisicoquímica\"",
      "execution_count": 3,
      "outputs": []
    },
    {
      "metadata": {},
      "cell_type": "markdown",
      "source": "Vos podes acceder a cada elemento del string o caracter mediante su index.\n\nTIP Siempre en Python los index comienzan a partir 0\n\nSi queres acceder a un elemeno del string usas la siguiente notación\n\nnombre_de_tu_String[index]\n\nDonde index puede ser 0,1,2,3...."
    },
    {
      "metadata": {
        "trusted": true
      },
      "cell_type": "code",
      "source": "#Acceder al primer elemento ( Recuerda index 0)\nmy_String[0]",
      "execution_count": 4,
      "outputs": []
    },
    {
      "metadata": {
        "trusted": true
      },
      "cell_type": "code",
      "source": "#Acceder al segundo (index 1) y tercer elemento (index 2)\nprint(my_String[1])\nprint(my_String[2])",
      "execution_count": 6,
      "outputs": [
        {
          "output_type": "stream",
          "text": "m\no\n",
          "name": "stdout"
        }
      ]
    },
    {
      "metadata": {},
      "cell_type": "markdown",
      "source": "### Ejercicio.\nAcceder al elemento número 6 de my_string\n"
    },
    {
      "metadata": {},
      "cell_type": "markdown",
      "source": "Una forma  de acceder al último elemento es usar el index -1\nMira el siguiente ejemplo"
    },
    {
      "metadata": {
        "trusted": true
      },
      "cell_type": "code",
      "source": "my_String[-1]",
      "execution_count": null,
      "outputs": []
    },
    {
      "metadata": {
        "trusted": true
      },
      "cell_type": "code",
      "source": "my_String[-2]",
      "execution_count": null,
      "outputs": []
    },
    {
      "metadata": {
        "trusted": true
      },
      "cell_type": "code",
      "source": "my_String[-3]",
      "execution_count": null,
      "outputs": []
    },
    {
      "metadata": {
        "trusted": true
      },
      "cell_type": "code",
      "source": "Index -1 último elemento\nIndex -2 penultimo elemento\nIndex -3 antepenultimo elemento",
      "execution_count": null,
      "outputs": []
    },
    {
      "metadata": {
        "trusted": true
      },
      "cell_type": "code",
      "source": "Para saber la longitud de tu string podes usar la función len() dentro del parentesis irá el nombre de tu string",
      "execution_count": null,
      "outputs": []
    },
    {
      "metadata": {
        "trusted": true
      },
      "cell_type": "code",
      "source": "len(my_String)",
      "execution_count": 8,
      "outputs": [
        {
          "output_type": "execute_result",
          "execution_count": 8,
          "data": {
            "text/plain": "26"
          },
          "metadata": {}
        }
      ]
    },
    {
      "metadata": {},
      "cell_type": "markdown",
      "source": "my_String tiene 26 caracteres (cotando números, letras , espacios etc etc)"
    },
    {
      "metadata": {},
      "cell_type": "markdown",
      "source": "### ¿Que sucede si queremos varios caracteres o elementos del string?\n\nUsamos la notación de _slicing__\n\nVeamos varios ejemplos prácticos para entender"
    },
    {
      "metadata": {
        "trusted": true
      },
      "cell_type": "code",
      "source": "my_String_2 = \"Equilibrio Químico\"",
      "execution_count": 10,
      "outputs": []
    },
    {
      "metadata": {},
      "cell_type": "markdown",
      "source": "Si quiero acceder a los primeros tres elementos realizo lo siguiente"
    },
    {
      "metadata": {
        "trusted": true
      },
      "cell_type": "code",
      "source": "my_String_2[0:4]",
      "execution_count": 12,
      "outputs": [
        {
          "output_type": "execute_result",
          "execution_count": 12,
          "data": {
            "text/plain": "'Equi'"
          },
          "metadata": {}
        }
      ]
    },
    {
      "metadata": {},
      "cell_type": "markdown",
      "source": "Lo notaste?\nmy_String_2[index donde queres iniciar: index donde queres terminar]\n\nNota que realidad en el ejemplo el valor 4 no cuenta a la hora de que Python presente el resultado final. El 4 en my_String_2[0:4] simplemente muestra a Python , que muestre los caracteres con los index 0,1,2 y 3\n\n'E' tiene index 0\n'q' tiene index 1\n'u' tiene index 2\n'i' tiene indez 3"
    },
    {
      "metadata": {},
      "cell_type": "markdown",
      "source": "Si queremos obtener todos los los caracteres del string desde el inicio hasta el index 5 hacemos lo siguiente"
    },
    {
      "metadata": {
        "trusted": true
      },
      "cell_type": "code",
      "source": "my_String_2[:6]",
      "execution_count": 13,
      "outputs": [
        {
          "output_type": "execute_result",
          "execution_count": 13,
          "data": {
            "text/plain": "'Equili'"
          },
          "metadata": {}
        }
      ]
    },
    {
      "metadata": {},
      "cell_type": "markdown",
      "source": "Viste? Ahora queremos hacer lo mismo, pero comenzar desde el index 3 y llega hasta el fín"
    },
    {
      "metadata": {
        "trusted": true
      },
      "cell_type": "code",
      "source": "my_String_2[3:]",
      "execution_count": 14,
      "outputs": [
        {
          "output_type": "execute_result",
          "execution_count": 14,
          "data": {
            "text/plain": "'ilibrio Químico'"
          },
          "metadata": {}
        }
      ]
    },
    {
      "metadata": {},
      "cell_type": "markdown",
      "source": "### Concatenación de Strings\n\nEn Python podes concatenar strings!\nQue es concatenar? Pues que las strings pueden \"sumarse\" o unirse atravez del signo + de suma\n\nVeamos ejemplos"
    },
    {
      "metadata": {
        "trusted": true
      },
      "cell_type": "code",
      "source": "#Considere los siguientes strings\na = \"Teoría Cinética\"\nb = \" de los gases por Daton\"\n",
      "execution_count": 18,
      "outputs": []
    },
    {
      "metadata": {
        "trusted": true
      },
      "cell_type": "code",
      "source": "#Sea c = a+b\nc = a + b\nprint(c)",
      "execution_count": 19,
      "outputs": [
        {
          "output_type": "stream",
          "text": "Teoría Cinética de los gases por Daton\n",
          "name": "stdout"
        }
      ]
    },
    {
      "metadata": {
        "trusted": true
      },
      "cell_type": "code",
      "source": "Que tal si haces la operación 3*c en la siguiente linea?",
      "execution_count": null,
      "outputs": []
    },
    {
      "metadata": {
        "trusted": true
      },
      "cell_type": "code",
      "source": "3*c",
      "execution_count": 20,
      "outputs": [
        {
          "output_type": "execute_result",
          "execution_count": 20,
          "data": {
            "text/plain": "'Teoría Cinética de los gases por DatonTeoría Cinética de los gases por DatonTeoría Cinética de los gases por Daton'"
          },
          "metadata": {}
        }
      ]
    },
    {
      "metadata": {},
      "cell_type": "markdown",
      "source": "Podes \"auto sumar\" un string para volverla mas compleja\nPor ejemplo"
    },
    {
      "metadata": {
        "trusted": true
      },
      "cell_type": "code",
      "source": "frase = \"Toda ciencia se basa en el método científico.\"",
      "execution_count": 24,
      "outputs": []
    },
    {
      "metadata": {
        "trusted": true
      },
      "cell_type": "code",
      "source": "frase = frase + \" Química usa el método científico, por lo tanto química es una ciencia\"",
      "execution_count": 25,
      "outputs": []
    },
    {
      "metadata": {
        "trusted": true
      },
      "cell_type": "code",
      "source": "frase",
      "execution_count": 26,
      "outputs": [
        {
          "output_type": "execute_result",
          "execution_count": 26,
          "data": {
            "text/plain": "'Toda ciencia se basa en el método científico. Química usa el método científico, por lo tanto química es una ciencia'"
          },
          "metadata": {}
        }
      ]
    },
    {
      "metadata": {},
      "cell_type": "markdown",
      "source": "Lo que hiciste, fue simplemente actualizar la variable __frase__\n\nAl inicio frase era igual a __\"Toda ciencia se basa en el método científico.\"__ <br>\nDespues actualizarse __frase__ como  el contenido original de __frase__ + \" Química usa el método científico, por lo tanto química es una ciencia\" <br>"
    },
    {
      "metadata": {},
      "cell_type": "markdown",
      "source": "## Métodos\n\nUn método es una acción sobre una primitiva. <br>\nCada primitiva tiene sus propios métodos.\nPor lo general los métodos se aplican bastante en strings\n\nLa sintaxis para métodos es nombre variable.nombredelmétodo()\n\nVeamos un ejemplo"
    },
    {
      "metadata": {
        "trusted": true
      },
      "cell_type": "code",
      "source": "d = \"quimica es la ciencia central\"",
      "execution_count": null,
      "outputs": []
    },
    {
      "metadata": {},
      "cell_type": "markdown",
      "source": "Si queremos que la string almacenada en d se convierta totalmente en mayuscula\n\npodemos usar el método upper()"
    },
    {
      "metadata": {
        "trusted": true
      },
      "cell_type": "code",
      "source": "d.upper()",
      "execution_count": null,
      "outputs": []
    },
    {
      "metadata": {
        "trusted": true
      },
      "cell_type": "code",
      "source": "",
      "execution_count": null,
      "outputs": []
    }
  ],
  "metadata": {
    "kernelspec": {
      "name": "python36",
      "display_name": "Python 3.6",
      "language": "python"
    },
    "language_info": {
      "mimetype": "text/x-python",
      "nbconvert_exporter": "python",
      "name": "python",
      "pygments_lexer": "ipython3",
      "version": "3.6.6",
      "file_extension": ".py",
      "codemirror_mode": {
        "version": 3,
        "name": "ipython"
      }
    }
  },
  "nbformat": 4,
  "nbformat_minor": 2
}