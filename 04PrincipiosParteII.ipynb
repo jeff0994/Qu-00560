{
  "nbformat": 4,
  "nbformat_minor": 0,
  "metadata": {
    "kernelspec": {
      "name": "python36",
      "display_name": "Python 3.6",
      "language": "python"
    },
    "language_info": {
      "mimetype": "text/x-python",
      "nbconvert_exporter": "python",
      "name": "python",
      "pygments_lexer": "ipython3",
      "version": "3.6.6",
      "file_extension": ".py",
      "codemirror_mode": {
        "version": 3,
        "name": "ipython"
      }
    },
    "colab": {
      "name": "04PrincipiosParteII.ipynb",
      "provenance": []
    }
  },
  "cells": [
    {
      "cell_type": "markdown",
      "metadata": {
        "trusted": true,
        "id": "5qnc0p2ocDRH"
      },
      "source": [
        "# Universidad de Costa Rica\n",
        "\n",
        "## Facultad de Ciencias\n",
        "\n",
        "## Escuela de Química\n",
        "\n",
        "## Sección de Fisicoquímica\n",
        "\n",
        "## Qu-0560 Tópicos de Química Física: Herramientas Computacionales para Química\n",
        "\n",
        "### Profesor Mauricio Gutiérrez\n",
        "### Asistente no oficial: Yefry López"
      ]
    },
    {
      "cell_type": "markdown",
      "metadata": {
        "id": "DHZDRHspcDRL"
      },
      "source": [
        "# Módulo II Principios de Python\n",
        "***\n",
        "\n",
        "* Introducir los conceptos de las primitivas strings y listas\n",
        "* Aprender sobre los métodos que pueden utilizarse en strings y listas\n",
        "* Comprender el concepto de anidación \n",
        "* Utilizar listas como herramientas para efectuar regresiones en Python"
      ]
    },
    {
      "cell_type": "markdown",
      "metadata": {
        "id": "tnX5UIz0cDRM"
      },
      "source": [
        "Por ahora has aprendido a manejar Python en sus términos mas sencillos... Obvio es de esperar que hagas comparaciones con Excel ,Maple o Origin y te estes preguntando que valor agregado ganamos con Python! <br>\n",
        "\n",
        "Fijo te estas preguntando: <br>\n",
        "\n",
        "<img src='https://emojipedia-us.s3.dualstack.us-west-1.amazonaws.com/thumbs/72/google/146/thinking-face_1f914.png' alt=\"Jupyter\"  align= \"left\">\n",
        "\n",
        "\n",
        "__\"Con excel , puedo manejar columnas de muchas celdas, es super cómodo.... Y que con Python? \"__\n",
        "\n",
        "\n"
      ]
    },
    {
      "cell_type": "markdown",
      "metadata": {
        "id": "L8pIuAz7cDRN"
      },
      "source": [
        "Con la pregunta anterior comenzaremos esta Parte II del Módulo de Principios."
      ]
    },
    {
      "cell_type": "markdown",
      "metadata": {
        "id": "A8hurryTcDRO"
      },
      "source": [
        "## Strings\n",
        "\n",
        "__Strings__ es un tipo de primitiva en Python. Es una colección de caracteres. Recuerda que en Python creamos un String usando comillas dobles o comillas simples. <br>\n",
        "\n",
        "Es importante mencionar que los caracteres en Python pueden ser un número, una letra, un signo de exclamación, un espacio etc etc.\n",
        "\n",
        "Por lo tanto, es útil pensar que en Python un string es una secuencia ordenada de caracteres\n",
        "\n",
        "Por ejemplo, veamos el siguiente string"
      ]
    },
    {
      "cell_type": "code",
      "metadata": {
        "trusted": true,
        "id": "Ktmb1FPkcDRP"
      },
      "source": [
        "my_String = \"Amo estudiar Fisicoquímica\""
      ],
      "execution_count": null,
      "outputs": []
    },
    {
      "cell_type": "code",
      "metadata": {
        "trusted": true,
        "id": "g3fMPFyPcDRQ"
      },
      "source": [
        "my_String"
      ],
      "execution_count": null,
      "outputs": []
    },
    {
      "cell_type": "markdown",
      "metadata": {
        "id": "G9Qo85I4cDRR"
      },
      "source": [
        "Vos podes acceder a cada elemento del string o caracter mediante su index. <br>\n",
        "\n",
        "__TIP Siempre en Python los index comienzan a partir 0.__ <br>\n",
        "\n",
        "Si queres acceder a un elemeno del string usas la siguiente notación. <br>\n",
        "\n",
        "nombre_de_tu_String[index] <br>\n",
        "\n",
        "Donde index puede ser 0,1,2,3.... <br>"
      ]
    },
    {
      "cell_type": "code",
      "metadata": {
        "trusted": true,
        "id": "QNcLp4tWcDRS"
      },
      "source": [
        "#Acceder al primer elemento ( Recuerda index 0)\n",
        "my_String[0]"
      ],
      "execution_count": null,
      "outputs": []
    },
    {
      "cell_type": "code",
      "metadata": {
        "trusted": true,
        "id": "LEKpb9dDcDRT"
      },
      "source": [
        "#Acceder al segundo (index 1) y tercer elemento (index 2)\n",
        "print(my_String[1])\n",
        "print(my_String[2])"
      ],
      "execution_count": null,
      "outputs": []
    },
    {
      "cell_type": "markdown",
      "metadata": {
        "id": "32-5yvAUcDRU"
      },
      "source": [
        "### Ejercicio.\n",
        "Acceder al elemento número 6 de my_string\n"
      ]
    },
    {
      "cell_type": "code",
      "metadata": {
        "trusted": true,
        "id": "mCJn7psOcDRV"
      },
      "source": [
        "## Resulve el ejercicio acá"
      ],
      "execution_count": null,
      "outputs": []
    },
    {
      "cell_type": "markdown",
      "metadata": {
        "id": "FrlGkxj-cDRW"
      },
      "source": [
        "Una forma  de acceder al último elemento es usar el index -1\n",
        "Mira el siguiente ejemplo"
      ]
    },
    {
      "cell_type": "code",
      "metadata": {
        "trusted": true,
        "id": "rnAHGzHvcDRW"
      },
      "source": [
        "my_String[-1]"
      ],
      "execution_count": null,
      "outputs": []
    },
    {
      "cell_type": "code",
      "metadata": {
        "trusted": true,
        "id": "PPsGaC3PcDRX"
      },
      "source": [
        "my_String[-2]"
      ],
      "execution_count": null,
      "outputs": []
    },
    {
      "cell_type": "code",
      "metadata": {
        "trusted": true,
        "id": "z2kHAnWbcDRY"
      },
      "source": [
        "my_String[-3]"
      ],
      "execution_count": null,
      "outputs": []
    },
    {
      "cell_type": "markdown",
      "metadata": {
        "trusted": true,
        "id": "gMfO3UfTcDRY"
      },
      "source": [
        "Index -1 último elemento <br>\n",
        "Index -2 penultimo elemento <br>\n",
        "Index -3 antepenultimo elemento <br>\n",
        "\n",
        "Y así sucesivamente. <br>"
      ]
    },
    {
      "cell_type": "markdown",
      "metadata": {
        "trusted": true,
        "id": "SRIv-8V6cDRZ"
      },
      "source": [
        "Para saber la longitud de tu string podes usar la función len() dentro del parentesis irá el nombre de tu string."
      ]
    },
    {
      "cell_type": "code",
      "metadata": {
        "trusted": true,
        "id": "OxHChvRMcDRZ"
      },
      "source": [
        "len(my_String)"
      ],
      "execution_count": null,
      "outputs": []
    },
    {
      "cell_type": "markdown",
      "metadata": {
        "id": "rFAKEHWzcDRa"
      },
      "source": [
        "my_String tiene 26 caracteres (cotando números, letras , espacios etc etc)"
      ]
    },
    {
      "cell_type": "markdown",
      "metadata": {
        "id": "eM1SlAZpcDRa"
      },
      "source": [
        "### ¿Que sucede si queremos varios caracteres o elementos del string?\n",
        "\n",
        "Usamos la notación de __slicing__\n",
        "\n",
        "Veamos varios ejemplos prácticos para entender"
      ]
    },
    {
      "cell_type": "code",
      "metadata": {
        "trusted": true,
        "id": "LmB1El3ZcDRb"
      },
      "source": [
        "my_String_2 = \"Equilibrio Químico\""
      ],
      "execution_count": null,
      "outputs": []
    },
    {
      "cell_type": "markdown",
      "metadata": {
        "id": "3bUNSzyVcDRb"
      },
      "source": [
        "Si quiero acceder a los primeros tres elementos realizo lo siguiente"
      ]
    },
    {
      "cell_type": "code",
      "metadata": {
        "trusted": true,
        "id": "8xqMC3j7cDRc"
      },
      "source": [
        "my_String_2[0:4]"
      ],
      "execution_count": null,
      "outputs": []
    },
    {
      "cell_type": "markdown",
      "metadata": {
        "id": "ghd9WS3qcDRc"
      },
      "source": [
        "Lo notaste? <br>\n",
        "my_String_2[index inicial : index final] <br>\n",
        "\n",
        "Nota que realidad en el ejemplo el valor 4 no cuenta a la hora de que Python presente el resultado final.<br>\n",
        "El 4 en my_String_2[0:4] simplemente muestra a Python , que muestre los caracteres con los index 0,1,2 y 3 <br>\n",
        "<br>\n",
        "\n",
        "'E' tiene index 0 <br>\n",
        "'q' tiene index 1 <br>\n",
        "'u' tiene index 2 <br>\n",
        "'i' tiene indez 3 <br>"
      ]
    },
    {
      "cell_type": "markdown",
      "metadata": {
        "id": "LYSPa8uUcDRd"
      },
      "source": [
        "Si queremos obtener todos los los caracteres del string desde el inicio hasta el index 5 hacemos lo siguiente"
      ]
    },
    {
      "cell_type": "code",
      "metadata": {
        "trusted": true,
        "id": "HBJ1ZWXPcDRe"
      },
      "source": [
        "my_String_2[:6]"
      ],
      "execution_count": null,
      "outputs": []
    },
    {
      "cell_type": "markdown",
      "metadata": {
        "id": "FEumFxercDRe"
      },
      "source": [
        "Viste? Ahora queremos hacer lo mismo, pero comenzar desde el index 3 y llega hasta el fín"
      ]
    },
    {
      "cell_type": "code",
      "metadata": {
        "trusted": true,
        "id": "odvX6DN6cDRf"
      },
      "source": [
        "my_String_2[3:]"
      ],
      "execution_count": null,
      "outputs": []
    },
    {
      "cell_type": "markdown",
      "metadata": {
        "id": "vluJTwswcDRf"
      },
      "source": [
        "### Concatenación de Strings\n",
        "\n",
        "En Python podes concatenar strings!\n",
        "Que es concatenar? Pues que las strings pueden \"sumarse\" o unirse atravez del signo + de suma\n",
        "\n",
        "Veamos ejemplos"
      ]
    },
    {
      "cell_type": "code",
      "metadata": {
        "trusted": true,
        "id": "_GIAlVqLcDRg"
      },
      "source": [
        "#Considere los siguientes strings\n",
        "a = \"Teoría Cinética\"\n",
        "b = \" de los gases por Daton\"\n"
      ],
      "execution_count": null,
      "outputs": []
    },
    {
      "cell_type": "code",
      "metadata": {
        "trusted": true,
        "id": "NsEdadRtcDRg"
      },
      "source": [
        "#Sea c = a+b\n",
        "c = a + b\n",
        "print(c)"
      ],
      "execution_count": null,
      "outputs": []
    },
    {
      "cell_type": "markdown",
      "metadata": {
        "trusted": true,
        "id": "CPs2TUL1cDRg"
      },
      "source": [
        "Que tal si haces la operación 3*c en la siguiente linea?"
      ]
    },
    {
      "cell_type": "code",
      "metadata": {
        "trusted": true,
        "id": "Jfj6GIwHcDRh"
      },
      "source": [
        "3*c"
      ],
      "execution_count": null,
      "outputs": []
    },
    {
      "cell_type": "markdown",
      "metadata": {
        "id": "SOv4SHrgcDRh"
      },
      "source": [
        "Podes \"auto sumar\" un string para volverla mas compleja\n",
        "Por ejemplo"
      ]
    },
    {
      "cell_type": "code",
      "metadata": {
        "trusted": true,
        "id": "vMNV4lg4cDRi"
      },
      "source": [
        "frase = \"Toda ciencia se basa en el método científico.\""
      ],
      "execution_count": null,
      "outputs": []
    },
    {
      "cell_type": "code",
      "metadata": {
        "trusted": true,
        "id": "d7JAKIyGcDRi"
      },
      "source": [
        "frase = frase + \" Química usa el método científico, por lo tanto química es una ciencia\""
      ],
      "execution_count": null,
      "outputs": []
    },
    {
      "cell_type": "code",
      "metadata": {
        "trusted": true,
        "id": "aWUtO-sfcDRj"
      },
      "source": [
        "frase"
      ],
      "execution_count": null,
      "outputs": []
    },
    {
      "cell_type": "markdown",
      "metadata": {
        "id": "dpmP2gFRcDRj"
      },
      "source": [
        "Lo que hiciste, fue simplemente actualizar la variable __frase__\n",
        "\n",
        "Al inicio frase era igual a __\"Toda ciencia se basa en el método científico.\"__ <br>\n",
        "Despues actualizaste __frase__ como  el contenido original de __frase__ + _\" Química usa el método científico, por lo tanto química es una ciencia\"_ <br>"
      ]
    },
    {
      "cell_type": "markdown",
      "metadata": {
        "id": "_MEZf8qxcDRk"
      },
      "source": [
        "## Métodos\n",
        "\n",
        "Un método es una acción sobre una primitiva. <br>\n",
        "Cada primitiva tiene sus propios métodos. <br>\n",
        "Por lo general los métodos se aplican bastante en strings <br>\n",
        "\n",
        "La sintaxis para métodos es nombre variable.nombredelmétodo() <br>\n",
        "<br>\n",
        "Veamos un ejemplo <br>"
      ]
    },
    {
      "cell_type": "code",
      "metadata": {
        "trusted": true,
        "id": "joJM97S7cDRl"
      },
      "source": [
        "d = \"quimica es la ciencia central\""
      ],
      "execution_count": null,
      "outputs": []
    },
    {
      "cell_type": "markdown",
      "metadata": {
        "id": "n9QPgH4ycDRl"
      },
      "source": [
        "Si queremos que la string almacenada en __d__ se convierta totalmente en mayuscula\n",
        "\n",
        "podemos usar el método upper()"
      ]
    },
    {
      "cell_type": "code",
      "metadata": {
        "trusted": true,
        "id": "fBErXL7tcDRm"
      },
      "source": [
        "d.upper()"
      ],
      "execution_count": null,
      "outputs": []
    },
    {
      "cell_type": "markdown",
      "metadata": {
        "trusted": true,
        "id": "2ih9sTQzcDRn"
      },
      "source": [
        "Para ver métodos podes consultar [acá](https://docs.python.org/2/library/string.html)"
      ]
    },
    {
      "cell_type": "markdown",
      "metadata": {
        "id": "mUQQ1VMLcDRn"
      },
      "source": [
        "Por ejemplo si querés Capitalizar la string __d__ "
      ]
    },
    {
      "cell_type": "code",
      "metadata": {
        "trusted": true,
        "id": "a0Q0S-kOcDRn"
      },
      "source": [
        "d.capitalize()"
      ],
      "execution_count": null,
      "outputs": []
    },
    {
      "cell_type": "markdown",
      "metadata": {
        "id": "dK9VDQtGcDRo"
      },
      "source": [
        "Viste? Ahora bién que pasa si le preguntamos a Python cual es el string d"
      ]
    },
    {
      "cell_type": "code",
      "metadata": {
        "trusted": true,
        "id": "AO55lz_FcDRo"
      },
      "source": [
        "d"
      ],
      "execution_count": null,
      "outputs": []
    },
    {
      "cell_type": "markdown",
      "metadata": {
        "id": "2KZ21iCOcDRp"
      },
      "source": [
        "Notaste algo? <br>\n",
        "\n",
        "La string está como al inicio! No ha cambiado nada! Los métodos por definición no cambian el valor de la variable original,simplememente te muestran en pantalla el valor al aplicarle el método....<br>\n",
        "\n",
        "Mira el método como una pregunta! Le decís a Python, hey Python como se ve la string   __\"quimica es la ciencia central\" capitalizada__ ... <br>\n",
        "\n",
        "Entonces Python te responde: La string capitalizada es __'Quimica es la ciencia central'__ <br> y listo, no hay ningún cambio en la variable. <br>"
      ]
    },
    {
      "cell_type": "markdown",
      "metadata": {
        "id": "9Ry_joHdcDRp"
      },
      "source": [
        "Para guardar el valor que te tira el método, tenés que definir una variable... Por ejemplo"
      ]
    },
    {
      "cell_type": "code",
      "metadata": {
        "trusted": true,
        "id": "agpDmgjJcDRq"
      },
      "source": [
        "e = d.capitalize()"
      ],
      "execution_count": null,
      "outputs": []
    },
    {
      "cell_type": "code",
      "metadata": {
        "trusted": true,
        "id": "qtTYrkdWcDRr"
      },
      "source": [
        "e"
      ],
      "execution_count": null,
      "outputs": []
    },
    {
      "cell_type": "markdown",
      "metadata": {
        "id": "ugaRGDdrcDRs"
      },
      "source": [
        "Veamos que hicimos en las últimas dos celdas\n",
        "\n",
        "Le preguntamos a Python ... hey Python como se ve la string __d__ capitalizada... Y guardala en la variable __e__ para tenerla en caso de querer usarla <br>\n",
        "\n",
        "Comparemos <br>"
      ]
    },
    {
      "cell_type": "code",
      "metadata": {
        "trusted": true,
        "id": "W-zyXFDvcDRs"
      },
      "source": [
        "print(d)\n",
        "print(e)"
      ],
      "execution_count": null,
      "outputs": []
    },
    {
      "cell_type": "markdown",
      "metadata": {
        "id": "eFml-UqWcDRt"
      },
      "source": [
        "#### Repaso\n",
        "\n",
        "Para repasar te dejamos este [video](http://videos.bigdatauniversity.com/PY0101EN/videos/PY0101EN%20-%20String%20Operations.mp4)"
      ]
    },
    {
      "cell_type": "markdown",
      "metadata": {
        "id": "Nt1PtRtwcDRt"
      },
      "source": [
        "## Listas \n",
        "\n",
        "Te estarás preguntando... <br>\n",
        "\n",
        "Por que rayos aprendendimos métodos y operaciones con strings! <br>\n",
        "\n",
        "Tu consulta es entendible! La razón es que nos permite introducir  el concepto __listas__ y sus aplicaciones. <br>\n",
        "\n",
        "Volvamos a nuestra analogía con excel y la calculadora cuesta de pollos... Por ahora en Python podes manejar variables, hacer ecuaciones mas o menos complicadas y listo.... <br>\n",
        "\n",
        "Sí lo comparamos con Excel,en específico con sus columnas de celdas, donde podes trabajar con conjuntos de datos de forma cómoda, pues Python se queda corto por ahora... Digo con excel podes marcar un conjunto de celdas que podes llamar X y otro conjunto de celdas Y y hacer una gráfica lineal y sacar el $R^{2}$ de ajuste.... <br> Y en Python si acaso por ahora manejamos una sóla variable o dato, lo que vendría ser una celda de Excel :( <br>\n",
        "\n",
        "Pues bíen con la estructura de datos para Python llamada __lista__ podemos manejar conjunto de datos de forma cómoda. <br>"
      ]
    },
    {
      "cell_type": "markdown",
      "metadata": {
        "id": "V30NpJE0cDRu"
      },
      "source": [
        "Las listas son estructuras de datos compuestas ,puesden estar compuestas por distintas primitivas:\n",
        "\n",
        "* Un conjunto de enteros o interger\n",
        "* Un conjunto de números reales o floats\n",
        "* Un conjunto de strings \n",
        "* Una combinación de los anteriores\n",
        "\n",
        "Las __listas__ son una secuencia ordenadas de elementos encerrada por paréntesis cuadrados, cada elemento separado por coma ( imaginátelo como una columna de excel, donde cada elemento representa una celda)\n",
        "\n",
        "Por ejemplo, hagamos una lista con los valores 1 ,2, ,3 <br>\n",
        "\n",
        "Corre las siguientes celdas <br>"
      ]
    },
    {
      "cell_type": "code",
      "metadata": {
        "trusted": true,
        "id": "995oDS7RcDRx"
      },
      "source": [
        "lista = [1 , 2 , 3]"
      ],
      "execution_count": null,
      "outputs": []
    },
    {
      "cell_type": "code",
      "metadata": {
        "trusted": true,
        "id": "KFxN6RcJcDRx"
      },
      "source": [
        "lista"
      ],
      "execution_count": null,
      "outputs": []
    },
    {
      "cell_type": "markdown",
      "metadata": {
        "id": "lcwyXk0ycDRy"
      },
      "source": [
        "Para crear una lista, pones los elementos entre paréntesis cuadrados y cada elemento separado por coma."
      ]
    },
    {
      "cell_type": "markdown",
      "metadata": {
        "id": "XkPefNiRcDRz"
      },
      "source": [
        "Veamos un nuevo ejemplo con Excel"
      ]
    },
    {
      "cell_type": "markdown",
      "metadata": {
        "trusted": true,
        "id": "3DiBuPgGcDRz"
      },
      "source": [
        "![presion-volumen.PNG](attachment:presion-volumen.PNG)\n",
        "\n",
        "** Fuente Primer examen de Fisicoquímica I, Segundo Ciclo del 2016, Dr. Erick Castellón.\n",
        "\n"
      ]
    },
    {
      "cell_type": "markdown",
      "metadata": {
        "trusted": true,
        "id": "mybxuiytcDR0"
      },
      "source": [
        "En la Hoja de Excel anterior, podes ver dos columnas. En la columna  C de la celda 3 a la 9 tenes una lista de datos de volúmenes de Argón. Por otro lado para la columna D, de la celda 3 a la 9 tenes una lista de datos para presiones. <br>\n",
        "\n",
        "En Python podes guardar esos set de datos usando __listas__. <br>\n",
        "\n",
        "Vamos a definir dos listas, una lista llamada __volumen__ que almacenará los datos de volumen y otra lista llamada presión que tendrá las presiones! <br>"
      ]
    },
    {
      "cell_type": "code",
      "metadata": {
        "trusted": true,
        "id": "Dz35h_RfcDR1"
      },
      "source": [
        "presion = [8.99 , 17.65 , 34.10 , 41.92 , 49.50 , 58.86 , 64.02]\n",
        "volumen = [2.000 , 1.000 , 0.500 , 0.400 , 0.333 , 0.286 , 0.250]"
      ],
      "execution_count": null,
      "outputs": []
    },
    {
      "cell_type": "markdown",
      "metadata": {
        "id": "JeQG_87ycDR2"
      },
      "source": [
        "Listo! Ya tenemos nuestras dos listas!\n",
        "\n",
        "Ojo! Recuerda que en Python el punto decimal se representa por PUNTO y no por coma\n",
        "Recuerda que una lista va entre paréntesis cuadrados y así mismo cada dato se separa con COMA."
      ]
    },
    {
      "cell_type": "code",
      "metadata": {
        "trusted": true,
        "id": "856DNvh5cDR3"
      },
      "source": [
        "## Preguntemos por el tipo o type de la lista volumen y lista presion\n",
        "\n",
        "print(type(volumen))\n",
        "print(type(presion))"
      ],
      "execution_count": null,
      "outputs": []
    },
    {
      "cell_type": "markdown",
      "metadata": {
        "id": "-SYjQcrYcDR5"
      },
      "source": [
        "## Index en listas\n",
        "\n",
        "Al igual que las strings, podes acceder a cada elemento de la lista mediante index o índices.<br>\n",
        "Recuerda que comenzamos en __index 0__ como primer elemento.<br>\n",
        "\n",
        "Por ejemplo si querés acceder al primer volumen de argon, usas la siguiente notación:<br>\n",
        "\n",
        "* volumen[0] Primer elemento de volumen<br>\n",
        "* volumen[1] segundo elemento de volumen<br>\n",
        "* volumen[2] tercer elemento de voluman<br>"
      ]
    },
    {
      "cell_type": "code",
      "metadata": {
        "trusted": true,
        "id": "V08w8d-bcDR5"
      },
      "source": [
        "volumen[0]"
      ],
      "execution_count": null,
      "outputs": []
    },
    {
      "cell_type": "code",
      "metadata": {
        "trusted": true,
        "id": "pHnQQxo1cDR6"
      },
      "source": [
        "volumen[1]"
      ],
      "execution_count": null,
      "outputs": []
    },
    {
      "cell_type": "code",
      "metadata": {
        "trusted": true,
        "id": "z0KlFJ5ecDR6"
      },
      "source": [
        "volumen[2]"
      ],
      "execution_count": null,
      "outputs": []
    },
    {
      "cell_type": "markdown",
      "metadata": {
        "id": "s6Zp5F32cDR6"
      },
      "source": [
        "Sí quieres los primero tres elementos, usamos volumen[inicio:fin].\n",
        "\n",
        "Donde __inicio__ y __fin__ representan los index de interés\n"
      ]
    },
    {
      "cell_type": "code",
      "metadata": {
        "trusted": true,
        "id": "g2XndXK7cDR7"
      },
      "source": [
        "volumen[0:3]"
      ],
      "execution_count": null,
      "outputs": []
    },
    {
      "cell_type": "markdown",
      "metadata": {
        "id": "Qgd0gEavcDR7"
      },
      "source": [
        "Cuantos elementos tiene la lista presión? Podemos usar el uso de la función len()"
      ]
    },
    {
      "cell_type": "code",
      "metadata": {
        "trusted": true,
        "id": "1F_5MbYlcDR8"
      },
      "source": [
        "len(presion)"
      ],
      "execution_count": null,
      "outputs": []
    },
    {
      "cell_type": "markdown",
      "metadata": {
        "id": "SJ1802lRcDR8"
      },
      "source": [
        "Recuerda que podes usar la notación de index negativo para acceder los elementos de la lista.\n",
        "Siendo -1 el último, -2 el penultimo y sucesivamente"
      ]
    },
    {
      "cell_type": "code",
      "metadata": {
        "trusted": true,
        "id": "TY1ldn1bcDR8"
      },
      "source": [
        "volumen[-1]"
      ],
      "execution_count": null,
      "outputs": []
    },
    {
      "cell_type": "code",
      "metadata": {
        "trusted": true,
        "id": "ipQnMWVhcDR9"
      },
      "source": [
        "volumen[-2]"
      ],
      "execution_count": null,
      "outputs": []
    },
    {
      "cell_type": "markdown",
      "metadata": {
        "id": "pAH-w3pNcDR9"
      },
      "source": [
        "Al igual que las primitivas __strings__ , las __listas__ pueden concatenarse o sumarse"
      ]
    },
    {
      "cell_type": "code",
      "metadata": {
        "trusted": true,
        "id": "MhmHDv5BcDR-"
      },
      "source": [
        "presion = presion + [0.150]"
      ],
      "execution_count": null,
      "outputs": []
    },
    {
      "cell_type": "markdown",
      "metadata": {
        "id": "jWtX71DacDR-"
      },
      "source": [
        "En la anterior celda, a la lista presión le agregamos una lista [0.150] que sólo tiene un elemento.\n",
        "Luego lo guardamos en la misma variable contenedora __presion__ "
      ]
    },
    {
      "cell_type": "code",
      "metadata": {
        "trusted": true,
        "id": "hbfVHnuIcDR-"
      },
      "source": [
        "presion"
      ],
      "execution_count": null,
      "outputs": []
    },
    {
      "cell_type": "markdown",
      "metadata": {
        "id": "SYQuRd3TcDR_"
      },
      "source": [
        "Al correr la lista anterior, si la comparamos con la lista presion original [2.0, 1.0, 0.5, 0.4, 0.333, 0.286, 0.25, 0.15] un \n",
        "nuevo elemento se ha agregado para forma la lista actualizada <br>\n",
        "\n",
        "presion = [2.0, 1.0, 0.5, 0.4, 0.333, 0.286, 0.25, 0.15]\n"
      ]
    },
    {
      "cell_type": "markdown",
      "metadata": {
        "id": "atSu6Z5vcDR_"
      },
      "source": [
        "## Listas dentro de otras listas: Un arreglo muldimensional o matrices\n",
        "\n",
        "En excel podemos trabajar con dos o tres columnas a la vez! Con las listas de Python podemos realizar lo mismo, creando una lista dentro de otra lista, esto se llama __anidación__ <br>\n",
        "\n",
        "Por ejemplo , tenemos la lista <br>\n",
        "\n",
        "listaA = [0 , 1 , 3] <br>\n",
        "listaB = [4 , 5 , 6] <br>\n",
        "\n",
        "Podemos crear una lista C con dod elementos. El primer elemento es la lista A y el segundo elemento es la lista B <br>\n",
        "Recuerda leer los comentarios en la líneas de código <br>"
      ]
    },
    {
      "cell_type": "code",
      "metadata": {
        "trusted": true,
        "id": "Wl1201H8cDSA"
      },
      "source": [
        "#Declaramos la primer lista con los elementos 0,1 y 2\n",
        "listaA = [0 , 1 , 2]\n",
        "#Declaramos la segunda lista con los elementos 3,4 y 5\n",
        "listaB = [3 , 4 , 5]\n",
        "\n",
        "#Declaramos la lista C con dos elementos: listaA y listaB \n",
        "listaC = [listaA , listaB]"
      ],
      "execution_count": null,
      "outputs": []
    },
    {
      "cell_type": "code",
      "metadata": {
        "trusted": true,
        "id": "Oo0bjV-ecDSA"
      },
      "source": [
        "#Corre esta celda\n",
        "\n",
        "listaC"
      ],
      "execution_count": null,
      "outputs": []
    },
    {
      "cell_type": "markdown",
      "metadata": {
        "trusted": true,
        "id": "FsCoagpjcDSB"
      },
      "source": [
        "La listaC se compone por dos elementos: La listaA y listaB y a su vez la listaA y listaB tienen tres elementos."
      ]
    },
    {
      "cell_type": "markdown",
      "metadata": {
        "id": "KRQETV9UcDSB"
      },
      "source": [
        "Si querés acceder al primer elememento de la lista C, usas la misma notación index\n",
        "\n",
        "* listaC[0] acceder al primer elemento\n",
        "* listaC[1] acceder al segundo elemento"
      ]
    },
    {
      "cell_type": "code",
      "metadata": {
        "trusted": true,
        "id": "HziNQ8sGcDSB"
      },
      "source": [
        "#Corre la siguiente celda\n",
        "listaC[0]"
      ],
      "execution_count": null,
      "outputs": []
    },
    {
      "cell_type": "code",
      "metadata": {
        "trusted": true,
        "id": "fT_nUqq4cDSC"
      },
      "source": [
        "#Corre la siguiente celda\n",
        "listaC[1]"
      ],
      "execution_count": null,
      "outputs": []
    },
    {
      "cell_type": "markdown",
      "metadata": {
        "id": "p4Zovjq8cDSD"
      },
      "source": [
        "Al acceder al primer elemento, Python te tira dicho primer elemento que es una lista. <br>\n",
        "Lo mismo sucede con el segundo elemento.<br>\n",
        "<br>\n",
        "Recuerda que podes hacer uso de la notación index -1,-2 para acceder a los últimos elementos. <br>"
      ]
    },
    {
      "cell_type": "markdown",
      "metadata": {
        "id": "eX1b2_0CcDSD"
      },
      "source": [
        "¿Como hago para acceder a los elementos de una lista que está dentro de otra lista?<br>\n",
        "Por ejemplo en el caso anterior, si le pregunto a Python listaC[0] se que Python no va responder que el primer elemento de la lista es la lista [0 , 1 , 2] <br>\n",
        "<br>\n",
        "Pero y sí a su vez, quiero acceder a los elementos de la listaA?\n",
        "<br>\n",
        "Usamos la notación index con doble paréntesis cuadrado [i][j] <br>\n",
        "\n",
        "Donde __i__ representa el index del elemento de la lista principal que queremos acceder <br>\n",
        "Donde __j__ representa el index del elemento de la lista anidada o lista interna <br>\n",
        "<br>\n",
        "Por ejemplo, mira la siguinete lista <br>"
      ]
    },
    {
      "cell_type": "code",
      "metadata": {
        "trusted": true,
        "id": "9tNFSwW2cDSE"
      },
      "source": [
        "listaD = [[10 , 11 , 12 ],[ 14 , 15 , 16 ] ,[17 , 18 , 19] ]"
      ],
      "execution_count": null,
      "outputs": []
    },
    {
      "cell_type": "markdown",
      "metadata": {
        "id": "LXfpxH6McDSE"
      },
      "source": [
        "En la anterior __listaD__ es una lista que tiene tres elementos: Cada elemento es una lista."
      ]
    },
    {
      "cell_type": "code",
      "metadata": {
        "trusted": true,
        "id": "nYbnQrCpcDSE"
      },
      "source": [
        "#Preguntemos por la cantidad de elementos\n",
        "len(listaD)"
      ],
      "execution_count": null,
      "outputs": []
    },
    {
      "cell_type": "code",
      "metadata": {
        "trusted": true,
        "id": "5lCW1GHycDSF"
      },
      "source": [
        "#Preguntemos por el elemento 1 de la listaD\n",
        "listaD = [0]"
      ],
      "execution_count": null,
      "outputs": []
    },
    {
      "cell_type": "code",
      "metadata": {
        "trusted": true,
        "id": "sL8JMhTKcDSG"
      },
      "source": [
        "#Preguntemos por el elemento 2 de la listaD\n",
        "listaD = [1]"
      ],
      "execution_count": null,
      "outputs": []
    },
    {
      "cell_type": "code",
      "metadata": {
        "trusted": true,
        "id": "vHhToqLdcDSG"
      },
      "source": [
        "#Preguntemos por el elemento 3 de la listaD\n",
        "listaD = [2]"
      ],
      "execution_count": null,
      "outputs": []
    },
    {
      "cell_type": "markdown",
      "metadata": {
        "id": "qfnD5EFxcDSG"
      },
      "source": [
        "Ahora queremos acceder a los elementos de las tres listas internas de la listaD <br>\n",
        "<br>\n",
        "Si queremos ubicar al primer elemento de la listaD que es la lista [10 , 11 , 12 ] y a su vez el primer elemento __10__ de dicha\n",
        "lista realizamos lo siguiente: <br>"
      ]
    },
    {
      "cell_type": "code",
      "metadata": {
        "trusted": true,
        "id": "RfVG0hFXcDSH"
      },
      "source": [
        "listaD[0][0]"
      ],
      "execution_count": null,
      "outputs": []
    },
    {
      "cell_type": "markdown",
      "metadata": {
        "id": "MzQl8JutcDSK"
      },
      "source": [
        "Para el elemento cuyo valor es 11"
      ]
    },
    {
      "cell_type": "code",
      "metadata": {
        "trusted": true,
        "id": "FvURG40scDSK"
      },
      "source": [
        "listaD[0][1]"
      ],
      "execution_count": null,
      "outputs": []
    },
    {
      "cell_type": "markdown",
      "metadata": {
        "id": "BSm0DV0acDSL"
      },
      "source": [
        "Para elemento cuyo valor es 12"
      ]
    },
    {
      "cell_type": "code",
      "metadata": {
        "trusted": true,
        "id": "XLOfqEvkcDSL"
      },
      "source": [
        "listaD[0][2]"
      ],
      "execution_count": null,
      "outputs": []
    },
    {
      "cell_type": "markdown",
      "metadata": {
        "id": "pixf39DacDSM"
      },
      "source": [
        "![recortelistas.PNG](attachment:recortelistas.PNG)"
      ]
    },
    {
      "cell_type": "markdown",
      "metadata": {
        "trusted": true,
        "id": "kWHcAFIqcDSM"
      },
      "source": [
        "Para ejemplicar! <br>\n",
        "Que pasa si queremos obtener el valor 18 de la listaD <br>\n",
        "\n",
        "Pues bien nuestro primer párentesis cuadrado tendrá el index 2 pues el valor 18 se encuentra en la tercera lista que conforma \n",
        "listaD <br>\n",
        "\n",
        "El segundo paréntesis cuadrado tendrá index 1 , pues 18 se encuentra en la posición 1 de dicha lista [17,18,19]"
      ]
    },
    {
      "cell_type": "code",
      "metadata": {
        "trusted": true,
        "id": "5JYedpYkcDSN"
      },
      "source": [
        "listaD[2][1]"
      ],
      "execution_count": null,
      "outputs": []
    },
    {
      "cell_type": "markdown",
      "metadata": {
        "trusted": true,
        "id": "f9DMhA_jcDSN"
      },
      "source": [
        "Podes hacer lo mismo con el valor 16?"
      ]
    },
    {
      "cell_type": "code",
      "metadata": {
        "trusted": true,
        "id": "2oGr7Yf-cDSN"
      },
      "source": [
        "#Haz el ejercicio acá"
      ],
      "execution_count": null,
      "outputs": []
    },
    {
      "cell_type": "markdown",
      "metadata": {
        "id": "gfqPvRPDcDSO"
      },
      "source": [
        "\n",
        "Para ejemplificar mas veamos el siguiente ejemplo para la Cinética de Reloj de Yoduro-Persulfato que estudiadarás en Fisicoquímica II"
      ]
    },
    {
      "cell_type": "markdown",
      "metadata": {
        "id": "lxd5BOThcDSO"
      },
      "source": [
        "![reloj-yodo.PNG](attachment:reloj-yodo.PNG)\n",
        "\n",
        "* Fuente Laboratorio de Fisicoquímica II , II-2015. Datos tomados por Johana Ng, Yefry Lopez y Roy Solís"
      ]
    },
    {
      "cell_type": "markdown",
      "metadata": {
        "id": "YAJ5m7lVcDSO"
      },
      "source": [
        "En el anterior tabla de excel tenemos tres columnas que representan \n",
        "\n",
        "* logaritmo natural de KI\n",
        "* logaritmo natural de persulfato de sodio\n",
        "* logaritmo natural de rapidez\n",
        "\n",
        "Las mediciones corresponden a un experimento de cinética, que pretende determinar el orden de reacción y la constante de velocidad de la reacción. De tus clases de Química II, recordarás que la ley de velocidad para cierto reactivo A y reactivo B está dada por\n",
        "\n",
        "$$ v = k[A]^{m}[B]^{n} (1)$$\n",
        "\n",
        "Sí a la ecuación (1) le aplicamos logaritmo natural a ambos lados de la igualdad\n",
        "$$ ln(v) = ln(k[A]^{m}[B]^{n}) (2)$$\n",
        "\n",
        "Ahora aplicamos propiedades de logarimo para obtener\n",
        "$$ ln(v) = ln(k) + mln([A]) + mln([B]) (3)$$\n",
        "\n",
        "Y sí en lugar A y B tenemos persulfato de sodio y yoduro de potasio tenemos\n",
        "$$ ln(v) = ln(k) + mln([KI]) + nln([Na_{2}S_{2}O_{8}]) (4)$$\n",
        "\n",
        "La ecuación (4) tiene forma de un plano... Por lo tanto sí haces una gráfica de logaritmo de velocidades contra logaritmo de concentraciones, podemos determinar los parámetros m y n\n"
      ]
    },
    {
      "cell_type": "markdown",
      "metadata": {
        "id": "KGMD78YLcDSP"
      },
      "source": [
        "Te estaraas preguntando... <br>\n",
        "\n",
        "¿Y esto que tiene que ver con listas? <br>\n",
        "\n",
        "Volvamos a Excel! Vos cuando querés hacer una regresión en excel y un gráfico, tenes que señalar los datos de tu variable X o \n",
        "independiente y tu variable Y o variable dependiente.... <br>\n",
        "\n",
        "Por lo tanto, en Python las listas son una excelente forma para contener el set o conjunto de datos de tu alguno de tus ejes <br>\n",
        "\n",
        "Y creo que sabes hacia donde vamos: Hacia regresiones (Análitica Y Fisicoquímica) próxima aplicación! <br>"
      ]
    },
    {
      "cell_type": "markdown",
      "metadata": {
        "id": "qaIH71SDcDSP"
      },
      "source": [
        "#### Ejercicio. \n",
        "De la anterior hoja de excel. Responda lo siguiente <br>\n",
        "\n",
        "* Crea dos listas. <br>\n",
        "* Una llamada __logaritmo_velocidades__ y asignales los valores que ves <br>\n",
        "* La otra lista se llamará __logaritmo_concentraciones__ y tendrá dos elementos.<br>\n",
        "* El primer elemento será una lista que almacenará los valores para el KI <br>\n",
        "* El segundo elemento será una lista que almacenará los valores para el persulfato <br>\n",
        "\n",
        "Tu lista de concentraciones se deberá ver como listaE = [[10 , 11 , 12 ],[ 14 , 15 , 16 ]] <br>\n",
        "Dos listas dentro de una lista. Obvio que que con mas elementos con respecto a listaE <br>"
      ]
    },
    {
      "cell_type": "code",
      "metadata": {
        "trusted": true,
        "id": "MiT3jTHdcDSQ"
      },
      "source": [
        "# Crea la lista  logaritmo_velocidades"
      ],
      "execution_count": null,
      "outputs": []
    },
    {
      "cell_type": "code",
      "metadata": {
        "trusted": true,
        "id": "Yn48lElIcDSQ"
      },
      "source": [
        "# Crea la lista logaritmo_concentraciones"
      ],
      "execution_count": null,
      "outputs": []
    },
    {
      "cell_type": "code",
      "metadata": {
        "trusted": true,
        "id": "HtLkvbKvcDSQ"
      },
      "source": [
        "# Imprime en pantalla la lista logaritmo_concentraciones"
      ],
      "execution_count": null,
      "outputs": []
    },
    {
      "cell_type": "markdown",
      "metadata": {
        "id": "wbSsn-2KcDSR"
      },
      "source": [
        "## Métodos en Listas\n",
        "\n"
      ]
    },
    {
      "cell_type": "markdown",
      "metadata": {
        "trusted": true,
        "id": "m7AEhzjlcDSR"
      },
      "source": [
        "Al igual que las primitivas  __Strings___, las __listas__  tienen sus propios métodos! <br>\n",
        "\n",
        "Pero la gran diferencia es que cuando aplicas un método a una string , la variable que almacena el string no cambia, mientras tanto  las listas sí lo hacen, a eso lo llamamos que las listas son mutables <br>\n",
        "\n",
        "Hagamos un repaso, creemo un string y una lista <br>"
      ]
    },
    {
      "cell_type": "code",
      "metadata": {
        "trusted": true,
        "id": "d5uKyERNcDSS"
      },
      "source": [
        "ejemplo_string = \"Marie Curie\"\n",
        "ejemplo_lista = [ 0 , 1 , 2 ,3 ,4]"
      ],
      "execution_count": null,
      "outputs": []
    },
    {
      "cell_type": "markdown",
      "metadata": {
        "trusted": true,
        "id": "fXjmPOlicDST"
      },
      "source": [
        "Apliquemos el método lower() a la string"
      ]
    },
    {
      "cell_type": "code",
      "metadata": {
        "trusted": true,
        "id": "lxdJlhi_cDST"
      },
      "source": [
        "ejemplo_string.lower()"
      ],
      "execution_count": null,
      "outputs": []
    },
    {
      "cell_type": "markdown",
      "metadata": {
        "trusted": true,
        "id": "IL2oc3k2cDSU"
      },
      "source": [
        "Preguntemos a Python cual es el valor de string.lower()"
      ]
    },
    {
      "cell_type": "code",
      "metadata": {
        "trusted": true,
        "id": "cP16SAL7cDSU"
      },
      "source": [
        "ejemplo_string"
      ],
      "execution_count": null,
      "outputs": []
    },
    {
      "cell_type": "markdown",
      "metadata": {
        "id": "Mfj0FMIPcDSU"
      },
      "source": [
        "Viste? El valor de la variable no sufrio ningún cambio. <br>\n",
        "Veamoslo para la lista con el método .append() ( agregar un nuevo elemento a la lista)"
      ]
    },
    {
      "cell_type": "code",
      "metadata": {
        "trusted": true,
        "id": "l_yWkxbUcDSV"
      },
      "source": [
        "# Con append podes agregar un elemento a la lista, dentro del paréntesis está el valor que querés agregar\n",
        "ejemplo_lista.append(5)"
      ],
      "execution_count": null,
      "outputs": []
    },
    {
      "cell_type": "markdown",
      "metadata": {
        "trusted": true,
        "id": "CD8Utmx4cDSV"
      },
      "source": [
        "Preguntemos a Python cuanto es el valor de lista"
      ]
    },
    {
      "cell_type": "code",
      "metadata": {
        "trusted": true,
        "id": "4GYoRd1ccDSV"
      },
      "source": [
        "ejemplo_lista"
      ],
      "execution_count": null,
      "outputs": []
    },
    {
      "cell_type": "markdown",
      "metadata": {
        "id": "LPIL5zBpcDSW"
      },
      "source": [
        "Lo vés? Las listas pueden cambiar, no es necesario definir una nueva variable como haciamos con strings. <br>\n",
        "Esto se conoce como mutabilidad de las listas. <br>"
      ]
    },
    {
      "cell_type": "markdown",
      "metadata": {
        "id": "XjiWwlQ0cDSW"
      },
      "source": [
        "¿Que sucede si queremos cambiar un valor? Por ejemplo el primer elemento de la lista\n",
        "Veamos un caso"
      ]
    },
    {
      "cell_type": "code",
      "metadata": {
        "trusted": true,
        "id": "2aulGrOxcDSX"
      },
      "source": [
        "ejemplo_lista[0]"
      ],
      "execution_count": null,
      "outputs": []
    },
    {
      "cell_type": "markdown",
      "metadata": {
        "id": "ok7P3BOlcDSX"
      },
      "source": [
        "El valor del elemento 0 de la lista es 0\n",
        "Supongamos que queremos cambiarlo por el valor 18"
      ]
    },
    {
      "cell_type": "code",
      "metadata": {
        "trusted": true,
        "id": "NqaWzVMBcDSY"
      },
      "source": [
        "ejemplo_lista[0] = 18"
      ],
      "execution_count": null,
      "outputs": []
    },
    {
      "cell_type": "markdown",
      "metadata": {
        "id": "Ra8P48JmcDSY"
      },
      "source": [
        "Preguntemos a Python el valor de la lista"
      ]
    },
    {
      "cell_type": "code",
      "metadata": {
        "trusted": true,
        "id": "D2O6WNRkcDSY"
      },
      "source": [
        "ejemplo_lista"
      ],
      "execution_count": null,
      "outputs": []
    },
    {
      "cell_type": "markdown",
      "metadata": {
        "id": "MN45vz3VcDSZ"
      },
      "source": [
        "Y sí, cambiaste el valor del primer elemento que era 0 al valor 18"
      ]
    },
    {
      "cell_type": "markdown",
      "metadata": {
        "id": "_Kh8vRGzcDSa"
      },
      "source": [
        "Con esto terminamos la segunda parte de los principios básicos. <br>\n",
        "\n",
        "Ahora nuestra misión es usarlos para aplicarlos en regresiones y modelos matemáticos! <br>\n",
        "\n",
        "#### Repaso\n",
        "Para repasar podes ver este [video](http://videos.bigdatauniversity.com/PY0101EN/videos/PY0101EN%20-%20Lists%20and%20Tuples.mp4) <br>\n",
        "En dicho video mencionan las __tuples__ que son un conjunto de datos como las listas.  <br>\n",
        "La única diferencia es que las tuples no son mutables. <br>"
      ]
    },
    {
      "cell_type": "markdown",
      "metadata": {
        "id": "4M8gtQGVcDSa"
      },
      "source": [
        "[Volver al Indice](https://notebooks.azure.com/jeff0994/libraries/QU-0560-1-1/html/01Introducci%C3%B3n-Indice.ipynb)"
      ]
    },
    {
      "cell_type": "code",
      "metadata": {
        "trusted": true,
        "id": "0RpR_8vbcDSa"
      },
      "source": [
        ""
      ],
      "execution_count": null,
      "outputs": []
    }
  ]
}