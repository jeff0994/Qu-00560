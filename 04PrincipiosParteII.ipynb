{
  "cells": [
    {
      "metadata": {
        "trusted": true
      },
      "cell_type": "markdown",
      "source": "# Universidad de Costa Rica\n\n## Facultad de Ciencias\n\n## Escuela de Química\n\n## Sección de Fisicoquímica\n\n## Qu-0560 Tópicos de Química Física: Herramientas Computacionales para Química\n\n### Profesor Mauricio Gutierrez\n### Asistente no oficial: Yefry López"
    },
    {
      "metadata": {},
      "cell_type": "markdown",
      "source": "# Módulo II Principios de Python\n***\n\n* Introducir los conceptos de las primitivas strings y listas\n* Aprender sobre los métodos que pueden utilizarse en strings y listas\n* Comprender el concepto de anidación \n* Utilizar listas como herramientas para efectuar regresiones en Python"
    },
    {
      "metadata": {},
      "cell_type": "markdown",
      "source": "Por ahora has aprendido a manejar Python en sus términos mas sencillos... Obvio es de esperar que hagas comparaciones con Excel ,Maple o Origin y te estes preguntando que valor agregado ganamos con Python! <br>\n\nFijo te estas preguntando: <br>\n\n<img src='https://emojipedia-us.s3.dualstack.us-west-1.amazonaws.com/thumbs/72/google/146/thinking-face_1f914.png' alt=\"Jupyter\"  align= \"left\">\n\n\n__\"Con excel , puedo manejar columnas de muchas celdas, es super cómodo.... Y que con Python? \"__\n\n\n"
    },
    {
      "metadata": {},
      "cell_type": "markdown",
      "source": "Con la pregunta anterior comenzaremos esta Parte II del Módulo de Principios."
    },
    {
      "metadata": {},
      "cell_type": "markdown",
      "source": "## Strings\n\n__Strings__ es un tipo de primitiva en Python. Es una colección de caracteres. Recuerda que en Python creamos un String usando comillas dobles o comillas simples. <br>\n\nEs importante mencionar que los caracteres en Python pueden ser un número, una letra, un signo de exclamación, un espacio etc etc.\n\nPor lo tanto, es útil pensar que en Python un string es una secuencia ordenada de caracteres\n\nPor ejemplo, veamos el siguiente string"
    },
    {
      "metadata": {
        "trusted": true
      },
      "cell_type": "code",
      "source": "my_String = \"Amo estudiar Fisicoquímica\"",
      "execution_count": null,
      "outputs": []
    },
    {
      "metadata": {
        "trusted": true
      },
      "cell_type": "code",
      "source": "my_String",
      "execution_count": null,
      "outputs": []
    },
    {
      "metadata": {},
      "cell_type": "markdown",
      "source": "Vos podes acceder a cada elemento del string o caracter mediante su index. <br>\n\n__TIP Siempre en Python los index comienzan a partir 0.__ <br>\n\nSi queres acceder a un elemeno del string usas la siguiente notación. <br>\n\nnombre_de_tu_String[index] <br>\n\nDonde index puede ser 0,1,2,3.... <br>"
    },
    {
      "metadata": {
        "trusted": true
      },
      "cell_type": "code",
      "source": "#Acceder al primer elemento ( Recuerda index 0)\nmy_String[0]",
      "execution_count": null,
      "outputs": []
    },
    {
      "metadata": {
        "trusted": true
      },
      "cell_type": "code",
      "source": "#Acceder al segundo (index 1) y tercer elemento (index 2)\nprint(my_String[1])\nprint(my_String[2])",
      "execution_count": null,
      "outputs": []
    },
    {
      "metadata": {},
      "cell_type": "markdown",
      "source": "### Ejercicio.\nAcceder al elemento número 6 de my_string\n"
    },
    {
      "metadata": {
        "trusted": true
      },
      "cell_type": "code",
      "source": "## Resulve el ejercicio acá",
      "execution_count": null,
      "outputs": []
    },
    {
      "metadata": {},
      "cell_type": "markdown",
      "source": "Una forma  de acceder al último elemento es usar el index -1\nMira el siguiente ejemplo"
    },
    {
      "metadata": {
        "trusted": true
      },
      "cell_type": "code",
      "source": "my_String[-1]",
      "execution_count": null,
      "outputs": []
    },
    {
      "metadata": {
        "trusted": true
      },
      "cell_type": "code",
      "source": "my_String[-2]",
      "execution_count": null,
      "outputs": []
    },
    {
      "metadata": {
        "trusted": true
      },
      "cell_type": "code",
      "source": "my_String[-3]",
      "execution_count": null,
      "outputs": []
    },
    {
      "metadata": {
        "trusted": true
      },
      "cell_type": "markdown",
      "source": "Index -1 último elemento <br>\nIndex -2 penultimo elemento <br>\nIndex -3 antepenultimo elemento <br>\n\nY así sucesivamente. <br>"
    },
    {
      "metadata": {
        "trusted": true
      },
      "cell_type": "markdown",
      "source": "Para saber la longitud de tu string podes usar la función len() dentro del parentesis irá el nombre de tu string."
    },
    {
      "metadata": {
        "trusted": true
      },
      "cell_type": "code",
      "source": "len(my_String)",
      "execution_count": null,
      "outputs": []
    },
    {
      "metadata": {},
      "cell_type": "markdown",
      "source": "my_String tiene 26 caracteres (cotando números, letras , espacios etc etc)"
    },
    {
      "metadata": {},
      "cell_type": "markdown",
      "source": "### ¿Que sucede si queremos varios caracteres o elementos del string?\n\nUsamos la notación de __slicing__\n\nVeamos varios ejemplos prácticos para entender"
    },
    {
      "metadata": {
        "trusted": true
      },
      "cell_type": "code",
      "source": "my_String_2 = \"Equilibrio Químico\"",
      "execution_count": null,
      "outputs": []
    },
    {
      "metadata": {},
      "cell_type": "markdown",
      "source": "Si quiero acceder a los primeros tres elementos realizo lo siguiente"
    },
    {
      "metadata": {
        "trusted": true
      },
      "cell_type": "code",
      "source": "my_String_2[0:4]",
      "execution_count": null,
      "outputs": []
    },
    {
      "metadata": {},
      "cell_type": "markdown",
      "source": "Lo notaste? <br>\nmy_String_2[index inicial : index final] <br>\n\nNota que realidad en el ejemplo el valor 4 no cuenta a la hora de que Python presente el resultado final.<br>\nEl 4 en my_String_2[0:4] simplemente muestra a Python , que muestre los caracteres con los index 0,1,2 y 3 <br>\n<br>\n\n'E' tiene index 0 <br>\n'q' tiene index 1 <br>\n'u' tiene index 2 <br>\n'i' tiene indez 3 <br>"
    },
    {
      "metadata": {},
      "cell_type": "markdown",
      "source": "Si queremos obtener todos los los caracteres del string desde el inicio hasta el index 5 hacemos lo siguiente"
    },
    {
      "metadata": {
        "trusted": true
      },
      "cell_type": "code",
      "source": "my_String_2[:6]",
      "execution_count": null,
      "outputs": []
    },
    {
      "metadata": {},
      "cell_type": "markdown",
      "source": "Viste? Ahora queremos hacer lo mismo, pero comenzar desde el index 3 y llega hasta el fín"
    },
    {
      "metadata": {
        "trusted": true
      },
      "cell_type": "code",
      "source": "my_String_2[3:]",
      "execution_count": null,
      "outputs": []
    },
    {
      "metadata": {},
      "cell_type": "markdown",
      "source": "### Concatenación de Strings\n\nEn Python podes concatenar strings!\nQue es concatenar? Pues que las strings pueden \"sumarse\" o unirse atravez del signo + de suma\n\nVeamos ejemplos"
    },
    {
      "metadata": {
        "trusted": true
      },
      "cell_type": "code",
      "source": "#Considere los siguientes strings\na = \"Teoría Cinética\"\nb = \" de los gases por Daton\"\n",
      "execution_count": null,
      "outputs": []
    },
    {
      "metadata": {
        "trusted": true
      },
      "cell_type": "code",
      "source": "#Sea c = a+b\nc = a + b\nprint(c)",
      "execution_count": null,
      "outputs": []
    },
    {
      "metadata": {
        "trusted": true
      },
      "cell_type": "markdown",
      "source": "Que tal si haces la operación 3*c en la siguiente linea?"
    },
    {
      "metadata": {
        "trusted": true
      },
      "cell_type": "code",
      "source": "3*c",
      "execution_count": null,
      "outputs": []
    },
    {
      "metadata": {},
      "cell_type": "markdown",
      "source": "Podes \"auto sumar\" un string para volverla mas compleja\nPor ejemplo"
    },
    {
      "metadata": {
        "trusted": true
      },
      "cell_type": "code",
      "source": "frase = \"Toda ciencia se basa en el método científico.\"",
      "execution_count": null,
      "outputs": []
    },
    {
      "metadata": {
        "trusted": true
      },
      "cell_type": "code",
      "source": "frase = frase + \" Química usa el método científico, por lo tanto química es una ciencia\"",
      "execution_count": null,
      "outputs": []
    },
    {
      "metadata": {
        "trusted": true
      },
      "cell_type": "code",
      "source": "frase",
      "execution_count": null,
      "outputs": []
    },
    {
      "metadata": {},
      "cell_type": "markdown",
      "source": "Lo que hiciste, fue simplemente actualizar la variable __frase__\n\nAl inicio frase era igual a __\"Toda ciencia se basa en el método científico.\"__ <br>\nDespues actualizaste __frase__ como  el contenido original de __frase__ + _\" Química usa el método científico, por lo tanto química es una ciencia\"_ <br>"
    },
    {
      "metadata": {},
      "cell_type": "markdown",
      "source": "## Métodos\n\nUn método es una acción sobre una primitiva. <br>\nCada primitiva tiene sus propios métodos. <br>\nPor lo general los métodos se aplican bastante en strings <br>\n\nLa sintaxis para métodos es nombre variable.nombredelmétodo() <br>\n<br>\nVeamos un ejemplo <br>"
    },
    {
      "metadata": {
        "trusted": true
      },
      "cell_type": "code",
      "source": "d = \"quimica es la ciencia central\"",
      "execution_count": null,
      "outputs": []
    },
    {
      "metadata": {},
      "cell_type": "markdown",
      "source": "Si queremos que la string almacenada en __d__ se convierta totalmente en mayuscula\n\npodemos usar el método upper()"
    },
    {
      "metadata": {
        "trusted": true
      },
      "cell_type": "code",
      "source": "d.upper()",
      "execution_count": null,
      "outputs": []
    },
    {
      "metadata": {
        "trusted": true
      },
      "cell_type": "markdown",
      "source": "Para ver métodos podes consultar [acá](https://docs.python.org/2/library/string.html)"
    },
    {
      "metadata": {},
      "cell_type": "markdown",
      "source": "Por ejemplo si querés Capitalizar la string __d__ "
    },
    {
      "metadata": {
        "trusted": true
      },
      "cell_type": "code",
      "source": "d.capitalize()",
      "execution_count": null,
      "outputs": []
    },
    {
      "metadata": {},
      "cell_type": "markdown",
      "source": "Viste? Ahora bien que pasa si le preguntamos a Python cual es el string d"
    },
    {
      "metadata": {
        "trusted": true
      },
      "cell_type": "code",
      "source": "d",
      "execution_count": null,
      "outputs": []
    },
    {
      "metadata": {},
      "cell_type": "markdown",
      "source": "Notaste algo? <br>\n\nLa string está como al inicio! No ha cambiado nada! Los métodos por definición no cambian el valor de la variable original,simplememente te muestran en pantalla el valor al aplicarle el método....<br>\n\nMira el método como una pregunta! Le decís a Python, hey Python como se ve la string   __\"quimica es la ciencia central\" capitalizada__ ... <br>\n\nEntonces Python te responde: La string capitalizada es __'Quimica es la ciencia central'__ <br> y listo, no hay ningún cambio en la variable. <br>"
    },
    {
      "metadata": {},
      "cell_type": "markdown",
      "source": "Para guardar el valor que te tira el método, tenés que definir una variable... Por ejemplo"
    },
    {
      "metadata": {
        "trusted": true
      },
      "cell_type": "code",
      "source": "e = d.capitalize()",
      "execution_count": null,
      "outputs": []
    },
    {
      "metadata": {
        "trusted": true
      },
      "cell_type": "code",
      "source": "e",
      "execution_count": null,
      "outputs": []
    },
    {
      "metadata": {},
      "cell_type": "markdown",
      "source": "Veamos que hicimos en las últimas dos celdas\n\nLe preguntamos a Python ... hey Python como se ve la string __d__ capitalizada... Y guardala en la variable __e__ para tenerla en caso de querer usarla <br>\n\nComparemos <br>"
    },
    {
      "metadata": {
        "trusted": true
      },
      "cell_type": "code",
      "source": "print(d)\nprint(e)",
      "execution_count": null,
      "outputs": []
    },
    {
      "metadata": {},
      "cell_type": "markdown",
      "source": "#### Repaso\n\nPara repasar te dejamos este [video](http://videos.bigdatauniversity.com/PY0101EN/videos/PY0101EN%20-%20String%20Operations.mp4)"
    },
    {
      "metadata": {},
      "cell_type": "markdown",
      "source": "## Listas \n\nTe estarás preguntando... <br>\n\nPor que rayos aprendendimos métodos y operaciones con strings! <br>\n\nTu consulta es entendidble! La razón es que nos permite introducir  el concepto __listas__ y sus aplicaciones. <br>\n\nVolvamos a nuestra analogía con excel y la calculadora cuesta de pollos... Por ahora en Pyhton podes manejar variables, hacer ecuaciones mas o menos complicadas y listo.... <br>\n\nSí lo comparamos con Excel,en específico con sus columnas de celdas, donde podes trabajar con conjuntos de datos de forma cómoda, pues Python se queda corto por ahora... Digo con excel podes marcar un conjunto de celdas que podes llamar X y otro conjunto de celdas Y y hacer una gráfica lineal y sacar el $R^{2}$ de ajuste.... <br> Y en Python si acaso por ahora manejamos una sóla variable o dato, lo que vendría ser una celda de Excel :( <br>\n\nPues bíen con la estructura de datos para Python llamada __lista__ podemos manejar conjunto de datos de forma cómoda. <br>"
    },
    {
      "metadata": {},
      "cell_type": "markdown",
      "source": "Las listas son estructuras de datos compuestas ,puesden estar compuestas por distintas primitivas:\n\n* Un conjunto de enteros o interger\n* Un conjunto de números reales o floats\n* Un conjunto de strings \n* Una combinación de los anteriores\n\nLas __listas__ son una secuencia ordenadas de elementos encerrada por paréntesis cuadrados, cada elemento separado por coma ( imaginátelo como una columna de excel, donde cada elemento representa una celda)\n\nPor ejemplo, hagamos una lista con los valores 1 ,2, ,3 <br>\n\nCorre las siguientes celdas <br>"
    },
    {
      "metadata": {
        "trusted": true
      },
      "cell_type": "code",
      "source": "lista = [1 , 2 , 3]",
      "execution_count": null,
      "outputs": []
    },
    {
      "metadata": {
        "trusted": true
      },
      "cell_type": "code",
      "source": "lista",
      "execution_count": null,
      "outputs": []
    },
    {
      "metadata": {},
      "cell_type": "markdown",
      "source": "Para crear una lista, pones los elementos entre paréntesis cuadrados y cada elemento separado por coma."
    },
    {
      "metadata": {},
      "cell_type": "markdown",
      "source": "Veamos un nuevo ejemplo con Excel"
    },
    {
      "metadata": {
        "trusted": true
      },
      "cell_type": "markdown",
      "source": "![presion-volumen.PNG](attachment:presion-volumen.PNG)\n\n** Fuente Primer examen de Fisicoquímica I, Segundo Ciclo del 2016, Dr. Erick Castellón.\n\n",
      "attachments": {
        "presion-volumen.PNG": {
          "image/png": "[encoded data removed]"
        }
      }
    },
    {
      "metadata": {
        "trusted": true
      },
      "cell_type": "markdown",
      "source": "En la Hoja de Excel anterior, podes ver dos columnas. En la columna  C de la celda 3 a la 9 tenes una lista de datos de volúmenes de Argón. Por otro lado para la columna D, de la celda 3 a la 9 tenes una lista de datos para presiones. <br>\n\nEn Python podes guardar esos set de datos usando __listas__. <br>\n\nVamos a definir dos listas, una lista llamada __volumen__ que almacenará los datos de volumen y otra lista llamada presión que tendrá las presiones! <br>"
    },
    {
      "metadata": {
        "trusted": true
      },
      "cell_type": "code",
      "source": "presion = [8.99 , 17.65 , 34.10 , 41.92 , 49.50 , 58.86 , 64.02]\nvolumen = [2.000 , 1.000 , 0.500 , 0.400 , 0.333 , 0.286 , 0.250]",
      "execution_count": null,
      "outputs": []
    },
    {
      "metadata": {},
      "cell_type": "markdown",
      "source": "Listo! Ya tenemos nuestras dos listas!\n\nOjo! Recuerda que en Python el punto decimal se representa por PUNTO y no por coma\nRecuerda que una lista va entre paréntrsis cuadrados y así mismo cada dato se separa con COMA."
    },
    {
      "metadata": {
        "trusted": true
      },
      "cell_type": "code",
      "source": "## Preguntemos por el tipo o type de la lista volumen y lista presion\n\nprint(type(volumen))\nprint(type(presion))",
      "execution_count": null,
      "outputs": []
    },
    {
      "metadata": {},
      "cell_type": "markdown",
      "source": "## Index en listas\n\nAl igual que las strings, podes acceder a cada elemento de la lista mediante index o índices.<br>\nRecuerda que comenzamos en __index 0__ como primer elemento.<br>\n\nPor ejemplo si querés acceder al primer volumen de argon, usas la siguiente notación:<br>\n\n* volumen[0] Primer elemento de volumen<br>\n* volumen[1] segundo elemento de volumen<br>\n* volumen[2] tercer elemento de voluman<br>"
    },
    {
      "metadata": {
        "trusted": true
      },
      "cell_type": "code",
      "source": "volumen[0]",
      "execution_count": null,
      "outputs": []
    },
    {
      "metadata": {
        "trusted": true
      },
      "cell_type": "code",
      "source": "volumen[1]",
      "execution_count": null,
      "outputs": []
    },
    {
      "metadata": {
        "trusted": true
      },
      "cell_type": "code",
      "source": "volumen[2]",
      "execution_count": null,
      "outputs": []
    },
    {
      "metadata": {},
      "cell_type": "markdown",
      "source": "Sí quieres los primero tres elementos, usamos volumen[inicio:fin].\n\nDonde __inicio__ y __fin__ representan los index de interés\n"
    },
    {
      "metadata": {
        "trusted": true
      },
      "cell_type": "code",
      "source": "volumen[0:3]",
      "execution_count": null,
      "outputs": []
    },
    {
      "metadata": {},
      "cell_type": "markdown",
      "source": "Cuantos elementos tiene la lista presión? Podemos usar el uso de la función len()"
    },
    {
      "metadata": {
        "trusted": true
      },
      "cell_type": "code",
      "source": "len(presion)",
      "execution_count": null,
      "outputs": []
    },
    {
      "metadata": {},
      "cell_type": "markdown",
      "source": "Recuerda que podes usar la notación de index negativo para acceder los elementos de la lista.\nSiendo -1 el último, -2 el penultimo y sucesivamente"
    },
    {
      "metadata": {
        "trusted": true
      },
      "cell_type": "code",
      "source": "volumen[-1]",
      "execution_count": null,
      "outputs": []
    },
    {
      "metadata": {
        "trusted": true
      },
      "cell_type": "code",
      "source": "volumen[-2]",
      "execution_count": null,
      "outputs": []
    },
    {
      "metadata": {},
      "cell_type": "markdown",
      "source": "Al igual que las primitivas __strings__ , las __listas__ pueden concatenarse o sumarse"
    },
    {
      "metadata": {
        "trusted": true
      },
      "cell_type": "code",
      "source": "presion = presion + [0.150]",
      "execution_count": null,
      "outputs": []
    },
    {
      "metadata": {},
      "cell_type": "markdown",
      "source": "En la anterior celda, a la lista presión le agregamos una lista [0.150] que sólo tiene un elemento.\nLuego lo guardamos en la misma variable contenedora __presion__ "
    },
    {
      "metadata": {
        "trusted": true
      },
      "cell_type": "code",
      "source": "presion",
      "execution_count": null,
      "outputs": []
    },
    {
      "metadata": {},
      "cell_type": "markdown",
      "source": "Al correr la lista anterior, si la comparamos con la lista presion original [2.0, 1.0, 0.5, 0.4, 0.333, 0.286, 0.25, 0.15] un \nnuevo elemento se ha agregado para forma la lista actualizada <br>\n\npresion = [2.0, 1.0, 0.5, 0.4, 0.333, 0.286, 0.25, 0.15]\n"
    },
    {
      "metadata": {},
      "cell_type": "markdown",
      "source": "## Listas dentro de otras listas: Un arreglo muldimensional o matrices\n\nEn excel podemos trabajar con dos o tres columnas a la vez! Con las listas de Python podemos realizar lo mismo, creando una lista dentro de otra lista, esto se llama __anidación__ <br>\n\nPor ejemplo , tenemos la lista <br>\n\nlistaA = [0 , 1 , 3] <br>\nlistaB = [4 , 5 , 6] <br>\n\nPodemos crear una lista C con dod elementos. El primer elemento es la lista A y el segundo elemento es la lista B <br>\nRecuerda leer los comentarios en la líneas de código <br>"
    },
    {
      "metadata": {
        "trusted": true
      },
      "cell_type": "code",
      "source": "#Declaramos la primer lista con los elementos 0,1 y 2\nlistaA = [0 , 1 , 2]\n#Declaramos la segunda lista con los elementos 3,4 y 5\nlistaB = [3 , 4 , 5]\n\n#Declaramos la lista C con dos elementos: listaA y listaB \nlistaC = [listaA , listaB]",
      "execution_count": null,
      "outputs": []
    },
    {
      "metadata": {
        "trusted": true
      },
      "cell_type": "code",
      "source": "#Corre esta celda\n\nlistaC",
      "execution_count": null,
      "outputs": []
    },
    {
      "metadata": {
        "trusted": true
      },
      "cell_type": "markdown",
      "source": "La listaC se compone por dos elementos: La listaA y listaB y a su vez la listaA y listaB tienen tres elementos."
    },
    {
      "metadata": {},
      "cell_type": "markdown",
      "source": "Si querés acceder al primer elememento de la lista C, usas la misma notación index\n\n* listaC[0] acceder al primer elemento\n* listaC[1] acceder al segundo elemento"
    },
    {
      "metadata": {
        "trusted": true
      },
      "cell_type": "code",
      "source": "#Corre la siguiente celda\nlistaC[0]",
      "execution_count": null,
      "outputs": []
    },
    {
      "metadata": {
        "trusted": true
      },
      "cell_type": "code",
      "source": "#Corre la siguiente celda\nlistaC[1]",
      "execution_count": null,
      "outputs": []
    },
    {
      "metadata": {},
      "cell_type": "markdown",
      "source": "Al acceder al primer elemento, Python te tira dicho primer elemento que es una lista. <br>\nLo mismo sucede con el segundo elemento.<br>\n<br>\nRecuerda que podes hacer uso de la notación index -1,-2 para acceder a los últimos elementos. <br>"
    },
    {
      "metadata": {},
      "cell_type": "markdown",
      "source": "¿Como hago para acceder a los elementos de una lista que está dentro de otra lista?<br>\nPor ejemplo en el caso anterior, si le pregunto a Python listaC[0] se que Python no va responder que el primer elemento de la lista es la lista [0 , 1 , 2] <br>\n<br>\nPero y sí a su vez, quiero acceder a los elementos de la listaA?\n<br>\nUsamos la notación index con doble paréntesis cuadrado [i][j] <br>\n\nDonde __i__ representa el index del elemento de la lista principal que queremos acceder <br>\nDonde __j__ representa el index del elemento de la lista anidada o lista interna <br>\n<br>\nPor ejemplo, mira la siguinete lista <br>"
    },
    {
      "metadata": {
        "trusted": true
      },
      "cell_type": "code",
      "source": "listaD = [[10 , 11 , 12 ],[ 14 , 15 , 16 ] ,[17 , 18 , 19] ]",
      "execution_count": null,
      "outputs": []
    },
    {
      "metadata": {},
      "cell_type": "markdown",
      "source": "En la anterior __listaD__ es una lista que tiene tres elementos: Cada elemento es una lista."
    },
    {
      "metadata": {
        "trusted": true
      },
      "cell_type": "code",
      "source": "#Preguntemos por la cantidad de elementos\nlen(listaD)",
      "execution_count": null,
      "outputs": []
    },
    {
      "metadata": {
        "trusted": true
      },
      "cell_type": "code",
      "source": "#Preguntemos por el elemento 1 de la listaD\nlistaD = [0]",
      "execution_count": null,
      "outputs": []
    },
    {
      "metadata": {
        "trusted": true
      },
      "cell_type": "code",
      "source": "#Preguntemos por el elemento 2 de la listaD\nlistaD = [1]",
      "execution_count": null,
      "outputs": []
    },
    {
      "metadata": {
        "trusted": true
      },
      "cell_type": "code",
      "source": "#Preguntemos por el elemento 3 de la listaD\nlistaD = [2]",
      "execution_count": null,
      "outputs": []
    },
    {
      "metadata": {},
      "cell_type": "markdown",
      "source": "Ahora queremos acceder a los elementos de las tres listas internas de la listaD <br>\n<br>\nSi queremos ubicar al primer elemento de la listaD que es la lista [10 , 11 , 12 ] y a su vez el primer elemento __10__ de dicha\nlista realizamos lo siguiente: <br>"
    },
    {
      "metadata": {
        "trusted": true
      },
      "cell_type": "code",
      "source": "listaD[0][0]",
      "execution_count": null,
      "outputs": []
    },
    {
      "metadata": {},
      "cell_type": "markdown",
      "source": "Para el elemento cuyo valor es 11"
    },
    {
      "metadata": {
        "trusted": true
      },
      "cell_type": "code",
      "source": "listaD[0][1]",
      "execution_count": null,
      "outputs": []
    },
    {
      "metadata": {},
      "cell_type": "markdown",
      "source": "Para elemento cuyo valor es 12"
    },
    {
      "metadata": {
        "trusted": true
      },
      "cell_type": "code",
      "source": "listaD[0][2]",
      "execution_count": null,
      "outputs": []
    },
    {
      "metadata": {},
      "cell_type": "markdown",
      "source": "![recortelistas.PNG](attachment:recortelistas.PNG)",
      "attachments": {
        "recortelistas.PNG": {
          "image/png": "[encoded data removed]"
        }
      }
    },
    {
      "metadata": {
        "trusted": true
      },
      "cell_type": "markdown",
      "source": "Para ejemplicar! <br>\nQue pasa si queremos obtener el valor 18 de la listaD <br>\n\nPues bien nuestro primer párentesis cuadrado tendrá el index 2 pues el valor 18 se encuentra en la tercera lista que conforma \nlistaD <br>\n\nEl segundo paréntesis cuadrado tendrá index 1 , pues 18 se encuentra en la posición 1 de dicha lista [17,18,19]"
    },
    {
      "metadata": {
        "trusted": true
      },
      "cell_type": "code",
      "source": "listaD[2][1]",
      "execution_count": null,
      "outputs": []
    },
    {
      "metadata": {
        "trusted": true
      },
      "cell_type": "markdown",
      "source": "Podes hacer lo mismo con el valor 16?"
    },
    {
      "metadata": {
        "trusted": true
      },
      "cell_type": "code",
      "source": "#Haz el ejercicio acá",
      "execution_count": null,
      "outputs": []
    },
    {
      "metadata": {},
      "cell_type": "markdown",
      "source": "\nPara ejemplificar mas veamos el siguiente ejemplo para la Cinética de Reloj de Yoduro-Persulfato que estudiadarás en Fisicoquímica II"
    },
    {
      "metadata": {},
      "cell_type": "markdown",
      "source": "![reloj-yodo.PNG](attachment:reloj-yodo.PNG)\n\n* Fuente Laboratorio de Fisicoquímica II , II-2015. Datos tomados por Johana Ng, Yefry Lopez y Roy Solís",
      "attachments": {
        "reloj-yodo.PNG": {
          "image/png": "[encoded data removed]"
        }
      }
    },
    {
      "metadata": {},
      "cell_type": "markdown",
      "source": "En el anterior tabla de excel tenemos tres columnas que representan \n\n* logaritmo natural de KI\n* logaritmo natural de persulfato de sodio\n* logaritmo natural de rapidez\n\nLas mediciones corresponden a un experimento de cinética, que pretende determinar el orden de reacción y la constante de velocidad de la reacción. De tus clases de Química II, recordarás que la ley de velocidad para cierto reactivo A y reactivo B está dada por\n\n$$ v = k[A]^{m}[B]^{n} (1)$$\n\nSí a la ecuación (1) le aplicamos logaritmo natural a ambos lados de la igualdad\n$$ ln(v) = ln(k[A]^{m}[B]^{n}) (2)$$\n\nAhora aplicamos propiedades de logarimo para obtener\n$$ ln(v) = ln(k) + mln([A]) + mln([B]) (3)$$\n\nY sí en lugar A y B tenemos persulfato de sodio y yoduro de potasio tenemos\n$$ ln(v) = ln(k) + mln([KI]) + nln([Na_{2}S_{2}O_{8}]) (4)$$\n\nLa ecuación (4) tiene forma de un plano... Por lo tanto sí haces una gráfica de logaritmo de velocidades contra logaritmo de concentraciones, podemos determinar los parámetros m y n\n"
    },
    {
      "metadata": {},
      "cell_type": "markdown",
      "source": "Te estaraas preguntando... <br>\n\n¿Y esto que tiene que ver con listas? <br>\n\nVolvamos a Excel! Vos cuando querés hacer una regresión en excel y un gráfico, tenes que señalar los datos de tu variable X o \nindependiente y tu variable Y o variable dependiente.... <br>\n\nPor lo tanto, en Python las listas son una excelente forma para contener el set o conjunto de datos de tu alguno de tus ejes <br>\n\nY creo que sabes hacia donde vamos: Hacia regresiones (Análitica Y Fisicoquímica) próxima aplicación! <br>"
    },
    {
      "metadata": {},
      "cell_type": "markdown",
      "source": "#### Ejercicio. \nDe la anterior hoja de excel. Responda lo siguiente <br>\n\n* Crea dos listas. <br>\n* Una llamada __logaritmo_velocidades__ y asignales los valores que ves <br>\n* La otra lista se llamará __logaritmo_concentraciones__ y tendrá dos elementos.<br>\n* El primer elemento será una lista que almacenará los valores para el KI <br>\n* El segundo elemento será una lista que almacenará los valores para el persulfato <br>\n\nTu lista de concentraciones se deberá ver como listaE = [[10 , 11 , 12 ],[ 14 , 15 , 16 ]] <br>\nDos listas dentro de una lista. Obvio que que con mas elementos con respecto a listaE <br>"
    },
    {
      "metadata": {
        "trusted": true
      },
      "cell_type": "code",
      "source": "# Crea la lista  logaritmo_velocidades",
      "execution_count": null,
      "outputs": []
    },
    {
      "metadata": {
        "trusted": true
      },
      "cell_type": "code",
      "source": "# Crea la lista logaritmo_concentraciones",
      "execution_count": null,
      "outputs": []
    },
    {
      "metadata": {
        "trusted": true
      },
      "cell_type": "code",
      "source": "# Imprime en pantalla la lista logaritmo_concentraciones",
      "execution_count": null,
      "outputs": []
    },
    {
      "metadata": {},
      "cell_type": "markdown",
      "source": "## Métodos en Listas\n\n"
    },
    {
      "metadata": {
        "trusted": true
      },
      "cell_type": "markdown",
      "source": "Al igual que las primitivas  __Strings___, las __listas__  tienen sus propios métodos! <br>\n\nPero la gran diferencia es que cuando aplicas un método a una string , la variable que almacena el string no cambia, mientras tanto  las listas sí lo hacen, a eso lo llamamos que las listas son mutables <br>\n\nHagamos un repaso, creemo un string y una lista <br>"
    },
    {
      "metadata": {
        "trusted": true
      },
      "cell_type": "code",
      "source": "ejemplo_string = \"Marie Curie\"\nejemplo_lista = [ 0 , 1 , 2 ,3 ,4]",
      "execution_count": null,
      "outputs": []
    },
    {
      "metadata": {
        "trusted": true
      },
      "cell_type": "markdown",
      "source": "Apliquemos el método lower() a la string"
    },
    {
      "metadata": {
        "trusted": true
      },
      "cell_type": "code",
      "source": "ejemplo_string.lower()",
      "execution_count": null,
      "outputs": []
    },
    {
      "metadata": {
        "trusted": true
      },
      "cell_type": "markdown",
      "source": "Preguntemos a Python cual es el valor de string.lower()"
    },
    {
      "metadata": {
        "trusted": true
      },
      "cell_type": "code",
      "source": "ejemplo_string",
      "execution_count": null,
      "outputs": []
    },
    {
      "metadata": {},
      "cell_type": "markdown",
      "source": "Viste? El valor de la variable no sufrio ningún cambio. <br>\nVeamoslo para la lista con el método .append() ( agregar un nuevo elemento a la lista)"
    },
    {
      "metadata": {
        "trusted": true
      },
      "cell_type": "code",
      "source": "# Con append podes agregar un elemento a la lista, dentro del paréntesis está el valor que querés agregar\nejemplo_lista.append(5)",
      "execution_count": null,
      "outputs": []
    },
    {
      "metadata": {
        "trusted": true
      },
      "cell_type": "markdown",
      "source": "Preguntemos a Python cuanto es el valor de lista"
    },
    {
      "metadata": {
        "trusted": true
      },
      "cell_type": "code",
      "source": "ejemplo_lista",
      "execution_count": null,
      "outputs": []
    },
    {
      "metadata": {},
      "cell_type": "markdown",
      "source": "Lo vés? Las listas pueden cambiar, no es necesario definir una nueva variable como haciamos con strings. <br>\nEsto se conoce como mutabilidad de las listas. <br>"
    },
    {
      "metadata": {},
      "cell_type": "markdown",
      "source": "¿Que sucede si queremos cambiar un valor? Por ejemplo el primer elemento de la lista\nVeamos un ejemplp"
    },
    {
      "metadata": {
        "trusted": true
      },
      "cell_type": "code",
      "source": "ejemplo_lista[0]",
      "execution_count": null,
      "outputs": []
    },
    {
      "metadata": {},
      "cell_type": "markdown",
      "source": "El valor del elemento 0 de la lista es 0\nSupongamos que queremos cambiarlo por el valor 18"
    },
    {
      "metadata": {
        "trusted": true
      },
      "cell_type": "code",
      "source": "ejemplo_lista[0] = 18",
      "execution_count": null,
      "outputs": []
    },
    {
      "metadata": {},
      "cell_type": "markdown",
      "source": "Preguntemos a Python el valor de la lista"
    },
    {
      "metadata": {
        "trusted": true
      },
      "cell_type": "code",
      "source": "ejemplo_lista",
      "execution_count": null,
      "outputs": []
    },
    {
      "metadata": {},
      "cell_type": "markdown",
      "source": "Y sí, cambiaste el valor del primer elemento que era 0 al valor 18"
    },
    {
      "metadata": {},
      "cell_type": "markdown",
      "source": "Con esto terminamos la segunda parte de los principios básicos. <br>\n\nAhora nuestra misión es usarlos para aplicarlos en regresiones y modelos matemáticos! <br>\n\n#### Repaso\nPara repasar podes ver este [video](http://videos.bigdatauniversity.com/PY0101EN/videos/PY0101EN%20-%20Lists%20and%20Tuples.mp4) <br>\nEn dicho video mencionan las __tuples__ que son un conjunto de datos como las listas.  <br>\nLa única diferencia es que las tuples no son mutables. <br>"
    },
    {
      "metadata": {},
      "cell_type": "markdown",
      "source": "[Volver al Indice](https://notebooks.azure.com/jeff0994/libraries/QU-0560-1-1/html/01Introducci%C3%B3n-Indice.ipynb)"
    },
    {
      "metadata": {
        "trusted": true
      },
      "cell_type": "code",
      "source": "",
      "execution_count": null,
      "outputs": []
    }
  ],
  "metadata": {
    "kernelspec": {
      "name": "python36",
      "display_name": "Python 3.6",
      "language": "python"
    },
    "language_info": {
      "mimetype": "text/x-python",
      "nbconvert_exporter": "python",
      "name": "python",
      "pygments_lexer": "ipython3",
      "version": "3.6.6",
      "file_extension": ".py",
      "codemirror_mode": {
        "version": 3,
        "name": "ipython"
      }
    }
  },
  "nbformat": 4,
  "nbformat_minor": 2
}