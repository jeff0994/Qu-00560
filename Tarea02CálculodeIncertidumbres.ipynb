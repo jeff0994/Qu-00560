{
  "cells": [
    {
      "metadata": {
        "collapsed": true
      },
      "cell_type": "markdown",
      "source": "# Universidad de Costa Rica\n\n## Facultad de Ciencias\n\n## Escuela de Química\n\n## Sección de Fisicoquímica\n\n## Qu-0560 Tópicos de Química Física: Herramientas Computacionales para Química\n\n### Profesor Mauricio Gutierrez\n### Asistente no oficial: Yefry López"
    },
    {
      "metadata": {},
      "cell_type": "markdown",
      "source": "# Tarea 02 Cálculo de Incertidumbres."
    },
    {
      "metadata": {
        "trusted": true
      },
      "cell_type": "code",
      "source": "!pip install uncertainties",
      "execution_count": null,
      "outputs": []
    },
    {
      "metadata": {
        "trusted": true
      },
      "cell_type": "code",
      "source": "from uncertainties import ufloat\nfrom uncertainties.umath import *",
      "execution_count": null,
      "outputs": []
    },
    {
      "metadata": {},
      "cell_type": "markdown",
      "source": "## Ejercicio 1 y 2. Curso Análisis Químico Cuantitativo II. Determinación de densidad de líquidos mediante picnometría y calibración de picnómetro.\n\n[Vídeo sobre Picnometría](https://www.youtube.com/watch?v=cGR5eESMbiI)"
    },
    {
      "metadata": {},
      "cell_type": "markdown",
      "source": "En las primeras sesiones de laboratorio de Análisis II usted aprenderá la medición de la densidad de líquidos mediante picnometría. <br>\n\nPara esto primero ( a menos de que le indique lo contrario) debe calibrar (con un líquido de referencia como agua) el picnometro para determinar la incertidumbre asociada al instrumento. En otras palabras debe conocer la incertidumbre asociada a la capacidad o volumen del picnómetro. <br>\n\nPara esto\n* Primero mide la masa del picnómetro vacio en balanza analítica <br>\n* Segundo vierte desde bureta cierta cantidad del líquido (agua) hasta llenar el picnómetro. <br>\n* Tercero mide la masa del picnómetro lleno con el líquido patrón <br>\n* Con la densidad del líquido patrón usted determinará el Volumen del picnómetro. <br>\n\nYa que <br>\n\n$$\\rho_{H_{2}O} = \\frac{masa_{H_{2}O}}{V_{picnometro}} = \\frac{masa_{pic lleno} - masa_{pic vacio}}{V_{picnómetro}}(1)$$\n \nEs decir <br> \n \n$$ V_{picnómetro} =  \\frac{masa_{pic lleno} - masa_{pic vacio}}{\\rho_{H_{2}O}} (2) $$ \n\nLa densidad del líquido patrón usted la conoce mediante [tablas de referencia](http://www.vaxasoftware.com/doc_edu/qui/denh2o.pdf) o puede determinarla manualmente mediante el siguiente método.\n\n* En un balón aforado de 100 mL ( al cual primero se le midió su masa vacio) afore con agua destilada\n* Ahora mida la masa del balón lleno de agua\n* Calcule la densidad del agua a T ambiente.\n\n$$ \\rho_{H_{2}O} = \\frac{masa_{H_{2}O}}{V_{balón}} = \\frac{masa_{balon lleno} - masa_{vacio}}{V_{balón}} (3)$$"
    },
    {
      "metadata": {},
      "cell_type": "markdown",
      "source": "#### Parte A. Determinación de la incertidumbre de la densidad del agua. ( Parcialmente Resuelto)\n\nEn el laboratorio , usted determinó manualmente la densidad del agua.\nSus datos son los siguientes. <br>\n<br>\n$V_{balon}$ = 100.00 $\\pm$ 0.10 g  <br>\n$Masa_{balon vacio}$ = 59.2572 $\\pm$ 0.0001 g  <br>\n$Masa_{balon lleno}$ = 159.0864 $\\pm$ 0.0001 g  <br>\n\n"
    },
    {
      "metadata": {},
      "cell_type": "markdown",
      "source": "##### Paso 1.  Declare las variables masa balon lleno , masa balon vacio y Vbalon"
    },
    {
      "metadata": {
        "trusted": true
      },
      "cell_type": "code",
      "source": "masa_balon_vacio = ufloat(59.2572,0.0001)\nmasa_balon_lleno = ufloat(159.0864 , 0.0001 )\nV_balon = ufloat (100.00 , 0.10)",
      "execution_count": null,
      "outputs": []
    },
    {
      "metadata": {},
      "cell_type": "markdown",
      "source": "#### Paso 2. Calcule la masa de agua como la resta de la masa balon lleno y masa balon vacio\n"
    },
    {
      "metadata": {
        "trusted": true
      },
      "cell_type": "code",
      "source": "masa_agua = masa_balon_lleno - masa_balon_vacio\nprint(masa_agua)",
      "execution_count": null,
      "outputs": []
    },
    {
      "metadata": {},
      "cell_type": "markdown",
      "source": "##### Paso 3. Calcule la densidad e incertidumbre de a densidad del agua"
    },
    {
      "metadata": {
        "trusted": true
      },
      "cell_type": "code",
      "source": "# Resuelva acá",
      "execution_count": null,
      "outputs": []
    },
    {
      "metadata": {},
      "cell_type": "markdown",
      "source": "#### Parte B. Determininación del volumen del picnometro.\n\nUna vez determinada la densidad del agua, determine el volumen de picnometro y su incertidumbre. Imprima sus valores en pantalla <br>\n\nLos datos de laboratorio son los siguientes <br>\n\n$masa_{pic vacio}$ = 14.0012 $\\pm$ 0.0001 <br>\n$masa_{pic lleno}$ = 38.9585 $\\pm$ 0.0001  <br>"
    },
    {
      "metadata": {
        "trusted": true
      },
      "cell_type": "code",
      "source": "# Resuelva acám\n",
      "execution_count": null,
      "outputs": []
    },
    {
      "metadata": {
        "trusted": true
      },
      "cell_type": "code",
      "source": "",
      "execution_count": null,
      "outputs": []
    },
    {
      "metadata": {},
      "cell_type": "markdown",
      "source": "#### Parte C. Determinación de la densidad de isopropanol mediante picnometría.\n\nUna vez determinado el volumen del picnométro , puede emplearse para determinar la densidad de otros líquidos. Recuerde que los líquidos toman la forma y volumen del contendor <br>\n\nEn el laboratorio usted quiere deteminar la densidad del isopropanol. <br>\n\nPara esto obtuvo los siguientes datos\n\n$masa_{pic vacio}$ = 14.0013 $\\pm$ 0.0001 <br>\n$masa_{pic lleno_isopropaonol}$ = 33.9806 $\\pm$ 0.0001  <br>\n\nDetermine la densidad del isopropanol"
    },
    {
      "metadata": {
        "trusted": true
      },
      "cell_type": "code",
      "source": "#Resulva acá\n",
      "execution_count": null,
      "outputs": []
    },
    {
      "metadata": {},
      "cell_type": "markdown",
      "source": "## Ejercio 3. Determine la masa molar del compuesto C8H5O4K y su incertidumbre respectiva.\n\nEl reactivo se llama ftalato ácido de potasio, y se utiliza como patrón en valoraciones con NaOH.\nPara calcular la masa molar y su incertidumbre, debe buscar las masas individuales (con incertidumbre en dichas masas) de C,H,O y K\n\nPara buscar las masas con incertdiumbre de los elementos, le compartimos el siguiente [sitio](http://www.ciaaw.org/atomic-weights.htm)\n\nLa incertidumbre de la masa del esperimento corresponde al número entre paréntesis <br>\n\n* Su resolución debe tener variables que usted considere necesarias."
    },
    {
      "metadata": {
        "trusted": true
      },
      "cell_type": "code",
      "source": "#Resuelva acá",
      "execution_count": null,
      "outputs": []
    },
    {
      "metadata": {},
      "cell_type": "markdown",
      "source": "## Ejercicio 4. Determinación de la concentración de una disolución de NaOH con ftalato ácido de potasio 99.5%.\n\nEn su primer curso de Química Análitica aprenderá que para conocer la concentración de disoluciones de NaOH puede usar el patrón de ftalato ácido de potasio. <br>\n<br>\nPara esto usted valorá el patrón de ftalato ácido de potasio con NaOH (concentración que desea conocer) desde una bureta.\n\nLa reacción es 1 a 1 en términos molares.<br>\n\n$$ KOOC-C_{6}H_{4}-COOH + NaOH \\longrightarrow H_{2}O + KOOC-C_{6}H_{4}-COONa $$\n\nPor lo tanto puede concluirse que <br>\n\n$$ n_{ftalato ácido de potasio} = n_{NaOH}$$ <br>\n\nSí el ftalato consumio un volumen de 10.80 $\\pm$  0.05 de NaOH, y así mismo la masa de ftalato era 0.3526 $\\pm$ 0.0001. Calcule la concentración de NaOH y su incertidunbre. <br>\n\nLa pureza del patrón ftalato era de 0.9550 $\\pm$ 0.0006. <br>\n\nHINT = Debe calcular la Masa molar del Ftalato y su respectiva incertidumbre (Ejercicio pasado) <br>\n\nSu resolución debe contar con almenos con 5 variables declaradas: concentración, masa_patrón , volumen, pureza, masa molar.\n\n\n\n"
    },
    {
      "metadata": {
        "trusted": true
      },
      "cell_type": "code",
      "source": "#Resuelva acá",
      "execution_count": null,
      "outputs": []
    },
    {
      "metadata": {},
      "cell_type": "markdown",
      "source": "### Fin de Tarea"
    },
    {
      "metadata": {
        "trusted": true
      },
      "cell_type": "code",
      "source": "",
      "execution_count": null,
      "outputs": []
    }
  ],
  "metadata": {
    "kernelspec": {
      "name": "python36",
      "display_name": "Python 3.6",
      "language": "python"
    },
    "language_info": {
      "mimetype": "text/x-python",
      "nbconvert_exporter": "python",
      "name": "python",
      "pygments_lexer": "ipython3",
      "version": "3.6.6",
      "file_extension": ".py",
      "codemirror_mode": {
        "version": 3,
        "name": "ipython"
      }
    }
  },
  "nbformat": 4,
  "nbformat_minor": 2
}