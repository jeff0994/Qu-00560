{
  "nbformat": 4,
  "nbformat_minor": 0,
  "metadata": {
    "kernelspec": {
      "name": "python36",
      "display_name": "Python 3.6",
      "language": "python"
    },
    "language_info": {
      "mimetype": "text/x-python",
      "nbconvert_exporter": "python",
      "name": "python",
      "pygments_lexer": "ipython3",
      "version": "3.6.6",
      "file_extension": ".py",
      "codemirror_mode": {
        "version": 3,
        "name": "ipython"
      }
    },
    "colab": {
      "name": "Tarea02CálculodeIncertidumbres.ipynb",
      "provenance": []
    }
  },
  "cells": [
    {
      "cell_type": "markdown",
      "metadata": {
        "collapsed": true,
        "id": "yHUpIONApo_S"
      },
      "source": [
        "# Universidad de Costa Rica\n",
        "\n",
        "## Facultad de Ciencias\n",
        "\n",
        "## Escuela de Química\n",
        "\n",
        "## Sección de Fisicoquímica\n",
        "\n",
        "## Qu-0560 Tópicos de Química Física: Herramientas Computacionales para Química\n",
        "\n",
        "### Profesor Mauricio Gutiérrez\n",
        "### Asistente no oficial: Yefry López"
      ]
    },
    {
      "cell_type": "markdown",
      "metadata": {
        "id": "Js8xa9Vnpo_U"
      },
      "source": [
        "# Tarea 02 Cálculo de Incertidumbres."
      ]
    },
    {
      "cell_type": "code",
      "metadata": {
        "trusted": true,
        "id": "zqNb8YX8po_V"
      },
      "source": [
        "!pip install uncertainties"
      ],
      "execution_count": null,
      "outputs": []
    },
    {
      "cell_type": "code",
      "metadata": {
        "trusted": true,
        "id": "HaJkvcn6po_W"
      },
      "source": [
        "from uncertainties import ufloat\n",
        "from uncertainties.umath import *"
      ],
      "execution_count": null,
      "outputs": []
    },
    {
      "cell_type": "markdown",
      "metadata": {
        "id": "4mjGg0J3po_W"
      },
      "source": [
        "## Ejercicio 1 y 2. Curso Análisis Químico Cuantitativo II. Determinación de densidad de líquidos mediante picnometría y calibración de picnómetro.\n",
        "\n",
        "[Vídeo sobre Picnometría](https://www.youtube.com/watch?v=cGR5eESMbiI)"
      ]
    },
    {
      "cell_type": "markdown",
      "metadata": {
        "id": "2y4q5TJGpo_X"
      },
      "source": [
        "En las primeras sesiones de laboratorio de Análisis II usted aprenderá la medición de la densidad de líquidos mediante picnometría. <br>\n",
        "\n",
        "Para esto primero ( a menos de que le indique lo contrario) debe calibrar (con un líquido de referencia como agua) el picnometro para determinar la incertidumbre asociada al instrumento. En otras palabras debe conocer la incertidumbre asociada a la capacidad o volumen del picnómetro. <br>\n",
        "\n",
        "Para esto\n",
        "* Primero mide la masa del picnómetro vacio en balanza analítica <br>\n",
        "* Segundo vierte desde bureta cierta cantidad del líquido (agua) hasta llenar el picnómetro. <br>\n",
        "* Tercero mide la masa del picnómetro lleno con el líquido patrón <br>\n",
        "* Con la densidad del líquido patrón usted determinará el Volumen del picnómetro. <br>\n",
        "\n",
        "Ya que <br>\n",
        "\n",
        "$$\\rho_{H_{2}O} = \\frac{masa_{H_{2}O}}{V_{picnometro}} = \\frac{masa_{pic lleno} - masa_{pic vacio}}{V_{picnómetro}}(1)$$\n",
        " \n",
        "Es decir <br> \n",
        " \n",
        "$$ V_{picnómetro} =  \\frac{masa_{pic lleno} - masa_{pic vacio}}{\\rho_{H_{2}O}} (2) $$ \n",
        "\n",
        "La densidad del líquido patrón usted la conoce mediante [tablas de referencia](http://www.vaxasoftware.com/doc_edu/qui/denh2o.pdf) o puede determinarla manualmente mediante el siguiente método.\n",
        "\n",
        "* En un balón aforado de 100 mL ( al cual primero se le midió su masa vacio) afore con agua destilada\n",
        "* Ahora mida la masa del balón lleno de agua\n",
        "* Calcule la densidad del agua a T ambiente.\n",
        "\n",
        "$$ \\rho_{H_{2}O} = \\frac{masa_{H_{2}O}}{V_{balón}} = \\frac{masa_{balon lleno} - masa_{vacio}}{V_{balón}} (3)$$"
      ]
    },
    {
      "cell_type": "markdown",
      "metadata": {
        "id": "NyGDc3pJpo_Y"
      },
      "source": [
        "#### Parte A. Determinación de la incertidumbre de la densidad del agua. ( Parcialmente Resuelto)\n",
        "\n",
        "En el laboratorio , usted determinó manualmente la densidad del agua.\n",
        "Sus datos son los siguientes. <br>\n",
        "<br>\n",
        "$V_{balon}$ = 100.00 $\\pm$ 0.10 g  <br>\n",
        "$Masa_{balon vacio}$ = 59.2572 $\\pm$ 0.0001 g  <br>\n",
        "$Masa_{balon lleno}$ = 159.0864 $\\pm$ 0.0001 g  <br>\n",
        "\n"
      ]
    },
    {
      "cell_type": "markdown",
      "metadata": {
        "id": "TDOIhxaxpo_Y"
      },
      "source": [
        "##### Paso 1.  Declare las variables masa balon lleno , masa balon vacio y Vbalon"
      ]
    },
    {
      "cell_type": "code",
      "metadata": {
        "trusted": true,
        "id": "vQGvEVurpo_Z"
      },
      "source": [
        "masa_balon_vacio = ufloat(59.2572,0.0001)\n",
        "masa_balon_lleno = ufloat(159.0864 , 0.0001 )\n",
        "V_balon = ufloat (100.00 , 0.10)"
      ],
      "execution_count": null,
      "outputs": []
    },
    {
      "cell_type": "markdown",
      "metadata": {
        "id": "kKLrrUoSpo_Z"
      },
      "source": [
        "#### Paso 2. Calcule la masa de agua como la resta de la masa balon lleno y masa balon vacio\n"
      ]
    },
    {
      "cell_type": "code",
      "metadata": {
        "trusted": true,
        "id": "l7WINqezpo_a"
      },
      "source": [
        "masa_agua = masa_balon_lleno - masa_balon_vacio\n",
        "print(masa_agua)"
      ],
      "execution_count": null,
      "outputs": []
    },
    {
      "cell_type": "markdown",
      "metadata": {
        "id": "Gk4nkUenpo_a"
      },
      "source": [
        "##### Paso 3. Calcule la densidad e incertidumbre de a densidad del agua"
      ]
    },
    {
      "cell_type": "code",
      "metadata": {
        "trusted": true,
        "id": "725-vAyNpo_b"
      },
      "source": [
        "# Resuelva acá"
      ],
      "execution_count": null,
      "outputs": []
    },
    {
      "cell_type": "markdown",
      "metadata": {
        "id": "ztDWlNqvpo_b"
      },
      "source": [
        "#### Parte B. Determininación del volumen del picnometro.\n",
        "\n",
        "Una vez determinada la densidad del agua, determine el volumen de picnometro y su incertidumbre. Imprima sus valores en pantalla <br>\n",
        "\n",
        "Los datos de laboratorio son los siguientes <br>\n",
        "\n",
        "$masa_{pic vacio}$ = 14.0012 $\\pm$ 0.0001 <br>\n",
        "$masa_{pic lleno}$ = 38.9585 $\\pm$ 0.0001  <br>"
      ]
    },
    {
      "cell_type": "code",
      "metadata": {
        "trusted": true,
        "id": "zhMQxGmspo_b"
      },
      "source": [
        "# Resuelva acám\n"
      ],
      "execution_count": null,
      "outputs": []
    },
    {
      "cell_type": "code",
      "metadata": {
        "trusted": true,
        "id": "f5pUzWXwpo_c"
      },
      "source": [
        ""
      ],
      "execution_count": null,
      "outputs": []
    },
    {
      "cell_type": "markdown",
      "metadata": {
        "id": "Q7DiHMXxpo_d"
      },
      "source": [
        "#### Parte C. Determinación de la densidad de isopropanol mediante picnometría.\n",
        "\n",
        "Una vez determinado el volumen del picnométro , puede emplearse para determinar la densidad de otros líquidos. Recuerde que los líquidos toman la forma y volumen del contendor <br>\n",
        "\n",
        "En el laboratorio usted quiere deteminar la densidad del isopropanol. <br>\n",
        "\n",
        "Para esto obtuvo los siguientes datos\n",
        "\n",
        "$masa_{pic vacio}$ = 14.0013 $\\pm$ 0.0001 <br>\n",
        "$masa_{pic lleno_isopropaonol}$ = 33.9806 $\\pm$ 0.0001  <br>\n",
        "\n",
        "Determine la densidad del isopropanol"
      ]
    },
    {
      "cell_type": "code",
      "metadata": {
        "trusted": true,
        "id": "RZ-Wy5uEpo_d"
      },
      "source": [
        "#Resulva acá\n"
      ],
      "execution_count": null,
      "outputs": []
    },
    {
      "cell_type": "markdown",
      "metadata": {
        "id": "fWaVFSMTpo_d"
      },
      "source": [
        "## Ejercio 3. Determine la masa molar del compuesto C8H5O4K y su incertidumbre respectiva.\n",
        "\n",
        "El reactivo se llama ftalato ácido de potasio, y se utiliza como patrón en valoraciones con NaOH.\n",
        "Para calcular la masa molar y su incertidumbre, debe buscar las masas individuales (con incertidumbre en dichas masas) de C,H,O y K\n",
        "\n",
        "Para buscar las masas con incertdiumbre de los elementos, le compartimos el siguiente [sitio](http://www.ciaaw.org/atomic-weights.htm)\n",
        "\n",
        "La incertidumbre de la masa del esperimento corresponde al número entre paréntesis <br>\n",
        "\n",
        "* Su resolución debe tener variables que usted considere necesarias."
      ]
    },
    {
      "cell_type": "code",
      "metadata": {
        "trusted": true,
        "id": "aRxkF-4epo_e"
      },
      "source": [
        "#Resuelva acá"
      ],
      "execution_count": null,
      "outputs": []
    },
    {
      "cell_type": "markdown",
      "metadata": {
        "id": "yA3XDpKrpo_e"
      },
      "source": [
        "## Ejercicio 4. Determinación de la concentración de una disolución de NaOH con ftalato ácido de potasio 99.5%.\n",
        "\n",
        "En su primer curso de Química Análitica aprenderá que para conocer la concentración de disoluciones de NaOH puede usar el patrón de ftalato ácido de potasio. <br>\n",
        "<br>\n",
        "Para esto usted valorá el patrón de ftalato ácido de potasio con NaOH (concentración que desea conocer) desde una bureta.\n",
        "\n",
        "La reacción es 1 a 1 en términos molares.<br>\n",
        "\n",
        "$$ KOOC-C_{6}H_{4}-COOH + NaOH \\longrightarrow H_{2}O + KOOC-C_{6}H_{4}-COONa $$\n",
        "\n",
        "Por lo tanto puede concluirse que <br>\n",
        "\n",
        "$$ n_{ftalato ácido de potasio} = n_{NaOH}$$ <br>\n",
        "\n",
        "Sí el ftalato consumio un volumen de 10.80 $\\pm$  0.05 de NaOH, y así mismo la masa de ftalato era 0.3526 $\\pm$ 0.0001. Calcule la concentración de NaOH y su incertidunbre. <br>\n",
        "\n",
        "La pureza del patrón ftalato era de 0.9550 $\\pm$ 0.0006. <br>\n",
        "\n",
        "HINT = Debe calcular la Masa molar del Ftalato y su respectiva incertidumbre (Ejercicio pasado) <br>\n",
        "\n",
        "Su resolución debe contar con almenos con 5 variables declaradas: concentración, masa_patrón , volumen, pureza, masa molar.\n",
        "\n",
        "\n",
        "\n"
      ]
    },
    {
      "cell_type": "code",
      "metadata": {
        "trusted": true,
        "id": "520X3keepo_f"
      },
      "source": [
        "#Resuelva acá"
      ],
      "execution_count": null,
      "outputs": []
    },
    {
      "cell_type": "markdown",
      "metadata": {
        "id": "SbSw9Emnpo_f"
      },
      "source": [
        "### Fin de Tarea"
      ]
    },
    {
      "cell_type": "code",
      "metadata": {
        "trusted": true,
        "id": "bJ-ACVzqpo_g"
      },
      "source": [
        ""
      ],
      "execution_count": null,
      "outputs": []
    }
  ]
}