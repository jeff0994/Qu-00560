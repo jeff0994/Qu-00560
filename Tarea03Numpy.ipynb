{
  "cells": [
    {
      "metadata": {
        "collapsed": true
      },
      "cell_type": "markdown",
      "source": "# Universidad de Costa Rica\n\n## Facultad de Ciencias\n\n## Escuela de Química\n\n## Sección de Fisicoquímica\n\n## Qu-0560 Tópicos de Química Física: Herramientas Computacionales para Química\n\n### Profesor Mauricio Gutierrez\n### Asistente no oficial: Yefry López"
    },
    {
      "metadata": {},
      "cell_type": "markdown",
      "source": "# Uso del paquete computacional Numpy."
    },
    {
      "metadata": {
        "trusted": true
      },
      "cell_type": "code",
      "source": "import numpy  as np",
      "execution_count": null,
      "outputs": []
    },
    {
      "metadata": {},
      "cell_type": "markdown",
      "source": "## Ejercicio 1. Ejecute las siguientes operaciones con las matrices __A__ , __B__ y el vector X\nRecuerde declarar las matrices en variables como numpy arrays\n\n$$ A= \\begin{bmatrix}{1}&{2}&{3}\\\\{4}&{8}&{3}\\\\{7}&{5}&{8}\\end{bmatrix} $$ \n<br>\n$$ B= \\begin{bmatrix}{-0.1}&{-0.4}&{-0.3}\\\\{3}&{10}&{2}\\\\{4}&{2}&{0.5}\\end{bmatrix} $$\n<br>\n$$ B= \\begin{bmatrix}{2}\\\\{4}\\\\{5}\\end{bmatrix} $$\n\n* $ A \\cdot B $ (producto punto)\n* $ A \\times B  $ (producto cruz)\n* $ A \\cdot x $\n* $ A^{-1} \\cdot B $ (Nótese que primero debe encontrar la matriz inversa de A, para eso busque en Numpy un comando que calcule la inversa de una matriz, luego ejecute el producto."
    },
    {
      "metadata": {},
      "cell_type": "markdown",
      "source": "## Ejercicio 2. Programación lineal.\n\nPara el curso de Análisis II, para cada regresión, se le pedirá que use el método de mínimos cuadrados para programar una hoja de excel que le permita hacer regresiones lineales a sus datos. <br>\n\nEn una regresión lineal, nos interesa encontrar los parámetro b y m que mejor se ajusten a un recta\n\n$$ y = mx + b $$ <br>\n\nHay mucho sofware que te encuentra los parámetros de mejor ajuste y te da información extra como el coeficiente de correlación e incertidumbres de los parámetros. <br>\n\nPara esto emplea rutinas como mínimos cuadrados para calcularlos. <br>\n\nEn este ejercicio aprenderás lo que hay detrás de dicho sofware. <br>\n\n"
    },
    {
      "metadata": {},
      "cell_type": "markdown",
      "source": "Para la siguientes ejericicios. emplearás el siguiente set de datos. <br>\n\nIntensidades = [2.1 , 5.0 , 9.0 , 12.6 , 17.3, 21.0 , 24.7] <br>\nConcentración = [0 , 2 , 4 , 6 , 8 , 10 , 12] en picogramos/mL <br>\n\nRepresenta un análisis de soluciones fluresceina a diferentes concentraciones, a cada una se le midio la intensidad en un espectofotrómetro. <br>"
    },
    {
      "metadata": {},
      "cell_type": "markdown",
      "source": "### Ejercicios 2.1 Determinando el coeficiente de correlación. (Resuelto)\n\nSe define el coeficiente de correlación __r__ como\n\n$$ r = \\frac{\\sum\\limits_{i=1}^n \\left((x_{i}- \\overline x )(y_{i}- \\overline y )\\right) }{\\left( (\\sum\\limits_{i=1}^n (x_{i}- \\overline x )^{2})(\\sum\\limits_{i=1}^n (y_{i}- \\overline y )^{2})   \\right)^{\\frac{1}{2}}} $$"
    },
    {
      "metadata": {},
      "cell_type": "markdown",
      "source": "Donde $\\overline y$ y $\\overline x$ representan los promedios de las mediciones en x y y. <br>\n<br>\n\nY $y_{i}$ y $x_{i}$ representan las i-ésimas mediciones en y y x. <br>\n\nPor ejemplo, para nuestro set de datos de concentraciones <br>\n\n$ x_{1}$ = 0 <br>\n$x_{2}$ = 2 <br>\n$x_{3}$ = 4 y así sucesivamente <br>\n\nCalcule el factor de correlación e interprete su resultado para el set de datos de intesidad y concentración."
    },
    {
      "metadata": {},
      "cell_type": "markdown",
      "source": "Para ejercicio iremos paso a paso.\n\nPrimero comenzaremos con el denominador"
    },
    {
      "metadata": {},
      "cell_type": "markdown",
      "source": "Paso 1. Definiremos Intensidad y concentración en términos de numpy arrays"
    },
    {
      "metadata": {
        "trusted": true
      },
      "cell_type": "code",
      "source": "Intensidades = [2.1 , 5.0 , 9.0 , 12.6 , 17.3, 21.0 , 24.7] \nConcentraciones = [0 , 2 , 4 , 6 , 8 , 10 , 12]\n\nIntensidades = np.array(Intensidades)\nConcentraciones = np.array(Concentraciones)",
      "execution_count": null,
      "outputs": []
    },
    {
      "metadata": {},
      "cell_type": "markdown",
      "source": "Paso 2. Calcularemos el promedio de cada array"
    },
    {
      "metadata": {
        "trusted": true
      },
      "cell_type": "code",
      "source": "promedio_intensidad = np.mean(Intensidades)\npromedio_concentraciones = np.mean(Concentraciones)",
      "execution_count": null,
      "outputs": []
    },
    {
      "metadata": {},
      "cell_type": "markdown",
      "source": "Paso 3. Calcularemos el factor $(x_{i}- \\overline x )$\n\nLe llamaremos  diferencia_concentraciones a Ci-C_promedio\n\nEs decir a cada dato de concentración le restaremos el promedio de la concentración"
    },
    {
      "metadata": {
        "trusted": true
      },
      "cell_type": "code",
      "source": "diferencia_concentraciones =  Concentraciones - promedio_concentraciones",
      "execution_count": null,
      "outputs": []
    },
    {
      "metadata": {},
      "cell_type": "markdown",
      "source": "Paso 4. Calcularemos el factor $ (y_{i}- \\overline y )$\n\nEn este caso $y_{i}$ representa las intensidades"
    },
    {
      "metadata": {
        "trusted": true
      },
      "cell_type": "code",
      "source": "diferencia_intensidades = Intensidades - promedio_intensidad",
      "execution_count": null,
      "outputs": []
    },
    {
      "metadata": {},
      "cell_type": "markdown",
      "source": "Paso 5. Ahora podemos calcular los factores   ${\\left(x_{i}- \\overline x\\right)^{2}} $ y   ${\\left(y_{i}- \\overline y\\right)^{2}} $\n<br>\nQue es simplement elevar al cuadrado cada elemento de las diferencias <br>"
    },
    {
      "metadata": {
        "trusted": true
      },
      "cell_type": "code",
      "source": "diferencia_concentraciones_cuadrado = np.power(diferencia_concentraciones,2)\ndiferencia_intensidades_cuadrado = np.power(diferencia_intensidades,2)",
      "execution_count": null,
      "outputs": []
    },
    {
      "metadata": {},
      "cell_type": "markdown",
      "source": "Paso 6. Ahora hacer las sumas! Sumemos cada elemento de los vectores"
    },
    {
      "metadata": {
        "trusted": true
      },
      "cell_type": "code",
      "source": "suma_concentraciones = np.sum(diferencia_concentraciones_cuadrado)\nsuma_intensidades = np.sum(diferencia_intensidades_cuadrado)",
      "execution_count": null,
      "outputs": []
    },
    {
      "metadata": {},
      "cell_type": "markdown",
      "source": "Paso 7.\nSí te diste cuenta, ya casi tenemos el denomidador!\n\nAhora sólo falta multiplicar los factores pasados y sacarles raiz cuadrada!"
    },
    {
      "metadata": {
        "trusted": true
      },
      "cell_type": "code",
      "source": "denominador = np.sqrt(suma_concentraciones*suma_intensidades)",
      "execution_count": null,
      "outputs": []
    },
    {
      "metadata": {
        "trusted": true
      },
      "cell_type": "code",
      "source": "denominador",
      "execution_count": null,
      "outputs": []
    },
    {
      "metadata": {},
      "cell_type": "markdown",
      "source": "Ahora el numerador!\n\nNota que ya tenemos las diferencias de\n\n$( x_{i} - \\overline x )$ y $(y_{i}- \\overline y )$\n\nProcedemos a multiplicarlos!"
    },
    {
      "metadata": {},
      "cell_type": "markdown",
      "source": "Paso 8."
    },
    {
      "metadata": {
        "trusted": true
      },
      "cell_type": "code",
      "source": "multiplicacion_de_diferencias = diferencia_concentraciones*diferencia_intensidades",
      "execution_count": null,
      "outputs": []
    },
    {
      "metadata": {},
      "cell_type": "markdown",
      "source": "Paso 9. Sumamos! Que representa el numerador!"
    },
    {
      "metadata": {
        "trusted": true
      },
      "cell_type": "code",
      "source": "numerador = np.sum(multiplicacion_de_diferencias)",
      "execution_count": null,
      "outputs": []
    },
    {
      "metadata": {
        "trusted": true
      },
      "cell_type": "code",
      "source": "Ya podemos calcular R!",
      "execution_count": null,
      "outputs": []
    },
    {
      "metadata": {
        "trusted": true
      },
      "cell_type": "code",
      "source": "r = numerador / denominador\nprint(r)",
      "execution_count": null,
      "outputs": []
    },
    {
      "metadata": {},
      "cell_type": "markdown",
      "source": "r estima que tan bien se ajusta a una linea recta un set de datos, entre mas cercano a 1, mejor ajuste! <br>\n\nComo r es cercano 1, podemos concluir que las variables se ajustan muy bien a un modelo lineal y se encuentran fuertemente correlacionadas <br>"
    },
    {
      "metadata": {
        "trusted": true
      },
      "cell_type": "code",
      "source": "",
      "execution_count": null,
      "outputs": []
    },
    {
      "metadata": {},
      "cell_type": "markdown",
      "source": "### Ejercicio 2.2 Determinando la pendiente de la gráfica.\n\nEn el método de regresión lineal por mínimos cuadrados se define m como la pendiente de la gráfica. <br>\n\n$$ m = \\frac{\\sum\\limits_{i=1}^n \\left((x_{i}- \\overline x )(y_{i}- \\overline y )\\right) }{\\left( (\\sum\\limits_{i=1}^n (x_{i}- \\overline x )^{2})\\right)} $$\n\nEmpleando los datos de intensidades y concentraciones calcule la pendiente."
    },
    {
      "metadata": {
        "trusted": true
      },
      "cell_type": "code",
      "source": "",
      "execution_count": null,
      "outputs": []
    },
    {
      "metadata": {},
      "cell_type": "markdown",
      "source": "### Ejercicio 2.3  Determinando el intercepto de la gráfica."
    },
    {
      "metadata": {},
      "cell_type": "markdown",
      "source": "En el método de regresión lineal por mínimos cuadrados se define b como el intecepto de la gráfica.\n\n$$ b = \\overline y - m*\\overline x $$ \n\nEmpleando los datos de intensidades y concentraciones calcule el intercepto."
    },
    {
      "metadata": {
        "trusted": true
      },
      "cell_type": "code",
      "source": "",
      "execution_count": null,
      "outputs": []
    },
    {
      "metadata": {},
      "cell_type": "markdown",
      "source": "#### Ejercicio 2.4. Determinando $s_{\\frac{y}{x}}$ los errores aleatorios en la dirección y\n\nPara calcular la incertidumbre de la pendiente y del intercepto mediante mínimos cuadrados, primero debe calcularse  $s_{\\frac{y}{x}}$ <br>\n\nSe define  $$s_{\\frac{y}{x}} = \\sqrt{\\left(\\frac{\\sum\\limits_{i=1}^n \\left(y_{i}- \\hat{y})\\right)^{2} }{n-2}\\right)}$$\n"
    },
    {
      "metadata": {},
      "cell_type": "markdown",
      "source": "__OJO__ Acá $\\hat{y}$ NO REPRESENTA EL PROMEDIO.\n\n$\\hat{y}$ representa los valores de y al evaluar con los parámetros b y m recién calculados.\n\nOsea $\\hat{y} = mx + b $\n\nDonde m y b los acaba de calcular y x sería las concentraciones"
    },
    {
      "metadata": {},
      "cell_type": "markdown",
      "source": "En regresión usted tendrá siempre <br>\n\ny medidos, valores que usted midio en el laboratorios <br>\n$\\hat{y}$ o y estimados, valores que vienen de optimizar un modelo a partir de encontrar m y b del mejor ajuste <br>"
    },
    {
      "metadata": {},
      "cell_type": "markdown",
      "source": "#### Ejercicio 2.5 y 2.6 Encontrando la incertidumbre de la pendiente e intercepto.\n\nSe define la incertidumbre de la pendiente m como \n\n$$ s_{m} = \\frac{s_{\\frac{y}{x}}}{\\sum\\limits_{i=1}^n (x_{i}- \\overline x )^{2}} $$\n\nSe define la incertidumbre del intercepto b como \n\n$$ s_{b} = s_{\\frac{y}{x}}* \\sqrt{\\frac{\\sum\\limits_{i=1}^n (x_{i})^{2}}{n*\\sum\\limits_{i=1}^n (x_{i}- \\overline x)^{2}}}$$"
    },
    {
      "metadata": {
        "trusted": true
      },
      "cell_type": "code",
      "source": "",
      "execution_count": null,
      "outputs": []
    },
    {
      "metadata": {},
      "cell_type": "markdown",
      "source": "Multiplie los valores de la incertidumbre en pendiente e interpceto por 2.57 y tendrá las incertidumbres finales con un límite de confianza del 95%! <br>\n\nFelicidades! Acaba de aprender como se hace una regresión lineal!\n\nPara mas información: <br>\nConsulte las páginas 113 a 122 del Miller <br>\nLibro: http://www.ciens.ucv.ve:8080/generador/sites/QAII-pregrado/archivos/miller-estadistica%20y%20quimiometria%20para%20quimica%20analitica%202005.pdf\n\nEste ejercicio, se encuetra resuelto en el libro <br>\n\nSólo que acá lo resolverá en Python <br>"
    },
    {
      "metadata": {
        "trusted": true
      },
      "cell_type": "markdown",
      "source": "### Fin de Tarea"
    },
    {
      "metadata": {
        "trusted": true
      },
      "cell_type": "code",
      "source": "",
      "execution_count": null,
      "outputs": []
    }
  ],
  "metadata": {
    "kernelspec": {
      "name": "python36",
      "display_name": "Python 3.6",
      "language": "python"
    },
    "language_info": {
      "mimetype": "text/x-python",
      "nbconvert_exporter": "python",
      "name": "python",
      "pygments_lexer": "ipython3",
      "version": "3.6.6",
      "file_extension": ".py",
      "codemirror_mode": {
        "version": 3,
        "name": "ipython"
      }
    }
  },
  "nbformat": 4,
  "nbformat_minor": 2
}