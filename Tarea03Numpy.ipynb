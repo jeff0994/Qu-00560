{
  "nbformat": 4,
  "nbformat_minor": 0,
  "metadata": {
    "kernelspec": {
      "name": "python36",
      "display_name": "Python 3.6",
      "language": "python"
    },
    "language_info": {
      "mimetype": "text/x-python",
      "nbconvert_exporter": "python",
      "name": "python",
      "pygments_lexer": "ipython3",
      "version": "3.6.6",
      "file_extension": ".py",
      "codemirror_mode": {
        "version": 3,
        "name": "ipython"
      }
    },
    "colab": {
      "name": "Tarea03Numpy.ipynb",
      "provenance": [],
      "include_colab_link": true
    }
  },
  "cells": [
    {
      "cell_type": "markdown",
      "metadata": {
        "id": "view-in-github",
        "colab_type": "text"
      },
      "source": [
        "<a href=\"https://colab.research.google.com/github/jeff0994/Qu-00560/blob/master/Tarea03Numpy.ipynb\" target=\"_parent\"><img src=\"https://colab.research.google.com/assets/colab-badge.svg\" alt=\"Open In Colab\"/></a>"
      ]
    },
    {
      "cell_type": "markdown",
      "metadata": {
        "collapsed": true,
        "id": "dOKfBEYuppJf"
      },
      "source": [
        "# Universidad de Costa Rica\n",
        "\n",
        "## Facultad de Ciencias\n",
        "\n",
        "## Escuela de Química\n",
        "\n",
        "## Sección de Fisicoquímica\n",
        "\n",
        "## Qu-0560 Tópicos de Química Física: Herramientas Computacionales para Química\n",
        "\n",
        "### Profesor Mauricio Gutiérrez\n",
        "### Asistente no oficial: Yefry López"
      ]
    },
    {
      "cell_type": "markdown",
      "metadata": {
        "id": "VBoBWygWppJi"
      },
      "source": [
        "# Uso del paquete computacional Numpy."
      ]
    },
    {
      "cell_type": "code",
      "metadata": {
        "trusted": true,
        "id": "8bGYRzX6ppJi"
      },
      "source": [
        "import numpy  as np"
      ],
      "execution_count": null,
      "outputs": []
    },
    {
      "cell_type": "markdown",
      "metadata": {
        "id": "cFloBu0oppJj"
      },
      "source": [
        "## Ejercicio 1. Ejecute las siguientes operaciones con las matrices __A__ , __B__ y el vector X\n",
        "Recuerde declarar las matrices en variables como numpy arrays\n",
        "\n",
        "$$ A= \\begin{bmatrix}{1}&{2}&{3}\\\\{4}&{8}&{3}\\\\{7}&{5}&{8}\\end{bmatrix} $$ \n",
        "<br>\n",
        "$$ B= \\begin{bmatrix}{-0.1}&{-0.4}&{-0.3}\\\\{3}&{10}&{2}\\\\{4}&{2}&{0.5}\\end{bmatrix} $$\n",
        "<br>\n",
        "$$ B= \\begin{bmatrix}{2}\\\\{4}\\\\{5}\\end{bmatrix} $$\n",
        "\n",
        "* $ A \\cdot B $ (producto punto)\n",
        "* $ A \\times B  $ (producto cruz)\n",
        "* $ A \\cdot x $\n",
        "* $ A^{-1} \\cdot B $ (Nótese que primero debe encontrar la matriz inversa de A, para eso busque en Numpy un comando que calcule la inversa de una matriz, luego ejecute el producto."
      ]
    },
    {
      "cell_type": "markdown",
      "metadata": {
        "id": "SBlro8sAppJj"
      },
      "source": [
        "## Ejercicio 2. Programación lineal.\n",
        "\n",
        "Para el curso de Análisis II, para cada regresión, se le pedirá que use el método de mínimos cuadrados para programar una hoja de excel que le permita hacer regresiones lineales a sus datos. <br>\n",
        "\n",
        "En una regresión lineal, nos interesa encontrar los parámetro b y m que mejor se ajusten a un recta\n",
        "\n",
        "$$ y = mx + b $$ <br>\n",
        "\n",
        "Hay mucho sofware que te encuentra los parámetros de mejor ajuste y te da información extra como el coeficiente de correlación e incertidumbres de los parámetros. <br>\n",
        "\n",
        "Para esto emplea rutinas como mínimos cuadrados para calcularlos. <br>\n",
        "\n",
        "En este ejercicio aprenderás lo que hay detrás de dicho sofware. <br>\n",
        "\n"
      ]
    },
    {
      "cell_type": "markdown",
      "metadata": {
        "id": "cqiIy6klppJk"
      },
      "source": [
        "Para la siguientes ejericicios. emplearás el siguiente set de datos. <br>\n",
        "\n",
        "Intensidades = [2.1 , 5.0 , 9.0 , 12.6 , 17.3, 21.0 , 24.7] <br>\n",
        "Concentración = [0 , 2 , 4 , 6 , 8 , 10 , 12] en picogramos/mL <br>\n",
        "\n",
        "Representa un análisis de soluciones fluresceina a diferentes concentraciones, a cada una se le midio la intensidad en un espectofotrómetro. <br>"
      ]
    },
    {
      "cell_type": "markdown",
      "metadata": {
        "id": "ygTJJyYgppJk"
      },
      "source": [
        "### Ejercicios 2.1 Determinando el coeficiente de correlación. (Resuelto)\n",
        "\n",
        "Se define el coeficiente de correlación __r__ como\n",
        "\n",
        "$$ r = \\frac{\\sum\\limits_{i=1}^n \\left((x_{i}- \\overline x )(y_{i}- \\overline y )\\right) }{\\left( (\\sum\\limits_{i=1}^n (x_{i}- \\overline x )^{2})(\\sum\\limits_{i=1}^n (y_{i}- \\overline y )^{2})   \\right)^{\\frac{1}{2}}} $$"
      ]
    },
    {
      "cell_type": "markdown",
      "metadata": {
        "id": "dmk5N6C0ppJk"
      },
      "source": [
        "Donde $\\overline y$ y $\\overline x$ representan los promedios de las mediciones en x y y. <br>\n",
        "<br>\n",
        "\n",
        "Y $y_{i}$ y $x_{i}$ representan las i-ésimas mediciones en y y x. <br>\n",
        "\n",
        "Por ejemplo, para nuestro set de datos de concentraciones <br>\n",
        "\n",
        "$ x_{1}$ = 0 <br>\n",
        "$x_{2}$ = 2 <br>\n",
        "$x_{3}$ = 4 y así sucesivamente <br>\n",
        "\n",
        "Calcule el factor de correlación e interprete su resultado para el set de datos de intesidad y concentración."
      ]
    },
    {
      "cell_type": "markdown",
      "metadata": {
        "id": "epbbi39sppJl"
      },
      "source": [
        "Para ejercicio iremos paso a paso.\n",
        "\n",
        "Primero comenzaremos con el denominador"
      ]
    },
    {
      "cell_type": "markdown",
      "metadata": {
        "id": "PSy5FUAippJl"
      },
      "source": [
        "Paso 1. Definiremos Intensidad y concentración en términos de numpy arrays"
      ]
    },
    {
      "cell_type": "code",
      "metadata": {
        "trusted": true,
        "id": "VqI5pd8JppJl"
      },
      "source": [
        "Intensidades = [2.1 , 5.0 , 9.0 , 12.6 , 17.3, 21.0 , 24.7] \n",
        "Concentraciones = [0 , 2 , 4 , 6 , 8 , 10 , 12]\n",
        "\n",
        "Intensidades = np.array(Intensidades)\n",
        "Concentraciones = np.array(Concentraciones)"
      ],
      "execution_count": null,
      "outputs": []
    },
    {
      "cell_type": "markdown",
      "metadata": {
        "id": "jlnT0lXippJl"
      },
      "source": [
        "Paso 2. Calcularemos el promedio de cada array"
      ]
    },
    {
      "cell_type": "code",
      "metadata": {
        "trusted": true,
        "id": "wkI34Nl8ppJm"
      },
      "source": [
        "promedio_intensidad = np.mean(Intensidades)\n",
        "promedio_concentraciones = np.mean(Concentraciones)"
      ],
      "execution_count": null,
      "outputs": []
    },
    {
      "cell_type": "markdown",
      "metadata": {
        "id": "glYiX_hHppJm"
      },
      "source": [
        "Paso 3. Calcularemos el factor $(x_{i}- \\overline x )$\n",
        "\n",
        "Le llamaremos  diferencia_concentraciones a Ci-C_promedio\n",
        "\n",
        "Es decir a cada dato de concentración le restaremos el promedio de la concentración"
      ]
    },
    {
      "cell_type": "code",
      "metadata": {
        "trusted": true,
        "id": "zFBUD0mMppJm"
      },
      "source": [
        "diferencia_concentraciones =  Concentraciones - promedio_concentraciones"
      ],
      "execution_count": null,
      "outputs": []
    },
    {
      "cell_type": "markdown",
      "metadata": {
        "id": "FtEY8wzDppJm"
      },
      "source": [
        "Paso 4. Calcularemos el factor $ (y_{i}- \\overline y )$\n",
        "\n",
        "En este caso $y_{i}$ representa las intensidades"
      ]
    },
    {
      "cell_type": "code",
      "metadata": {
        "trusted": true,
        "id": "QezOijaqppJn"
      },
      "source": [
        "diferencia_intensidades = Intensidades - promedio_intensidad"
      ],
      "execution_count": null,
      "outputs": []
    },
    {
      "cell_type": "markdown",
      "metadata": {
        "id": "hPp0R2fHppJn"
      },
      "source": [
        "Paso 5. Ahora podemos calcular los factores   ${\\left(x_{i}- \\overline x\\right)^{2}} $ y   ${\\left(y_{i}- \\overline y\\right)^{2}} $\n",
        "<br>\n",
        "Que es simplement elevar al cuadrado cada elemento de las diferencias <br>"
      ]
    },
    {
      "cell_type": "code",
      "metadata": {
        "trusted": true,
        "id": "60wWI3KJppJn"
      },
      "source": [
        "diferencia_concentraciones_cuadrado = np.power(diferencia_concentraciones,2)\n",
        "diferencia_intensidades_cuadrado = np.power(diferencia_intensidades,2)"
      ],
      "execution_count": null,
      "outputs": []
    },
    {
      "cell_type": "markdown",
      "metadata": {
        "id": "9YpWLA83ppJn"
      },
      "source": [
        "Paso 6. Ahora hacer las sumas! Sumemos cada elemento de los vectores"
      ]
    },
    {
      "cell_type": "code",
      "metadata": {
        "trusted": true,
        "id": "j2ktf9b4ppJn"
      },
      "source": [
        "suma_concentraciones = np.sum(diferencia_concentraciones_cuadrado)\n",
        "suma_intensidades = np.sum(diferencia_intensidades_cuadrado)"
      ],
      "execution_count": null,
      "outputs": []
    },
    {
      "cell_type": "markdown",
      "metadata": {
        "id": "smoXGrkrppJo"
      },
      "source": [
        "Paso 7.\n",
        "Sí te diste cuenta, ya casi tenemos el denomidador!\n",
        "\n",
        "Ahora sólo falta multiplicar los factores pasados y sacarles raiz cuadrada!"
      ]
    },
    {
      "cell_type": "code",
      "metadata": {
        "trusted": true,
        "id": "oHZ65X1NppJo"
      },
      "source": [
        "denominador = np.sqrt(suma_concentraciones*suma_intensidades)"
      ],
      "execution_count": null,
      "outputs": []
    },
    {
      "cell_type": "code",
      "metadata": {
        "trusted": true,
        "id": "LLQp3vC5ppJo"
      },
      "source": [
        "denominador"
      ],
      "execution_count": null,
      "outputs": []
    },
    {
      "cell_type": "markdown",
      "metadata": {
        "id": "vhW5hseippJo"
      },
      "source": [
        "Ahora el numerador!\n",
        "\n",
        "Nota que ya tenemos las diferencias de\n",
        "\n",
        "$( x_{i} - \\overline x )$ y $(y_{i}- \\overline y )$\n",
        "\n",
        "Procedemos a multiplicarlos!"
      ]
    },
    {
      "cell_type": "markdown",
      "metadata": {
        "id": "WemXcMM5ppJo"
      },
      "source": [
        "Paso 8."
      ]
    },
    {
      "cell_type": "code",
      "metadata": {
        "trusted": true,
        "id": "8QDOYoncppJp"
      },
      "source": [
        "multiplicacion_de_diferencias = diferencia_concentraciones*diferencia_intensidades"
      ],
      "execution_count": null,
      "outputs": []
    },
    {
      "cell_type": "markdown",
      "metadata": {
        "id": "pB2A3WiIppJp"
      },
      "source": [
        "Paso 9. Sumamos! Que representa el numerador!"
      ]
    },
    {
      "cell_type": "code",
      "metadata": {
        "trusted": true,
        "id": "A65KK81hppJp"
      },
      "source": [
        "numerador = np.sum(multiplicacion_de_diferencias)"
      ],
      "execution_count": null,
      "outputs": []
    },
    {
      "cell_type": "code",
      "metadata": {
        "trusted": true,
        "id": "UEL7Va75ppJp"
      },
      "source": [
        "Ya podemos calcular R!"
      ],
      "execution_count": null,
      "outputs": []
    },
    {
      "cell_type": "code",
      "metadata": {
        "trusted": true,
        "id": "JfXWvZqfppJp"
      },
      "source": [
        "r = numerador / denominador\n",
        "print(r)"
      ],
      "execution_count": null,
      "outputs": []
    },
    {
      "cell_type": "markdown",
      "metadata": {
        "id": "MmJUjRdFppJq"
      },
      "source": [
        "r estima que tan bien se ajusta a una linea recta un set de datos, entre mas cercano a 1, mejor ajuste! <br>\n",
        "\n",
        "Como r es cercano 1, podemos concluir que las variables se ajustan muy bien a un modelo lineal y se encuentran fuertemente correlacionadas <br>"
      ]
    },
    {
      "cell_type": "code",
      "metadata": {
        "trusted": true,
        "id": "I6EWJg1LppJq"
      },
      "source": [
        ""
      ],
      "execution_count": null,
      "outputs": []
    },
    {
      "cell_type": "markdown",
      "metadata": {
        "id": "Yc7p9ijjppJq"
      },
      "source": [
        "### Ejercicio 2.2 Determinando la pendiente de la gráfica.\n",
        "\n",
        "En el método de regresión lineal por mínimos cuadrados se define m como la pendiente de la gráfica. <br>\n",
        "\n",
        "$$ m = \\frac{\\sum\\limits_{i=1}^n \\left((x_{i}- \\overline x )(y_{i}- \\overline y )\\right) }{\\left( (\\sum\\limits_{i=1}^n (x_{i}- \\overline x )^{2})\\right)} $$\n",
        "\n",
        "Empleando los datos de intensidades y concentraciones calcule la pendiente."
      ]
    },
    {
      "cell_type": "code",
      "metadata": {
        "trusted": true,
        "id": "-3Zy23LsppJr"
      },
      "source": [
        ""
      ],
      "execution_count": null,
      "outputs": []
    },
    {
      "cell_type": "markdown",
      "metadata": {
        "id": "CF6PnotbppJr"
      },
      "source": [
        "### Ejercicio 2.3  Determinando el intercepto de la gráfica."
      ]
    },
    {
      "cell_type": "markdown",
      "metadata": {
        "id": "zYxC2NBXppJr"
      },
      "source": [
        "En el método de regresión lineal por mínimos cuadrados se define b como el intecepto de la gráfica.\n",
        "\n",
        "$$ b = \\overline y - m*\\overline x $$ \n",
        "\n",
        "Empleando los datos de intensidades y concentraciones calcule el intercepto."
      ]
    },
    {
      "cell_type": "code",
      "metadata": {
        "trusted": true,
        "id": "vVFgQ-HvppJr"
      },
      "source": [
        ""
      ],
      "execution_count": null,
      "outputs": []
    },
    {
      "cell_type": "markdown",
      "metadata": {
        "id": "nXA0wzdwppJr"
      },
      "source": [
        "#### Ejercicio 2.4. Determinando $s_{\\frac{y}{x}}$ los errores aleatorios en la dirección y\n",
        "\n",
        "Para calcular la incertidumbre de la pendiente y del intercepto mediante mínimos cuadrados, primero debe calcularse  $s_{\\frac{y}{x}}$ <br>\n",
        "\n",
        "Se define  $$s_{\\frac{y}{x}} = \\sqrt{\\left(\\frac{\\sum\\limits_{i=1}^n \\left(y_{i}- \\hat{y})\\right)^{2} }{n-2}\\right)}$$\n"
      ]
    },
    {
      "cell_type": "markdown",
      "metadata": {
        "id": "Zin4kFqVppJs"
      },
      "source": [
        "__OJO__ Acá $\\hat{y}$ NO REPRESENTA EL PROMEDIO.\n",
        "\n",
        "$\\hat{y}$ representa los valores de y al evaluar con los parámetros b y m recién calculados.\n",
        "\n",
        "Osea $\\hat{y} = mx + b $\n",
        "\n",
        "Donde m y b los acaba de calcular y x sería las concentraciones"
      ]
    },
    {
      "cell_type": "markdown",
      "metadata": {
        "id": "A7h_b4hzppJs"
      },
      "source": [
        "En regresión usted tendrá siempre <br>\n",
        "\n",
        "y medidos, valores que usted midio en el laboratorios <br>\n",
        "$\\hat{y}$ o y estimados, valores que vienen de optimizar un modelo a partir de encontrar m y b del mejor ajuste <br>"
      ]
    },
    {
      "cell_type": "markdown",
      "metadata": {
        "id": "SNSLkj9kppJs"
      },
      "source": [
        "#### Ejercicio 2.5 y 2.6 Encontrando la incertidumbre de la pendiente e intercepto.\n",
        "\n",
        "Se define la incertidumbre de la pendiente m como \n",
        "\n",
        "$$ s_{m} = \\frac{s_{\\frac{y}{x}}}{\\sum\\limits_{i=1}^n (x_{i}- \\overline x )^{2}} $$\n",
        "\n",
        "Se define la incertidumbre del intercepto b como \n",
        "\n",
        "$$ s_{b} = s_{\\frac{y}{x}}* \\sqrt{\\frac{\\sum\\limits_{i=1}^n (x_{i})^{2}}{n*\\sum\\limits_{i=1}^n (x_{i}- \\overline x)^{2}}}$$"
      ]
    },
    {
      "cell_type": "code",
      "metadata": {
        "trusted": true,
        "id": "l_NrXVzFppJs"
      },
      "source": [
        ""
      ],
      "execution_count": null,
      "outputs": []
    },
    {
      "cell_type": "markdown",
      "metadata": {
        "id": "OCjQAuYuppJs"
      },
      "source": [
        "Multiplie los valores de la incertidumbre en pendiente e interpceto por 2.57 y tendrá las incertidumbres finales con un límite de confianza del 95%! <br>\n",
        "\n",
        "Felicidades! Acaba de aprender como se hace una regresión lineal!\n",
        "\n",
        "Para mas información: <br>\n",
        "Consulte las páginas 113 a 122 del Miller <br>\n",
        "Libro: http://www.ciens.ucv.ve:8080/generador/sites/QAII-pregrado/archivos/miller-estadistica%20y%20quimiometria%20para%20quimica%20analitica%202005.pdf\n",
        "\n",
        "Este ejercicio, se encuetra resuelto en el libro <br>\n",
        "\n",
        "Sólo que acá lo resolverá en Python <br>"
      ]
    },
    {
      "cell_type": "markdown",
      "metadata": {
        "trusted": true,
        "id": "e--BXMVqppJt"
      },
      "source": [
        "### Fin de Tarea"
      ]
    },
    {
      "cell_type": "code",
      "metadata": {
        "trusted": true,
        "id": "a3QfRNS6ppJt"
      },
      "source": [
        ""
      ],
      "execution_count": null,
      "outputs": []
    }
  ]
}