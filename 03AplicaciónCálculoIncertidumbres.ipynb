{
  "cells": [
    {
      "metadata": {
        "collapsed": true
      },
      "cell_type": "markdown",
      "source": "# Universidad de Costa Rica\n\n## Facultad de Ciencias\n\n## Escuela de Química\n\n## Sección de Fisicoquímica\n\n## Qu-0560 Tópicos de Química Física: Herramientas Computacionales para Química\n\n### Profesor Mauricio Gutierrez\n### Asistente no oficial: Yefry López"
    },
    {
      "metadata": {},
      "cell_type": "markdown",
      "source": "# Aplicación I. Propagación de Incertidumbres"
    },
    {
      "metadata": {},
      "cell_type": "markdown",
      "source": "## Objetivos de Aprendizaje\n\n- Familiarizar al estudiante con el manejo y propagación de incertidumbres usando el paquete __uncertainties__ Python"
    },
    {
      "metadata": {},
      "cell_type": "markdown",
      "source": "Somos científicos! Por lo tanto toda medición tendrá cierta incertidumbre asociada. En nuestros cursos de Análisis Químico Cuantitativo aprendimos o aprenderemos a realizar el manejo de incertidumbres o propagación de errores de ciertas expresiones básicas como suma, reta, divisiones, logaritmos y exponentes. <br>\n\nSin embargo que sucede cuando tenemos modelos mucho mas complejos? Como calcular la incertidumbre de un coseno hiperbólico por ejemplo? Como nuestra primer aplicación, usaremos la Teoría Básica de Propagación de Errores ( Sí queres indagar en la teoría muchos de tus conocimientos en Cálculo III serán de gran ayuda) y para esto haremos uso de dos herramientas <br>\n\n- Paquete uncertainties en Python que te permite manejar números con incertidumbres\n- Paquete ScientificErrorAnalysis en Maple\n\nEn Python haremos los siguientes pasos <br>\n\n* Instalar el paquete con el comando !pip install uncertainties\n* Del paquete uncertainties importar ufloat para que Python aprenda a manejar números con incertidumbres e importar umath para que Python pueda trabajar con expresiones matemáticas."
    },
    {
      "metadata": {},
      "cell_type": "markdown",
      "source": "El paquete uncertainties es un programa gratuito y multiplataforma que maneja de manera transparente los cálculos con números con incertidumbres (como 3.14 ± 0.01). También puede producir las derivadas de cualquier expresión.\n\nEl paquete de incertidumbres elimina el dolor y la complejidad de los cálculos de incertidumbre. ¡La propagación de errores ya no debe temerse!\n\nWeb del autor https://pythonhosted.org/uncertainties/\n"
    },
    {
      "metadata": {},
      "cell_type": "markdown",
      "source": "Ejecuta la siguiente celda (Teclas Ctrl + Intro) o dale \"Run\" \nLe estamos diciendo a Python... Hey descarga e instala ese paquete!"
    },
    {
      "metadata": {
        "trusted": true
      },
      "cell_type": "code",
      "source": "#Ejecuta la siguiente celda (Teclas Ctrl + Intro) o dale \"Run\"\n!pip install uncertainties",
      "execution_count": 3,
      "outputs": [
        {
          "output_type": "stream",
          "text": "Collecting uncertainties\n\u001b[?25l  Downloading https://files.pythonhosted.org/packages/ff/ff/f09f983c95d815a92200eaa2120a149643390c5a1bbd192ad55ee467aa83/uncertainties-3.0.2.tar.gz (229kB)\n\u001b[K    100% |████████████████████████████████| 235kB 2.1MB/s ta 0:00:01\n\u001b[?25hBuilding wheels for collected packages: uncertainties\n  Running setup.py bdist_wheel for uncertainties ... \u001b[?25ldone\n\u001b[?25h  Stored in directory: /home/nbuser/.cache/pip/wheels/10/61/05/2e057f22a9eb7443bfcfb135bd902dda400030a63ba4806611\nSuccessfully built uncertainties\nInstalling collected packages: uncertainties\nSuccessfully installed uncertainties-3.0.2\n",
          "name": "stdout"
        }
      ]
    },
    {
      "metadata": {},
      "cell_type": "markdown",
      "source": "Vamos a importar el programa a nuestra Notebook ( Esta hoja de cálculo).... \nEn términos senciilos, le estamos mostrando a Python como manejar la propagación de errores. \nEjecuta la siguiente celda (Teclas Ctrl + Intro) o dale \"Run\""
    },
    {
      "metadata": {
        "trusted": true
      },
      "cell_type": "code",
      "source": "#Ejecuta la siguiente celda (Teclas Ctrl + Intro) o dale \"Run\"\nfrom uncertainties import ufloat\n",
      "execution_count": 4,
      "outputs": []
    },
    {
      "metadata": {
        "trusted": true
      },
      "cell_type": "code",
      "source": "#Ejecuta la siguiente celda (Teclas Ctrl + Intro) o dale \"Run\"\nfrom uncertainties.umath import *  # Ya podes usar tangente, seno, cosenos , etc",
      "execution_count": 5,
      "outputs": []
    },
    {
      "metadata": {},
      "cell_type": "markdown",
      "source": "Gracias a uncertainties Python ya sabe manejar números con incertidumbre\n\nAntes de iniciar, vamos a importar otro paquete! El paquete matemático de Python te permitirá manejar funciones trigonométricas, logaritmos y demás!"
    },
    {
      "metadata": {},
      "cell_type": "markdown",
      "source": "Listo ya Python sabe trabajar con expresiones trigonométricas, exponenciales y manejar incertidumbres!\n\nPor ejemplo, si se tiene que:\n\na = 2.0 ± 0.1 \nb = 4.00 ± 0.05 \nc = 1.000 ± 0.003 \n\nPodes decirle a Python que guarde esos números inexactos de la siguiente forma:\n(Donde ufloat es el disminutivo de \"uncertain float\" número real con incertidumbre)\nDentro del paréntesis en __ufloat__, se coloca primero el número y luego su incertidumbre separada por una coma."
    },
    {
      "metadata": {
        "trusted": true
      },
      "cell_type": "code",
      "source": "#Ejecuta la siguiente celda (Teclas Ctrl + Intro) o dale \"Run\")\n\na = ufloat(2.0000, 0.0001)  #  ufloat( medición , incertidumbre)\nb = ufloat(4.00050, 0.00005)\nc = ufloat(1.0000 , 0.0003)\nd = ufloat(5.0006 , 0.0006)",
      "execution_count": 8,
      "outputs": []
    },
    {
      "metadata": {},
      "cell_type": "markdown",
      "source": "¿Pasó algo? \nAunque no hayas visto nada, Python ya tiene guardado las variables que asignaste! \nSi queres ver el valor de la variable haz lo siguiente!"
    },
    {
      "metadata": {
        "trusted": true
      },
      "cell_type": "code",
      "source": "# Escribe el nombre de la variable y ejecuta la celda\na",
      "execution_count": 9,
      "outputs": [
        {
          "output_type": "execute_result",
          "execution_count": 9,
          "data": {
            "text/plain": "2.0+/-0.0001"
          },
          "metadata": {}
        }
      ]
    },
    {
      "metadata": {},
      "cell_type": "markdown",
      "source": "¿Viste? Python automáticamente guarda los valores asignados en la memoría "
    },
    {
      "metadata": {},
      "cell_type": "markdown",
      "source": "Si queres, tener los tres valores de las variables, podes usar la función print() \nDonde dentro del paréntesis irá la variable que querés \"imprimir\"\n\nprint es una función que usarás bastante!"
    },
    {
      "metadata": {
        "trusted": true
      },
      "cell_type": "code",
      "source": "#Ejecuta la siguiente celda (Teclas Ctrl + Intro) o dale \"Run\")\nprint(a)\nprint(b)\nprint(c)\nprint(d)",
      "execution_count": 10,
      "outputs": [
        {
          "output_type": "stream",
          "text": "2.00000+/-0.00010\n4.00050+/-0.00005\n1.00000+/-0.00030\n5.0006+/-0.0006\n",
          "name": "stdout"
        }
      ]
    },
    {
      "metadata": {},
      "cell_type": "markdown",
      "source": "Python sabe manejar la aritmética básica, podes efectuar operaciones sencillas <br>\n\n\"+\" para suma <br>\n\"-\" para resta <br>\n\"/\" para división <br>\n\"*\" para múltiplicación <br>\n\"**\" para exponentes <br>\n\nIMPORTANTE. En Python existen reglas de procedencia.<br>\nPython asignará prioridad para evaluar operaciones númericas\n\n+ Primer prioridad \"()\" y \"**\" (paréntesis y exponeciación) <br>\n+ Segunda prioridad \"*\" y \"/\" <br>\n+ Tercera prioridad \"+\" y \"-\" <br>"
    },
    {
      "metadata": {
        "trusted": true
      },
      "cell_type": "code",
      "source": "#Hagamos un ejemplo!\n#Ejecuta la siguiente celda (Teclas Ctrl + Intro) o dale \"Run\")\n\nd = a + (b/c)\nd",
      "execution_count": 11,
      "outputs": [
        {
          "output_type": "execute_result",
          "execution_count": 11,
          "data": {
            "text/plain": "6.0005+/-0.001205346432566173"
          },
          "metadata": {}
        }
      ]
    },
    {
      "metadata": {},
      "cell_type": "markdown",
      "source": "Hagamos operaciones mas complicadas! Trabajemos con operaciones trigonométricas, logaritmos y exponeciales <br>\nA continuación algunos códigos útiles\n\n+ Para el seno usas: __sin()__       \n+ Para el coseno usas: __cos()__      \n+ Para la tangente usas: __tan()__   \n+ Para trabajar con PI: __math.PI__\n+ Para trabajar con exponente e : __exp()__\n+ Para trabajar con raices cuadradas: __sqrt()__\n+ Para trabajar con potencias fraccionarias Por ejemplo 2^(3/2): ___pow(base, exponente)___\n+ Para trabajar con logarimos en base 2:  __log2(x)__\n+ Para trabajar con logarimos en base 2:  __log10(x)__ ( Mejor conocido como \"log\" en la cálculadora científica.\n+ Logaritmo natural: __log(x,exp(1))__ Donde x el el valor al que le queres calcular el logaritmo natural\n\n\n\nDentro del paréntesis irá el valor que deseas cálcular!"
    },
    {
      "metadata": {},
      "cell_type": "markdown",
      "source": "Veamos varios ejemplos!\n\n1. Calcule el valor de la siguiente expresión. Recuerde que los valores a, b y c ya se encontruen guardados d= sen(2*b) / c"
    },
    {
      "metadata": {
        "trusted": true
      },
      "cell_type": "code",
      "source": "d = sin(2*b) / c\n\nprint(d)",
      "execution_count": 12,
      "outputs": [
        {
          "output_type": "stream",
          "text": "0.98921+/-0.00030\n",
          "name": "stdout"
        }
      ]
    },
    {
      "metadata": {},
      "cell_type": "markdown",
      "source": "2. Calcule el valor de e = a^b"
    },
    {
      "metadata": {
        "trusted": true
      },
      "cell_type": "code",
      "source": "e = a**b\n\nprint(e)",
      "execution_count": 13,
      "outputs": [
        {
          "output_type": "stream",
          "text": "16.0055+/-0.0032\n",
          "name": "stdout"
        }
      ]
    },
    {
      "metadata": {},
      "cell_type": "markdown",
      "source": "3. Calcule la incertidumbre de log10(a)"
    },
    {
      "metadata": {
        "trusted": true
      },
      "cell_type": "code",
      "source": "print(log10(a))",
      "execution_count": 14,
      "outputs": [
        {
          "output_type": "stream",
          "text": "0.301030+/-0.000022\n",
          "name": "stdout"
        }
      ]
    },
    {
      "metadata": {},
      "cell_type": "markdown",
      "source": "4. Calcule la incertidumbre de e^(b) y guardela en la variable f"
    },
    {
      "metadata": {
        "trusted": true
      },
      "cell_type": "code",
      "source": "f = exp(b)\nprint(f)",
      "execution_count": 15,
      "outputs": [
        {
          "output_type": "stream",
          "text": "54.6255+/-0.0027\n",
          "name": "stdout"
        }
      ]
    },
    {
      "metadata": {},
      "cell_type": "markdown",
      "source": "5. Calcule la incertidumbre de a*ln(b) + c y guardela en la variable g"
    },
    {
      "metadata": {
        "trusted": true
      },
      "cell_type": "code",
      "source": "g = (a*log(b,exp(1))) + c\n\nprint(g)",
      "execution_count": 16,
      "outputs": [
        {
          "output_type": "stream",
          "text": "3.77284+/-0.00033\n",
          "name": "stdout"
        }
      ]
    },
    {
      "metadata": {},
      "cell_type": "markdown",
      "source": "6. Calcule la incertidumbre de sin(c*ln(a))/b  y guardela en la variable m"
    },
    {
      "metadata": {
        "trusted": true
      },
      "cell_type": "code",
      "source": "m = sin(c*log(a,exp(1))) / b\nprint(m)",
      "execution_count": 17,
      "outputs": [
        {
          "output_type": "stream",
          "text": "0.15972+/-0.00004\n",
          "name": "stdout"
        }
      ]
    },
    {
      "metadata": {},
      "cell_type": "markdown",
      "source": "Nota la diferencia sinó pones tu variable en la función print()"
    },
    {
      "metadata": {
        "trusted": true
      },
      "cell_type": "code",
      "source": "m # Sinó incluis el print() Python te va a tirar todos los decimales",
      "execution_count": 18,
      "outputs": [
        {
          "output_type": "execute_result",
          "execution_count": 18,
          "data": {
            "text/plain": "0.15972035403415444+/-4.11727402698863e-05"
          },
          "metadata": {}
        }
      ]
    },
    {
      "metadata": {},
      "cell_type": "markdown",
      "source": "## Ejemplo Cálculo de Incertidumbres para Conductividad de Pb(SO4) y Kps\n\nEn su curso de Laboratorio de Fisicoquímica II usted aprenderá a determinar la Kps de una sal poco soluble como lo es el sulfato de plomo, usando mediciones de conductividad.<br>\n\nEl equilibrio de solubilidad del $Pb(SO_4)$ está dado por la siguiente expresión. <br>\n\n$$Pb(SO_{4})_{(s)} <=> Pb^{2+}_{(ac)} + {{SO_{4}}^{2-}}_{(ac)} (1)$$ <br>\n\nAl plantear el equilibrio , de inmediato puede verse que <br>\n\n$$Kps = s^2 (2)$$\n\nDonde s representa la solubilidad de la sal. <br>\n\nLa solubilidad __s__ puede medirse usando la siguiente expresión <br>\n$$s = \\frac{\\kappa}{\\Lambda_{m}^{0}} (3)$$ <br>\n\nDonde $\\kappa$ representa la conductividad de una disolución saturada del $Pb(SO_{4})_{(s)}$ , por otro lado $\\Lambda_{m}^{0}$ representa una cantidad conocida como la conductividad molar límite de la sal ( No te preocupes sinó entendes los términos, eventualmente los verás en fisicoquímica, por ahora concentremonos en el cálculo de incertidumbres <br>\n\nPor lo tanto, sí sustituimos la expresión (3) en (2) puede verse que <br>\n\n$$Kps = {(\\frac{\\kappa}{\\Lambda_{m}^{0}})}^{2} (4)$$ <br>\n\nPara medir la conductividad $\\kappa$ usas un conductímetro (duh era obvio no? ) <br>\n\n<img src='http://img.medicalexpo.es/images_me/photo-mg/100041-8080034.jpg' alt=\"conductividad\" align= \"center\">\n\nPor otra parte ${\\Lambda_{m}^{0}}$ puede obtener a partir de la contribución de varias especies siguiendo la siguiente ecuación\n\n\n$${\\Lambda_{m}^{0} (Pb(SO_4))} = {\\Lambda_{m}^{0} (K_{2}(SO_4))} + {\\Lambda_{m}^{0} (Pb(NO_3)_{2})} - 2{\\Lambda_{m}^{0} (K(SO_4))} (5)$$\n\nPor ahora no te preocupes de donde sale esta exptresión! Serán valores dados en este problema.\n\n\n\n\n\n"
    },
    {
      "metadata": {
        "trusted": true
      },
      "cell_type": "markdown",
      "source": "A partir de los siguientes datos . Cálcule la Kps y su incertidumbre para el sulfato de plomo.\n\n\n\nConductividad PbSO₄ saturada 0,00325 +- 0,00001S/m <br>\n\t\t\n\t\t\nSustancia  <br>\n * Λ°m (S m² / mol) Pb(NO₃)₂ =\t0,027 +- 0,001<br>\n *  Λ°m (S m² / mol) KNO₃ =    0,0148 +-0,0001<br>\n * Λ°m (S m² / mol) K₂SO₄ =    0,0329  +-0,0005<br>\n\n"
    },
    {
      "metadata": {
        "trusted": true
      },
      "cell_type": "code",
      "source": "#Resolución\n\n#Paso 1 Declaremos variables usando ufloat\n\nconduc_molar_limite_PbNO32 = ufloat( 0.028,0.001)\nconduc_molar_limite_K2SO4 = ufloat( 0.031,0.0001)\nconduc_molar_limite_KNO3 = ufloat( 0.0145,0.0001)\nconduc_PbSO4_Saturado = ufloat (0.00325, 0.00001)\n                              \n##Paso 2 Calculamos la conductividad molar límite del sulfato de plomo saturado usando la ecuación (5) y las varibales\n##declaradas en el paso 1\nconduc_molar_limite_PbSO4 =  conduc_molar_limite_K2SO4 + conduc_molar_limite_PbNO32 - 2* conduc_molar_limite_KNO3 \n                                    \nprint(conduc_molar_limite_PbSO4)\n",
      "execution_count": 24,
      "outputs": [
        {
          "output_type": "stream",
          "text": "0.0300+/-0.0010\n",
          "name": "stdout"
        }
      ]
    },
    {
      "metadata": {
        "trusted": true
      },
      "cell_type": "code",
      "source": "#Ya tenemos la conductividad molar límite! Del sulfato de plomo\n\n#Paso 3 Calcular kps según (4)\n\nKps = pow(conduc_PbSO4_Saturado / conduc_molar_limite_PbSO4 , 2)\n\nprint(Kps)",
      "execution_count": 28,
      "outputs": [
        {
          "output_type": "stream",
          "text": "0.0117+/-0.0008\n",
          "name": "stdout"
        }
      ]
    },
    {
      "metadata": {},
      "cell_type": "markdown",
      "source": "Te estaras preguntanto por que esa Kps es tan alta! Que recordabas de Cuali o Analítica, que las Kps eran cantidades muy bajas!\nY sí, tenés razón, a esa Kps ha que dividirla entre 1000 ( unidades SI y convención), sin embargo con esto hemos ejemplificado un gran ejemplo como aplicación!"
    },
    {
      "metadata": {},
      "cell_type": "markdown",
      "source": "[Volver al índice](https://notebooks.azure.com/jeff0994/libraries/QU-0560/html/01Indice.ipynb)"
    },
    {
      "metadata": {
        "trusted": true
      },
      "cell_type": "code",
      "source": "",
      "execution_count": null,
      "outputs": []
    }
  ],
  "metadata": {
    "kernelspec": {
      "name": "python36",
      "display_name": "Python 3.6",
      "language": "python"
    },
    "language_info": {
      "mimetype": "text/x-python",
      "nbconvert_exporter": "python",
      "name": "python",
      "pygments_lexer": "ipython3",
      "version": "3.6.6",
      "file_extension": ".py",
      "codemirror_mode": {
        "version": 3,
        "name": "ipython"
      }
    }
  },
  "nbformat": 4,
  "nbformat_minor": 2
}