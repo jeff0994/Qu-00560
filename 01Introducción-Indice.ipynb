{
  "cells": [
    {
      "metadata": {
        "collapsed": true
      },
      "cell_type": "markdown",
      "source": "# Universidad de Costa Rica\n\n## Facultad de Ciencias\n\n## Escuela de Química\n\n## Sección de Fisicoquímica\n\n## Qu-0560 Tópicos de Química Física: Herramientas Computacionales para Química\n\n### Profesor Gutierrez\n### Asistente no oficial: Yefry López\n"
    },
    {
      "metadata": {},
      "cell_type": "markdown",
      "source": "# Bienvenidos a Azure Jupyter Notebooks!\n\nVamos a aprender un poco de Python y contextualizarlo en nuestra área de la química!\nAntes de iniciar, primero veamos algunas definiciones! <br>\n\nEn primera instancia  vamos a correr Python en __Azure!__ Una colección servicios en la nube cuyo autor es Microsoft.\nPor lo tanto , todo lo que hagamos en este curso será totalmente en linea, no tendrás que instalar nada en tu computadora. <br>\n\nDentro de Azure, el equipo de Microsoft en sus servidores ha instalado Python 3.6 y asi mismo Jupyter Notebooks. <br>"
    },
    {
      "metadata": {},
      "cell_type": "markdown",
      "source": "# ¿Que es Jupyter Notebooks?\n\n<img src='http://jupyter.org/assets/main-logo.svg' alt=\"Jupyter\" width=\"200\" align= \"center\">\n\nBuena pregunta! Jupyter Notebooks es un entorno interactivo web de ejecución de código donde, por ejemplo, puedes incluir gráficas que ayuden en el análisis y explicación de tus datos. Así mismo imágenes, texto y programar. Utilizados para facilitar la explicación y reproducción de estudios y análisis.... Podemos imaginartelo como si se tratase de un cuaderno interactivo donde podes escribir texto, agregar imagenes, código y mucho mas... <br>\n<br>\nPara aprender mas podes ir a su web [aca](http://jupyter.org/) <br>\n<br>\nJupyter Notebooks puede funcionar con muchos lenguajes de programación! En este curso estaremos usando Python 3.6 como lenguaje de programación. <br>\n"
    },
    {
      "metadata": {},
      "cell_type": "markdown",
      "source": "# ¿Que es Python?\n\n<img src='https://www.python.org/static/img/python-logo.png' alt=\"Python\"  align= \"center\">\n\nPython es un lenguaje de programación!<br>\n<br>\n\nTe estarás preguntando  okey pero que es Programar.... Pues programar, en palabras de David Joyner _\"es el acto de crear instrucciones para que una computadora las lleve a cabo, osea vos le dices a la computadora que hace. Esas instrucciones pueden ser algo como \"Suma 5 +3\" o \"Guarda mi documento\" o \"Simula las transiciones enegéticas en una molécula\"_ . <br>\n\nCadenas de esos comandos crean los comportamiendos de cada uno los dispositivos que ves en tu vida diaria: celulares inteligentes, computadoras, electrodomésticos, TVs etc etc  \" <br>\n<br>\nDe eso se trata la programación: Escribir comandos llamados \"codigo\" que una computadora va a realizar! <br>\n<br>\n\nAhora bien, para escribir esa lineas de código debemos escoger algún lenguaje de programación! Hay decenas de ellos. Un lenguaje de programación pues... Hagamos una analogía, supogamos que estas aprendiendo algún nuevo idioma como Alemán o Japonés y tu profesora te dejó la tarea de escribir un ensayo, pues bien para que podas escribir ese ensayo debes saber algunas reglas básicas de ese lenguaje. <br>\n\nLo mismo sucede con la programación en general!Para programar o escribir ( analogía de escribir ensayo) debes escoger un lenguaje de programación donde podas escribir código ( idioma). <br>\n\nAsí como el Español y el Ingles tienen diferentes reglas, sintaxis y estructuras, los lenguajes de programación también las tienen.  <br>\n\nEn este curso hemos escogido Python 3.6. Uno de los lenguajes mas populares y amigables con el usuario que existen! Ya va a ver... <br>\n\n## Características de Python\n* Lenguaje de alto nivel : En términos sencillos, Python es mucho mas sencillo que los lenguajes de bajo nivel, no tenes que preocuparte por lo que pase en tu procesador y memoria. <br>\n<br>\n* Python es Portable! Podes correrlo en tu PC, Mac o en la Nube <br>\n<br>\n* Python es dinámico e interpretado Cuando ejecutes código, Python va a correr linea por linea, esta da pie que podas usar Python en alguna linea de comomandos, puede imaginartelo como si se tratase de un calculadora fancy. También te permite correr scripts o usar algo como Jupyter Notebooks <br>\n<br>"
    },
    {
      "metadata": {},
      "cell_type": "markdown",
      "source": "# Introducción al uso de Jupyter Notebooks\n\nEl siguiente diagrama muestra la anatomía de Jupyter\n<br>\n<img src='https://raw.githubusercontent.com/michhar/python-jupyter-notebooks/master/general/nb_diagram.png' alt=\"Jupyter\" align= \"center\">\n<br>\nA lo largo de usar Jupyter, te darás cuentes que hay celdas IN[] y celdas Out[] <br>\n<br>\nLas celdas input o __IN[]__ te permiten ingresar código, texto y demás! <br>\nPor su parte las celdas __OUT[]__ , son el resultado de ejecutar CÓDIGO de celdas IN  <br>\n<br>\nCeldas en color gris son celdas de tipo código\n"
    },
    {
      "metadata": {},
      "cell_type": "markdown",
      "source": "Hagamos una prueba rápida! <br>\nEn la siguiente celda pon 2 + 3 y dale al botón __Run__ o las teclas __Ctrl+Intro__ <br>\n\nAhora abajo de esta celda agrega una nueva celda"
    },
    {
      "metadata": {
        "trusted": true
      },
      "cell_type": "code",
      "source": "",
      "execution_count": null,
      "outputs": []
    },
    {
      "metadata": {},
      "cell_type": "markdown",
      "source": "¿Listo para aprender Python? <br>\n\nA continuación te presentamos los contenidos! <br>"
    },
    {
      "metadata": {},
      "cell_type": "markdown",
      "source": "# Contenidos.\n\nA continuación se presenta la estructura de esta parte del curso.Corresponde a Python enfocado a aplicaciones para química y así mismo su comparación con otras aplicaciones como Maple, Origin y excel. <br>\n\nCada tema, tendrá su práctica respectiva y tareas a realizar para ayudarle en su aprendizaje. Así mismo habrán enlaces a recursos externos que ampliarán o reforzarán los contenidos vistos.<br>\n\nIndice\n\n\n* [Principios de Python Parte I](https://notebooks.azure.com/jeff0994/libraries/QU-0560-1-1/html/02PrincipiosParteI.ipynb)\n* [Tarea 01](https://notebooks.azure.com/jeff0994/libraries/QU-0560-1-1/html/Tarea01PrincipiosB%C3%A1sicos01.ipynb)\n* [Aplicación02: Propagación de Incertidumbres](https://notebooks.azure.com/jeff0994/libraries/QU-0560-1-1/html/03Aplicaci%C3%B3nC%C3%A1lculoIncertidumbres%20(3).ipynb)\n* [Tarea 02](https://notebooks.azure.com/jeff0994/libraries/QU-0560-1-1/html/Tarea02C%C3%A1lculodeIncertidumbres.ipynb)\n* [Principios de Python Parte II: Strings y Listas](https://notebooks.azure.com/jeff0994/libraries/QU-0560-1-1/html/04PrincipiosParteII.ipynb)\n* [Principios de Python Parte III:Cálculos numéricos con Numpy](https://notebooks.azure.com/jeff0994/libraries/QU-0560-1-1/html/05PrincipiosParteIIIC%C3%A1lculosCient%C3%ADficosNumpy.ipynb)\n* [TutorialMatplotlib](https://notebooks.azure.com/jeff0994/libraries/QU-0560-1-1/html/TutorialR%C3%A1pidoMatplotlib.ipynb)\n* [Tarea3](https://notebooks.azure.com/jeff0994/libraries/QU-0560-1-1/html/Tarea03Numpy.ipynb)\n* [Aplicación03: Regresiones Lineales](https://notebooks.azure.com/jeff0994/libraries/QU-0560-1-1/html/06Aplicaci%C3%B3nRegresiones.ipynb)\n* [Tarea04](https://notebooks.azure.com/jeff0994/libraries/QU-0560-1-1/html/Tarea04.ipynb)\n* [Manejo de Datos con Pandas](https://notebooks.azure.com/jeff0994/libraries/QU-0560-1-1/html/07ManejodeDatosPandas.ipynb)\n* [Funciones Y Regresión No Lineal](https://notebooks.azure.com/jeff0994/libraries/QU-0560-1-1/html/08FuncionesyRegresi%C3%B3nNolineal.ipynb)\n* [Tarea05](https://notebooks.azure.com/jeff0994/libraries/QU-0560-1-1/html/Tarea05.ipynb)\n* [Computación Simbólica Básica con Python](https://notebooks.azure.com/jeff0994/libraries/QU-0560-1-1/html/09ScipythonCalculoyEcuacionesDiferenciales.ipynb)\n"
    },
    {
      "metadata": {
        "trusted": true
      },
      "cell_type": "code",
      "source": "",
      "execution_count": null,
      "outputs": []
    }
  ],
  "metadata": {
    "kernelspec": {
      "name": "python36",
      "display_name": "Python 3.6",
      "language": "python"
    },
    "language_info": {
      "mimetype": "text/x-python",
      "nbconvert_exporter": "python",
      "name": "python",
      "pygments_lexer": "ipython3",
      "version": "3.6.6",
      "file_extension": ".py",
      "codemirror_mode": {
        "version": 3,
        "name": "ipython"
      }
    }
  },
  "nbformat": 4,
  "nbformat_minor": 2
}