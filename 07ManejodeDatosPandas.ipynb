{
  "nbformat": 4,
  "nbformat_minor": 0,
  "metadata": {
    "kernelspec": {
      "name": "python36",
      "display_name": "Python 3.6",
      "language": "python"
    },
    "language_info": {
      "mimetype": "text/x-python",
      "nbconvert_exporter": "python",
      "name": "python",
      "pygments_lexer": "ipython3",
      "version": "3.6.6",
      "file_extension": ".py",
      "codemirror_mode": {
        "version": 3,
        "name": "ipython"
      }
    },
    "colab": {
      "name": "07ManejodeDatosPandas.ipynb",
      "provenance": [],
      "include_colab_link": true
    }
  },
  "cells": [
    {
      "cell_type": "markdown",
      "metadata": {
        "id": "view-in-github",
        "colab_type": "text"
      },
      "source": [
        "<a href=\"https://colab.research.google.com/github/jeff0994/Qu-00560/blob/master/07ManejodeDatosPandas.ipynb\" target=\"_parent\"><img src=\"https://colab.research.google.com/assets/colab-badge.svg\" alt=\"Open In Colab\"/></a>"
      ]
    },
    {
      "cell_type": "markdown",
      "metadata": {
        "collapsed": true,
        "id": "fyIkKNcGpmR1"
      },
      "source": [
        "# Universidad de Costa Rica\n",
        "\n",
        "## Facultad de Ciencias\n",
        "\n",
        "## Escuela de Química\n",
        "\n",
        "## Sección de Fisicoquímica\n",
        "\n",
        "## Qu-0560 Tópicos de Química Física: Herramientas Computacionales para Química\n",
        "\n",
        "### Profesor Mauricio Gutiérrez\n",
        "### Asistente no oficial: Yefry López"
      ]
    },
    {
      "cell_type": "markdown",
      "metadata": {
        "trusted": true,
        "id": "SOc9gIQZpmR3"
      },
      "source": [
        "# Objetivos\n",
        "\n",
        "En esta hoja usted aprenderá\n",
        "\n",
        "* Lear archivos con el comando open\n",
        "* Escribir archivos con el comando open\n",
        "* Cargar datos con Pandas\n",
        "* Trabajar datos con Pandas"
      ]
    },
    {
      "cell_type": "markdown",
      "metadata": {
        "trusted": true,
        "id": "9l5-UDdCpmR5"
      },
      "source": [
        "Por ahora haz aprendido ciertos principios básicos en Python. <br>\n",
        "Desde sus primitivas y como trabajar con ellas y así mismo enriquecer tus posibilidades mediante el uso de paquetes en Python.<br>\n",
        "\n",
        "Ahora bien, que sucede, si por comodidad , para no estar copiando y pegando datos, queres abrir y leer un archivo como un *txt, o *csv o inclusive un *Excel? <br>\n",
        "\n",
        "En esta hoja aprenderás a realizar eso mismo. <br>"
      ]
    },
    {
      "cell_type": "markdown",
      "metadata": {
        "id": "BmtyGezHpmR5"
      },
      "source": [
        "# Paquete Pandas"
      ]
    },
    {
      "cell_type": "markdown",
      "metadata": {
        "id": "blg6Bf_DpmR5"
      },
      "source": [
        "Pandas es uno de los paquetes mas populares para hacer Ciencia de Datos en Python! <br>\n",
        "En esta hoja, aprenderemos a usarlo para importar datos a nuestras hojas de Python <br>\n",
        "\n",
        "Pandas trabaja los datos ordenandolos en _dataframes_  una hoja de datos, en los que cada fila corresponde a un sujeto y cada columna a una variable. La estructura de un dataframe es muy similar a la de una matriz. <br>\n",
        "\n",
        "En términos sencillos un dataframe es una combinación de filas y columnas, tipo Excel <br>"
      ]
    },
    {
      "cell_type": "markdown",
      "metadata": {
        "id": "hMI12XXXpmR6"
      },
      "source": [
        "#### Importando el Paquete"
      ]
    },
    {
      "cell_type": "code",
      "metadata": {
        "trusted": true,
        "id": "G0OTlLKhpmR6"
      },
      "source": [
        "import pandas as pd"
      ],
      "execution_count": null,
      "outputs": []
    },
    {
      "cell_type": "markdown",
      "metadata": {
        "id": "DvcJB1BYpmR7"
      },
      "source": [
        "¿Como leer un archivo en Pandas? <br>\n",
        "\n",
        "Comunmente siempre se inicia leyendo un archivo del tipo _cvg_ o un _xlsx_ . <br>\n",
        "\n",
        "El primero se refiere a diminutivo de __Comma-separated values__ valores separados por coma, donde cada coma puede representar una columna. <br>\n",
        "\n",
        "El segundo es un tipo de archivo de Microsoft enfocado en datos. <br>"
      ]
    },
    {
      "cell_type": "markdown",
      "metadata": {
        "id": "3nVSHDuXpmR7"
      },
      "source": [
        "#### Leyendo un csv\n",
        "\n",
        "Los pasos son los siguientes.\n",
        "\n",
        "1. Definir la ruta de tu archivo para que Python sepa donde debe buscar\n",
        "2. Leer el archivo con Pandas."
      ]
    },
    {
      "cell_type": "markdown",
      "metadata": {
        "id": "fes-3iuApmR7"
      },
      "source": [
        "Veamos un ejemplo!. <br>\n",
        "\n",
        "Por ejemplo... <br>\n",
        "\n",
        "Cuando usas un espectofotómetro y guardas los datos em tu llave maya, es muy común que los datos se guarden en formato csv. <br>\n",
        "\n",
        "Abramos los datos que un estudiante obtuvo despues de medir en el Laboratorio de Inorgánica II, para caracterizar sus complejos <br>\n",
        "\n",
        "La ruta del archivo es la siguiente <br>\n",
        "* https://raw.githubusercontent.com/jeff0994/Qu-00560/master/Datos1.csv"
      ]
    },
    {
      "cell_type": "markdown",
      "metadata": {
        "id": "bsqLxnlbpmR8"
      },
      "source": [
        "##### Paso 1. Defidiendo la ruta del archivo"
      ]
    },
    {
      "cell_type": "code",
      "metadata": {
        "trusted": true,
        "id": "aRDKEHUOpmR8"
      },
      "source": [
        "url=\"https://raw.githubusercontent.com/jeff0994/Qu-00560/master/Datos1.csv\""
      ],
      "execution_count": null,
      "outputs": []
    },
    {
      "cell_type": "markdown",
      "metadata": {
        "id": "VJ_JjvHdpmR8"
      },
      "source": [
        "Basicamente debes poner la dirección donde se encuentra tu archivo entre comillas. <br>\n",
        "Así mismo , podes guardar dicha ruta en una variable. <br>\n",
        "\n",
        "Para nuestro ejemplo, guardamos la dirección entre comillas en la variable ruta <br>"
      ]
    },
    {
      "cell_type": "markdown",
      "metadata": {
        "id": "TNPKBJFXpmR8"
      },
      "source": [
        "##### Paso 2. Leyendo con Pandas\n",
        "\n",
        "Usarás el código pd.read_csv(ruta o link del archivo)\n",
        "\n",
        "Y lo guardarás todo en una variable.\n",
        "\n",
        "En nuesto caso, se guardará en la variable __df__"
      ]
    },
    {
      "cell_type": "code",
      "metadata": {
        "trusted": true,
        "id": "5ByIovXCpmR9"
      },
      "source": [
        "df=pd.read_csv(url)"
      ],
      "execution_count": null,
      "outputs": []
    },
    {
      "cell_type": "markdown",
      "metadata": {
        "trusted": true,
        "id": "9xpp1ZNdpmR-"
      },
      "source": [
        "Listo, ya podes ver el archivo que creaste!"
      ]
    },
    {
      "cell_type": "markdown",
      "metadata": {
        "id": "JMjzGjc6pmR_"
      },
      "source": [
        "Sí querés ver el archivo, usas el método\n",
        "\n",
        "nombre.head()"
      ]
    },
    {
      "cell_type": "code",
      "metadata": {
        "trusted": true,
        "id": "wcOPxGe0pmR_"
      },
      "source": [
        "df.head()"
      ],
      "execution_count": null,
      "outputs": []
    },
    {
      "cell_type": "markdown",
      "metadata": {
        "id": "Fv0g4nBhpmR_"
      },
      "source": [
        "Viste? El svg lo cargamos como un dataframe!\n",
        "\n",
        "Que viene lo mismos a un Excel!"
      ]
    },
    {
      "cell_type": "markdown",
      "metadata": {
        "id": "L14LPCb3pmR_"
      },
      "source": [
        "Leccionamos columnas!\n",
        "\n",
        "Y sí, es la misma notación que aprendiste para listas y strings con brackets!\n",
        "\n",
        "Ahora bién! Dentro del doble brakect irá el nombre de tu columna entre comillas\n",
        "\n",
        "A la izquierda , Python te dirá el index de cada elemento empezando desde 0.\n",
        "\n",
        "A la derecha podrás ver su valor.\n",
        "\n",
        "Notás que los \";\" representan celdas sin valor o valor nulo."
      ]
    },
    {
      "cell_type": "code",
      "metadata": {
        "trusted": true,
        "id": "k0G7PDsApmR_"
      },
      "source": [
        "df[\"Presion atm\"]"
      ],
      "execution_count": null,
      "outputs": []
    },
    {
      "cell_type": "markdown",
      "metadata": {
        "id": "0TP_SbldpmSA"
      },
      "source": [
        "Haz lo mismo que con Volumen L"
      ]
    },
    {
      "cell_type": "code",
      "metadata": {
        "trusted": true,
        "id": "XADblgUkpmSA"
      },
      "source": [
        "df[\"Volumen L\"]"
      ],
      "execution_count": null,
      "outputs": []
    },
    {
      "cell_type": "code",
      "metadata": {
        "trusted": true,
        "id": "L3wi2rCgpmSA"
      },
      "source": [
        "Que paso si queremos el tercer elemento ( index 2) de presión?"
      ],
      "execution_count": null,
      "outputs": []
    },
    {
      "cell_type": "code",
      "metadata": {
        "trusted": true,
        "id": "BwYfgvFVpmSA"
      },
      "source": [
        "Que paso si queremos el tercer elemento ( index 2) de presión"
      ],
      "execution_count": null,
      "outputs": []
    },
    {
      "cell_type": "code",
      "metadata": {
        "trusted": true,
        "id": "q18hKS2BpmSB"
      },
      "source": [
        "df[\"Presion atm\"][2]"
      ],
      "execution_count": null,
      "outputs": []
    },
    {
      "cell_type": "markdown",
      "metadata": {
        "id": "VNDabUSLpmSB"
      },
      "source": [
        "Ahora sacá los valores\n",
        "\n",
        "index 0, 1 y 4 para la columna __Volumen L;__"
      ]
    },
    {
      "cell_type": "code",
      "metadata": {
        "trusted": true,
        "id": "nmdi2tGPpmSB"
      },
      "source": [
        "#Haz acá tu ejercicio"
      ],
      "execution_count": null,
      "outputs": []
    },
    {
      "cell_type": "markdown",
      "metadata": {
        "id": "9tikZvp1pmSB"
      },
      "source": [
        "Supongamos que queremos aislar los valores de la columnas por separado!\n",
        "\n",
        "Como por ejemplo, hacer una regresión!\n",
        "\n",
        "Pues podés usar la notación [[]] doble bracket"
      ]
    },
    {
      "cell_type": "code",
      "metadata": {
        "trusted": true,
        "id": "JMktOoa6pmSB"
      },
      "source": [
        "x = df[[\"Presion atm\"]]"
      ],
      "execution_count": null,
      "outputs": []
    },
    {
      "cell_type": "markdown",
      "metadata": {
        "id": "VD-zMN7jpmSC"
      },
      "source": [
        "Veamos si pasó algo!"
      ]
    },
    {
      "cell_type": "code",
      "metadata": {
        "trusted": true,
        "id": "vWpOH2jgpmSC"
      },
      "source": [
        "x"
      ],
      "execution_count": null,
      "outputs": []
    },
    {
      "cell_type": "markdown",
      "metadata": {
        "trusted": true,
        "id": "qxgGeGn8pmSC"
      },
      "source": [
        "Podes hacer los mismo para \"Volumen L\" ?\n",
        "\n",
        "Crea una variable y , donde se guarde los valores de la columna \"Volumen L\""
      ]
    },
    {
      "cell_type": "code",
      "metadata": {
        "trusted": true,
        "id": "DXoy3paKpmSC"
      },
      "source": [
        "#Responde acá"
      ],
      "execution_count": null,
      "outputs": []
    },
    {
      "cell_type": "markdown",
      "metadata": {
        "id": "_pSxD486pmSC"
      },
      "source": [
        "#### Método ix para acceder a elementos individuales"
      ]
    },
    {
      "cell_type": "markdown",
      "metadata": {
        "id": "FrgRNtvkpmSC"
      },
      "source": [
        "Una forma de acceder a los elementos indiviuales de un dataframe es mediante el método ix\n",
        "\n",
        "El código es el siguiente\n",
        "nombre del dataframe.ix[fila,columna]"
      ]
    },
    {
      "cell_type": "markdown",
      "metadata": {
        "id": "o8eS8UFFpmSD"
      },
      "source": [
        "Por ejemplo, si quiero tener el elemento que está en la fila 2  (index 1) columna 1 (index 0)"
      ]
    },
    {
      "cell_type": "code",
      "metadata": {
        "trusted": true,
        "id": "gKO-hmtLpmSD"
      },
      "source": [
        "df.ix[1,0]"
      ],
      "execution_count": null,
      "outputs": []
    },
    {
      "cell_type": "markdown",
      "metadata": {
        "id": "qAgzcWCWpmSD"
      },
      "source": [
        "Basicamente le dije a Python.\n",
        "\n",
        "Busca el elemento  en el dataframe llamado __df__ que está en la fila index 1 columna index 0"
      ]
    },
    {
      "cell_type": "markdown",
      "metadata": {
        "trusted": true,
        "id": "HmqqyQQ9pmSD"
      },
      "source": [
        "#### Repaso\n",
        "\n",
        "Para repasar, podes ver este [video](http://videos.bigdatauniversity.com/PY0101EN/videos/PY0101EN%20-%20Loading%20data%20with%20Pandas.mp4)"
      ]
    },
    {
      "cell_type": "markdown",
      "metadata": {
        "id": "_BmI__WvpmSD"
      },
      "source": [
        "### ¿Por que usar Pandas?\n",
        "\n",
        "Es una forma versatil de trabajar con gran cantidad de datos.\n",
        "\n",
        "Así mismo, te recordas, las regresiones lineales?\n",
        "\n",
        "Pues resulta , que muchos paquetes por definición trabajan con Pandas!"
      ]
    },
    {
      "cell_type": "markdown",
      "metadata": {
        "id": "lrQIVaJipmSD"
      },
      "source": [
        "### Regresión Lineal usando Paquetes y Pandas como manejo de Datos\n",
        "\n",
        "Para ejemplificar, usaremos el modelo pero usando un nuevo Paquete llamado SK-learn (enfocado en inteligencia artificial)\n",
        "\n",
        "Usaremos datos de concentracion contra intensidad del libro Quimiometría de Miller\n",
        "\n",
        "Datos: https://raw.githubusercontent.com/jeff0994/Qu-00560/master/Datos2.csv\n",
        "\n",
        "Te acordás los pasos?"
      ]
    },
    {
      "cell_type": "markdown",
      "metadata": {
        "id": "zql0yxPnpmSE"
      },
      "source": [
        "### Primero importa los paquetes necesarios para graficar."
      ]
    },
    {
      "cell_type": "code",
      "metadata": {
        "trusted": true,
        "id": "kAE0p-m2pmSE"
      },
      "source": [
        " import matplotlib.pyplot as plt\n"
      ],
      "execution_count": null,
      "outputs": []
    },
    {
      "cell_type": "markdown",
      "metadata": {
        "id": "0fvO72OtpmSE"
      },
      "source": [
        "### Segundo instala el paquete de interés cuyo nombre es sklearn"
      ]
    },
    {
      "cell_type": "code",
      "metadata": {
        "trusted": true,
        "id": "Zdj54kBqpmSE"
      },
      "source": [
        "#Instalando el paquete\n",
        "!pip install sklearn"
      ],
      "execution_count": null,
      "outputs": []
    },
    {
      "cell_type": "markdown",
      "metadata": {
        "id": "hmcEDa4wpmSE"
      },
      "source": [
        "### Tercero Importa el paquete a tu hoja de trabajo"
      ]
    },
    {
      "cell_type": "code",
      "metadata": {
        "trusted": true,
        "id": "HDSQIGjApmSE"
      },
      "source": [
        "#Importando el paquete a nuestra hoja\n",
        "from sklearn import linear_model as lm"
      ],
      "execution_count": null,
      "outputs": []
    },
    {
      "cell_type": "markdown",
      "metadata": {
        "id": "-1uS3L8OpmSF"
      },
      "source": [
        "En la anterior celda, le dijomos a Python, del paquete llamado sklearn que recién instalamos, importa el modelo lineal como _lm_ (\n",
        "lo bautizamos lm)"
      ]
    },
    {
      "cell_type": "markdown",
      "metadata": {
        "id": "uGvvcW8epmSF"
      },
      "source": [
        "### Cuarto. Importa los datos desde un csvg usando pandas\n",
        "\n"
      ]
    },
    {
      "cell_type": "code",
      "metadata": {
        "trusted": true,
        "id": "toErMYOKpmSF"
      },
      "source": [
        "ruta =  \"https://raw.githubusercontent.com/jeff0994/Qu-00560/master/Datos2.csv\"\n",
        "df_2 =pd.read_csv(ruta)\n",
        "\n",
        "df_2.head()"
      ],
      "execution_count": null,
      "outputs": []
    },
    {
      "cell_type": "markdown",
      "metadata": {
        "id": "vKhO-3vapmSG"
      },
      "source": [
        "### Quinto. Define tus ejex x y y extrayendo los datos de interés de tu dataframe.\n",
        "X será concentraciones\n",
        "Y serán intensidades\n",
        "\n",
        "Recuerda, para extraer , se usa doble corchete y dentro el nombre de la columna del dataframe (entre comillas)."
      ]
    },
    {
      "cell_type": "code",
      "metadata": {
        "trusted": true,
        "id": "16zSS9c9pmSG"
      },
      "source": [
        "X = df_2[[\"Concentraciones\"]]\n",
        "Y = df_2[[\"Intensidades\"]]"
      ],
      "execution_count": null,
      "outputs": []
    },
    {
      "cell_type": "markdown",
      "metadata": {
        "id": "YJYaqjRXpmSG"
      },
      "source": [
        "### Sexto. Define el modelo lineal con el paquete sklearn\n",
        "\n",
        "En sklearn, el código es el siguiente.\n",
        "\n",
        "__nombre_que_ud_quiera = lm.LinearRegression()__ <br>\n",
        "__results = nombre_que_ud_quiera.fit(nombre de eje x, nombre del eje Y) __ <br>\n",
        "\n"
      ]
    },
    {
      "cell_type": "code",
      "metadata": {
        "trusted": true,
        "id": "OxOGFDJHpmSG"
      },
      "source": [
        "modelo =  lm.LinearRegression() \n",
        "results = modelo.fit(X,Y)"
      ],
      "execution_count": null,
      "outputs": []
    },
    {
      "cell_type": "markdown",
      "metadata": {
        "id": "F5X7ePgxpmSG"
      },
      "source": [
        "Veamos resultados\n",
        "Para incercepto <br>\n",
        "\n",
        "nombre_modelo.intercept_ <br>\n",
        "\n",
        "Para pendiente <br>\n",
        "\n",
        "nombre_modelo.coef_ <br>\n",
        "\n",
        "Como nuestro modelo se llama __modelo__ ( siempre usa nombres fáciles), el código para preguntar por intercepto o pendiente"
      ]
    },
    {
      "cell_type": "code",
      "metadata": {
        "trusted": true,
        "id": "sg7m0-vYpmSG"
      },
      "source": [
        "modelo.intercept_"
      ],
      "execution_count": null,
      "outputs": []
    },
    {
      "cell_type": "code",
      "metadata": {
        "trusted": true,
        "id": "hdEvfpmopmSH"
      },
      "source": [
        "modelo.coef_"
      ],
      "execution_count": null,
      "outputs": []
    },
    {
      "cell_type": "markdown",
      "metadata": {
        "id": "VkPVkvUQpmSH"
      },
      "source": [
        "Ahora bién, lo que acabamos de hacer lo podemos repetir con Scipython o StatsModel, vos elegís que opción te queda mas cómoda!"
      ]
    },
    {
      "cell_type": "markdown",
      "metadata": {
        "id": "_ibKC08_pmSH"
      },
      "source": [
        "En el caso que querás leer un archivo de datos excel con Pandas, todo se repite!\n",
        "Sólo cargas el archivo xml con el código __df=pd.read_xml(url)__"
      ]
    },
    {
      "cell_type": "markdown",
      "metadata": {
        "id": "eGA_sRtGpmSH"
      },
      "source": [
        "[Volver al índice](https://notebooks.azure.com/jeff0994/libraries/QU-0560-1-1/html/01Introducci%C3%B3n-Indice.ipynb)"
      ]
    },
    {
      "cell_type": "code",
      "metadata": {
        "trusted": true,
        "id": "CMOBrZcPpmSH"
      },
      "source": [
        ""
      ],
      "execution_count": null,
      "outputs": []
    }
  ]
}