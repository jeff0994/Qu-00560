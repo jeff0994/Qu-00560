{
  "cells": [
    {
      "metadata": {
        "collapsed": true
      },
      "cell_type": "markdown",
      "source": "# Universidad de Costa Rica\n\n## Facultad de Ciencias\n\n## Escuela de Química\n\n## Sección de Fisicoquímica\n\n## Qu-0560 Tópicos de Química Física: Herramientas Computacionales para Química\n\n### Profesor Mauricio Gutierrez\n### Asistente no oficial: Yefry López"
    },
    {
      "metadata": {
        "trusted": true
      },
      "cell_type": "markdown",
      "source": "# Objetivos\n\nEn esta hoja usted aprenderá\n\n* Lear archivos con el comando open\n* Escribir archivos con el comando open\n* Cargar datos con Pandas\n* Trabajar datos con Pandas"
    },
    {
      "metadata": {
        "trusted": true
      },
      "cell_type": "markdown",
      "source": "Por ahora haz aprendido ciertos principios básicos en Python. <br>\nDesde sus primitivas y como trabajar con ellas y así mismo enriquecer tus posibilidades mediante el uso de paquetes en Python.<br>\n\nAhora bien, que sucede, si por comodidad , para no estar copiando y pegando datos, queres abrir y leer un archivo como un *txt, o *csv o inclusive un *Excel? <br>\n\nEn esta hoja aprenderás a realizar eso mismo. <br>"
    },
    {
      "metadata": {},
      "cell_type": "markdown",
      "source": "# Paquete Pandas"
    },
    {
      "metadata": {},
      "cell_type": "markdown",
      "source": "Pandas es uno de los paquetes mas populares para hacer Ciencia de Datos en Python! <br>\nEn esta hoja, aprenderemos a usarlo para importar datos a nuestras hojas de Python <br>\n\nPandas trabaja los datos ordenandolos en _dataframes_  una hoja de datos, en los que cada fila corresponde a un sujeto y cada columna a una variable. La estructura de un dataframe es muy similar a la de una matriz. <br>\n\nEn términos sencillos un dataframe es una combinación de filas y columnas, tipo Excel <br>"
    },
    {
      "metadata": {},
      "cell_type": "markdown",
      "source": "#### Importando el Paquete"
    },
    {
      "metadata": {
        "trusted": true
      },
      "cell_type": "code",
      "source": "import pandas as pd",
      "execution_count": null,
      "outputs": []
    },
    {
      "metadata": {},
      "cell_type": "markdown",
      "source": "¿Como leer un archivo en Pandas? <br>\n\nComunmente siempre se inicia leyendo un archivo del tipo _cvg_ o un _xlsx_ . <br>\n\nEl primero se refiere a diminutivo de __Comma-separated values__ valores separados por coma, donde cada coma puede representar una columna. <br>\n\nEl segundo es un tipo de archivo de Microsoft enfocado en datos. <br>"
    },
    {
      "metadata": {},
      "cell_type": "markdown",
      "source": "#### Leyendo un csv\n\nLos pasos son los siguientes.\n\n1. Definir la ruta de tu archivo para que Python sepa donde debe buscar\n2. Leer el archivo con Pandas."
    },
    {
      "metadata": {},
      "cell_type": "markdown",
      "source": "Veamos un ejemplo!. <br>\n\nPor ejemplo... <br>\n\nCuando usas un espectofotómetro y guardas los datos em tu llave maya, es muy común que los datos se guarden en formato csv. <br>\n\nAbramos los datos que un estudiante obtuvo despues de medir en el Laboratorio de Inorgánica II, para caracterizar sus complejos <br>\n\nLa ruta del archivo es la siguiente <br>\n* https://raw.githubusercontent.com/jeff0994/Qu-00560/master/Datos1.csv"
    },
    {
      "metadata": {},
      "cell_type": "markdown",
      "source": "##### Paso 1. Defidiendo la ruta del archivo"
    },
    {
      "metadata": {
        "trusted": true
      },
      "cell_type": "code",
      "source": "url=\"https://raw.githubusercontent.com/jeff0994/Qu-00560/master/Datos1.csv\"",
      "execution_count": null,
      "outputs": []
    },
    {
      "metadata": {},
      "cell_type": "markdown",
      "source": "Basicamente debes poner la dirección donde se encuentra tu archivo entre comillas. <br>\nAsí mismo , podes guardar dicha ruta en una variable. <br>\n\nPara nuestro ejemplo, guardamos la dirección entre comillas en la variable ruta <br>"
    },
    {
      "metadata": {},
      "cell_type": "markdown",
      "source": "##### Paso 2. Leyendo con Pandas\n\nUsarás el código pd.read_csv(ruta o link del archivo)\n\nY lo guardarás todo en una variable.\n\nEn nuesto caso, se guardará en la variable __df__"
    },
    {
      "metadata": {
        "trusted": true
      },
      "cell_type": "code",
      "source": "df=pd.read_csv(url)",
      "execution_count": null,
      "outputs": []
    },
    {
      "metadata": {
        "trusted": true
      },
      "cell_type": "markdown",
      "source": "Listo, ya podes ver el archivo que creaste!"
    },
    {
      "metadata": {},
      "cell_type": "markdown",
      "source": "Sí querés ver el archivo, usas el método\n\nnombre.head()"
    },
    {
      "metadata": {
        "trusted": true
      },
      "cell_type": "code",
      "source": "df.head()",
      "execution_count": null,
      "outputs": []
    },
    {
      "metadata": {},
      "cell_type": "markdown",
      "source": "Viste? El svg lo cargamos como un dataframe!\n\nQue viene lo mismos a un Excel!"
    },
    {
      "metadata": {},
      "cell_type": "markdown",
      "source": "Leccionamos columnas!\n\nY sí, es la misma notación que aprendiste para listas y strings con brackets!\n\nAhora bién! Dentro del doble brakect irá el nombre de tu columna entre comillas\n\nA la izquierda , Python te dirá el index de cada elemento empezando desde 0.\n\nA la derecha podrás ver su valor.\n\nNotás que los \";\" representan celdas sin valor o valor nulo."
    },
    {
      "metadata": {
        "trusted": true
      },
      "cell_type": "code",
      "source": "df[\"Presion atm\"]",
      "execution_count": null,
      "outputs": []
    },
    {
      "metadata": {},
      "cell_type": "markdown",
      "source": "Haz lo mismo que con Volumen L"
    },
    {
      "metadata": {
        "trusted": true
      },
      "cell_type": "code",
      "source": "df[\"Volumen L\"]",
      "execution_count": null,
      "outputs": []
    },
    {
      "metadata": {
        "trusted": true
      },
      "cell_type": "code",
      "source": "Que paso si queremos el tercer elemento ( index 2) de presión?",
      "execution_count": null,
      "outputs": []
    },
    {
      "metadata": {
        "trusted": true
      },
      "cell_type": "code",
      "source": "Que paso si queremos el tercer elemento ( index 2) de presión",
      "execution_count": null,
      "outputs": []
    },
    {
      "metadata": {
        "trusted": true
      },
      "cell_type": "code",
      "source": "df[\"Presion atm\"][2]",
      "execution_count": null,
      "outputs": []
    },
    {
      "metadata": {},
      "cell_type": "markdown",
      "source": "Ahora sacá los valores\n\nindex 0, 1 y 4 para la columna __Volumen L;__"
    },
    {
      "metadata": {
        "trusted": true
      },
      "cell_type": "code",
      "source": "#Haz acá tu ejercicio",
      "execution_count": null,
      "outputs": []
    },
    {
      "metadata": {},
      "cell_type": "markdown",
      "source": "Supongamos que queremos aislar los valores de la columnas por separado!\n\nComo por ejemplo, hacer una regresión!\n\nPues podés usar la notación [[]] doble bracket"
    },
    {
      "metadata": {
        "trusted": true
      },
      "cell_type": "code",
      "source": "x = df[[\"Presion atm\"]]",
      "execution_count": null,
      "outputs": []
    },
    {
      "metadata": {},
      "cell_type": "markdown",
      "source": "Veamos si pasó algo!"
    },
    {
      "metadata": {
        "trusted": true
      },
      "cell_type": "code",
      "source": "x",
      "execution_count": null,
      "outputs": []
    },
    {
      "metadata": {
        "trusted": true
      },
      "cell_type": "markdown",
      "source": "Podes hacer los mismo para \"Volumen L\" ?\n\nCrea una variable y , donde se guarde los valores de la columna \"Volumen L\""
    },
    {
      "metadata": {
        "trusted": true
      },
      "cell_type": "code",
      "source": "#Responde acá",
      "execution_count": null,
      "outputs": []
    },
    {
      "metadata": {},
      "cell_type": "markdown",
      "source": "#### Método ix para acceder a elementos individuales"
    },
    {
      "metadata": {},
      "cell_type": "markdown",
      "source": "Una forma de acceder a los elementos indiviuales de un dataframe es mediante el método ix\n\nEl código es el siguiente\nnombre del dataframe.ix[fila,columna]"
    },
    {
      "metadata": {},
      "cell_type": "markdown",
      "source": "Por ejemplo, si quiero tener el elemento que está en la fila 2  (index 1) columna 1 (index 0)"
    },
    {
      "metadata": {
        "trusted": true
      },
      "cell_type": "code",
      "source": "df.ix[1,0]",
      "execution_count": null,
      "outputs": []
    },
    {
      "metadata": {},
      "cell_type": "markdown",
      "source": "Basicamente le dije a Python.\n\nBusca el elemento  en el dataframe llamado __df__ que está en la fila index 1 columna index 0"
    },
    {
      "metadata": {
        "trusted": true
      },
      "cell_type": "markdown",
      "source": "#### Repaso\n\nPara repasar, podes ver este [video](http://videos.bigdatauniversity.com/PY0101EN/videos/PY0101EN%20-%20Loading%20data%20with%20Pandas.mp4)"
    },
    {
      "metadata": {},
      "cell_type": "markdown",
      "source": "### ¿Por que usar Pandas?\n\nEs una forma versatil de trabajar con gran cantidad de datos.\n\nAsí mismo, te recordas, las regresiones lineales?\n\nPues resulta , que muchos paquetes por definición trabajan con Pandas!"
    },
    {
      "metadata": {},
      "cell_type": "markdown",
      "source": "### Regresión Lineal usando Paquetes y Pandas como manejo de Datos\n\nPara ejemplificar, usaremos el modelo pero usando un nuevo Paquete llamado SK-learn (enfocado en inteligencia artificial)\n\nUsaremos datos de concentracion contra intensidad del libro Quimiometría de Miller\n\nDatos: https://raw.githubusercontent.com/jeff0994/Qu-00560/master/Datos2.csv\n\nTe acordás los pasos?"
    },
    {
      "metadata": {},
      "cell_type": "markdown",
      "source": "### Primero importa los paquetes necesarios para graficar."
    },
    {
      "metadata": {
        "trusted": true
      },
      "cell_type": "code",
      "source": " import matplotlib.pyplot as plt\n",
      "execution_count": null,
      "outputs": []
    },
    {
      "metadata": {},
      "cell_type": "markdown",
      "source": "### Segundo instala el paquete de interés cuyo nombre es sklearn"
    },
    {
      "metadata": {
        "trusted": true
      },
      "cell_type": "code",
      "source": "#Instalando el paquete\n!pip install sklearn",
      "execution_count": null,
      "outputs": []
    },
    {
      "metadata": {},
      "cell_type": "markdown",
      "source": "### Tercero Importa el paquete a tu hoja de trabajo"
    },
    {
      "metadata": {
        "trusted": true
      },
      "cell_type": "code",
      "source": "#Importando el paquete a nuestra hoja\nfrom sklearn import linear_model as lm",
      "execution_count": null,
      "outputs": []
    },
    {
      "metadata": {},
      "cell_type": "markdown",
      "source": "En la anterior celda, le dijomos a Python, del paquete llamado sklearn que recién instalamos, importa el modelo lineal como _lm_ (\nlo bautizamos lm)"
    },
    {
      "metadata": {},
      "cell_type": "markdown",
      "source": "### Cuarto. Importa los datos desde un csvg usando pandas\n\n"
    },
    {
      "metadata": {
        "trusted": true
      },
      "cell_type": "code",
      "source": "ruta =  \"https://raw.githubusercontent.com/jeff0994/Qu-00560/master/Datos2.csv\"\ndf_2 =pd.read_csv(ruta)\n\ndf_2.head()",
      "execution_count": null,
      "outputs": []
    },
    {
      "metadata": {},
      "cell_type": "markdown",
      "source": "### Quinto. Define tus ejex x y y extrayendo los datos de interés de tu dataframe.\nX será concentraciones\nY serán intensidades\n\nRecuerda, para extraer , se usa doble corchete y dentro el nombre de la columna del dataframe (entre comillas)."
    },
    {
      "metadata": {
        "trusted": true
      },
      "cell_type": "code",
      "source": "X = df_2[[\"Concentraciones\"]]\nY = df_2[[\"Intensidades\"]]",
      "execution_count": null,
      "outputs": []
    },
    {
      "metadata": {},
      "cell_type": "markdown",
      "source": "### Sexto. Define el modelo lineal con el paquete sklearn\n\nEn sklearn, el código es el siguiente.\n\n__nombre_que_ud_quiera = lm.LinearRegression()__ <br>\n__results = nombre_que_ud_quiera.fit(nombre de eje x, nombre del eje Y) __ <br>\n\n"
    },
    {
      "metadata": {
        "trusted": true
      },
      "cell_type": "code",
      "source": "modelo =  lm.LinearRegression() \nresults = modelo.fit(X,Y)",
      "execution_count": null,
      "outputs": []
    },
    {
      "metadata": {},
      "cell_type": "markdown",
      "source": "Veamos resultados\nPara incercepto <br>\n\nnombre_modelo.intercept_ <br>\n\nPara pendiente <br>\n\nnombre_modelo.coef_ <br>\n\nComo nuestro modelo se llama __modelo__ ( siempre usa nombres fáciles), el código para preguntar por intercepto o pendiente"
    },
    {
      "metadata": {
        "trusted": true
      },
      "cell_type": "code",
      "source": "modelo.intercept_",
      "execution_count": null,
      "outputs": []
    },
    {
      "metadata": {
        "trusted": true
      },
      "cell_type": "code",
      "source": "modelo.coef_",
      "execution_count": null,
      "outputs": []
    },
    {
      "metadata": {},
      "cell_type": "markdown",
      "source": "Ahora bién, lo que acabamos de hacer lo podemos repetir con Scipython o StatsModel, vos elegís que opción te queda mas cómoda!"
    },
    {
      "metadata": {},
      "cell_type": "markdown",
      "source": "En el caso que querás leer un archivo de datos excel con Pandas, todo se repite!\nSólo cargas el archivo xml con el código __df=pd.read_xml(url)__"
    },
    {
      "metadata": {},
      "cell_type": "markdown",
      "source": "[Volver al índice](https://notebooks.azure.com/jeff0994/libraries/QU-0560-1-1/html/01Introducci%C3%B3n-Indice.ipynb)"
    },
    {
      "metadata": {
        "trusted": true
      },
      "cell_type": "code",
      "source": "",
      "execution_count": null,
      "outputs": []
    }
  ],
  "metadata": {
    "kernelspec": {
      "name": "python36",
      "display_name": "Python 3.6",
      "language": "python"
    },
    "language_info": {
      "mimetype": "text/x-python",
      "nbconvert_exporter": "python",
      "name": "python",
      "pygments_lexer": "ipython3",
      "version": "3.6.6",
      "file_extension": ".py",
      "codemirror_mode": {
        "version": 3,
        "name": "ipython"
      }
    }
  },
  "nbformat": 4,
  "nbformat_minor": 2
}