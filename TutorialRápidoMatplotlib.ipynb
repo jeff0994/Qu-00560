{
  "cells": [
    {
      "metadata": {
        "collapsed": true
      },
      "cell_type": "markdown",
      "source": "# Universidad de Costa Rica\n\n## Facultad de Ciencias\n\n## Escuela de Química\n\n## Sección de Fisicoquímica\n\n## Qu-0560 Tópicos de Química Física: Herramientas Computacionales para Química\n\n### Profesor Gutierrez\n### Asistente no oficial: Yefry López"
    },
    {
      "metadata": {
        "trusted": true
      },
      "cell_type": "code",
      "source": " import numpy as np\n import matplotlib.pyplot as plt\n\n plt.plot(x,z,'k:',linewidth=2)\n plt.legend(['y','z'])\n plt.xlabel('x')\n plt.ylabel('values')\n plt.xlim([0, 3])\n plt.ylim([-1.5, 1.5])\n plt.savefig('myFigure.png')\n plt.savefig('myFigure.eps')\n plt.show()",
      "execution_count": null,
      "outputs": []
    },
    {
      "metadata": {},
      "cell_type": "markdown",
      "source": "Para esta hoja haremos gráfica seno y coseno para ejemplifcar algunas opciones útiles de Matplotlib.\n\nLos datos serán los siguentes"
    },
    {
      "metadata": {
        "trusted": true
      },
      "cell_type": "code",
      "source": "x = np.linspace(0,6,100)\ny = np.sin(x)\nz = np.cos(x)",
      "execution_count": null,
      "outputs": []
    },
    {
      "metadata": {},
      "cell_type": "markdown",
      "source": "En general, para obtener una línea continua el código es\n<br>\nplt.plot(x,y)<br>\nplt.show <br>"
    },
    {
      "metadata": {},
      "cell_type": "markdown",
      "source": "Hagamos una prueba con el seno"
    },
    {
      "metadata": {},
      "cell_type": "markdown",
      "source": ""
    },
    {
      "metadata": {},
      "cell_type": "markdown",
      "source": "Podemos cambiarle el tamaño de la linea y el color! <br>\n\nAgregando el código <br>\n\nplt.plot(x,y,'r--',linewidth=3) <br>\n\ncon 'r--' estas diciendo que queres una curva roja punteada con ancho 3"
    },
    {
      "metadata": {
        "trusted": true
      },
      "cell_type": "code",
      "source": "plt.plot(x,y)\nplt.plot(x,y,'r--',linewidth=3) \nplt.show()",
      "execution_count": null,
      "outputs": []
    },
    {
      "metadata": {},
      "cell_type": "markdown",
      "source": "Incrementemos el ancho! Y ahora amarillo y--"
    },
    {
      "metadata": {
        "trusted": true
      },
      "cell_type": "code",
      "source": "plt.plot(x,y)\nplt.plot(x,y,'y--',linewidth=5) \nplt.show()",
      "execution_count": null,
      "outputs": []
    },
    {
      "metadata": {},
      "cell_type": "markdown",
      "source": "Sí queremos una linea continua y de color negro usamos 'k-'"
    },
    {
      "metadata": {
        "trusted": true
      },
      "cell_type": "code",
      "source": "\nplt.plot(x,y,'k-',linewidth=1.5) \nplt.show()",
      "execution_count": null,
      "outputs": []
    },
    {
      "metadata": {},
      "cell_type": "markdown",
      "source": "Es muy común mezclemos lineas con  gráficos de dispersión! <br>\n\nLas linea continua plt.plot() representaría los datos de la regresión  <br>\nLos puntos de dispersión, serían los datos que tomaste en el laboratorio <br>"
    },
    {
      "metadata": {},
      "cell_type": "markdown",
      "source": "Sí queremos agregarle el scatter <br>\n\nUsamos <br>\n\nplt.scatter(x, y , c = \"orange\", alpha = 1) <br>\n\nCon c de color <br>\n\nSupón que hiciste varias mediciones en el lab! llamadas x_lab"
    },
    {
      "metadata": {
        "trusted": true
      },
      "cell_type": "code",
      "source": "x_lab = np.linspace(0,6,14)\ny_lab = np.sin(x_lab)\n\nplt.plot(x,y,'k-',linewidth=1.5)\nplt.scatter(x_lab,y_lab,c = \"red\",alpha = 1)\nplt.show()",
      "execution_count": null,
      "outputs": []
    },
    {
      "metadata": {},
      "cell_type": "markdown",
      "source": "Viste? Le agregaste puntos y línea!"
    },
    {
      "metadata": {},
      "cell_type": "markdown",
      "source": "Podemos agregar títulos a los ejes con label Mira lo siguiente! "
    },
    {
      "metadata": {
        "trusted": true
      },
      "cell_type": "code",
      "source": "x_lab = np.linspace(0,6,14)\ny_lab = np.sin(x_lab)\n\nplt.plot(x,y,'k-',linewidth=1.5)\nplt.scatter(x_lab,y_lab,c = \"red\",alpha = 1)\nplt.xlabel('eje x')\nplt.ylabel('values')\nplt.show()",
      "execution_count": null,
      "outputs": []
    },
    {
      "metadata": {},
      "cell_type": "markdown",
      "source": "Podemos limitar los ejex x y y con\n\nplt.xlim([0, 3]) Límita los los datos del eje x de cero a 3 "
    },
    {
      "metadata": {
        "trusted": true
      },
      "cell_type": "code",
      "source": "x_lab = np.linspace(0,6,14)\ny_lab = np.sin(x_lab)\n\nplt.plot(x,y,'k-',linewidth=1.5)\nplt.scatter(x_lab,y_lab,c = \"red\",alpha = 1)\nplt.xlabel('eje x')\nplt.ylabel('values')\nplt.xlim([0, 3])\nplt.ylim([-1.5, 1.5])\nplt.show()\n\n",
      "execution_count": null,
      "outputs": []
    },
    {
      "metadata": {},
      "cell_type": "markdown",
      "source": "Para salvar la figura te recomiendo el formato *eps\n\nNuca es recomendable guardar gráficar en jpg o png"
    },
    {
      "metadata": {
        "trusted": true
      },
      "cell_type": "code",
      "source": "x_lab = np.linspace(0,6,14)\ny_lab = np.sin(x_lab)\n\nplt.plot(x,y,'k-',linewidth=1.5)\nplt.scatter(x_lab,y_lab,c = \"red\",alpha = 1)\nplt.xlabel('eje x')\nplt.ylabel('values')\nplt.xlim([0, 3])\nplt.ylim([-1.5, 1.5])\nplt.savefig('myFigure.eps')\nplt.show()\n\n",
      "execution_count": null,
      "outputs": []
    },
    {
      "metadata": {},
      "cell_type": "markdown",
      "source": "Sí queremos dos lineas en el mismo gráfico!\nPues combinamos :D"
    },
    {
      "metadata": {
        "trusted": true
      },
      "cell_type": "code",
      "source": "plt.plot(x,y,'r--',linewidth=3)\nplt.plot(x,z,'k:',linewidth=2)\nplt.legend(['y','z'])\nplt.xlabel('x')\nplt.ylabel('values')\nplt.xlim([0, 3])\nplt.ylim([-1.5, 1.5])\nplt.savefig('myFigure.eps')",
      "execution_count": null,
      "outputs": []
    },
    {
      "metadata": {
        "trusted": true
      },
      "cell_type": "markdown",
      "source": "Y este fue un tutorial rápido para matplotlib!\n"
    },
    {
      "metadata": {},
      "cell_type": "markdown",
      "source": "[Volver al índice](https://notebooks.azure.com/jeff0994/libraries/QU-0560-1-1/html/01Introducci%C3%B3n-Indice.ipynb)"
    },
    {
      "metadata": {
        "trusted": true
      },
      "cell_type": "code",
      "source": "",
      "execution_count": null,
      "outputs": []
    }
  ],
  "metadata": {
    "kernelspec": {
      "name": "python36",
      "display_name": "Python 3.6",
      "language": "python"
    },
    "language_info": {
      "mimetype": "text/x-python",
      "nbconvert_exporter": "python",
      "name": "python",
      "pygments_lexer": "ipython3",
      "version": "3.6.6",
      "file_extension": ".py",
      "codemirror_mode": {
        "version": 3,
        "name": "ipython"
      }
    }
  },
  "nbformat": 4,
  "nbformat_minor": 2
}