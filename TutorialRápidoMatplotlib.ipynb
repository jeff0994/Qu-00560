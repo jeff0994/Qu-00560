{
  "nbformat": 4,
  "nbformat_minor": 0,
  "metadata": {
    "kernelspec": {
      "name": "python36",
      "display_name": "Python 3.6",
      "language": "python"
    },
    "language_info": {
      "mimetype": "text/x-python",
      "nbconvert_exporter": "python",
      "name": "python",
      "pygments_lexer": "ipython3",
      "version": "3.6.6",
      "file_extension": ".py",
      "codemirror_mode": {
        "version": 3,
        "name": "ipython"
      }
    },
    "colab": {
      "name": "TutorialRápidoMatplotlib.ipynb",
      "provenance": [],
      "include_colab_link": true
    }
  },
  "cells": [
    {
      "cell_type": "markdown",
      "metadata": {
        "id": "view-in-github",
        "colab_type": "text"
      },
      "source": [
        "<a href=\"https://colab.research.google.com/github/jeff0994/Qu-00560/blob/master/TutorialR%C3%A1pidoMatplotlib.ipynb\" target=\"_parent\"><img src=\"https://colab.research.google.com/assets/colab-badge.svg\" alt=\"Open In Colab\"/></a>"
      ]
    },
    {
      "cell_type": "markdown",
      "metadata": {
        "collapsed": true,
        "id": "54DaTNl7pr4e"
      },
      "source": [
        "# Universidad de Costa Rica\n",
        "\n",
        "## Facultad de Ciencias\n",
        "\n",
        "## Escuela de Química\n",
        "\n",
        "## Sección de Fisicoquímica\n",
        "\n",
        "## Qu-0560 Tópicos de Química Física: Herramientas Computacionales para Química\n",
        "\n",
        "### Profesor Gutiérrez\n",
        "### Asistente no oficial: Yefry López"
      ]
    },
    {
      "cell_type": "code",
      "metadata": {
        "trusted": true,
        "id": "D2gyYklnpr4g"
      },
      "source": [
        " import numpy as np\n",
        " import matplotlib.pyplot as plt\n",
        "\n",
        " plt.plot(x,z,'k:',linewidth=2)\n",
        " plt.legend(['y','z'])\n",
        " plt.xlabel('x')\n",
        " plt.ylabel('values')\n",
        " plt.xlim([0, 3])\n",
        " plt.ylim([-1.5, 1.5])\n",
        " plt.savefig('myFigure.png')\n",
        " plt.savefig('myFigure.eps')\n",
        " plt.show()"
      ],
      "execution_count": null,
      "outputs": []
    },
    {
      "cell_type": "markdown",
      "metadata": {
        "id": "_W8fkGEypr4h"
      },
      "source": [
        "Para esta hoja haremos gráfica seno y coseno para ejemplifcar algunas opciones útiles de Matplotlib.\n",
        "\n",
        "Los datos serán los siguentes"
      ]
    },
    {
      "cell_type": "code",
      "metadata": {
        "trusted": true,
        "id": "pwtCN1hapr4i"
      },
      "source": [
        "x = np.linspace(0,6,100)\n",
        "y = np.sin(x)\n",
        "z = np.cos(x)"
      ],
      "execution_count": null,
      "outputs": []
    },
    {
      "cell_type": "markdown",
      "metadata": {
        "id": "9_jMcRnRpr4j"
      },
      "source": [
        "En general, para obtener una línea continua el código es\n",
        "<br>\n",
        "plt.plot(x,y)<br>\n",
        "plt.show <br>"
      ]
    },
    {
      "cell_type": "markdown",
      "metadata": {
        "id": "xNsoQHl5pr4j"
      },
      "source": [
        "Hagamos una prueba con el seno"
      ]
    },
    {
      "cell_type": "markdown",
      "metadata": {
        "id": "W6OFr-zXpr4j"
      },
      "source": [
        ""
      ]
    },
    {
      "cell_type": "markdown",
      "metadata": {
        "id": "BiNLh2wMpr4k"
      },
      "source": [
        "Podemos cambiarle el tamaño de la linea y el color! <br>\n",
        "\n",
        "Agregando el código <br>\n",
        "\n",
        "plt.plot(x,y,'r--',linewidth=3) <br>\n",
        "\n",
        "con 'r--' estas diciendo que queres una curva roja punteada con ancho 3"
      ]
    },
    {
      "cell_type": "code",
      "metadata": {
        "trusted": true,
        "id": "FmJhjnnlpr4k"
      },
      "source": [
        "plt.plot(x,y)\n",
        "plt.plot(x,y,'r--',linewidth=3) \n",
        "plt.show()"
      ],
      "execution_count": null,
      "outputs": []
    },
    {
      "cell_type": "markdown",
      "metadata": {
        "id": "5rEzevfFpr4k"
      },
      "source": [
        "Incrementemos el ancho! Y ahora amarillo y--"
      ]
    },
    {
      "cell_type": "code",
      "metadata": {
        "trusted": true,
        "id": "Skk6z-Zfpr4l"
      },
      "source": [
        "plt.plot(x,y)\n",
        "plt.plot(x,y,'y--',linewidth=5) \n",
        "plt.show()"
      ],
      "execution_count": null,
      "outputs": []
    },
    {
      "cell_type": "markdown",
      "metadata": {
        "id": "ckgI1mXbpr4l"
      },
      "source": [
        "Sí queremos una linea continua y de color negro usamos 'k-'"
      ]
    },
    {
      "cell_type": "code",
      "metadata": {
        "trusted": true,
        "id": "jCIOZdlUpr4l"
      },
      "source": [
        "\n",
        "plt.plot(x,y,'k-',linewidth=1.5) \n",
        "plt.show()"
      ],
      "execution_count": null,
      "outputs": []
    },
    {
      "cell_type": "markdown",
      "metadata": {
        "id": "r5FEo6lYpr4l"
      },
      "source": [
        "Es muy común mezclemos lineas con  gráficos de dispersión! <br>\n",
        "\n",
        "Las linea continua plt.plot() representaría los datos de la regresión  <br>\n",
        "Los puntos de dispersión, serían los datos que tomaste en el laboratorio <br>"
      ]
    },
    {
      "cell_type": "markdown",
      "metadata": {
        "id": "fQm1QptWpr4l"
      },
      "source": [
        "Sí queremos agregarle el scatter <br>\n",
        "\n",
        "Usamos <br>\n",
        "\n",
        "plt.scatter(x, y , c = \"orange\", alpha = 1) <br>\n",
        "\n",
        "Con c de color <br>\n",
        "\n",
        "Supón que hiciste varias mediciones en el lab! llamadas x_lab"
      ]
    },
    {
      "cell_type": "code",
      "metadata": {
        "trusted": true,
        "id": "PnjVxrZXpr4m"
      },
      "source": [
        "x_lab = np.linspace(0,6,14)\n",
        "y_lab = np.sin(x_lab)\n",
        "\n",
        "plt.plot(x,y,'k-',linewidth=1.5)\n",
        "plt.scatter(x_lab,y_lab,c = \"red\",alpha = 1)\n",
        "plt.show()"
      ],
      "execution_count": null,
      "outputs": []
    },
    {
      "cell_type": "markdown",
      "metadata": {
        "id": "IByyq-V9pr4m"
      },
      "source": [
        "Viste? Le agregaste puntos y línea!"
      ]
    },
    {
      "cell_type": "markdown",
      "metadata": {
        "id": "0-6jn3kJpr4m"
      },
      "source": [
        "Podemos agregar títulos a los ejes con label Mira lo siguiente! "
      ]
    },
    {
      "cell_type": "code",
      "metadata": {
        "trusted": true,
        "id": "iNI-1-xppr4n"
      },
      "source": [
        "x_lab = np.linspace(0,6,14)\n",
        "y_lab = np.sin(x_lab)\n",
        "\n",
        "plt.plot(x,y,'k-',linewidth=1.5)\n",
        "plt.scatter(x_lab,y_lab,c = \"red\",alpha = 1)\n",
        "plt.xlabel('eje x')\n",
        "plt.ylabel('values')\n",
        "plt.show()"
      ],
      "execution_count": null,
      "outputs": []
    },
    {
      "cell_type": "markdown",
      "metadata": {
        "id": "vBeZPOK6pr4n"
      },
      "source": [
        "Podemos limitar los ejex x y y con\n",
        "\n",
        "plt.xlim([0, 3]) Límita los los datos del eje x de cero a 3 "
      ]
    },
    {
      "cell_type": "code",
      "metadata": {
        "trusted": true,
        "id": "Mpc3HYgKpr4n"
      },
      "source": [
        "x_lab = np.linspace(0,6,14)\n",
        "y_lab = np.sin(x_lab)\n",
        "\n",
        "plt.plot(x,y,'k-',linewidth=1.5)\n",
        "plt.scatter(x_lab,y_lab,c = \"red\",alpha = 1)\n",
        "plt.xlabel('eje x')\n",
        "plt.ylabel('values')\n",
        "plt.xlim([0, 3])\n",
        "plt.ylim([-1.5, 1.5])\n",
        "plt.show()\n",
        "\n"
      ],
      "execution_count": null,
      "outputs": []
    },
    {
      "cell_type": "markdown",
      "metadata": {
        "id": "REU6i7vkpr4o"
      },
      "source": [
        "Para salvar la figura te recomiendo el formato *eps\n",
        "\n",
        "Nuca es recomendable guardar gráficar en jpg o png"
      ]
    },
    {
      "cell_type": "code",
      "metadata": {
        "trusted": true,
        "id": "C4Fpl91Lpr4o"
      },
      "source": [
        "x_lab = np.linspace(0,6,14)\n",
        "y_lab = np.sin(x_lab)\n",
        "\n",
        "plt.plot(x,y,'k-',linewidth=1.5)\n",
        "plt.scatter(x_lab,y_lab,c = \"red\",alpha = 1)\n",
        "plt.xlabel('eje x')\n",
        "plt.ylabel('values')\n",
        "plt.xlim([0, 3])\n",
        "plt.ylim([-1.5, 1.5])\n",
        "plt.savefig('myFigure.eps')\n",
        "plt.show()\n",
        "\n"
      ],
      "execution_count": null,
      "outputs": []
    },
    {
      "cell_type": "markdown",
      "metadata": {
        "id": "nUKhFQ5Mpr4p"
      },
      "source": [
        "Sí queremos dos lineas en el mismo gráfico!\n",
        "Pues combinamos :D"
      ]
    },
    {
      "cell_type": "code",
      "metadata": {
        "trusted": true,
        "id": "2bwP7wiZpr4p"
      },
      "source": [
        "plt.plot(x,y,'r--',linewidth=3)\n",
        "plt.plot(x,z,'k:',linewidth=2)\n",
        "plt.legend(['y','z'])\n",
        "plt.xlabel('x')\n",
        "plt.ylabel('values')\n",
        "plt.xlim([0, 3])\n",
        "plt.ylim([-1.5, 1.5])\n",
        "plt.savefig('myFigure.eps')"
      ],
      "execution_count": null,
      "outputs": []
    },
    {
      "cell_type": "markdown",
      "metadata": {
        "trusted": true,
        "id": "HIcJ-Jwlpr4q"
      },
      "source": [
        "Y este fue un tutorial rápido para matplotlib!\n"
      ]
    },
    {
      "cell_type": "markdown",
      "metadata": {
        "id": "0RSrgDSfpr4q"
      },
      "source": [
        "[Volver al índice](https://notebooks.azure.com/jeff0994/libraries/QU-0560-1-1/html/01Introducci%C3%B3n-Indice.ipynb)"
      ]
    },
    {
      "cell_type": "code",
      "metadata": {
        "trusted": true,
        "id": "z4eHxjmepr4q"
      },
      "source": [
        ""
      ],
      "execution_count": null,
      "outputs": []
    }
  ]
}