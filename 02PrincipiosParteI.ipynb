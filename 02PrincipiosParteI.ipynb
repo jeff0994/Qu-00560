{
  "nbformat": 4,
  "nbformat_minor": 0,
  "metadata": {
    "kernelspec": {
      "display_name": "Python 3.6",
      "language": "python",
      "name": "python36"
    },
    "language_info": {
      "codemirror_mode": {
        "name": "ipython",
        "version": 3
      },
      "file_extension": ".py",
      "mimetype": "text/x-python",
      "name": "python",
      "nbconvert_exporter": "python",
      "pygments_lexer": "ipython3",
      "version": "3.6.6"
    },
    "colab": {
      "name": "02PrincipiosParteI.ipynb",
      "provenance": [],
      "toc_visible": true
    }
  },
  "cells": [
    {
      "cell_type": "markdown",
      "metadata": {
        "collapsed": true,
        "id": "Qq210SnMcC2d"
      },
      "source": [
        "# Universidad de Costa Rica\n",
        "\n",
        "## Facultad de Ciencias\n",
        "\n",
        "## Escuela de Química\n",
        "\n",
        "## Sección de Fisicoquímica\n",
        "\n",
        "## Qu-0560 Tópicos de Química Física: Herramientas Computacionales para Química\n",
        "\n",
        "### Profesor Mauricio Gutiérrez\n",
        "### Asistente no oficial: Yefry López"
      ]
    },
    {
      "cell_type": "markdown",
      "metadata": {
        "id": "DTyVLkXrcC2i"
      },
      "source": [
        "\n",
        "# Módulo I Principios de Python"
      ]
    },
    {
      "cell_type": "markdown",
      "metadata": {
        "id": "FLgaeNDCcC2k"
      },
      "source": [
        "# Objetivos de Aprendizaje\n",
        "* * *\n",
        "* Aprender algunas de las herramientas donde se puede ejecutar Python. <br>\n",
        "* Entender los principios básicos de Python. <br>\n",
        "* Volverse familiar con los tipos de Primitivas en Python.<br>\n",
        "* Volverse familiar con la delclaración de variables.<br>\n",
        "* Aprender como importar paquetes básicos para realizar cálculos complejos en Python.<br>\n"
      ]
    },
    {
      "cell_type": "markdown",
      "metadata": {
        "id": "tEPNMF-RcC2l"
      },
      "source": [
        "# ¿Donde y como puedo usar Python? \n",
        "## ¿Lo puedo tener en mi computadora?\n",
        "\n",
        "Como ya lo mencionamos Python es un lenguaje de programación! <br>\n",
        "Hay dos formas de poder ejecutar Python: <br>\n",
        "\n",
        "1. Python en la nube\n",
        "2. Instalando Python en tu Pc o Mac\n",
        "\n",
        "Para usar Python en la nube, nuestras dos recomendaciones son <br>\n",
        "\n",
        "* [Azure Notebooks Python( Microsoft)](https://notebooks.azure.com/)\n",
        "* [Cognitive Class Python(IBM)](https://labs.cognitiveclass.ai/) \n",
        "* [Google Colab (Google) (https://colab.research.google.com/)]\n",
        "\n",
        "Los tres son servicios en la nube, dentro de los cuáles se encuentra Jupyter Notebooks con Python instalado. <br>\n",
        "Mismos principios, diferente empresa <br>\n",
        "\n",
        "Para usar Python en tu computadora, hay muchas opciones!\n",
        "Por ejemplo las distribuciones! Que es una recopilación de aplicaciones, programas y paquetes en Python que viene en un sólo archivo para facilidad de instalación. <br>\n",
        "\n",
        "Nuestro favorito se llama [Anaconda](https://www.anaconda.com/), una de las distribuciones mas populares de Python! <br>\n"
      ]
    },
    {
      "cell_type": "markdown",
      "metadata": {
        "id": "Szvr1yk9cC2n"
      },
      "source": [
        "### (Opcional). ¿Como instalar Anaconda en mi Pc?\n",
        "\n",
        "<img src='https://upload.wikimedia.org/wikipedia/en/c/cd/Anaconda_Logo.png' alt=\"Anacond1\" align= \"center\">\n",
        "\n",
        "<br>\n",
        "\n",
        "1. Ve la página de Anaconda https://www.anaconda.com/\n",
        "2. En la esquina superior derecha , busca el botón __Downloads__ \n",
        "<br>\n",
        "![anaconda1.PNG](attachment:anaconda1.PNG)\n",
        "<br>\n",
        "3. A continuación , se te redirigirá a una nueva pantalla donde tenes que elegir tu sistema operativo\n",
        "<br>\n",
        "![anaconda2.PNG](attachment:anaconda2.PNG)\n",
        "<br>\n",
        "4. Elige para que sistema operativo querés instalar Anaconda! (En este tutorial lo haremos para Windows)\n",
        "<br>\n",
        "![anaconda3.PNG](attachment:anaconda3.PNG)\n",
        "<br>\n",
        "5. Escoge para que versión de Python lo deseas ( te recomendamos siempre usar la última versión) y listo la descarga inicia!"
      ]
    },
    {
      "cell_type": "markdown",
      "metadata": {
        "id": "8dX8nijjcC2p"
      },
      "source": [
        "Anaconda trar muchas aplicaciones! <br>\n",
        "Entre ellas <br>\n",
        "<br>\n",
        "\n",
        "* Spyder Python para crear y ejecutar scripts/programas en Python\n",
        "* Jupyter Notebooks\n",
        "\n",
        "Y muchas otras:\n",
        "\n",
        "\n",
        "<img src='https://www.anaconda.com/imager/assetsdo/Products/8031/open-source-logos2x_680db6b6f11f9cc710dd7defae241cd3.png' alt=\"Anacond3\" align= \"center\">\n",
        "\n"
      ]
    },
    {
      "cell_type": "markdown",
      "metadata": {
        "id": "HCWFYrANcC2q"
      },
      "source": [
        "# Tiempo de aprender Python!\n",
        "\n",
        "En este curso, todo será através de Jupyter Notebooks! <br>\n",
        "No necesitas instalar nada en tu PC <br>\n",
        "\n",
        "\n",
        "Manos a la obra! <br>"
      ]
    },
    {
      "cell_type": "markdown",
      "metadata": {
        "id": "_U83w5sLcC2r"
      },
      "source": [
        "# Tu primer programa en Python\n",
        "<br>\n",
        "Supongamos que queremos ordenarle a la computadora que \"imprima\" en pantalla \"Hola Mundo\" o \"Hello World\".\n",
        "En Python hacemos eso, con print() <br>\n",
        "<br>\n",
        "Hagamos una prueba en la celda debajo! Recuerda que para correr código podes darle click al botón \"Run\" o apretar las tecles \"Shift + Enter\" <br>"
      ]
    },
    {
      "cell_type": "code",
      "metadata": {
        "id": "Q3gUhC_VcC2s"
      },
      "source": [
        "print(\"Hola Mundo\")"
      ],
      "execution_count": null,
      "outputs": []
    },
    {
      "cell_type": "markdown",
      "metadata": {
        "id": "2AJIat2VcC2u"
      },
      "source": [
        "Listo! Viste el __output?__ <br>\n",
        "<br>\n",
        "Ahora bien que tal si queremos imprimir \"Hola Mundo\" en dos lineas? Mira el siguiente código. <br>"
      ]
    },
    {
      "cell_type": "code",
      "metadata": {
        "id": "b3-3h9sHcC2v"
      },
      "source": [
        "print(\"linea 1\\nlinea 2\")"
      ],
      "execution_count": null,
      "outputs": []
    },
    {
      "cell_type": "code",
      "metadata": {
        "id": "-E8uf0EZcC2w"
      },
      "source": [
        "#Perfecto vamos avanzando! ## Corre esta linea\n",
        "\n",
        "print(\"Hola\\nMundo\")"
      ],
      "execution_count": null,
      "outputs": []
    },
    {
      "cell_type": "markdown",
      "metadata": {
        "id": "T0KHo3AkcC2x"
      },
      "source": [
        "Te diste cuenta que en la celda número 6, que es una celda de tipo __CODE__ hay  un texto de #Perfecto vamos avanzando! y no pasó nada con respecto a ese texto? <br>\n",
        "<br>\n",
        "Este se conoce como comentarios. Los comentarios son texto en celdas __CODE__ que Python ignora. Sirven para que cuando vayas escribiendo código, lo estés comentando para que cuando terceras personas lo lean, sea un código que se entienda <br>\n",
        "\n",
        "En Python, los comentarios se crean colocando un hash mark # delante del texto del comentario. P.ej. # este es un comentario\n",
        "\n",
        "Por ejemplo corre la siguiente celda: <br>\n"
      ]
    },
    {
      "cell_type": "code",
      "metadata": {
        "id": "pySrQNRFcC2z"
      },
      "source": [
        "#Este es un comentario y por lo tanto al teclaer \"Run\" no aparecerá nada en el output"
      ],
      "execution_count": null,
      "outputs": []
    },
    {
      "cell_type": "markdown",
      "metadata": {
        "id": "icqbASeqcC20"
      },
      "source": [
        "El comando ___print()__ es sumamente importante! <br>\n",
        "<br>\n",
        "En resumen te permite imprimir texto o resultados en pantalla. <br>\n",
        "<br>\n",
        "Recordá que si queres imprimir texto, el texto a imprimir debe ir entre comillas \"\" <br>"
      ]
    },
    {
      "cell_type": "markdown",
      "metadata": {
        "id": "P0ZH1xzicC21"
      },
      "source": [
        "# Tipos de primitivas en Python\n",
        "\n",
        "Empecemos con las primitivas! Las primitivas son los bloques básicos para trabajar en Python, a partir de ellas se pueden hacer programas mucho mas complejos. Así como los átomos son los bloques básicos de construcción de la materia, las primitivas son los bloques básicos en Python <br>\n",
        "<br>\n",
        "En Python tenemos las siguientes primitivas: <br>\n",
        "\n",
        "* Boolean  : Puede ser True o False\n",
        "* Integer : Reprensentan números enteros\n",
        "* Float : Representan números reales con punto decimal\n",
        "* String: Representan texto o palabras\n"
      ]
    },
    {
      "cell_type": "markdown",
      "metadata": {
        "id": "XBMO3DJ7cC22"
      },
      "source": [
        "## Boleans\n",
        "Tipo de dato que puede ser True o False <br>\n",
        "Su primitiva es __bool__. <br>\n",
        "<br>\n",
        "Si queremos saber que tipo de dato es una primitiva empleamos la __función type()__ <br>\n",
        "<br>"
      ]
    },
    {
      "cell_type": "code",
      "metadata": {
        "id": "eWO4uNzbcC23"
      },
      "source": [
        "# Con type() dentro del paréntesis insertás el valor al cual deseas conocer su primitiva.\n",
        "type(True)\n"
      ],
      "execution_count": null,
      "outputs": []
    },
    {
      "cell_type": "code",
      "metadata": {
        "id": "ieRPoIOkcC24"
      },
      "source": [
        "# Con type() dentro del paréntesis insertás el valor al cual deseas conocer su primitiva\n",
        "type(False)"
      ],
      "execution_count": null,
      "outputs": []
    },
    {
      "cell_type": "markdown",
      "metadata": {
        "id": "k6Oy_WobcC25"
      },
      "source": [
        "## Integer\n",
        "\n",
        "Representan números enteros( positivos y negativos) <br>\n",
        "Por ejemplo el número 94 , su primitiva es __int__ de integer <br>"
      ]
    },
    {
      "cell_type": "code",
      "metadata": {
        "id": "f3Fbmvb6cC26"
      },
      "source": [
        "type(94)"
      ],
      "execution_count": null,
      "outputs": []
    },
    {
      "cell_type": "markdown",
      "metadata": {
        "id": "9BWOvDDfcC27"
      },
      "source": [
        "## Float\n",
        "Representan números con punto decimal o números enteros.... A nosotros como químicos son el tipo de primitivas que \n",
        "mas nos interesan, pues muchas de nuestras mediciones tendrán punto decimal ( o coma) <br>\n",
        "\n",
        "Su primitiva será __float__ <br>"
      ]
    },
    {
      "cell_type": "code",
      "metadata": {
        "id": "gEGT0gPEcC28"
      },
      "source": [
        "type(3.22)"
      ],
      "execution_count": null,
      "outputs": []
    },
    {
      "cell_type": "code",
      "metadata": {
        "id": "Ps7-Uzl7cC29"
      },
      "source": [
        "#Ejemplo 1\n",
        "type(0.00005)"
      ],
      "execution_count": null,
      "outputs": []
    },
    {
      "cell_type": "code",
      "metadata": {
        "id": "zKu-o7xGcC2-"
      },
      "source": [
        "# Ejemplo 2 Representa dos elevado a la 5.\n",
        "type(2e5)"
      ],
      "execution_count": null,
      "outputs": []
    },
    {
      "cell_type": "markdown",
      "metadata": {
        "id": "W0gUEZf7cC2_"
      },
      "source": [
        "¿Que pasa si querés tener varios outputs en la misma celda? <br>\n",
        "Pues podes hacer uso de la función __print__. <br>\n",
        "\n",
        "En el siguiente ejemplo vamos imprimir un número real y así mismo vamos a imprimir su tipo de primitiva. <br>"
      ]
    },
    {
      "cell_type": "code",
      "metadata": {
        "id": "lpES0674cC3B"
      },
      "source": [
        "print(3.0)\n",
        "print(type(3.0))"
      ],
      "execution_count": null,
      "outputs": []
    },
    {
      "cell_type": "markdown",
      "metadata": {
        "id": "IEX7U3locC3C"
      },
      "source": [
        "También podes convertir un int a float y un float a int usando las siguientes funciones. <br>\n",
        "\n",
        "*int()\n",
        "*float()\n",
        "\n",
        "Por ejemplo <br>\n",
        "Sí queres convertir 1 a 1.0, pues aplicar float(1) <br>\n",
        "Sí queres convertir 2.3 a 2 aplicas int(2.3) <br>\n",
        "\n",
        "CUIDADO! Al convertir un float a un int, perderás información decimal <br>"
      ]
    },
    {
      "cell_type": "code",
      "metadata": {
        "id": "pvJ4BcsgcC3D"
      },
      "source": [
        "# Convertir un float a un int\n",
        "int(2.3)"
      ],
      "execution_count": null,
      "outputs": []
    },
    {
      "cell_type": "code",
      "metadata": {
        "id": "jleBWshGcC3E"
      },
      "source": [
        "# Convertir un int a un float\n",
        "float(1)"
      ],
      "execution_count": null,
      "outputs": []
    },
    {
      "cell_type": "markdown",
      "metadata": {
        "id": "OviLjIU1cC3F"
      },
      "source": [
        "## String\n",
        "\n",
        "* String son una secuencia de caracteres que representan texto o palabras.<br>\n",
        "* Son del tipo __str__ <br>\n",
        "* Todo string se encuentra entre doble comillas o comillas simples. <br>\n",
        "\n",
        "Por ejemplo <br>\n",
        "Ejemplo 1 = \"Esto que lees es un string por que está dentro de comillas\" <br>\n",
        "Ejemplo 2 = Esto no es un string <br>\n",
        "\n"
      ]
    },
    {
      "cell_type": "code",
      "metadata": {
        "id": "-iFA9VFrcC3G"
      },
      "source": [
        "#Ejemplo 1\n",
        "\"Esto es un string entre comillas dobles\""
      ],
      "execution_count": null,
      "outputs": []
    },
    {
      "cell_type": "code",
      "metadata": {
        "id": "A5lPqJIFcC3H"
      },
      "source": [
        "#Ejemplo 2\n",
        "type(\"Esto es un string\")"
      ],
      "execution_count": null,
      "outputs": []
    },
    {
      "cell_type": "code",
      "metadata": {
        "id": "mu2TIgrdcC3I"
      },
      "source": [
        "#Ejemplo 3\n",
        "'Esto es un string con comillas simples'"
      ],
      "execution_count": null,
      "outputs": []
    },
    {
      "cell_type": "markdown",
      "metadata": {
        "id": "mlLBZDiAcC3J"
      },
      "source": [
        "#### ¿Que pasa si queres tener comillas dentro de un string? Mira el siguiente ejemplo"
      ]
    },
    {
      "cell_type": "code",
      "metadata": {
        "id": "I8zviTJIcC3K"
      },
      "source": [
        "print(\"a single quoted string 'hi' inside a double quoted string\")"
      ],
      "execution_count": null,
      "outputs": []
    },
    {
      "cell_type": "code",
      "metadata": {
        "id": "32y8DbUPcC3K"
      },
      "source": [
        "print('a double quoted string \"hi\" inside a single quoted string')"
      ],
      "execution_count": null,
      "outputs": []
    },
    {
      "cell_type": "markdown",
      "metadata": {
        "id": "ZmjhIPcPcC3L"
      },
      "source": [
        "De las celdas anteriores nos damos cuenta que <br>\n",
        "<br>\n",
        "Sí usas doble comillas para encerrar tu string, dentro de ese string podes usar comillas simples sin ningún problema. <br>\n",
        "<br>\n",
        "Lo mismo sucede con comillas simples. Podes encerrar tu string con comillas simples y dentro de ellas podes poner comillas dobles como caracter <br>"
      ]
    },
    {
      "cell_type": "markdown",
      "metadata": {
        "id": "JrwTRk5scC3M"
      },
      "source": [
        "#####  ¿Podemos convertir int y floats a string?\n",
        "Por supuesto! Podemos usar la función str() <br>\n",
        "<br>\n",
        "Recuerda leer los comentarios en la celda. <br>"
      ]
    },
    {
      "cell_type": "code",
      "metadata": {
        "id": "Sb7HnrnhcC3N"
      },
      "source": [
        "#Convirtamos el número 2.3 a str\n",
        "\n",
        "#Primero preguntemonos cual es el type de 2.3\n",
        "print(type(2.3))\n",
        "\n",
        "# Todo en orden! Ahora apliquemos la función str() a 2.3  y luego veamos su type\n",
        "print(type(str(2.3)))\n"
      ],
      "execution_count": null,
      "outputs": []
    },
    {
      "cell_type": "markdown",
      "metadata": {
        "id": "hxjoRHARcC3O"
      },
      "source": [
        "# Expresiones y variables\n",
        "\n",
        "Las expresiones describen operaciones que Python puede realizar. <br>\n",
        "Por ejemplo operaciones básicas de aritmética como la suma, la resta etc etc <br>\n",
        "\n",
        "Para un resumen de esta parte podés ver el siguiene vídeo: <br>\n",
        "[Resumen](http://videos.bigdatauniversity.com/PY0101EN/videos/PY0101EN%20-%20Expressions%20and%20Variables.mp4)"
      ]
    },
    {
      "cell_type": "code",
      "metadata": {
        "id": "S-gJttdMcC3P"
      },
      "source": [
        "13 + 4 + 5"
      ],
      "execution_count": null,
      "outputs": []
    },
    {
      "cell_type": "markdown",
      "metadata": {
        "id": "OsX6h5y9cC3Q"
      },
      "source": [
        "Por lo tanto llamamos a los números como __operandos__ y los símbolos como __+__ de suma y __-__  de resta los operadores <br>"
      ]
    },
    {
      "cell_type": "markdown",
      "metadata": {
        "id": "UEq3IyFycC3R"
      },
      "source": [
        "## Operaciones Básicas en Python\n",
        "\n",
        "Python sabe manejar la aritmética básica, podes efectuar operaciones sencillas <br>\n",
        "\n",
        "\"+\" para suma <br>\n",
        "\"-\" para resta <br>\n",
        "\"/\" para división <br>\n",
        "\"*\" para múltiplicación <br>\n",
        "\"**\" para exponentes <br>\n",
        "\n",
        "___IMPORTANTE.___ En Python existen reglas de procedencia.<br>\n",
        "Python asignará prioridad para evaluar operaciones númericas\n",
        "\n",
        "+ Primer prioridad \"()\" y \"**\" (paréntesis y exponenciación) <br>\n",
        "+ Segunda prioridad \"*\" y \"/\" <br>\n",
        "+ Tercera prioridad \"+\" y \"-\" <br>\n",
        "\n",
        "Corre la siguiente celda, donde se muestra diferentes operaciones en Python <br>\n",
        "Recuerde que en las celdas hay comentarios <br>"
      ]
    },
    {
      "cell_type": "code",
      "metadata": {
        "id": "_hFECkZXcC3S"
      },
      "source": [
        "#Suma de dos números de tipo floats\n",
        "print(\"A continuación un ejemplo de suma. Estamos sumando 2.3 + 6.0\")\n",
        "print(2.3 + 6.0)\n",
        "\n",
        "#Imprimir una linea en blanca\n",
        "print()\n",
        "\n",
        "#División de dos números tipo floats\n",
        "print(\"A continuación un ejemplo de división. Estamos dividiendo 6.0 / 3.45\")\n",
        "print(6.0 / 3.45)"
      ],
      "execution_count": null,
      "outputs": []
    },
    {
      "cell_type": "markdown",
      "metadata": {
        "id": "X_lGrb1OcC3U"
      },
      "source": [
        "## Operaciones combinadas\n",
        "\n",
        "Recuerda que Python tiene reglas de procedencia. <br>\n",
        "Sí, querés indicarle a Python que primero evalue cierta expresión, te recomiendo uso de paréntesis para que Python te entienda. <br>\n",
        "\n",
        "¿Cual es el resultado de las siguientes operaciones? <br>\n",
        "Mira el efecto de agregar Parentesis <br>"
      ]
    },
    {
      "cell_type": "code",
      "metadata": {
        "id": "V5ATL6PbcC3V"
      },
      "source": [
        "2*60 + 30"
      ],
      "execution_count": null,
      "outputs": []
    },
    {
      "cell_type": "code",
      "metadata": {
        "id": "wCVF1AOmcC3V"
      },
      "source": [
        "30 + 2*60"
      ],
      "execution_count": null,
      "outputs": []
    },
    {
      "cell_type": "code",
      "metadata": {
        "id": "oJ6m528TcC3W"
      },
      "source": [
        "(30 + 2) * 60"
      ],
      "execution_count": null,
      "outputs": []
    },
    {
      "cell_type": "markdown",
      "metadata": {
        "id": "HyW-pnGNcC3X"
      },
      "source": [
        "<img src='https://emojipedia-us.s3.dualstack.us-west-1.amazonaws.com/thumbs/72/google/146/face-with-one-eyebrow-raised_1f928.png' alt=\"Emoji\" align= \"left\"> \n",
        " Ahh.... Genial, he aprendido en Python lo que puedo hacer facilmente en Microsoft Excel y en una calculadora cuesta de pollos... \n",
        " \n",
        "\n",
        "\n"
      ]
    },
    {
      "cell_type": "markdown",
      "metadata": {
        "id": "4MfH5pcccC3Y"
      },
      "source": [
        "<img src='https://emojipedia-us.s3.dualstack.us-west-1.amazonaws.com/thumbs/72/google/146/smiling-face-with-open-mouth-and-cold-sweat_1f605.png' alt=\"Emoji2\" align= \"left\"> \n",
        "\n",
        "Okey okey, tranquilos.... Para sacarle toda la potencial al lenguaje de programación necesitamos ver todos sus principios!\n",
        "Sigamos con un tema importantísimo!"
      ]
    },
    {
      "cell_type": "markdown",
      "metadata": {
        "id": "mtD039dmcC3a"
      },
      "source": [
        "## Declaración de Variables"
      ]
    },
    {
      "cell_type": "markdown",
      "metadata": {
        "id": "uIzjq_qacC3b"
      },
      "source": [
        "Hasta ahora hemos aprendido a hacer cálculos básicos con las operaciones básicas de la aritmética, sin embargo que sucede sí \n",
        "querés guardar el valor que obtuviste de efectuar una operación, para reutilizarlo después? <br>\n",
        "\n",
        "Para esto , podes hacer uso de variables! <br>\n",
        "\n",
        "__¿Que es una variable?__ <br>\n",
        "\n",
        "Las variables son uno de los elementos fundamentales de la programación! Sin ellas no se podría hacer mucho. Probablemente, de tus clases de cálculo o álgebra , ya tengas cierta noción de lo que es una variable. <br>\n",
        "\n",
        "Pues en Ciencias de Computación, usar variables es muy similar! En términos sencillos, una __variable__ es un nombre que me \n",
        "permite acceder a cierto valor. El nombre de la variable siempre es el mismo, mientras tanto su valor puede cambiar<br>\n",
        "\n",
        "Por lo tanto, una variable en una forma de almacenar una valor en la memoria de tu computador. Al valor le asignas un nombre y una vez declarada la variable, podes accerde a dicho valor utilizando el nombre que le diste. <br> \n",
        "\n",
        "\n",
        "En general para declarar una variable en Python se tiene el siguiente formato: <br>\n",
        "    \n",
        "Nombre_Variable = valor <br>\n",
        "\n",
        "Para asignar la variable usamos la expresión \"=\" <br>\n",
        "Veamos un ejemplo! <br>\n",
        "Creemos una variable cuyo nombre sea sea \"mi cuenta\" y asignemosle el valor 1 <br>"
      ]
    },
    {
      "cell_type": "code",
      "metadata": {
        "id": "zSDbaQMhcC3d"
      },
      "source": [
        "mi_cuenta = 1"
      ],
      "execution_count": null,
      "outputs": []
    },
    {
      "cell_type": "markdown",
      "metadata": {
        "id": "lqfbLNSwcC3f"
      },
      "source": [
        "Listo! Ya declaramos la variable mi cuenta y le asignamos el valor 1 <br>\n",
        "<br>\n",
        "Que sucede si ponemos el nombre de la variable en la celda? <br>\n",
        "<br>\n",
        "Veamos que pasa"
      ]
    },
    {
      "cell_type": "code",
      "metadata": {
        "id": "vXyzsWdDcC3g"
      },
      "source": [
        "mi_cuenta"
      ],
      "execution_count": null,
      "outputs": []
    },
    {
      "cell_type": "markdown",
      "metadata": {
        "id": "2JcXxRYbcC3i"
      },
      "source": [
        "Viste? <br>\n",
        "Sí, quereres acceder a cierta variable, sólo tenes indicarle a Python su nombre. <br>\n",
        "\n",
        "Que sucede, si ahora asigno el valor de 10 a la variable ___mi_cuenta__ ? <br>"
      ]
    },
    {
      "cell_type": "code",
      "metadata": {
        "id": "r-9LwI9wcC3k"
      },
      "source": [
        "mi_cuenta = 10"
      ],
      "execution_count": null,
      "outputs": []
    },
    {
      "cell_type": "markdown",
      "metadata": {
        "id": "wBcXt--wcC3k"
      },
      "source": [
        "mi_cuenta"
      ]
    },
    {
      "cell_type": "markdown",
      "metadata": {
        "id": "nsXKsZfYcC3l"
      },
      "source": [
        "Viste? <br>\n",
        "<br>\n",
        "Actualizamos el valor de la variable __mi_cuenta__  ahora tiene un valor de 10.<br>\n",
        "Recuerda, los valores de las variables pueden cambiar! Tenlo presente!<br>\n",
        "<br>\n",
        "Si querés aprender mas sobre variables te recomendamos ver estos videos!<br>\n",
        "<br>\n",
        "* [Que es una variable?](https://www.youtube.com/watch?time_continue=43&v=P128BcW9-1w) <br>\n",
        "* [Ejemplos de variables](https://www.youtube.com/watch?time_continue=21&v=8-XU8nCvcXQ)<br>\n",
        "* [Particulares de Python](https://www.youtube.com/watch?time_continue=125&v=iH1IxLwAOEU) <br>\n",
        "* [Errores en Variables I](https://www.youtube.com/watch?v=IgiN0oEbKB4) <br>\n",
        "* [Errores en Variables II](https://www.youtube.com/watch?v=mdlMhJWYmig) <br>\n",
        "* [Errores en Variables III](https://www.youtube.com/watch?v=Sdyt1cSq5zE) <br>"
      ]
    },
    {
      "cell_type": "markdown",
      "metadata": {
        "id": "2slhXmW4cC3m"
      },
      "source": [
        "__TIP__ <br>\n",
        "Recuerda! La regla es nombre de variable (izquierda) = valor(derecha) <br>"
      ]
    },
    {
      "cell_type": "markdown",
      "metadata": {
        "id": "97fFq9cWcC3n"
      },
      "source": [
        "### Ejemplo 1. Valoración ácido-base <br>\n",
        "\n",
        "![Titolazione.gif](attachment:Titolazione.gif)\n",
        "Dominio Público (https://commons.wikimedia.org/wiki/File:Titolazione.gif)\n",
        "\n",
        "\n",
        "<br>\n",
        "Un estudiante en su curso de Laboratorio de Química General realizó una valoración con HCl que consumio 22.75 mL de NaOH a una concentración de 0.100 mol/ L <br>\n",
        "<br>\n",
        "El estudiante usando una pipeta, colocó 5.00 mL del HCl en el erlemeyer. <br>\n",
        "<br>\n",
        "Calcule la concentración del ácido, guardando su valor en la variable Cn(HCl).<br>"
      ]
    },
    {
      "cell_type": "markdown",
      "metadata": {
        "id": "soBTdI9TcC3n"
      },
      "source": [
        "### Resolución.\n",
        "\n",
        "En este caso el problema es sencillo! <br>\n",
        "Haremos uso de la clásica fórmula $Cn_{i}V_{i} = Cn_{f}V_{f}$ <br>\n",
        "Que nos dice que el volumen inicial por la concentración inicial debe ser igual al volumen final por la concentración final. <br>\n",
        "\n",
        "\n",
        "Recuerda que una valoración moles_iniciales = moles_finales. <br>\n",
        "\n",
        "Y sabemos que por definición $ moles = concentración * volumen$ <br>\n",
        "\n",
        "\n",
        "Asi mismo recordamos que la valoración $HCl + NaOH ------> NaCl + H_2O$, estequiométricamente es 1 a 1. <br>\n",
        "\n",
        "Por lo tanto podemos decir que $Cn(HCl) = \\frac{Cn(NaOH) V(NaOH)}{V(HCl)}$ <br>\n",
        "\n",
        "Recordá estar leyendo los comentarios en las celdas código. <br>"
      ]
    },
    {
      "cell_type": "code",
      "metadata": {
        "id": "P5IUd9g8cC3o"
      },
      "source": [
        "#Sea Cn(NaOH) la concentración del NaOH agregado desde una bureta\n",
        "Cn_NaOH = 0.100\n",
        "\n",
        "#Sea V(NaOH) el volumen consumido de la base\n",
        "V_NaOH = 22.75\n",
        "\n",
        "#Sea V(HCl) el volumen de HCl agregado al erlenmeyer desde una pipeta de 5.00 mL\n",
        "V_HCl = 5.00\n",
        "\n",
        "Cn_HCl = (Cn_NaOH*V_NaOH)/V_HCl"
      ],
      "execution_count": null,
      "outputs": []
    },
    {
      "cell_type": "code",
      "metadata": {
        "id": "oJhu2bA1cC3p"
      },
      "source": [
        "Cn_HCl"
      ],
      "execution_count": null,
      "outputs": []
    },
    {
      "cell_type": "markdown",
      "metadata": {
        "id": "hZxvN522cC3r"
      },
      "source": [
        "Y para que sea vea mas interactivo, combinados nuestros resultado anterior. <br>\n",
        "<br>\n",
        "¿Como? <br>\n",
        "\n",
        "Con nuestra función print() <br>\n",
        "\n",
        "Formato de código: <br>\n",
        "print(\"Texto que querés imprimir\" , nombre de variable) <br>"
      ]
    },
    {
      "cell_type": "code",
      "metadata": {
        "id": "8Tlpl2IZcC3s"
      },
      "source": [
        "#print(\"Texto que querés imprimir\" , nombre de variable)\n",
        "\n",
        "\n",
        "print(\"La concentración del HCl es\",Cn_HCl)"
      ],
      "execution_count": null,
      "outputs": []
    },
    {
      "cell_type": "markdown",
      "metadata": {
        "id": "xhGjsP3hcC3s"
      },
      "source": [
        "##  Instalación e Importación de Paquetes\n",
        "\n",
        "Okey okey, se que por ahora no sabemos hacer mucho en Python!<br> \n",
        "<br>\n",
        "Sin embargo lo poderoso de Python es que podemos usar programas que terceros han creado para nuestro beneficio! En última instancia , este curso no es un curso introductorio de ciencias de computación, la idea es que aprendas la sintasix básica de Python para que hagas uso de paquetes de terceros en la resolución de problemas en Química! <br>\n",
        "<br>\n",
        "Un paquete son lineas código o programas, que alguna persona ha programado y que podes usar, simplemente tenes que instalar o importar en tu plataforma de Python! <br>\n",
        "\n",
        "Hay paquetes que ya viene predefinidos o instalados por defecto en muchas plataformas como Azure, Cognitive Classes o Anaconda. <br>\n",
        "\n",
        "Hay otros que primero debes instalarlos en tu plaforma y luego importarlos <br>\n",
        "\n",
        "Por ejemplo, en Jupyter Notebooks de forma automática vienen instalado SciPython, paquete de computación científica de Python, que tiene a a su vez instalado por defecto los paquetes Numpy, Matplotlib , Pandas y SyPython <b>\n",
        "    \n",
        "Por lo tanto sólo tenes que importar dichos paquetes <br>\n",
        "Hay otros que primero debes instalarlos y luego importarlos <br>"
      ]
    },
    {
      "cell_type": "markdown",
      "metadata": {
        "id": "2eV5rmZ5cC3t"
      },
      "source": [
        "En otras palabras:\n",
        "\n",
        "1. Primero fijate si un paquete viene por defecto en tu plataforma, sí lo está pasa al paso número 3.\n",
        "2. ¿El paquete no está? Instala el paquete.\n",
        "3. Importa el paquete a tu hoja de trabajo\n",
        "4. Ya puedes usar el paquete en tu hoja de trabajo"
      ]
    },
    {
      "cell_type": "markdown",
      "metadata": {
        "id": "Nho-fAbCcC3u"
      },
      "source": [
        "En este curso haremos uso de los siguientes paquetes\n",
        "\n",
        "Paquetes ya instalados por defecto ( Sólo debes importarlos)\n",
        "* [match](https://docs.python.org/2/library/math.html) Para cálculo de funciones básicas de matemática elemental. <br>\n",
        "* [Numpy](http://www.numpy.org/) Para manejar arrays, vectores, columnnas y hacer cálculos numéricos. <br>\n",
        "* [Pandas](https://pandas.pydata.org/) Para manejar dataframes! Los dataframes son como hojas de excel pero mas potentes. <br>\n",
        "* [matplolib](https://matplotlib.org/) Para realizar gráficos. <br>\n",
        "* [Sypy](http://sypy.org/) Para algebra Simbólica.\n",
        "\n",
        "<br>\n",
        "\n",
        "Paquetes no instalados por defecto (Primero debes instalarlos , luego importarlos)\n",
        "* [uncertainties](https://pythonhosted.org/uncertainties/) Para manejo de propagación de incertidumbres. <br>\n",
        "* [scikit-learn](http://scikit-learn.org/) Para realizar regresiones lineales y no lineales. <br>\n",
        "* [statsmodels](http://www.statsmodels.org/stable/index.html) Para manejar estadística y realizar regresiones. <br>\n",
        "* [GEKKO](https://gekko.readthedocs.io/en/latest/) Para optimización algebraica de ecuaciones diferenciales e integrales.\n",
        "Y todo será acoplado a nuestros conocimientos de química: Valoraciones , cinéticas, equilibrio y termodinámica!"
      ]
    },
    {
      "cell_type": "markdown",
      "metadata": {
        "id": "erKb417tcC3v"
      },
      "source": [
        "# ¿Como instalar un paquete en Jupyter?\n",
        "\n",
        "La sintaxsis es muy sencilla! <br>\n",
        "\n",
        "En una celda código escribís <br>\n",
        "\n",
        "__!pip install nombre del paquete__ <br>\n",
        "\n",
        "Hagamos un ejemplo, supongamos que queremos instalar uncertainties <br>\n",
        "\n",
        "Bien en la siguiente celda lo haremos!"
      ]
    },
    {
      "cell_type": "code",
      "metadata": {
        "id": "J0nCy7BbcC3w"
      },
      "source": [
        "# Corre esta celda\n",
        "!pip install uncertainties"
      ],
      "execution_count": null,
      "outputs": []
    },
    {
      "cell_type": "markdown",
      "metadata": {
        "id": "UiibhgomcC3w"
      },
      "source": [
        "Te parece sí instalas el paquete llamado __statsmodels__ ?\n",
        "\n",
        "Hazlo en la siguiente celda"
      ]
    },
    {
      "cell_type": "code",
      "metadata": {
        "id": "JBwvcARBcC3x"
      },
      "source": [
        "# Instala statsmodels"
      ],
      "execution_count": null,
      "outputs": []
    },
    {
      "cell_type": "markdown",
      "metadata": {
        "id": "4YFW6n-xcC3y"
      },
      "source": [
        "Traduzcamos a lo Tico lo que acabamos de hacer: <br>\n",
        "\n",
        "---\n",
        "\n",
        "\n",
        "    \n",
        "Con el comando !pip install le decimos a Python: <br>\n",
        "    \n",
        "    _\"Hey Python, quiero instalar un paquete en Azure , se llama uncertainties, buscalo e instalalo\"_ <br>\n",
        "\n",
        "Python dice <br>\n",
        "\n",
        "    _\"Sus deseos son ordenes :V\"_ <br>\n",
        "\n",
        "Y lo empieza a buscar en la web hasta instalarlo ( sí es que existe o sí le dijiste el nombre correcto). <br>\n",
        "\n",
        "Ahora , que pasa si queremos importar un paquete ya instalado en nuestra hoja de trabajo?"
      ]
    },
    {
      "cell_type": "markdown",
      "metadata": {
        "id": "kwc28AcIcC3z"
      },
      "source": [
        "# ¿Como importar paquetes ?\n",
        "\n",
        "En una celda escribes __import__ nombre del maquete <br>\n",
        "\n",
        "Por ejemplo, veamos el paquete básico de matemática en Python <br>\n",
        "\n"
      ]
    },
    {
      "cell_type": "code",
      "metadata": {
        "id": "WCeRWxj7cC30"
      },
      "source": [
        "import math"
      ],
      "execution_count": null,
      "outputs": []
    },
    {
      "cell_type": "markdown",
      "metadata": {
        "id": "aK74mDfRcC31"
      },
      "source": [
        "Listo! En la celda anterior ya le dijiste a Python que importe el módulo matemático. Lo cual te va a permitir hacer cálculos\n",
        "matemáticos básicos. <br>\n",
        "\n",
        "Hagamos operaciones mas complicadas! Trabajemos con operaciones trigonométricas, logaritmos y exponenciales <br>\n",
        "A continuación algunos códigos útiles <br>\n",
        "\n",
        "* Para el seno usas: math.sin() <br>\n",
        "* Para el coseno usas: math.cos() <br>\n",
        "* Para la tangente usas: math.tan() <br>\n",
        "* Para trabajar con PI: math.pi <br>\n",
        "* Para trabajar con exponente e : math.exp() <br>\n",
        "* Para trabajar con raices cuadradas: math.sqrt() <br>\n",
        "* Para trabajar con potencias fraccionarias Por ejemplo 2^(3/2): math.pow(base, exponente) <br>\n",
        "* Para trabajar con logarimos en base 2: math.log2(x) <br>\n",
        "* Para trabajar con logarimos en base 2: math.log10(x) ( Mejor conocido como \"log\" en la cálculadora científica. <br>\n",
        "* Logaritmo natural: math.log(x,exp(1)) Donde x el el valor al que le queres calcular el logaritmo natural <br>\n",
        "\n",
        "Para ver mas opciones que ofrece el módulo, podes ir la [documentación](https://docs.python.org/2/library/math.html)\n",
        "\n",
        "Dentro del paréntesis irá el valor que deseas cálcular! <br>"
      ]
    },
    {
      "cell_type": "markdown",
      "metadata": {
        "id": "Q84hVG1acC32"
      },
      "source": [
        "\n",
        "\n",
        "\n",
        "### Ejemplo 2 Hidrólisis de Esteres <br>\n",
        "<br>\n",
        "\n",
        "<img src='https://upload.wikimedia.org/wikipedia/commons/e/e0/Hydrolysis.png' alt=\"ester\" align= \"center\"> \n",
        "\n",
        "La cinética de hidrólisis de esteres está dado por la siguiente ecuación: <br>\n",
        "$$V(t) = (V0-Vi)e^{- k t} + V_{i}$$\n",
        "\n",
        "En __Fisicoquímica II__ , usted tomará una muestra de algún Ester y lo catalizará con HCl. La mezcla ester + HCl será valorada con NaOH adicionando desde una bureta. Por lo tanto , su mediciones finales serán sus volúmenes de NaOH consumidos <br>\n",
        "\n",
        "Donde <br>\n",
        "- V representa el volumen del NaOH consumido para un tiempo __t__\n",
        "- V0 representa el volumen consumido de NaOH en la primera valoración\n",
        "- Vi representa el volumen de NaOH cuando la reacción de hidrólisis se dio por completo.\n",
        "- k representa la constante cinetica de reacción.\n",
        "\n",
        "Usted en el laboratorio determinó que k para el acetato de etilo tiene un valor aproximado de \n",
        "$(1,0 ± 0,3)x10^{-4}mol^{-1}Ls^{-1}$.\n",
        "Así mismo a partir de su primer valoración determinó que $V0 = 22.45 ± 0,03$ y que su valor de $Vi = 45.67± 0,0$ \n",
        "\n",
        "- Declare las variables V0, Vi y k\n",
        "- Programe la función de la cinética de hidrólisis y asígnesela a la variable Cn\n",
        "- Con los puntos anteriores , calcule cuanto volumen de NaOH se gastará despues de 1 hora:30 minutos.Hint ( Haga la conversión en segundos primeros y asignesela a la variable t_segundos) \n",
        "__Hint para el exponente, recuerde el módulo math que ya cargó en Jupyter__\n",
        "- Con la función print() el valor \n",
        "\n",
        "Recuerde leer los comentarios en los códigos. <br>"
      ]
    },
    {
      "cell_type": "code",
      "metadata": {
        "id": "qNt7Y6rbcC33"
      },
      "source": [
        "# Asignación de Variables\n",
        "\n",
        "V0 = 22.45 #Cuidado! Python todavía no sabe manejar incertidumbres! Por ahora ignoraremos los valores de las incertidumbres\n",
        "Vi = 80.56\n",
        "k = 1.12*(10**(-4)) #Recuerda que para elevar a un potencia en Python, se usan dos asteriscos\n",
        "\n",
        "#Conversión del tiempo\n",
        "t_s = 1 * 3600 +30*60\n",
        "# Programación de función\n",
        "V = ((V0-Vi)* math.exp(-k*t_s)) + Vi\n",
        "\n",
        "print(V)"
      ],
      "execution_count": null,
      "outputs": []
    },
    {
      "cell_type": "markdown",
      "metadata": {
        "id": "ZCy__hfIcC33"
      },
      "source": [
        "## Mas sobre la función print()\n",
        "\n",
        "La función print() te da una forma de interactuar con el usuario. <br>\n",
        "Cuando tengas que imprimir algún valor y queres que en pantala salga mas dialogo en conjunto de tu variable calculada podes \n",
        "hacer uso de ella! <br>\n",
        "\n",
        "Tenes dos formas <br>\n",
        "\n",
        "1. Código 1 usar la notación de suma o concatenación de strings ( Aprenderás mas sobre este término en el próximo módulo) <br>\n",
        "    __print(\"Aquí va el dialogo que queres que salga \" +  str(nombre de variable) )__<br>\n",
        "\n",
        "<br>\n",
        "\n",
        "2. Código 2 usar la noación de par ordentado <br>\n",
        "    __print(\"Aquí va el dialogo que queres que salga \" , nombre de variable )___ <br>\n",
        "\n",
        "Veamos un ejemplo! Usemos el volumen de hidrólisis de esteres que recién calculamos <br>\n",
        "Recuerda que cuando declaras una variable con su respectivo valor, dicho valor queda en memoria. <br>"
      ]
    },
    {
      "cell_type": "code",
      "metadata": {
        "id": "FMUZNE8CcC34"
      },
      "source": [
        "#Compara esta celda con la siguiente\n",
        "print(\"El volumen total consumido para la hidrólisis de estesres es:\" + V)"
      ],
      "execution_count": null,
      "outputs": []
    },
    {
      "cell_type": "markdown",
      "metadata": {
        "id": "GZw1nbXGcC35"
      },
      "source": [
        "¿Te tiró error verdad? La razón es que Python dentro de print() al ver un string sumado con un float entra en crisis, ya que\n",
        "no sabe manejar ambas primitvas a la vez (como cuando entras en crisis por que no sabes que salvar, sí Física III o Análisis II <br>\n",
        "\n",
        "Primer tenés que convertir la variable en un string usando la función str() <br>"
      ]
    },
    {
      "cell_type": "code",
      "metadata": {
        "id": "d4Y0diYecC36"
      },
      "source": [
        "#Código 1\n",
        "print(\"El volumen total consumido para la hidrólisis de estesres es: \" + str(V))"
      ],
      "execution_count": null,
      "outputs": []
    },
    {
      "cell_type": "code",
      "metadata": {
        "id": "_B91OuS0cC37"
      },
      "source": [
        "#Código 2\n",
        "print(\"El volumen total consumido para la hidrólisis de ésteres es: \", V )"
      ],
      "execution_count": null,
      "outputs": []
    },
    {
      "cell_type": "markdown",
      "metadata": {
        "id": "UkE2qNYrcC37"
      },
      "source": [
        "En la anterior celda al separar el string por una \",\" Python puede interpretar que se trata de dos primitivas distintas"
      ]
    },
    {
      "cell_type": "markdown",
      "metadata": {
        "id": "yC-ToF8gcC38"
      },
      "source": [
        "### Ejemplo 3. Fórmula de Heron para calcular el área de triangulos.\n",
        "\n",
        "La fórmula de Herón viene dada por <br>\n",
        "\n",
        "$$A = \\sqrt{s(s-a)(s-b)(s-c)}$$ \n",
        "<br>\n",
        "Donde a,b,c representan la longitud de los lados del triangulos. <br>\n",
        "<br>\n",
        "$$s = \\textstyle\\frac{1}{2}(a+b+c).$$ <br>\n",
        "\n",
        "Calcule el área de un triangulo cuyos lados a,b,c son <br>\n",
        "\n",
        "* a = 4.503\n",
        "* b = 2.377\n",
        "* c = 3.902"
      ]
    },
    {
      "cell_type": "markdown",
      "metadata": {
        "id": "j1m-c8AqcC39"
      },
      "source": [
        "#### Resolución por pasos"
      ]
    },
    {
      "cell_type": "markdown",
      "metadata": {
        "id": "dRZ1SmpCcC3-"
      },
      "source": [
        "#### Paso 1. Declare variables"
      ]
    },
    {
      "cell_type": "code",
      "metadata": {
        "id": "ru8YdwBwcC3-"
      },
      "source": [
        "a = 4.503\n",
        "b = 2.377\n",
        "c = 3.902\n",
        "s = (a + b+ c)/ 2"
      ],
      "execution_count": null,
      "outputs": []
    },
    {
      "cell_type": "markdown",
      "metadata": {
        "id": "12OsQR74cC3_"
      },
      "source": [
        "#### Paso 2. Programe la fórmula de Herón"
      ]
    },
    {
      "cell_type": "code",
      "metadata": {
        "id": "i6sjGhIPcC4A"
      },
      "source": [
        "area = math.sqrt(s * (s - a) * (s - b) * (s - c))"
      ],
      "execution_count": null,
      "outputs": []
    },
    {
      "cell_type": "markdown",
      "metadata": {
        "id": "qqhJrpqAcC4B"
      },
      "source": [
        "#### Paso 3. Imprima resultados"
      ]
    },
    {
      "cell_type": "code",
      "metadata": {
        "id": "jT2dfh1ncC4C"
      },
      "source": [
        "area"
      ],
      "execution_count": null,
      "outputs": []
    },
    {
      "cell_type": "markdown",
      "metadata": {
        "id": "uj_apaNmcC4C"
      },
      "source": [
        "Por ahora hemos incrementado un poco el nivel de dificultad! <br>\n",
        "Pero, como te habrás dado cuenta, en el último ejercicio ignoramos por completo las incertidumbres :/ <br>\n",
        "\n",
        "La pregunta es.... Python puede manejar incertidumbres? Y la respues es sí! <br>\n",
        "Veamos nuestra primera aplicación! <br>\n",
        "\n",
        "[Volver al índice](https://notebooks.azure.com/jeff0994/libraries/QU-0560-1-1/html/01Introducci%C3%B3n-Indice.ipynb)"
      ]
    },
    {
      "cell_type": "code",
      "metadata": {
        "id": "Y-Js4-ujcC4D"
      },
      "source": [
        ""
      ],
      "execution_count": null,
      "outputs": []
    }
  ]
}