{
  "cells": [
    {
      "metadata": {
        "collapsed": true
      },
      "cell_type": "markdown",
      "source": "# Universidad de Costa Rica\n\n## Facultad de Ciencias\n\n## Escuela de Química\n\n## Sección de Fisicoquímica\n\n## Qu-0560 Tópicos de Química Física: Herramientas Computacionales para Química\n\n### Profesor Mauricio Gutierrez\n### Asistente no oficial: Yefry López"
    },
    {
      "metadata": {},
      "cell_type": "markdown",
      "source": "\n# Módulo I Principios de Python"
    },
    {
      "metadata": {},
      "cell_type": "markdown",
      "source": "# Objetivos de Aprendizaje\n* * *\n* Entender los principios Básicos de Python\n* Volverse familiar con los tipos de Primitivas en Python\n* Volverse familiar con la delclaración de variables.\n* Importación de Paquetes básicos.\n"
    },
    {
      "metadata": {},
      "cell_type": "markdown",
      "source": "# Bienvenidos a Azure Jupyter Notebooks!\n\nVamos a aprender un poco de Python y contextualizarlo en nuestra área de la química!\nAntes de iniciar, primero veamos algunas definiciones!\n\nEn primera instancia  vamos a correr Python en Azure! Una colección servicios en la nube por parte de Microsoft.\nPor lo tanto , todo lo que hagamos en este curso será totalmente en linea, no tendrás que instalar nada en tu computadora.\n\nDentro de Azure, el equipo de Microsoft en sus servidores ha instalado Python 3.6 y asi mismo Jupyter Notebooks.\n"
    },
    {
      "metadata": {},
      "cell_type": "markdown",
      "source": "# ¿Que es Jupyter Notebooks?\n\n<img src='http://jupyter.org/assets/main-logo.svg' alt=\"Jupyter\" width=\"200\" align= \"center\">\n\nBuena pregunta! Jupyter Notebooks es un entorno interactivo web de ejecución de código en los que, por ejemplo, puedes incluir gráficas que ayuden en el análisis e explicación de tus datos. Utilizados para facilitar la explicación y reproducción de estudios y análisis.... Podemos imaginartelo como si se tratase de un cuaderno interactivo donde podes escribir texto, agregar imagenes, código y mucho mas...\n\nPara aprender mas podes ir a su web [aca](http://jupyter.org/)\n\nJupyter Notebooks puede funcionar con muchos lenguajes de programación! En este curso estaremos usando Python 3.6 como lenguaje de programación.\n"
    },
    {
      "metadata": {},
      "cell_type": "markdown",
      "source": "# ¿Que es Python?\n\n<img src='https://www.python.org/static/img/python-logo.png' alt=\"Python\"  align= \"center\">\n\nPython es un lenguaje de programación!\n\nTe estarás preguntando  okey pero que es Programar.... Pues programar, en palabras de David Joyner \"es el acto de crear instrucciones para que una computadora las lleve a cabo, osea vos le dices a la computadora que hace. Esas instrucciones pueden ser algo como \"Suma 5 +3\" o \"Guarda mi documento\" o \"Simula las transiciones enegérticas en una molécula\" . Cadenas de esos comandos crean los comportamiendos de cada uno los dispositivos que ves en tu vida diaria: celulares inteligentes, computadoras, electrodomésticos, TVs etc ets  \"\n\nDe eso se trata la programación: Escribir comandos llamados \"codigo\" que una computadora va a realizar!\n\nAhora bien, para escribir esa lineas de código debemos escoger algún lenguaje de programación! Hay decenas de ellos. Un lenguaje de programación pues... Hagamos una analogía, supogamos que estas aprendiendo algún nuevo idioma como Alemán o Japonés y tu profesora te dejó la tarea de escribir un ensayo, pues bien para que podas escribir ese ensayo debes saber algunas reglas básicas de ese lenguaje.\n\nLo mismo sucede con la programación en general!Para programar o escribir ( analogía de escribir ensayo) debes escoger un lenguaje de programación donde podas escribir código ( idioma).\n\nAsí como el Español y el Ingles tienen diferentes reglas, sintaxis y estructuras, los lenguajes de programación también las tienen. \n\nEn este curso hemos escogido Python 3.6. Uno de los lenguajes mas populares y amigables con el usuario que existen! Ya va a ver...\n\n## Características de Python\n* Lenguaje de alto nivel : En términos sencillos, Python es mucho mas sencillo que los lenguajes de bajo nivel, no tenes que preocuparte por lo que pase en tu procesador y memoria.\n* Python es Portable! Podes correlor en tu PC, Mac o en la Nube\n* Python es dinámico e interpretado Cuando ejecutes código, Python va a correr linea por linea, esta da pie que podas usar Python en alguna linea de comomandos, puede imaginartelo como si se tratase de un calculadora fancy. También te permite correr scripts o usar algo como Jupyter Notebooks"
    },
    {
      "metadata": {},
      "cell_type": "markdown",
      "source": "# Introducción al uso de Jupyter Notebooks\n\nEl siguiente diagrama muestra la anatomía de Jupyter\n\n<img src='https://raw.githubusercontent.com/michhar/python-jupyter-notebooks/master/general/nb_diagram.png' alt=\"Jupyter\" align= \"center\">\n\nA lo largo de usar Jupyter, te darás cuentes que hay celdas IN[] y celdas Out[] \n\nLas celdas input o __IN[]__ te permiten ingresar código, texto y demás! \nPor su parte las celdas __OUT[]__ , son el resultado de ejecutar CÓDIGO de celdas IN \n\nCeldas en color gris son celdas de tipo código\n\n"
    },
    {
      "metadata": {},
      "cell_type": "markdown",
      "source": ""
    },
    {
      "metadata": {},
      "cell_type": "markdown",
      "source": "# Tu primer programa en Python\n\nSupongamos que queremos ordenarle a la computadora que \"imprima\" en pantalla \"Hola Mundo\" o \"Hello World\".\nEn Python hacemos eso, con print()\nHagamos una prueba en la celda debajo! Recuerda que para correr código podes darle click al botón \"Run\" o apretar las tecles \"Shift + Enter\""
    },
    {
      "metadata": {
        "trusted": true
      },
      "cell_type": "code",
      "source": "print(\"Hola Mundo\")",
      "execution_count": null,
      "outputs": []
    },
    {
      "metadata": {},
      "cell_type": "markdown",
      "source": "Listo! Viste el __output?__\n\nAhora bien que tal si queremos imprimier \"Hola Mundo\" en dos lineas? Mira el siguiente código"
    },
    {
      "metadata": {
        "trusted": true
      },
      "cell_type": "code",
      "source": "print(\"linea 1\\nlinea 2\")",
      "execution_count": null,
      "outputs": []
    },
    {
      "metadata": {
        "trusted": true
      },
      "cell_type": "code",
      "source": "#Perfecto vamos avanzando!\n\nprint(\"Hola\\nMundo\")",
      "execution_count": null,
      "outputs": []
    },
    {
      "metadata": {},
      "cell_type": "markdown",
      "source": "Te diste cuenta que en la celda número 6, que es una celda de tipo CODE hay  un texto de #Perfecto vamos avanzando! y no pasó nada con respecto a ese texto? <br>\n\nEste se conoce como comentarios. Los comentarios son texto en celdas CODE quue Python ignora. Sirven para que cuando vayas escribiendo código, lo estes comentando para que cuando terceras personas lo lean, sea un código que se entienda <br>\n\nEn python, los comentarios se crean colocando un hash mark # delante del texto del comentario. P.ej. # este es un comentario\n\nPor ejemplo corre la siguiente celda: <br>\n"
    },
    {
      "metadata": {
        "trusted": true
      },
      "cell_type": "code",
      "source": "#Este es un comentario y por lo tanto al teclaer \"Run\" no aparecerá nada en el output",
      "execution_count": null,
      "outputs": []
    },
    {
      "metadata": {},
      "cell_type": "markdown",
      "source": "El comando ___print()__ es sumamente importante!\nEn resumente te permite imprimir texto o resultados en pantalla.\n\nRecordá que si queres imprimir texto, el texto a imprimir debe ir entre comillas \"\""
    },
    {
      "metadata": {},
      "cell_type": "markdown",
      "source": "# Tipos de primitivas en Python\n\nEmpecemos con las primitivas! Las primitivas son los bloques básicos para trabajar en Python, a partir de ellas se pueden hacer programas mucho mas complejos\n\nEn Python tenemos las siguientes primitivas\n* Boolean  : Puede ser True o False\n* Integer : Reprensentan números enteros\n* Float : Representan números reales con punto decimal\n* String: Representan texto o palabras\n"
    },
    {
      "metadata": {},
      "cell_type": "markdown",
      "source": "## Boleans\nTipo de dato que puede ser True o False\nSu primitiva es __bool__\n\nSi queremos saber que tipo de dato es una primitiva empleamos la función type()"
    },
    {
      "metadata": {
        "trusted": true
      },
      "cell_type": "code",
      "source": "type(True)\n",
      "execution_count": null,
      "outputs": []
    },
    {
      "metadata": {
        "trusted": true
      },
      "cell_type": "code",
      "source": "type(False)",
      "execution_count": null,
      "outputs": []
    },
    {
      "metadata": {},
      "cell_type": "markdown",
      "source": "## Integer\n\nRepresentan números enteros( positivos y negativos) <br>\nPor ejemplo el número 94 , su primitiva es __int__ de integer <br>"
    },
    {
      "metadata": {
        "trusted": true
      },
      "cell_type": "code",
      "source": "type(94)",
      "execution_count": null,
      "outputs": []
    },
    {
      "metadata": {},
      "cell_type": "markdown",
      "source": "## Float\nRepresentan números con punto decimal o números enteros.... A nosotros como químicos son el tipo de primitivas que \nmas nos interesan, pues muchas de nuestras mediciones tendrán punto decimal ( o coma) <br>\n\nSu primitiva será __float__ <br>"
    },
    {
      "metadata": {
        "trusted": true
      },
      "cell_type": "code",
      "source": "type(3.22)",
      "execution_count": null,
      "outputs": []
    },
    {
      "metadata": {
        "trusted": true
      },
      "cell_type": "code",
      "source": "# Ejemplo 2\n\n2e5 #Representa 2 elevado a la 5",
      "execution_count": null,
      "outputs": []
    },
    {
      "metadata": {
        "trusted": true
      },
      "cell_type": "code",
      "source": "#Ejemplo 1\ntype(0.00005)",
      "execution_count": null,
      "outputs": []
    },
    {
      "metadata": {},
      "cell_type": "markdown",
      "source": "¿Que pasa si querés tener varios outputs en la misma celda.\nPues podes hacer uso de la función __print__\n\nEn el siguiente ejemplo vamos imprimir un número real y así mismo vamos a imprimir su tipo de primitiva"
    },
    {
      "metadata": {
        "trusted": true
      },
      "cell_type": "code",
      "source": "print(3.0)\nprint(type(3.0))",
      "execution_count": null,
      "outputs": []
    },
    {
      "metadata": {},
      "cell_type": "markdown",
      "source": "También podes convertir un int a float y un float a int usando las siguientes funciones\n\n*int()\n*float()\n\nPor ejemplo <br>\nSí queres convertir 1 a 1.0, pues aplicar float(1) <br>\nSí queres convertir 2.3 a 2 aplicas int(2.3) <br>\n\nCUIDADO! Al convertir un float a un int, perderás información decimal <br>"
    },
    {
      "metadata": {
        "trusted": true
      },
      "cell_type": "code",
      "source": "# Convertir un float a un int\nint(2.3)",
      "execution_count": null,
      "outputs": []
    },
    {
      "metadata": {
        "trusted": true
      },
      "cell_type": "code",
      "source": "# Convertir un int a un float\nfloat(1)",
      "execution_count": null,
      "outputs": []
    },
    {
      "metadata": {},
      "cell_type": "markdown",
      "source": "## String\n\nString son una secuencia de caracteres que representan texto o palabras.<br>\nSon del tipo __str__ <br>\nTodo string se encuentra entre doble comillas o comillas simples. <br>\n\nPor ejemplo <br>\nEjemplo 1 = \"Esto que lees es un string por que está dentro de comillas\" <br>\nEjemplo 2 Esto no es un string <br>\n\n"
    },
    {
      "metadata": {
        "trusted": true
      },
      "cell_type": "code",
      "source": "\"Esto es un string entre comillas dobles\"",
      "execution_count": null,
      "outputs": []
    },
    {
      "metadata": {
        "trusted": true
      },
      "cell_type": "code",
      "source": "type(\"Esto es un string\")",
      "execution_count": null,
      "outputs": []
    },
    {
      "metadata": {
        "trusted": true
      },
      "cell_type": "code",
      "source": "'Esto es un string con comillas simples'",
      "execution_count": null,
      "outputs": []
    },
    {
      "metadata": {},
      "cell_type": "markdown",
      "source": "#### Que pasa si queres tener comillas dentro de un string... Mira el siguiente ejemplo"
    },
    {
      "metadata": {
        "trusted": true
      },
      "cell_type": "code",
      "source": "print(\"a single quoted string 'hi' inside a double quoted string\")",
      "execution_count": null,
      "outputs": []
    },
    {
      "metadata": {
        "trusted": true
      },
      "cell_type": "code",
      "source": "print('a double quoted string \"hi\" inside a single quoted string')",
      "execution_count": null,
      "outputs": []
    },
    {
      "metadata": {},
      "cell_type": "markdown",
      "source": "Sí usas doble comillas para encerrar tu string, dentro de ese string podes usar comillas simples si ningún problema. <br>\n\nLo mismo sucede con comillas simples. Podes encerrar tu string con comillas simples y dentro de ellas podes poner comillas dobles como caracter <br>"
    },
    {
      "metadata": {},
      "cell_type": "markdown",
      "source": "#####  ¿Podemos convertir int y floats a string?\nPor supuesto! Podemos usar la función str()"
    },
    {
      "metadata": {
        "trusted": true
      },
      "cell_type": "code",
      "source": "#Convirtamos el número 2.3 a str\n\n#Primero preguntemonos cual es el type de 2.3\nprint(type(2.3))\n\n# Todo en orden! Ahora apliquemos la función str() a 2.3  y luego veamos su type\nprint(type(str(2.3)))\n",
      "execution_count": null,
      "outputs": []
    },
    {
      "metadata": {},
      "cell_type": "markdown",
      "source": "# Expresiones y variables\n\nLas expresiones describen operaciones que Python puede realizar. <br>\nPor ejemplo operaciones básicas de aritmética como la suma, la resta etc etc <br>\n\n[Resumen](http://videos.bigdatauniversity.com/PY0101EN/videos/PY0101EN%20-%20Expressions%20and%20Variables.mp4)"
    },
    {
      "metadata": {
        "trusted": true
      },
      "cell_type": "code",
      "source": "13 + 4 + 5",
      "execution_count": null,
      "outputs": []
    },
    {
      "metadata": {},
      "cell_type": "markdown",
      "source": "Por lo tanto llamamos a los números como __operandos__ y los símbolos como __+__ de suma y __-__  de resta los operadores <br>"
    },
    {
      "metadata": {},
      "cell_type": "markdown",
      "source": "## Operaciones Básicas en Python\n\nPython sabe manejar la aritmética básica, podes efectuar operaciones sencillas <br>\n\n\"+\" para suma <br>\n\"-\" para resta <br>\n\"/\" para división <br>\n\"*\" para múltiplicación <br>\n\"**\" para exponentes <br>\n\n___IMPORTANTE.___ En Python existen reglas de procedencia.<br>\nPython asignará prioridad para evaluar operaciones númericas\n\n+ Primer prioridad \"()\" y \"**\" (paréntesis y exponeciación) <br>\n+ Segunda prioridad \"*\" y \"/\" <br>\n+ Tercera prioridad \"+\" y \"-\" <br>\n\nCorre la siguiente celda, donde se muestra diferentes operaciones en Python"
    },
    {
      "metadata": {
        "trusted": true
      },
      "cell_type": "code",
      "source": "#Suma de dos números de tipo floats\nprint(\"A continuación un ejemplo de suma. Estamos sumando 2.3 + 6.0\")\nprint(2.3 + 6.0)\n\n#Imprimir una linea en blanca\nprint()\n\n#División de dos números tipo floats\nprint(\"A continuación un ejemplo de división. Estamos dividiendo 6.0 / 3.45\")\nprint(6.0 / 3.45)",
      "execution_count": null,
      "outputs": []
    },
    {
      "metadata": {},
      "cell_type": "markdown",
      "source": "## Operaciones combinadas\n\nRecuerda que Python tiene reglas de Procedencia. <br>\nSí, querés a indicarle a Python que primero evalue cierta expresión, te recomiendo uso de paréntesis para que Python te entienda. <br>\n\n¿Cual es el resultado de las siguientes operaciones? <br>\nMira el efecto de agregar Parentesis <br>"
    },
    {
      "metadata": {
        "trusted": true
      },
      "cell_type": "code",
      "source": "2*60 + 30",
      "execution_count": null,
      "outputs": []
    },
    {
      "metadata": {
        "trusted": true
      },
      "cell_type": "code",
      "source": "30 + 2*60",
      "execution_count": null,
      "outputs": []
    },
    {
      "metadata": {
        "trusted": true
      },
      "cell_type": "code",
      "source": "(30 + 2) * 60",
      "execution_count": null,
      "outputs": []
    },
    {
      "metadata": {},
      "cell_type": "markdown",
      "source": "<img src='https://emojipedia-us.s3.dualstack.us-west-1.amazonaws.com/thumbs/72/google/146/face-with-one-eyebrow-raised_1f928.png' alt=\"Emoji\" align= \"left\"> \n Ahh.... Genial, he aprendido en Python lo que puedo hacer facilmente en excel y en una calculadora cuesta de pollos... \n \n\n\n"
    },
    {
      "metadata": {},
      "cell_type": "markdown",
      "source": "<img src='https://emojipedia-us.s3.dualstack.us-west-1.amazonaws.com/thumbs/72/google/146/smiling-face-with-open-mouth-and-cold-sweat_1f605.png' alt=\"Emoji2\" align= \"left\"> \n\nOkey okey, tranquilos.... Para sacarle toda la potencial al lenguaje de programación necesitamos ver todos sus principios!\nSigamos con un tema importantísimo!"
    },
    {
      "metadata": {},
      "cell_type": "markdown",
      "source": "## Declaración de Variables"
    },
    {
      "metadata": {},
      "cell_type": "markdown",
      "source": "Hasta ahora hemos aprendido a hacer cálculos básicos con las operaciones básicas de la aritmética, sin embargo que sucede sí \nquerés guardar el valor que obtuviste de efectuar una operación, para reutilizarlo despues? <br>\n\nPara esto , podes hacer uso de variables! <br>\n\n¿Que es una variable?\n\nLas variables son uno de los elementos fundamentales de la programación! Sin ellas no se podría hacer mucho. Probablemente, de tus clases\nde cálculo o álgebra , ya tengas cierta noción de que es una variable. <br>\n\nPues en Ciencias de Computación, usar variables es muy similar! En términos sencillos, una __variable__ es un nombre que me \npermite acceder a cierto valor. El nombre de la variable siempre es el mismo, mientras tantu su valor puede cambiar<br>\n\nPor lo tanto, una variable en una forma de almacenar una valor en la memoria de tu computurador. Al valor le asignas un nombre y una vez\ndeclarada la variable, podes accerde a su valor, utilizando el nombre que le diste\n\n\nEn general para declarar una variable en python se tiene el siguiente formato: <br>\n    \nNombre_Variable = valor <br>\n\nPara asignar la variable usamos la expresión \"=\" <br>\nVeamos un ejemplo!\nCreemos una variable cuyo nombre sea sea \"mi cuenta\" y asignemosle el valor 1<br>"
    },
    {
      "metadata": {
        "trusted": true
      },
      "cell_type": "code",
      "source": "mi_cuenta = 1",
      "execution_count": null,
      "outputs": []
    },
    {
      "metadata": {},
      "cell_type": "markdown",
      "source": "Listo! Ya declaramos la variable mi cuenta y le asignamos el valor 1 <br>\n\nQue sucede si ponemos el nombre de la variable en la celda?\nVeamos que pasa"
    },
    {
      "metadata": {
        "trusted": true
      },
      "cell_type": "code",
      "source": "mi_cuenta",
      "execution_count": null,
      "outputs": []
    },
    {
      "metadata": {},
      "cell_type": "markdown",
      "source": "Viste? \nSí, quereres acceder a cierta variable, sólo tenes indicarle a Python su nombre\n\nQue sucede, si ahora asigno el valor de 10 a la variable ___mi_cuenta__ ?"
    },
    {
      "metadata": {
        "trusted": true
      },
      "cell_type": "code",
      "source": "mi_cuenta = 10",
      "execution_count": null,
      "outputs": []
    },
    {
      "metadata": {},
      "cell_type": "markdown",
      "source": "mi_cuenta"
    },
    {
      "metadata": {},
      "cell_type": "markdown",
      "source": "Viste?\n\nActualizamos el valor de la variable __mi_cuenta__  ahora tiene un valor de 10.\nRecuerda, los valores de las variables pueden cambiar! Tenlo presente!\n\nSi queres aprender mas sobre variables te recomendamos ver estos videos!\n\n*[Que es una variable?](https://www.youtube.com/watch?time_continue=43&v=P128BcW9-1w) <br>\n*[Ejemplos de variables](https://www.youtube.com/watch?time_continue=21&v=8-XU8nCvcXQ)<br>\n*[Particulares de Python](https://www.youtube.com/watch?time_continue=125&v=iH1IxLwAOEU) <br>\n*[Errores en Variables I](https://www.youtube.com/watch?v=IgiN0oEbKB4) <br>\n*[Errores en Variables II](https://www.youtube.com/watch?v=mdlMhJWYmig) <br>\n*[Errores en Variables III](https://www.youtube.com/watch?v=Sdyt1cSq5zE) <br>"
    },
    {
      "metadata": {},
      "cell_type": "markdown",
      "source": "Recuerda! La regla es nombre de variable (izquierda) = valor(derecha)\n\nVeamos un ejemplo! <br>\nUn estudiante en su curso de Laboratorio de Química General realizó una valoración HCl que consumio 22.75 mL de NaOH a una concentración de 0.100 mol/ L\n\nEl estudiante usando una pipeta, colocó 5.00 mL del HCl del erlemeyer.\n\nCálcule la concentración del ácido, guardando su valor en la variable Cn(HCl)."
    },
    {
      "metadata": {},
      "cell_type": "markdown",
      "source": "### Resolución.\n\nEn este caso el problema es sencillo! <br>\nHaremos uso de la clásica fórmula __CniVi = CnfVf__ <br>\n\nRecuerda que una valoración moles_iniciales = moles_finales <br>\n\nPero moles = concentración* volumen <br>\n\nQue nos dice que el volumen inicial por la concentración inicial debe ser igual al volumen final por la concentración final\n\n\nAsi mismo recordamos que la valoración $HCl + NaOH ------> NaCl + H_2O$, estequiométricamente es 1 a 1.\n\nPor lo tanto podemos decir que $Cn(HCl) = \\frac{Cn(NaOH) V(NaOH)}{V(HCl)}$"
    },
    {
      "metadata": {
        "trusted": true
      },
      "cell_type": "code",
      "source": "#Sea Cn(NaOH) la concentración del NaOH agregado desde una bureta\nCn_NaOH = 0.100\n\n#Sea V(NaOH) el volumen consumido de la base\nV_NaOH = 22.75\n\n#Sea V(HCl) el volumen de HCl agregado al erlenmeyer desde una pipeta de 5.00 mL\nV_HCl = 5.00\n\nCn_HCl = (Cn_NaOH*V_NaOH)/V_HCl",
      "execution_count": null,
      "outputs": []
    },
    {
      "metadata": {
        "trusted": true
      },
      "cell_type": "code",
      "source": "Cn_HCl",
      "execution_count": null,
      "outputs": []
    },
    {
      "metadata": {
        "trusted": true
      },
      "cell_type": "code",
      "source": "print(\"La concentración del HCl es\",Cn_HCl)",
      "execution_count": null,
      "outputs": []
    },
    {
      "metadata": {
        "trusted": true
      },
      "cell_type": "markdown",
      "source": "## Importación de Paquetes\n\nOkey okey, se que por ahora no sabemos hacer mucho en Python! Sin embargo lo poderoso de Python es que podemos usar programas que terceros han creado para nuestro beneficio! En última instancia , este curso no es un curso introductorio de ciencias de computación, la idea es que aprendas la sintasis básica de Python para hagas uso de paquetes de terceros en la resolución de problemas en Química!\n\nUn paquete son lineas código o programas, que alguna persona ha programado y que podes usar!"
    },
    {
      "metadata": {},
      "cell_type": "markdown",
      "source": "En este curso haremos uso de los siguientes Paquetes\n\n* [match](https://docs.python.org/2/library/math.html) Para cálculo de funciones básicas de matemática elemental <br>\n* [uncertainties](https://pythonhosted.org/uncertainties/) Para manejao de propagación de incertidumbres <br>\n* [Numpy](http://www.numpy.org/) para manejar arrays, vectores, columnnas y hacer cálculos numéricos <br>\n* [Pandas](https://pandas.pydata.org/) para manejar dataframes! Los dataframes son como hojas de excel pero mas potentes <br>\n* [scikit-learn](http://scikit-learn.org/) para realizar regresiones lineales y no lineales <br>\n* [statsmodels](http://www.statsmodels.org/stable/index.html) para manejar estadística y realizar regresiones <br>\n* [matplolib](https://matplotlib.org/) Para realizar gráficos <br>\n* [Sypy](http://sypy.org/) para algebra Simbólica\n\nY todo será acoplado a nuestros conocimientos de química: Valoraciones , cinéticas, equilibrio y termodinámica!"
    },
    {
      "metadata": {},
      "cell_type": "markdown",
      "source": "### ¿Como importar paquetes ?\n\nEn una celda escribis __import__ nombre del maquete\n\nPor ejemplo, veamos un ejemplo con el paquete básico de matemática en Python\n\n"
    },
    {
      "metadata": {
        "trusted": true
      },
      "cell_type": "code",
      "source": "import math\nfrom IPython.display import display, Math, Latex",
      "execution_count": 10,
      "outputs": []
    },
    {
      "metadata": {},
      "cell_type": "markdown",
      "source": "Listo! En la celda anterior ya le dijiste a Python que importe el módulo matemático. Lo cual te va a permitir hacer cálculos\nmatemáticos básicos.\n\nHagamos operaciones mas complicadas! Trabajemos con operaciones trigonométricas, logaritmos y exponenciales \nA continuación algunos códigos útiles\n\n* Para el seno usas: math.sin() <br>\n* Para el coseno usas: math.cos() <br>\n* Para la tangente usas: math.tan() <br>\n* Para trabajar con PI: math.pi <br>\n* Para trabajar con exponente e : math.exp() <br>\n* Para trabajar con raices cuadradas: math.sqrt() <br>\n* Para trabajar con potencias fraccionarias Por ejemplo 2^(3/2): math.pow(base, exponente) <br>\n* Para trabajar con logarimos en base 2: math.log2(x) <br>\n* Para trabajar con logarimos en base 2: math.log10(x) ( Mejor conocido como \"log\" en la cálculadora científica. <br>\n* Logaritmo natural: math.log(x,exp(1)) Donde x el el valor al que le queres calcular el logaritmo natural <br>\n\nPara ver mas opciones que te ofrece el módulo, podes ir la [documentación](https://docs.python.org/2/library/math.html)\n\nDentro del paréntesis irá el valor que deseas cálcular! <br>"
    },
    {
      "metadata": {},
      "cell_type": "markdown",
      "source": "\n## Ejemplos\n\n### Ejemplo Hidrólisis de Esteres <br>\n<br>\n\n<img src='https://upload.wikimedia.org/wikipedia/commons/e/e0/Hydrolysis.png' alt=\"ester\" align= \"center\"> \n\nLa cinética de hidrólisis de esteres está dado por la siguiente ecuación: <br>\n$$V(t) = (V0-Vi)e^{- k t} + Vi$$\n\nEn fisicoquímica II, usted tomará una muestra de un ester y lo catalizará con HCl. La mezcla ester + HCl será valorad con NaOH adicionando desde una bureta. Por lo tanto , su mediciones finales serán sus volúmenes de NaOH consumidos <br>\n\nDonde <br>\n- V representa el volumen del NaOH consumido para un tiempo __t__\n- V0 representa el volumen consumido de NaOH en la primera valoración\n- Vi representa el volumen de NaOH cuando la reacción de hidrólisis se dio por completo.\n- k representa la constante cinetica de reacción.\n\nUsted en el laboratorio determinó que k para el acetato de etilo tiene un valor aproximado de \n$(1,0 ± 0,3)x10^{-4}mol^{-1}Ls^{-1}$.\nAsí mismo a partir de su primer valoración determinó que $V0 = 22.45 ± 0,03$ y que su valor de $Vi = 45.67± 0,0$ \n\n- Declaré las variables V0, Vi y k\n- Programe la función de la cinética de hidrólisis y asignesela a la variable Cn\n- Con los puntos anteriores , calcule cuanto volumen de NaOH se gastará despues de 1 hora:30 minutos.Hint ( Haga la conversión en segundos primeros y asignesela a la variable t_segundos) Hint para el exponente, recuerde el módulo math que ya cargó en Jupyter\n- Con la función print() el valor "
    },
    {
      "metadata": {
        "trusted": true
      },
      "cell_type": "code",
      "source": "# Asignación de Variables\n\nV0 = 22.45 #Cuidado! Python todavía no sabe manejar incertidumbres! Por ahora ignoraremos los valores de las incertidumbres\nVi = 80.56\nk = 1.12*(10**(-4)) #Recuerda que para elevar a un potencia en Python, se usan dos asteriscos\n\n#Conversión del tiempo\nt_s = 1 * 3600 +30*60\n# Programación de función\nV = ((V0-Vi)* math.exp(-k*t_s)) + Vi\n\nprint(V)",
      "execution_count": 13,
      "outputs": [
        {
          "output_type": "stream",
          "text": "48.82126795629007\n",
          "name": "stdout"
        }
      ]
    },
    {
      "metadata": {
        "trusted": true
      },
      "cell_type": "markdown",
      "source": "Por ahora hemos incrementado un poco el nivel de dificultad! <br>\nPero, como te abrás dado cuenta, en el último ejercicio ignoramos por complejto las incertidumbres :/ <br>\n\nLa pregunta es.... Python puede manejar incertidumbres? Y la respues es sí! <br>\nVeamos nuestra primera aplicación! <br>\n\n[Volver al índice](https://notebooks.azure.com/jeff0994/libraries/QU-0560/html/01Indice.ipynb)"
    },
    {
      "metadata": {
        "trusted": true
      },
      "cell_type": "code",
      "source": "",
      "execution_count": null,
      "outputs": []
    }
  ],
  "metadata": {
    "kernelspec": {
      "name": "python36",
      "display_name": "Python 3.6",
      "language": "python"
    },
    "language_info": {
      "mimetype": "text/x-python",
      "nbconvert_exporter": "python",
      "name": "python",
      "pygments_lexer": "ipython3",
      "version": "3.6.6",
      "file_extension": ".py",
      "codemirror_mode": {
        "version": 3,
        "name": "ipython"
      }
    }
  },
  "nbformat": 4,
  "nbformat_minor": 2
}