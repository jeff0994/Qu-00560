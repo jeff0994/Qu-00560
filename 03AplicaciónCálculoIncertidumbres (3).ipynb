{
  "nbformat": 4,
  "nbformat_minor": 0,
  "metadata": {
    "kernelspec": {
      "name": "python36",
      "display_name": "Python 3.6",
      "language": "python"
    },
    "language_info": {
      "mimetype": "text/x-python",
      "nbconvert_exporter": "python",
      "name": "python",
      "pygments_lexer": "ipython3",
      "version": "3.6.6",
      "file_extension": ".py",
      "codemirror_mode": {
        "version": 3,
        "name": "ipython"
      }
    },
    "colab": {
      "name": "03AplicaciónCálculoIncertidumbres (3).ipynb",
      "provenance": []
    }
  },
  "cells": [
    {
      "cell_type": "markdown",
      "metadata": {
        "collapsed": true,
        "id": "UJVvliIlcDCD"
      },
      "source": [
        "# Universidad de Costa Rica\n",
        "\n",
        "## Facultad de Ciencias\n",
        "\n",
        "## Escuela de Química\n",
        "\n",
        "## Sección de Fisicoquímica\n",
        "\n",
        "## Qu-0560 Tópicos de Química Física: Herramientas Computacionales para Química\n",
        "\n",
        "### Profesor Mauricio Gutiérrez\n",
        "### Asistente no oficial: Yefry López"
      ]
    },
    {
      "cell_type": "markdown",
      "metadata": {
        "id": "Iq7DJFDMcDCJ"
      },
      "source": [
        "# Aplicación I. Propagación de Incertidumbres"
      ]
    },
    {
      "cell_type": "markdown",
      "metadata": {
        "id": "WtDqFCnvcDCM"
      },
      "source": [
        "## Objetivos de Aprendizaje\n",
        "\n",
        "- Familiarizar al estudiante con el manejo y propagación de incertidumbres usando el paquete __uncertainties__ Python."
      ]
    },
    {
      "cell_type": "markdown",
      "metadata": {
        "id": "cp0DC9OGcDCN"
      },
      "source": [
        "Somos científicos! Por lo tanto toda medición tendrá cierta incertidumbre asociada. En nuestros cursos de Análisis Químico Cuantitativo aprendimos o aprenderemos a realizar el manejo de incertidumbres o propagación de errores de ciertas expresiones básicas como suma, reta, divisiones, logaritmos y exponentes. <br>\n",
        "\n",
        "Sin embargo que sucede cuando tenemos modelos mucho mas complejos? Como por ejemplo calcular la incertidumbre de un coseno hiperbólico? Como nuestra primer aplicación, usaremos la Teoría Básica de Propagación de Errores ( Sí queres indagar en la teoría muchos de tus conocimientos en Cálculo III serán de gran ayuda) y para esto haremos uso de dos herramientas. <br>\n",
        "\n",
        "- Paquete uncertainties en Python que te permite manejar números con incertidumbres\n",
        "- Paquete ScientificErrorAnalysis en Maple\n",
        "\n",
        "En Python haremos los siguientes pasos <br>\n",
        "\n",
        "* Instalar el paquete con el comando !pip install uncertainties\n",
        "* Del paquete uncertainties importar ufloat para que Python aprenda a manejar números con incertidumbres e importar umath para que Python pueda trabajar con expresiones matemáticas."
      ]
    },
    {
      "cell_type": "markdown",
      "metadata": {
        "id": "M9e0CYlscDCP"
      },
      "source": [
        "## Teoría de la Propagación de errores ( Breves conceptos)\n",
        "### Opcional\n",
        "\n",
        "En tu curso de Química Análitica I entenderás como sacar la incertidumbre de operaciones básicas como <br>\n",
        "\n",
        "* Suma y resta\n",
        "* Multiplicación y división\n",
        "* Exponentes y logaritmos.\n",
        "\n",
        "Sin embargo prácticamente no te dirán de donde vienen dichas fórmulas. <br>\n",
        "\n",
        "En términos generales, hay muchos enfoques y aproximaciones. <br>\n",
        "Haremos uso del enfoque lineal e ignoraremos los  términos de correlación ( Sí usamos el lenguaje visto en Cálculo II estamos despreciando los términos de la serie cuyas potencias sean de orden 2 o mayor) <br>\n",
        "\n",
        "Sea z una función que depende de las variables x y y. <br>\n",
        "z = z(x,y) <br>\n",
        "<br>\n",
        "Según lo que verás en cálculo (III) su diferencial total está dado por <br>\n",
        "\n",
        "$$ dz = \\left(\\frac{\\partial z}{\\partial x}\\right)_{y}dx + \\left(\\frac{\\partial z}{\\partial y}\\right)_{x}dy  (1)$$\n",
        "\n",
        "Por sí no sabías <br>\n",
        "$\\left(\\frac{\\partial z}{\\partial x}\\right)_{y}$ representa la derivada parcial de z respecto a x, tomando y como una constante <br>\n",
        "$\\left(\\frac{\\partial z}{\\partial y}\\right)_{x}$ representa la derivada parcial de z respecto a y, tomando x como una constante <br>\n",
        "\n",
        "Se que el término derivada parcial suena un poco abrumador! Sin embargo son derivadas normales como las de Cálculo I <br>\n",
        "\n",
        "Elevamos al cuadrado a ambos lados de la ecuación (1)\n",
        "$$ dz^{2} = \\left(\\left(\\frac{\\partial z}{\\partial x}\\right)_{y}dx + \\left(\\frac{\\partial z}{\\partial y}\\right)_{x}dy\\right)^{2}   (2)$$\n",
        "\n",
        "<br>\n",
        "\n",
        "Del lado izquierdo, podemos escribir las derivdas de la siguiente forma <br>\n",
        "$ u = \\left(\\frac{\\partial z}{\\partial x}\\right)_{y}dx $ <br>\n",
        "$ v = \\left(\\frac{\\partial z}{\\partial y}\\right)_{x}dy $ <br>\n",
        "\n",
        "<br>\n",
        "Por lo tanto\n",
        "$$ dz^{2} = (u+v)^{2} (3)$$\n",
        "<br>\n",
        "Lo anterior es una formula notable\n",
        "$$ dz^{2}= u^{2} + v^{2} + 2uv (4)$$\n",
        "\n",
        "Haremos una suposición. <br>\n",
        "Suponga que \n",
        "* $dz \\approx \\Delta z$<br>\n",
        "* $dx \\approx \\Delta x$<br>\n",
        "* $dy \\approx \\Delta y$<br>\n",
        "\n",
        "Por lo tanto nuestra expresión (4) queda de la siguiente forma <br>\n",
        "\n",
        "$$ \\Delta z^{2}= u^{2} + v^{2} + + 2uv (5) $$\n",
        "\n",
        "Ahora despreciaremos el factor de correlación u*v (Recuerda que u y v son en el fondo derivadas, por lo tanto la multiplicación de ambos factores debería dar como resultado una cantidad pequeña<br>\n",
        "\n",
        "Por lo tanto , la ecuación 5 queda de la siguiente forma <br>\n",
        "\n",
        "$$ \\Delta z^{2} \\approx  u^{2} + v^{2} (6)$$\n",
        "\n",
        "Regresando a nuestras definiciones de u y v en términos de derivadas parciales <br>\n",
        "\n",
        "$$ (\\Delta z)^{2} \\approx   \\left(\\left(\\frac{\\partial z}{\\partial x}\\right)_{y}\\Delta x\\right)^{2} + \\left(\\left(\\frac{\\partial z}{\\partial y}\\right)_{x}\\Delta y\\right)^{2} (7)$$\n",
        "\n",
        "Dando como resultado: <br>\n",
        "\n",
        "$$ (\\Delta z)^{2} \\approx   \\left(\\left(\\frac{\\partial z}{\\partial x}\\right)_{y}\\right)^{2} (\\Delta x)^{2} + \\left(\\left(\\frac{\\partial z}{\\partial y}\\right)_{x}\\right)^{2} (\\Delta y)^{2} (8)$$\n",
        "\n",
        "La ecuación (8) representa la formúla analítica y lineal de cálculo de incertidumbres <br>\n",
        "$ (\\Delta z)^{2} $ represan la varianza de z\n",
        "\n",
        "Para calcular la incertidumbre de z, aplicamos la raiz cuadrada a ambos lados de la iguadad en 8 dando como resultado\n",
        "\n",
        "$$ \\Delta z \\approx   \\sqrt{\\left(\\left(\\frac{\\partial z}{\\partial x}\\right)_{y}\\right)^{2} (\\Delta x)^{2} + \\left(\\left(\\frac{\\partial z}{\\partial y}\\right)_{x}\\right)^{2} (\\Delta y)^{2} } (8)$$"
      ]
    },
    {
      "cell_type": "markdown",
      "metadata": {
        "id": "8xzm7xFkcDCT"
      },
      "source": [
        "### Aterrizando mas los conceptos.\n",
        "\n",
        "La expresión (8) es nuestra fórmula generalizada para calcular incertidumbres para cierta variable z que depende de otras dos llamadas x y y. <br>\n",
        "<br>\n",
        "\n",
        "$$ \\Delta z \\approx   \\sqrt{\\left(\\left(\\frac{\\partial z}{\\partial x}\\right)_{y}\\right)^{2} (\\Delta x)^{2} + \\left(\\left(\\frac{\\partial z}{\\partial y}\\right)_{x}\\right)^{2} (\\Delta y)^{2} } $$ <br>\n",
        "\n",
        "¿Que representa $\\Delta x$ ? <br>\n",
        "Representa la incertidumbre de tu medición x, vos la conoces desde que haces el experimento.<br>\n",
        "Por ejemplo la mitad de menor divisón en una regla o 0.001 en una balanza digital que mida tres decimales.<br>\n",
        "\n",
        "¿Que representa $\\Delta y$ ? <br>\n",
        "Lo mismo que el caso anterio, una incertidumbre que vos determinás rapidamente según el equipo o instrumento a mano. <br>"
      ]
    },
    {
      "cell_type": "markdown",
      "metadata": {
        "id": "aAGnwZW6cDCU"
      },
      "source": [
        "## Un ejemplo. Cálculo de la incertidumbre de la aceleración de la gravedad mediante el péndulo simple. ( Física II)\n",
        "\n",
        "<img src='https://upload.wikimedia.org/wikipedia/commons/f/fa/PenduloTmg.gif' alt=\"pendulo\" align= \"center\">\n",
        "\n",
        "Una forma de determinar aproximandamente la aceleración de la gravedad es mediante el empleo del péndulo simple.\n",
        "Al resolver la física del péndulo simple, se puede concluir que __g__ aceleración de la gravedad está dado por\n",
        "\n",
        "$$ g = 4*\\pi^2 * \\frac{L}{P^{2}} $$\n",
        "\n",
        "Es decir g es una función de L y de P! g = g(L,P) <br>\n",
        "\n",
        "Donde __L__ representa la longitud de la cuerda del péndulo y __P__ representa el periodo del péndulo, tiempo que tarda en una oscilaración. \n"
      ]
    },
    {
      "cell_type": "markdown",
      "metadata": {
        "id": "_lrj-3ZrcDCW"
      },
      "source": [
        "En el laboratorio , usted construyó un péndulo con una longitud de 1.01 m. <br>\n",
        "La longitud la midió con una regla, por lo tanto la incertidumbre de dicha medición (mitad de la menor medición es 0.01 m) <br>\n",
        "\n",
        "$L = 1.01 \\pm 0.01$ <br>\n",
        "\n",
        "Así mismo con cronómetro de su celular, midió que el periodo era de 2.02 segundos. <br>\n",
        "El cedular al ser un aparato digital ,tiene una incertidumbre asociada de 0.01 <br>\n",
        "\n",
        "$P = 2.02 \\pm 0.01$ <br>\n",
        "\n",
        "Emplee $ g = 4*\\pi^2 * \\frac{L}{P^{2}} $ para calcular la aceleración de la gravedad y calcule su incertidumbre.\n"
      ]
    },
    {
      "cell_type": "markdown",
      "metadata": {
        "id": "h_F8No-3cDCX"
      },
      "source": [
        "__Paso 1.__ Declaramos variables"
      ]
    },
    {
      "cell_type": "code",
      "metadata": {
        "trusted": true,
        "id": "ybJvhmlPcDCY"
      },
      "source": [
        "L = 1.01\n",
        "P = 2.02"
      ],
      "execution_count": null,
      "outputs": []
    },
    {
      "cell_type": "markdown",
      "metadata": {
        "id": "ON_5FMztcDCZ"
      },
      "source": [
        "__Paso 2.__ Calculamos la formula y la guardamos en g"
      ]
    },
    {
      "cell_type": "code",
      "metadata": {
        "trusted": true,
        "id": "qjrtukSTcDCa"
      },
      "source": [
        "import math \n",
        "\n",
        "g = 4*(math.pi**2)*(L/P**2)\n",
        "\n",
        "print(g)"
      ],
      "execution_count": null,
      "outputs": []
    },
    {
      "cell_type": "markdown",
      "metadata": {
        "id": "uY2P-kPmcDCb"
      },
      "source": [
        "Bien! Nuestra aceleración de la gravedad está cercana a 9.81\n",
        "\n",
        "Ahora veamos el cálculo de incertidumbre!\n",
        "\n",
        "Para esto emplearemos la expresión (8)\n",
        "\n",
        "$$ \\Delta z \\approx   \\sqrt{\\left(\\left(\\frac{\\partial z}{\\partial x}\\right)_{y}\\right)^{2} (\\Delta x)^{2} + \\left(\\left(\\frac{\\partial z}{\\partial y}\\right)_{x}\\right)^{2} (\\Delta y)^{2} } $$ <br>\n",
        "\n",
        "***\n",
        "\n",
        "En este caso nota que <br>\n",
        "g representa a z <br>\n",
        "L puede representar x <br>\n",
        "P  puede representar y (las pudiste elegir diferente al revés) <br>\n",
        "\n"
      ]
    },
    {
      "cell_type": "markdown",
      "metadata": {
        "id": "INgYAs7fcDCc"
      },
      "source": [
        "Por lo tanto nuestra expresión (8) queda de la siguiente forma: <br>\n",
        "\n",
        "$$ \\Delta g \\approx   \\sqrt{\\left(\\left(\\frac{\\partial g}{\\partial L}\\right)_{P}\\right)^{2} (\\Delta L)^{2} + \\left(\\left(\\frac{\\partial g}{\\partial P}\\right)_{L}\\right)^{2} (\\Delta P)^{2} } (10)$$ <br>\n",
        "\n",
        "Nota que $\\Delta L$ y $\\Delta P$ representan las incertidumbres en L y T <br>\n",
        "Y esas ya las conoces! <br>\n",
        "\n",
        "$\\Delta L$ = 0.01 <br>\n",
        "$\\Delta P$ 0.01 <br>\n",
        "\n",
        "Ahora nos queda el cálculo de derivadas <br>\n",
        "Para esto sustituimos la definición de g en las derivadas <br>\n",
        "\n",
        "$\\left(\\frac{\\partial g}{\\partial L}\\right)_{P}$ = $\\frac{\\partial}{\\partial L}\\left(4*\\pi^2 * \\frac{L}{P^{2}}\\right)_{P} $\n",
        "\n",
        "Lo anterior, es una derivada a P constante ( subíndice fuera de los paréntesis), por lo tanto podemos sacar P fuera la derivada al ser constante\n",
        "\n",
        "$\\left(\\frac{\\partial g}{\\partial L}\\right)_{P}$ = $ 4*\\pi^2 * \\frac{1}{P^{2}} \\frac{\\partial}{\\partial L}\\left(L\\right) $\n",
        "\n",
        "Y dí la derivada de L respecto a L, claramente es 1. <br>\n",
        "Por lo tanto\n",
        "\n",
        "$\\left(\\frac{\\partial g}{\\partial L}\\right)_{P}$ = $ 4*\\pi^2 * \\frac{1}{P^{2}} = 4*\\pi^2 * \\frac{1}{2.02^{2}}$"
      ]
    },
    {
      "cell_type": "code",
      "metadata": {
        "trusted": true,
        "id": "FZUO4UK5cDCd"
      },
      "source": [
        "derivada_1 = (4*math.pi**2) / P**2\n",
        "print(derivada_1)"
      ],
      "execution_count": null,
      "outputs": []
    },
    {
      "cell_type": "markdown",
      "metadata": {
        "id": "8aDzZdoHcDCg"
      },
      "source": [
        "Empleando un análisis similar para la derivada 2. <br>\n",
        "Se llega a lo siguiente\n",
        "<br>\n",
        "$ \\left(\\frac{\\partial g}{\\partial P}\\right)_{L} = -8\\pi^{2}*\\frac{L}{p^3} $ <br>"
      ]
    },
    {
      "cell_type": "code",
      "metadata": {
        "trusted": true,
        "id": "WQmQd8txcDCh"
      },
      "source": [
        "derivada_2 = (-8*math.pi**2)*( L / P**3) \n",
        "print(derivada_2)"
      ],
      "execution_count": null,
      "outputs": []
    },
    {
      "cell_type": "markdown",
      "metadata": {
        "id": "s8ptTDJycDCh"
      },
      "source": [
        "Ya podemos calcular nuestra incertidumbre en g!\n",
        "\n",
        "Ya tenemos derivadas, los deltaL y deltaP ahora sólo hay que programar la ecuación (10)"
      ]
    },
    {
      "cell_type": "code",
      "metadata": {
        "trusted": true,
        "id": "-j_IXHMdcDCi"
      },
      "source": [
        "#Incertidumbre en L y P\n",
        "s_L = 0.01\n",
        "s_P = 0.01\n",
        "\n",
        "#Antes de aplicar raiz cuadradada vamos a programar lo que está dentr de la raiz\n",
        "argumento = math.pow(derivada_1*s_L,2) + math.pow(derivada_2*s_P,2)\n",
        "\n",
        "#Aplicamos raiz a la expresión anteior y optenemos la incertidumbre en g\n",
        "incertidumbre_g = sqrt(argumento)\n",
        "\n",
        "print(incertidumbre_g)"
      ],
      "execution_count": null,
      "outputs": []
    },
    {
      "cell_type": "markdown",
      "metadata": {
        "id": "2qwsf1OhcDCk"
      },
      "source": [
        "En resumen tenemos que nuestro experimento arrojó que\n",
        "\n",
        "$ g = 9.77 \\pm 0.13 $"
      ]
    },
    {
      "cell_type": "markdown",
      "metadata": {
        "id": "ozvWsxspcDCl"
      },
      "source": [
        "¿Ya te diste cuenta que que el cálculo de incertidumbres pues ser un poco tedioso verdad?\n",
        "\n",
        "Para esto por dicha existen paquetes que automatizan dichos cálculos."
      ]
    },
    {
      "cell_type": "markdown",
      "metadata": {
        "id": "N6l4SwwccDCm"
      },
      "source": [
        "####  Sobre uncertainties\n",
        "El paquete uncertainties es un programa gratuito y multiplataforma que maneja de manera transparente los cálculos con números con incertidumbres (como 3.14 ± 0.01). También puede producir las derivadas de cualquier expresión. <br>\n",
        "<br>\n",
        "El paquete de incertidumbres elimina el dolor y la complejidad de los cálculos de incertidumbre. ¡La propagación de errores ya no debe temerse! <br>\n",
        "<br>\n",
        "Web del autor https://pythonhosted.org/uncertainties/ <br>\n",
        "<br>"
      ]
    },
    {
      "cell_type": "markdown",
      "metadata": {
        "id": "tva3YTl3cDCn"
      },
      "source": [
        "Ejecuta la siguiente celda (Teclas Ctrl + Intro) o dale \"Run\" \n",
        "Le estamos diciendo a Python... Hey descarga e instala ese paquete!"
      ]
    },
    {
      "cell_type": "code",
      "metadata": {
        "trusted": true,
        "id": "S5bftU26cDCo"
      },
      "source": [
        "#Ejecuta la siguiente celda (Teclas Ctrl + Intro) o dale \"Run\"\n",
        "!pip install uncertainties"
      ],
      "execution_count": null,
      "outputs": []
    },
    {
      "cell_type": "markdown",
      "metadata": {
        "id": "OJ9B4d-rcDCo"
      },
      "source": [
        "Vamos a importar el programa a nuestra Notebook ( Esta hoja de cálculo).... \n",
        "En términos senciilos, le estamos mostrando a Python como manejar la propagación de errores. \n",
        "Ejecuta la siguiente celda (Teclas Ctrl + Intro) o dale \"Run\""
      ]
    },
    {
      "cell_type": "code",
      "metadata": {
        "trusted": true,
        "id": "HSuSg4E3cDCp"
      },
      "source": [
        "#Ejecuta la siguiente celda (Teclas Ctrl + Intro) o dale \"Run\"\n",
        "from uncertainties import ufloat\n"
      ],
      "execution_count": null,
      "outputs": []
    },
    {
      "cell_type": "code",
      "metadata": {
        "trusted": true,
        "id": "78RxjIpScDCq"
      },
      "source": [
        "#Ejecuta la siguiente celda (Teclas Ctrl + Intro) o dale \"Run\"\n",
        "from uncertainties.umath import *  # Ya podes usar tangente, seno, cosenos , etc\n",
        "import math"
      ],
      "execution_count": null,
      "outputs": []
    },
    {
      "cell_type": "code",
      "metadata": {
        "trusted": true,
        "id": "sD7kiBjhcDCq"
      },
      "source": [
        "L = ufloat(1.01, 0.01)\n",
        "T = ufloat(2.02,0.01)\n",
        "\n",
        "g = (4 * L / pow(T, 2)) *pow(math.pi,2)\n",
        "print(g)"
      ],
      "execution_count": null,
      "outputs": []
    },
    {
      "cell_type": "markdown",
      "metadata": {
        "id": "_PXlKLe2cDCr"
      },
      "source": [
        "Gracias a uncertainties Python ya sabe manejar números con incertidumbre. <br>\n",
        "<br>\n",
        "Listo ya Python sabe trabajar con expresiones trigonométricas, exponenciales y manejar incertidumbres!<br>\n",
        "<br>\n",
        "Por ejemplo, si se tiene que:\n",
        "<br>\n",
        "a = 2.0 ± 0.1 <br>\n",
        "b = 4.00 ± 0.05<br> \n",
        "c = 1.000 ± 0.003<br> \n",
        "<br>\n",
        "\n",
        "Podés decirle a Python que guarde esos números inexactos de la siguiente forma:<br>\n",
        "(Donde ufloat es el disminutivo de \"uncertain float\" número real con incertidumbre)<br>\n",
        "Dentro del paréntesis en __ufloat__, se coloca primero el número y luego su incertidumbre separada por una coma.<br>"
      ]
    },
    {
      "cell_type": "code",
      "metadata": {
        "trusted": true,
        "id": "Ns6vynl3cDCs"
      },
      "source": [
        "#Ejecuta la siguiente celda (Teclas Ctrl + Intro) o dale \"Run\")\n",
        "\n",
        "a = ufloat(2.0000, 0.0001)  #  ufloat( medición , incertidumbre)\n",
        "b = ufloat(4.00050, 0.00005)\n",
        "c = ufloat(1.0000 , 0.0003)\n",
        "d = ufloat(5.0006 , 0.0006)"
      ],
      "execution_count": null,
      "outputs": []
    },
    {
      "cell_type": "markdown",
      "metadata": {
        "id": "SqyoaeuDcDCs"
      },
      "source": [
        "¿Pasó algo? \n",
        "Aunque no hayas visto nada, Python ya tiene guardado las variables que asignaste! \n",
        "Si queres ver el valor de la variable haz lo siguiente!"
      ]
    },
    {
      "cell_type": "code",
      "metadata": {
        "trusted": true,
        "id": "2TJQFmkkcDCt"
      },
      "source": [
        "# Escribe el nombre de la variable y ejecuta la celda\n",
        "a"
      ],
      "execution_count": null,
      "outputs": []
    },
    {
      "cell_type": "markdown",
      "metadata": {
        "id": "mF_dSFSzcDCt"
      },
      "source": [
        "¿Viste? Python automáticamente guarda los valores asignados en la memoría "
      ]
    },
    {
      "cell_type": "markdown",
      "metadata": {
        "id": "bW4gj4oGcDCu"
      },
      "source": [
        "Si querés, tener los tres valores de las variables, podes usar la función print() \n",
        "Donde dentro del paréntesis irá la variable que querés \"imprimir\"\n",
        "\n",
        "print es una función que usarás bastante!"
      ]
    },
    {
      "cell_type": "code",
      "metadata": {
        "trusted": true,
        "id": "lXiaVd0acDCv"
      },
      "source": [
        "#Ejecuta la siguiente celda (Teclas Ctrl + Intro) o dale \"Run\")\n",
        "print(a)\n",
        "print(b)\n",
        "print(c)\n",
        "print(d)"
      ],
      "execution_count": null,
      "outputs": []
    },
    {
      "cell_type": "markdown",
      "metadata": {
        "id": "XeaabJhXcDCz"
      },
      "source": [
        "Python sabe manejar la aritmética básica, podes efectuar operaciones sencillas <br>\n",
        "\n",
        "\"+\" para suma <br>\n",
        "\"-\" para resta <br>\n",
        "\"/\" para división <br>\n",
        "\"*\" para múltiplicación <br>\n",
        "\"**\" para exponentes <br>\n",
        "\n",
        "IMPORTANTE. En Python existen reglas de procedencia.<br>\n",
        "Python asignará prioridad para evaluar operaciones númericas\n",
        "\n",
        "+ Primer prioridad \"()\" y \"**\" (paréntesis y exponeciación) <br>\n",
        "+ Segunda prioridad \"*\" y \"/\" <br>\n",
        "+ Tercera prioridad \"+\" y \"-\" <br>"
      ]
    },
    {
      "cell_type": "code",
      "metadata": {
        "trusted": true,
        "id": "zNYwz0jvcDCz"
      },
      "source": [
        "#Hagamos un ejemplo!\n",
        "#Ejecuta la siguiente celda (Teclas Ctrl + Intro) o dale \"Run\")\n",
        "\n",
        "d = a + (b/c)\n",
        "d"
      ],
      "execution_count": null,
      "outputs": []
    },
    {
      "cell_type": "markdown",
      "metadata": {
        "id": "9-wV03AscDC0"
      },
      "source": [
        "Hagamos operaciones mas complicadas! Trabajemos con operaciones trigonométricas, logaritmos y exponeciales <br>\n",
        "A continuación algunos códigos útiles\n",
        "\n",
        "+ Para el seno usas: __sin()__       \n",
        "+ Para el coseno usas: __cos()__      \n",
        "+ Para la tangente usas: __tan()__   \n",
        "+ Para trabajar con PI: __math.PI__\n",
        "+ Para trabajar con exponente e : __exp()__\n",
        "+ Para trabajar con raices cuadradas: __sqrt()__\n",
        "+ Para trabajar con potencias fraccionarias Por ejemplo 2^(3/2): ___pow(base, exponente)___\n",
        "+ Para trabajar con logarimos en base 2:  __log2(x)__\n",
        "+ Para trabajar con logarimos en base 2:  __log10(x)__ ( Mejor conocido como \"log\" en la cálculadora científica.\n",
        "+ Logaritmo natural: __log(x,exp(1))__ Donde x el el valor al que le queres calcular el logaritmo natural\n",
        "\n",
        "\n",
        "\n",
        "Dentro del paréntesis irá el valor que deseas cálcular!"
      ]
    },
    {
      "cell_type": "markdown",
      "metadata": {
        "id": "ASiBvZOUcDC0"
      },
      "source": [
        "Veamos varios ejemplos!\n",
        "\n",
        "1. Calcule el valor de la siguiente expresión. Recuerde que los valores a, b y c ya se encontran guardados d= sen(2*b) / c"
      ]
    },
    {
      "cell_type": "code",
      "metadata": {
        "trusted": true,
        "id": "BOgftcEdcDC1"
      },
      "source": [
        "d = sin(2*b) / c\n",
        "\n",
        "print(d)"
      ],
      "execution_count": null,
      "outputs": []
    },
    {
      "cell_type": "markdown",
      "metadata": {
        "id": "76RmSQrbcDC1"
      },
      "source": [
        "2. Calcule el valor de e = a^b"
      ]
    },
    {
      "cell_type": "code",
      "metadata": {
        "trusted": true,
        "id": "pYcRDFt9cDC1"
      },
      "source": [
        "e = a**b\n",
        "\n",
        "print(e)"
      ],
      "execution_count": null,
      "outputs": []
    },
    {
      "cell_type": "markdown",
      "metadata": {
        "id": "v0p7J27XcDC2"
      },
      "source": [
        "3. Calcule la incertidumbre de log10(a)"
      ]
    },
    {
      "cell_type": "code",
      "metadata": {
        "trusted": true,
        "id": "a-0eqL56cDC2"
      },
      "source": [
        "print(log10(a))"
      ],
      "execution_count": null,
      "outputs": []
    },
    {
      "cell_type": "markdown",
      "metadata": {
        "id": "9EO9AeEMcDC3"
      },
      "source": [
        "4. Calcule la incertidumbre de e^(b) y guardela en la variable f"
      ]
    },
    {
      "cell_type": "code",
      "metadata": {
        "trusted": true,
        "id": "3rHXBis-cDC4"
      },
      "source": [
        "f = exp(b)\n",
        "print(f)"
      ],
      "execution_count": null,
      "outputs": []
    },
    {
      "cell_type": "markdown",
      "metadata": {
        "id": "THOEs_TDcDC4"
      },
      "source": [
        "5. Calcule la incertidumbre de a*ln(b) + c y guardela en la variable g"
      ]
    },
    {
      "cell_type": "code",
      "metadata": {
        "trusted": true,
        "id": "uVx_vbexcDC5"
      },
      "source": [
        "g = (a*log(b,exp(1))) + c\n",
        "\n",
        "print(g)"
      ],
      "execution_count": null,
      "outputs": []
    },
    {
      "cell_type": "markdown",
      "metadata": {
        "id": "uywK--JjcDC5"
      },
      "source": [
        "6. Calcule la incertidumbre de sin(c*ln(a))/b  y guardela en la variable m"
      ]
    },
    {
      "cell_type": "code",
      "metadata": {
        "trusted": true,
        "id": "Jvt09gklcDC6"
      },
      "source": [
        "m = sin(c*log(a,exp(1))) / b\n",
        "print(m)"
      ],
      "execution_count": null,
      "outputs": []
    },
    {
      "cell_type": "markdown",
      "metadata": {
        "id": "h9qQaIGNcDC6"
      },
      "source": [
        "Nota la diferencia sinó pones tu variable en la función print()"
      ]
    },
    {
      "cell_type": "code",
      "metadata": {
        "trusted": true,
        "id": "XROBCDjncDC7"
      },
      "source": [
        "m # Sinó incluis el print() Python te va a tirar todos los decimales"
      ],
      "execution_count": null,
      "outputs": []
    },
    {
      "cell_type": "markdown",
      "metadata": {
        "id": "Dl_UejnacDC7"
      },
      "source": [
        "# Ejemplo 1. Cálculo de la incertidumbre para la aceleración de la gravedad.\n",
        "\n",
        "Realice de nuevo el ejercicio del cálculo de la aceleración de la gravedad, sólo que en este caso, use el ufloat del paquete uncertainties.<br>\n",
        "\n",
        "Recuerde que $ g = 4*\\pi^2 * \\frac{L}{P^{2}} $\n",
        "Y así mismo que $L = 1.01 \\pm 0.01$ y $P = 2.02 \\pm 0.01$ <br> <br>\n"
      ]
    },
    {
      "cell_type": "markdown",
      "metadata": {
        "id": "sfkVSNKjcDC8"
      },
      "source": [
        "__Paso 1__ Declare las variables L y P con su respectiva incertidumbre con ufloat"
      ]
    },
    {
      "cell_type": "code",
      "metadata": {
        "trusted": true,
        "id": "GNeg7z5FcDC9"
      },
      "source": [
        "#Resuelva acá"
      ],
      "execution_count": null,
      "outputs": []
    },
    {
      "cell_type": "markdown",
      "metadata": {
        "id": "Er2lOZxFcDC9"
      },
      "source": [
        "__Paso 2__ Programe g y guardela en la variable g"
      ]
    },
    {
      "cell_type": "code",
      "metadata": {
        "trusted": true,
        "id": "ETCOe8wwcDC-"
      },
      "source": [
        "#Resuelva acá"
      ],
      "execution_count": null,
      "outputs": []
    },
    {
      "cell_type": "markdown",
      "metadata": {
        "id": "hgfpB5TScDC_"
      },
      "source": [
        "__Paso 3__   Imprima resultados"
      ]
    },
    {
      "cell_type": "code",
      "metadata": {
        "trusted": true,
        "id": "CbdjzdmWcDC_"
      },
      "source": [
        "#Resuelva acá"
      ],
      "execution_count": null,
      "outputs": []
    },
    {
      "cell_type": "markdown",
      "metadata": {
        "id": "4ZneDjUFcDDA"
      },
      "source": [
        "## Ejemplo 2. Cálculo de Incertidumbres para Conductividad de Pb(SO4) y Kps\n",
        "\n",
        "En su curso de Laboratorio de Fisicoquímica II usted aprenderá a determinar la Kps de una sal poco soluble como lo es el Sulfato de Plomo, usando mediciones de conductividad.<br>\n",
        "\n",
        "El equilibrio de solubilidad del $Pb(SO_4)$ está dado por la siguiente expresión. <br>\n",
        "\n",
        "$$Pb(SO_{4})_{(s)} <=> Pb^{2+}_{(ac)} + {{SO_{4}}^{2-}}_{(ac)} (1)$$ <br>\n",
        "\n",
        "Al plantear el equilibrio , de inmediato puede verse que <br>\n",
        "\n",
        "$$Kps = s^2 (2)$$\n",
        "\n",
        "Donde s representa la solubilidad de la sal. <br>\n",
        "\n",
        "La solubilidad __s__ puede medirse usando la siguiente expresión <br>\n",
        "$$s = \\frac{\\kappa}{\\Lambda_{m}^{0}} (3)$$ <br>\n",
        "\n",
        "Donde $\\kappa$ representa la conductividad de una disolución saturada del $Pb(SO_{4})_{(s)}$ , por otro lado $\\Lambda_{m}^{0}$ representa una cantidad conocida como la conductividad molar límite de la sal ( No te preocupes sinó entendes los términos, eventualmente los verás en fisicoquímica, por ahora concentremonos en el cálculo de incertidumbres) <br>\n",
        "\n",
        "Por lo tanto, sí sustituimos la expresión (3) en (2) puede verse que <br>\n",
        "\n",
        "$$Kps = {(\\frac{\\kappa}{\\Lambda_{m}^{0}})}^{2} (4)$$ <br>\n",
        "\n",
        "Para medir la conductividad $\\kappa$ usas un conductímetro (duh era obvio no? ) <br>\n",
        "\n",
        "<img src='http://img.medicalexpo.es/images_me/photo-mg/100041-8080034.jpg' alt=\"conductividad\" align= \"center\">\n",
        "\n",
        "Por otra parte ${\\Lambda_{m}^{0}}$ puede obtener a partir de la contribución de varias especies siguiendo la siguiente ecuación\n",
        "\n",
        "\n",
        "$${\\Lambda_{m}^{0} (Pb(SO_4))} = {\\Lambda_{m}^{0} (K_{2}(SO_4))} + {\\Lambda_{m}^{0} (Pb(NO_3)_{2})} - 2{\\Lambda_{m}^{0} (K(SO_4))} (5)$$\n",
        "\n",
        "Por ahora no te preocupes de donde sale esta expresión! Serán valores dados en este problema.\n",
        "\n",
        "\n",
        "\n",
        "\n",
        "\n"
      ]
    },
    {
      "cell_type": "markdown",
      "metadata": {
        "id": "eT-W1Qc8cDDA"
      },
      "source": [
        "A partir de los siguientes datos . Cálcule la Kps y su incertidumbre para el sulfato de plomo.\n",
        "\n",
        "\n",
        "\n",
        "Conductividad PbSO₄ saturada 0,00325 +- 0,00001S/m <br>\n",
        "\t\t\n",
        "\t\t\n",
        "Sustancia  <br>\n",
        " * Λ°m (S m² / mol) Pb(NO₃)₂ =\t0,027 +- 0,001<br>\n",
        " *  Λ°m (S m² / mol) KNO₃ =    0,0148 +-0,0001<br>\n",
        " * Λ°m (S m² / mol) K₂SO₄ =    0,0329  +-0,0005<br>\n",
        "\n"
      ]
    },
    {
      "cell_type": "code",
      "metadata": {
        "trusted": true,
        "id": "Phn24L0hcDDB"
      },
      "source": [
        "#Resolución\n",
        "\n",
        "#Paso 1 Declaremos variables usando ufloat\n",
        "\n",
        "conduc_molar_limite_PbNO32 = ufloat( 0.028,0.001)\n",
        "conduc_molar_limite_K2SO4 = ufloat( 0.031,0.0001)\n",
        "conduc_molar_limite_KNO3 = ufloat( 0.0145,0.0001)\n",
        "conduc_PbSO4_Saturado = ufloat (0.00325, 0.00001)\n",
        "                              \n",
        "##Paso 2 Calculamos la conductividad molar límite del sulfato de plomo saturado usando la ecuación (5) y las varibales\n",
        "##declaradas en el paso 1\n",
        "conduc_molar_limite_PbSO4 =  conduc_molar_limite_K2SO4 + conduc_molar_limite_PbNO32 - 2* conduc_molar_limite_KNO3 \n",
        "                                    \n",
        "print(conduc_molar_limite_PbSO4)\n"
      ],
      "execution_count": null,
      "outputs": []
    },
    {
      "cell_type": "code",
      "metadata": {
        "trusted": true,
        "id": "d9mqt0VrcDDC"
      },
      "source": [
        "#Ya tenemos la conductividad molar límite del Sulfato de Plomo\n",
        "\n",
        "#Paso 3 Calcular kps según (4)\n",
        "\n",
        "Kps = pow(conduc_PbSO4_Saturado / conduc_molar_limite_PbSO4 , 2)\n",
        "\n",
        "print(Kps)"
      ],
      "execution_count": null,
      "outputs": []
    },
    {
      "cell_type": "markdown",
      "metadata": {
        "id": "yx51TwkccDDD"
      },
      "source": [
        "Te estaras preguntanto por que esa Kps es tan alta! Que recordabas de Cuali o Analítica, que las Kps eran cantidades muy bajas!\n",
        "Y sí, tenés razón, a esa Kps ha que dividirla entre 1000 ( unidades SI y convención), sin embargo con esto hemos ejemplificado un gran ejemplo como aplicación!"
      ]
    },
    {
      "cell_type": "markdown",
      "metadata": {
        "id": "oyGxwu1fcDDD"
      },
      "source": [
        "# Ejemplo 3. Viscosidad de  butanol puro.\n",
        "\n",
        "Este problema se trabajará totalmente en unidades SI.\n",
        "\n",
        "En el bloque de Fenómenos de Transferencia y Fuerzas Intermoleculares, usted medirá la viscosidad de varios líquidos y mezclas, usando un viscosímetro de Ostwald.\n",
        "\n",
        "En este [vídeo](https://www.youtube.com/watch?v=N5QT2DSoTjo) o este [video](https://www.youtube.com/watch?v=tH38pt673GU) podes ver su funcionamiento.\n",
        "\n",
        "Para medir la viscosidad de líquidos, se compara con un líquido de referencia ( un líquido de referencia es aquel que sus propiedades han sido estudiandas extensivamente y se conocen con gran certidumbre). Por lo general el líquido de referencia es el peligroso monoxido de dihidrogeno ( pH 7 o.O ) <br>\n",
        "\n",
        "La ecuación de viscosidad viene dada por: <br>\n",
        "* $\\eta$ representa la visosidad,\n",
        "* __tiempo__ representa el tiempo que tarda el líquido en pasar por las marcas A y B del viscosímetro ( ver vídeos)  \n",
        "* $\\rho$ densidades <br>\n",
        "\n",
        "$$ \\frac{\\eta_{Líquido de interés}}{\\eta_{Agua}} = \\frac{\\rho_{líquido de interés} * tiempo_{líquido interés}}{\\rho_{agua} * tiempo_{agua}} (1) $$\n",
        "\n",
        "Genial! Ahora despejemos la viscosidad del líquido de insterés ( en este caso butanol) <br>\n",
        "\n",
        "$$ \\eta_{butanol} = {\\eta_{Agua}} * \\frac{\\rho_{líquido de interés} * tiempo_{líquido interés}}{\\rho_{agua} * tiempo_{agua}} (2) $$\n",
        "\n",
        "\n"
      ]
    },
    {
      "cell_type": "markdown",
      "metadata": {
        "id": "KycGBuXHcDDE"
      },
      "source": [
        "#### Datos Agua\n",
        "Usted primero introducirá 10 mL de agua en el viscosímetro. <br>\n",
        "Posteriormente medirá cuanto tiempo dura el agua en caer dentro del capilar del viscosímetro ( Ir de A hasta B). <br>\n",
        "Este paso se conoce como calibración de viscosímetro <br>\n",
        "\n",
        "Un grupo de estudiantes de Fisicoquímica realizó el experimento y tuvo como resultado que el agua tardó\n",
        "$ tiempo_{agua} = 29.35 \\pm 0.01 s $ <br>\n",
        "\n",
        "Así mismo, en Tablas Tabuladas encontraron que la densidad del agua a Tempertura ambiente es <br>\n",
        "$\\rho_{agua}= 997.538 \\pm 0.002 \\frac{Kg}{m^{3}} $ <br>\n",
        "\n",
        "Su viscosidad según referencias de literatura es de \n",
        "$\\eta_{agua} = 0,000891 \\pm 0.000002 \\frac{Kg}{m*s} $ <br>\n",
        "\n",
        "En resumen para el agua <br>\n",
        "$ tiempo_{agua} = 29.35 \\pm 0.01 s $ <br>\n",
        "$\\rho_{agua}= 997.538 \\pm 0.002 \\frac{Kg}{m^{3}} $ <br>\n",
        "$\\eta_{agua} = 0,000891 \\pm 0.000002 \\frac{Kg}{m*s} $ <br>"
      ]
    },
    {
      "cell_type": "markdown",
      "metadata": {
        "id": "aldmlMeAcDDF"
      },
      "source": [
        "### Datos Butanol\n",
        "\n",
        "Una vez calibrado el viscosímetro. <br>\n",
        "Procede hacer mediciones con su líquido de interés. <br>\n",
        "\n",
        "Usted introduce 10 mL de butanol en el viscosímetro y mide los tiempos.\n",
        "El tiempo despues de tres réplicas es\n",
        "$ tiempo_{butanol} = 100 s $\n",
        "\n",
        "Por último, usted mide la densidad del butanol midiendo en balanza cuanta masa se necesita para llenar un objeto cuyo  volumen de 25 mL. Para esto, usted procede hacer el cálculo por diferencia. <br>\n",
        "\n",
        "Ya que, sabemos que la densidad de cualquier objeto o materia viene dada por:\n",
        "$$ \\rho_{butanol} = \\frac{masa_{butanol}}{V_{butanol}} (3)$$\n",
        "\n",
        "Mide primero mide la masa por diferencia en balanza analítica.\n",
        "$ masa_{objeto vacio} = 28,9990 \\pm 0.0001  $ <br>\n",
        "$ masa_{objeto lleno de butanol} = 50.1922  \\pm 0.0001 $ <br>\n",
        "\n",
        "Por lo tanto la masa de butanol es\n",
        "<br> masa_{butanol} = masa_{objeto lleno de butanol} - masa_{objeto vacio} <br>\n",
        "\n",
        "Por último, sabe que el objeto donde introdujo el volumen de butanol tiene un volumen de 25.000 mL con incertidumbre de 0.002."
      ]
    },
    {
      "cell_type": "markdown",
      "metadata": {
        "id": "uApsnkq7cDDF"
      },
      "source": [
        "#### Ejercicio. Calcule la densidad del butanol.\n",
        "\n",
        "Para esto vaya paso a paso."
      ]
    },
    {
      "cell_type": "markdown",
      "metadata": {
        "id": "1DRWwlX5cDDG"
      },
      "source": [
        "##### Paso 1. Según la ecuación (3) necesita la masa del butanol ( que es una diferencia de masas) y volumen.\n",
        "Por lo tanto declaras las 3 variables usando ufloat() en la siguiente celda"
      ]
    },
    {
      "cell_type": "code",
      "metadata": {
        "trusted": true,
        "id": "UZ0iZNb2cDDH"
      },
      "source": [
        "# Resulva acá"
      ],
      "execution_count": null,
      "outputs": []
    },
    {
      "cell_type": "markdown",
      "metadata": {
        "id": "_oKL_SfQcDDH"
      },
      "source": [
        "##### Paso 2. Calcule la densidad de butanol y su incertidumbre combinando las tres variables anteriores.\n",
        "Guarde el resultado en densidad_butanol"
      ]
    },
    {
      "cell_type": "code",
      "metadata": {
        "trusted": true,
        "id": "RY17m5KTcDDI"
      },
      "source": [
        "# Resulva acá"
      ],
      "execution_count": null,
      "outputs": []
    },
    {
      "cell_type": "markdown",
      "metadata": {
        "id": "s64oCu49cDDI"
      },
      "source": [
        "##### Paso 3. Convierta su densidad de g/mL a unidades $SI Kg/m^{3}$\n",
        "Guarde este resultado en __densidad_SI__ <br>\n",
        "\n",
        "¿Al hacer la conversión la incertidumbre automáticamente cambio? <br>\n",
        "Para ver si hubo cambio imprima la variable que acab de definir __densidad_SI__ <br>"
      ]
    },
    {
      "cell_type": "code",
      "metadata": {
        "trusted": true,
        "id": "j9ZLHtV4cDDJ"
      },
      "source": [
        "# Resulva acá"
      ],
      "execution_count": null,
      "outputs": []
    },
    {
      "cell_type": "markdown",
      "metadata": {
        "id": "nZlvGePLcDDK"
      },
      "source": [
        "##### Ejercicio. Cálculo de viscosidad de butanol\n",
        "\n",
        "Utilice los datos suministrados anteriormente para el agua, tiempo de butanol y la densidad de butanol recién calculada para calcular la viscosidad del butanol según la ecuación (2) <br>\n",
        "\n",
        "Para esto\n",
        "\n",
        "1. Declare variables con ufloat()  ( Son 5 variables según la ecuación 2) <br>\n",
        "2. Programe la ecuación (2) empleando las variables recién declaradas , guardando el resultado en viscosidad_butanol <br>\n",
        "3. Imprima resultados"
      ]
    },
    {
      "cell_type": "code",
      "metadata": {
        "trusted": true,
        "id": "k0gZDetIcDDK"
      },
      "source": [
        "# Declare variables"
      ],
      "execution_count": null,
      "outputs": []
    },
    {
      "cell_type": "code",
      "metadata": {
        "trusted": true,
        "id": "wLD0j_u1cDDL"
      },
      "source": [
        "# Programar ecuación (2)"
      ],
      "execution_count": null,
      "outputs": []
    },
    {
      "cell_type": "code",
      "metadata": {
        "trusted": true,
        "id": "1auMV4K0cDDL"
      },
      "source": [
        "# Imprimir resultados"
      ],
      "execution_count": null,
      "outputs": []
    },
    {
      "cell_type": "markdown",
      "metadata": {
        "id": "Zy0t5cCMcDDM"
      },
      "source": [
        "[Volver al índice](https://notebooks.azure.com/jeff0994/libraries/QU-0560-1-1/html/01Introducci%C3%B3n-Indice.ipynb)"
      ]
    },
    {
      "cell_type": "code",
      "metadata": {
        "trusted": true,
        "id": "zMsn8N8UcDDN"
      },
      "source": [
        ""
      ],
      "execution_count": null,
      "outputs": []
    }
  ]
}