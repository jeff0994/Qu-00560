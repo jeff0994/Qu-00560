{
  "cells": [
    {
      "metadata": {
        "collapsed": true
      },
      "cell_type": "markdown",
      "source": "# Universidad de Costa Rica\n\n## Facultad de Ciencias\n\n## Escuela de Química\n\n## Sección de Fisicoquímica\n\n## Qu-0560 Tópicos de Química Física: Herramientas Computacionales para Química\n\n### Profesor Mauricio Gutierrez\n### Asistente no oficial: Yefry López"
    },
    {
      "metadata": {},
      "cell_type": "markdown",
      "source": "# Aplicación I. Propagación de Incertidumbres"
    },
    {
      "metadata": {},
      "cell_type": "markdown",
      "source": "## Objetivos de Aprendizaje\n\n- Familiarizar al estudiante con el manejo y propagación de incertidumbres usando el paquete __uncertainties__ Python."
    },
    {
      "metadata": {},
      "cell_type": "markdown",
      "source": "Somos científicos! Por lo tanto toda medición tendrá cierta incertidumbre asociada. En nuestros cursos de Análisis Químico Cuantitativo aprendimos o aprenderemos a realizar el manejo de incertidumbres o propagación de errores de ciertas expresiones básicas como suma, reta, divisiones, logaritmos y exponentes. <br>\n\nSin embargo que sucede cuando tenemos modelos mucho mas complejos? Como por ejemplo calcular la incertidumbre de un coseno hiperbólico? Como nuestra primer aplicación, usaremos la Teoría Básica de Propagación de Errores ( Sí queres indagar en la teoría muchos de tus conocimientos en Cálculo III serán de gran ayuda) y para esto haremos uso de dos herramientas. <br>\n\n- Paquete uncertainties en Python que te permite manejar números con incertidumbres\n- Paquete ScientificErrorAnalysis en Maple\n\nEn Python haremos los siguientes pasos <br>\n\n* Instalar el paquete con el comando !pip install uncertainties\n* Del paquete uncertainties importar ufloat para que Python aprenda a manejar números con incertidumbres e importar umath para que Python pueda trabajar con expresiones matemáticas."
    },
    {
      "metadata": {},
      "cell_type": "markdown",
      "source": "## Teoría de la Propagación de errores ( Breves conceptos)\n### Opcional\n\nEn tu curso de Química Análitica I, entenderás como sacar la incertidumbre de operaciones básicas como <br>\n\n* Suma y resta\n* Multiplicación y división\n* Exponentes y logaritmos.\n\nSin embargo prácticamente no te dirán de donde vienen dichas fórmulas. <br>\n\nEn términos generales, hay muchos enfoques y aproximaciones. <br>\nHaremos uso del enfoque lineal e ignoraremos los  términos de correlación ( Sí usamos el lenguaje visto en Cálculo II estamos despreciando los términos de la serie cuyas potencias sean de orden 2 o mayor) <br>\n\nSea z una función que depende de las variables x y y. <br>\nz = z(x,y) <br>\n<br>\nSegún lo que verás en cálculo (III) su diferencial total está dado por <br>\n\n$$ dz = \\left(\\frac{\\partial z}{\\partial x}\\right)_{y}dx + \\left(\\frac{\\partial z}{\\partial y}\\right)_{x}dy  (1)$$\n\nPor sí no sabías <br>\n$\\left(\\frac{\\partial z}{\\partial x}\\right)_{y}$ representa la derivada parcial de z respecto a x, tomando y como una constante <br>\n$\\left(\\frac{\\partial z}{\\partial y}\\right)_{x}$ representa la derivada parcial de z respecto a y, tomando x como una constante <br>\n\nSe que el término derivada parcial suena un poco abrumador! Sin embargo son derivadas normales como las de Cálculo I <br>\n\nElevamos al cuadrado a ambos lados de la ecuación (1)\n$$ dz^{2} = \\left(\\left(\\frac{\\partial z}{\\partial x}\\right)_{y}dx + \\left(\\frac{\\partial z}{\\partial y}\\right)_{x}dy\\right)^{2}   (2)$$\n\n<br>\n\nDel lado izquierdo, podemos escribir las derivdas de la siguiente forma <br>\n$ u = \\left(\\frac{\\partial z}{\\partial x}\\right)_{y}dx $ <br>\n$ v = \\left(\\frac{\\partial z}{\\partial y}\\right)_{x}dy $ <br>\n\n<br>\nPor lo tanto\n$$ dz^{2} = (u+v)^{2} (3)$$\n<br>\nLo anterior es una formula notable\n$$ dz^{2}= u^{2} + v^{2} + 2uv (4)$$\n\nHaremos una suposición. <br>\nSuponga que \n* $dz \\approx \\Delta z$<br>\n* $dx \\approx \\Delta x$<br>\n* $dy \\approx \\Delta y$<br>\n\nPor lo tanto nuestra expresión (4) queda de la siguiente forma <br>\n\n$$ \\Delta z^{2}= u^{2} + v^{2} + + 2uv (5) $$\n\nAhora despreciaremos el factor de correlación u*v (Recuerda que u y v son en el fondo derivadas, por lo tanto la multiplicación de ambos factores debería dar como resultado una cantidad pequeña<br>\n\nPor lo tanto , la ecuación 5 queda de la siguiente forma <br>\n\n$$ \\Delta z^{2} \\approx  u^{2} + v^{2} (6)$$\n\nRegresando a nuestras definiciones de u y v en términos de derivadas parciales <br>\n\n$$ (\\Delta z)^{2} \\approx   \\left(\\left(\\frac{\\partial z}{\\partial x}\\right)_{y}\\Delta x\\right)^{2} + \\left(\\left(\\frac{\\partial z}{\\partial y}\\right)_{x}\\Delta y\\right)^{2} (7)$$\n\nDando como resultado: <br>\n\n$$ (\\Delta z)^{2} \\approx   \\left(\\left(\\frac{\\partial z}{\\partial x}\\right)_{y}\\right)^{2} (\\Delta x)^{2} + \\left(\\left(\\frac{\\partial z}{\\partial y}\\right)_{x}\\right)^{2} (\\Delta y)^{2} (8)$$\n\nLa ecuación (8) representa la formúla analítica y lineal de cálculo de incertidumbres <br>\n$ (\\Delta z)^{2} $ represan la varianza de z\n\nPara calcular la incertidumbre de z, aplicamos la raiz cuadrada a ambos lados de la iguadad en 8 dando como resultado\n\n$$ \\Delta z \\approx   \\sqrt{\\left(\\left(\\frac{\\partial z}{\\partial x}\\right)_{y}\\right)^{2} (\\Delta x)^{2} + \\left(\\left(\\frac{\\partial z}{\\partial y}\\right)_{x}\\right)^{2} (\\Delta y)^{2} } (8)$$"
    },
    {
      "metadata": {},
      "cell_type": "markdown",
      "source": "### Aterrizando mas los conceptos.\n\nLa expresión (8) es nuestra fórmula generalizada para calcular incertidumbres para cierta variable z que depende de otras dos llamadas x y y. <br>\n<br>\n\n$$ \\Delta z \\approx   \\sqrt{\\left(\\left(\\frac{\\partial z}{\\partial x}\\right)_{y}\\right)^{2} (\\Delta x)^{2} + \\left(\\left(\\frac{\\partial z}{\\partial y}\\right)_{x}\\right)^{2} (\\Delta y)^{2} } $$ <br>\n\n¿Que representa $\\Delta x$ ? <br>\nRepresenta la incertidumbre de tu medición x, vos la conoces desde que haces el experimento.<br>\nPor ejemplo la mitad de menor divisón en una regla o 0.001 en una balanza digital que mida tres decimales.<br>\n\n¿Que representa $\\Delta y$ ? <br>\nLo mismo que el caso anterio, una incertidumbre que vos determias rapidamente según el equipo o instrumento a mano. <br>"
    },
    {
      "metadata": {},
      "cell_type": "markdown",
      "source": "## Un ejemplo. Cálculo de la incertidumbre de la aceleración de la gravedad mediante el péndulo simple. ( Física II)\n\n<img src='https://upload.wikimedia.org/wikipedia/commons/f/fa/PenduloTmg.gif' alt=\"pendulo\" align= \"center\">\n\nUna forma de determinar aproximandamente la aceleración de la gravedad es mediente el empleo del péndulo simple.\nAl resolver la física del péndulo simple, se puede concluir que __g__ aceleración de la gravedad está dado por\n\n$$ g = 4*\\pi^2 * \\frac{L}{P^{2}} $$\n\nEs decir g es una función de L y de P! g = g(L,P) <br>\n\nDonde __L__ representa la longitud de la cuerda del péndulo y __P__ representa el periodo del péndulo, tiempo que tarda en una oscilaración. \n"
    },
    {
      "metadata": {},
      "cell_type": "markdown",
      "source": "En el laboratorio , usted construyó un péndulo con una longitud de 1.01 m. <br>\nLa longitud la midió con una regla, por lo tanto la incertidumbre de dicha medición (mitad de la menor medición es 0.01 m) <br>\n\n$L = 1.01 \\pm 0.01$ <br>\n\nAsí mismo con cronómetro de su celular, midió que el periodo era de 2.02 segundos. <br>\nEl cedular al ser un aparato digital ,tiene una incertidumbre asociada de 0.01 <br>\n\n$P = 2.02 \\pm 0.01$ <br>\n\nEmplee $ g = 4*\\pi^2 * \\frac{L}{P^{2}} $ para calcular la aceleración de la gravedad y calcule su incertidumbre.\n"
    },
    {
      "metadata": {},
      "cell_type": "markdown",
      "source": "__Paso 1.__ Declaramos variables"
    },
    {
      "metadata": {
        "trusted": true
      },
      "cell_type": "code",
      "source": "L = 1.01\nP = 2.02",
      "execution_count": null,
      "outputs": []
    },
    {
      "metadata": {},
      "cell_type": "markdown",
      "source": "__Paso 2.__ Calculamos la formula y la guardamos en g"
    },
    {
      "metadata": {
        "trusted": true
      },
      "cell_type": "code",
      "source": "import math \n\ng = 4*(math.pi**2)*(L/P**2)\n\nprint(g)",
      "execution_count": null,
      "outputs": []
    },
    {
      "metadata": {},
      "cell_type": "markdown",
      "source": "Bien! Nuestra aceleración de la gravedad está cercana a 9.81\n\nAhora veamos el cálculo de incertidumbre!\n\nPara esto emplearemos la expresión (8)\n\n$$ \\Delta z \\approx   \\sqrt{\\left(\\left(\\frac{\\partial z}{\\partial x}\\right)_{y}\\right)^{2} (\\Delta x)^{2} + \\left(\\left(\\frac{\\partial z}{\\partial y}\\right)_{x}\\right)^{2} (\\Delta y)^{2} } $$ <br>\n\n***\n\nEn este caso nota que <br>\ng representa a z <br>\nL puede representar x <br>\nP  puede representar y (las pudiste elegir diferente al revés) <br>\n\n"
    },
    {
      "metadata": {},
      "cell_type": "markdown",
      "source": "Por lo tanto nuestra expresión (8) queda de la siguiente forma: <br>\n\n$$ \\Delta g \\approx   \\sqrt{\\left(\\left(\\frac{\\partial g}{\\partial L}\\right)_{P}\\right)^{2} (\\Delta L)^{2} + \\left(\\left(\\frac{\\partial g}{\\partial P}\\right)_{L}\\right)^{2} (\\Delta P)^{2} } (10)$$ <br>\n\nNota que $\\Delta L$ y $\\Delta P$ representan las incertidumbres en L y T <br>\nY esas ya las conoces! <br>\n\n$\\Delta L$ = 0.01 <br>\n$\\Delta P$ 0.01 <br>\n\nAhora nos queda el cálculo de derivadas <br>\nPara esto sustituimos la definición de g en las derivadas <br>\n\n$\\left(\\frac{\\partial g}{\\partial L}\\right)_{P}$ = $\\frac{\\partial}{\\partial L}\\left(4*\\pi^2 * \\frac{L}{P^{2}}\\right)_{P} $\n\nLo anterior, es una derivada a P constante ( subíndice fuera de los paréntesis), por lo tanto podemos sacar P fuera la derivada al ser constante\n\n$\\left(\\frac{\\partial g}{\\partial L}\\right)_{P}$ = $ 4*\\pi^2 * \\frac{1}{P^{2}} \\frac{\\partial}{\\partial L}\\left(L\\right) $\n\nY dí la derivada de L respecto a L, claramente es 1. <br>\nPor lo tanto\n\n$\\left(\\frac{\\partial g}{\\partial L}\\right)_{P}$ = $ 4*\\pi^2 * \\frac{1}{P^{2}} = 4*\\pi^2 * \\frac{1}{2.02^{2}}$"
    },
    {
      "metadata": {
        "trusted": true
      },
      "cell_type": "code",
      "source": "derivada_1 = (4*math.pi**2) / P**2\nprint(derivada_1)",
      "execution_count": null,
      "outputs": []
    },
    {
      "metadata": {},
      "cell_type": "markdown",
      "source": "Empleando un análisis similar para la derivada 2. <br>\nSe llega a lo siguiente\n<br>\n$ \\left(\\frac{\\partial g}{\\partial P}\\right)_{L} = -8\\pi^{2}*\\frac{L}{p^3} $ <br>"
    },
    {
      "metadata": {
        "trusted": true
      },
      "cell_type": "code",
      "source": "derivada_2 = (-8*math.pi**2)*( L / P**3) \nprint(derivada_2)",
      "execution_count": null,
      "outputs": []
    },
    {
      "metadata": {},
      "cell_type": "markdown",
      "source": "Ya podemos calcular nuestra incertidumbre en g!\n\nYa tenemos derivadas, los deltaL y deltaP ahora sólo hay que programar la ecuación (10)"
    },
    {
      "metadata": {
        "trusted": true
      },
      "cell_type": "code",
      "source": "#Incertidumbre en L y P\ns_L = 0.01\ns_P = 0.01\n\n#Antes de aplicar raiz cuadradada vamos a programar lo que está dentr de la raiz\nargumento = math.pow(derivada_1*s_L,2) + math.pow(derivada_2*s_P,2)\n\n#Aplicamos raiz a la expresión anteior y optenemos la incertidumbre en g\nincertidumbre_g = sqrt(argumento)\n\nprint(incertidumbre_g)",
      "execution_count": null,
      "outputs": []
    },
    {
      "metadata": {},
      "cell_type": "markdown",
      "source": "En resumen tenemos que nuestro experimento arrojó que\n\n$ g = 9.77 \\pm 0.13 $"
    },
    {
      "metadata": {},
      "cell_type": "markdown",
      "source": "¿Ya te diste cuenta que que el cálculo de incertidumbres pues ser un poco tedioso verdad?\n\nPara esto por dicha existen paquetes que automatizan dichos cálculos."
    },
    {
      "metadata": {},
      "cell_type": "markdown",
      "source": "####  Sobre uncertainties\nEl paquete uncertainties es un programa gratuito y multiplataforma que maneja de manera transparente los cálculos con números con incertidumbres (como 3.14 ± 0.01). También puede producir las derivadas de cualquier expresión. <br>\n<br>\nEl paquete de incertidumbres elimina el dolor y la complejidad de los cálculos de incertidumbre. ¡La propagación de errores ya no debe temerse! <br>\n<br>\nWeb del autor https://pythonhosted.org/uncertainties/ <br>\n<br>"
    },
    {
      "metadata": {},
      "cell_type": "markdown",
      "source": "Ejecuta la siguiente celda (Teclas Ctrl + Intro) o dale \"Run\" \nLe estamos diciendo a Python... Hey descarga e instala ese paquete!"
    },
    {
      "metadata": {
        "trusted": true
      },
      "cell_type": "code",
      "source": "#Ejecuta la siguiente celda (Teclas Ctrl + Intro) o dale \"Run\"\n!pip install uncertainties",
      "execution_count": null,
      "outputs": []
    },
    {
      "metadata": {},
      "cell_type": "markdown",
      "source": "Vamos a importar el programa a nuestra Notebook ( Esta hoja de cálculo).... \nEn términos senciilos, le estamos mostrando a Python como manejar la propagación de errores. \nEjecuta la siguiente celda (Teclas Ctrl + Intro) o dale \"Run\""
    },
    {
      "metadata": {
        "trusted": true
      },
      "cell_type": "code",
      "source": "#Ejecuta la siguiente celda (Teclas Ctrl + Intro) o dale \"Run\"\nfrom uncertainties import ufloat\n",
      "execution_count": null,
      "outputs": []
    },
    {
      "metadata": {
        "trusted": true
      },
      "cell_type": "code",
      "source": "#Ejecuta la siguiente celda (Teclas Ctrl + Intro) o dale \"Run\"\nfrom uncertainties.umath import *  # Ya podes usar tangente, seno, cosenos , etc\nimport math",
      "execution_count": null,
      "outputs": []
    },
    {
      "metadata": {
        "trusted": true
      },
      "cell_type": "code",
      "source": "L = ufloat(1.01, 0.01)\nT = ufloat(2.02,0.01)\n\ng = (4 * L / pow(T, 2)) *pow(math.pi,2)\nprint(g)",
      "execution_count": null,
      "outputs": []
    },
    {
      "metadata": {},
      "cell_type": "markdown",
      "source": "Gracias a uncertainties Python ya sabe manejar números con incertidumbre. <br>\n<br>\nListo ya Python sabe trabajar con expresiones trigonométricas, exponenciales y manejar incertidumbres!<br>\n<br>\nPor ejemplo, si se tiene que:\n<br>\na = 2.0 ± 0.1 <br>\nb = 4.00 ± 0.05<br> \nc = 1.000 ± 0.003<br> \n<br>\n\nPodes decirle a Python que guarde esos números inexactos de la siguiente forma:<br>\n(Donde ufloat es el disminutivo de \"uncertain float\" número real con incertidumbre)<br>\nDentro del paréntesis en __ufloat__, se coloca primero el número y luego su incertidumbre separada por una coma.<br>"
    },
    {
      "metadata": {
        "trusted": true
      },
      "cell_type": "code",
      "source": "#Ejecuta la siguiente celda (Teclas Ctrl + Intro) o dale \"Run\")\n\na = ufloat(2.0000, 0.0001)  #  ufloat( medición , incertidumbre)\nb = ufloat(4.00050, 0.00005)\nc = ufloat(1.0000 , 0.0003)\nd = ufloat(5.0006 , 0.0006)",
      "execution_count": null,
      "outputs": []
    },
    {
      "metadata": {},
      "cell_type": "markdown",
      "source": "¿Pasó algo? \nAunque no hayas visto nada, Python ya tiene guardado las variables que asignaste! \nSi queres ver el valor de la variable haz lo siguiente!"
    },
    {
      "metadata": {
        "trusted": true
      },
      "cell_type": "code",
      "source": "# Escribe el nombre de la variable y ejecuta la celda\na",
      "execution_count": null,
      "outputs": []
    },
    {
      "metadata": {},
      "cell_type": "markdown",
      "source": "¿Viste? Python automáticamente guarda los valores asignados en la memoría "
    },
    {
      "metadata": {},
      "cell_type": "markdown",
      "source": "Si queres, tener los tres valores de las variables, podes usar la función print() \nDonde dentro del paréntesis irá la variable que querés \"imprimir\"\n\nprint es una función que usarás bastante!"
    },
    {
      "metadata": {
        "trusted": true
      },
      "cell_type": "code",
      "source": "#Ejecuta la siguiente celda (Teclas Ctrl + Intro) o dale \"Run\")\nprint(a)\nprint(b)\nprint(c)\nprint(d)",
      "execution_count": null,
      "outputs": []
    },
    {
      "metadata": {},
      "cell_type": "markdown",
      "source": "Python sabe manejar la aritmética básica, podes efectuar operaciones sencillas <br>\n\n\"+\" para suma <br>\n\"-\" para resta <br>\n\"/\" para división <br>\n\"*\" para múltiplicación <br>\n\"**\" para exponentes <br>\n\nIMPORTANTE. En Python existen reglas de procedencia.<br>\nPython asignará prioridad para evaluar operaciones númericas\n\n+ Primer prioridad \"()\" y \"**\" (paréntesis y exponeciación) <br>\n+ Segunda prioridad \"*\" y \"/\" <br>\n+ Tercera prioridad \"+\" y \"-\" <br>"
    },
    {
      "metadata": {
        "trusted": true
      },
      "cell_type": "code",
      "source": "#Hagamos un ejemplo!\n#Ejecuta la siguiente celda (Teclas Ctrl + Intro) o dale \"Run\")\n\nd = a + (b/c)\nd",
      "execution_count": null,
      "outputs": []
    },
    {
      "metadata": {},
      "cell_type": "markdown",
      "source": "Hagamos operaciones mas complicadas! Trabajemos con operaciones trigonométricas, logaritmos y exponeciales <br>\nA continuación algunos códigos útiles\n\n+ Para el seno usas: __sin()__       \n+ Para el coseno usas: __cos()__      \n+ Para la tangente usas: __tan()__   \n+ Para trabajar con PI: __math.PI__\n+ Para trabajar con exponente e : __exp()__\n+ Para trabajar con raices cuadradas: __sqrt()__\n+ Para trabajar con potencias fraccionarias Por ejemplo 2^(3/2): ___pow(base, exponente)___\n+ Para trabajar con logarimos en base 2:  __log2(x)__\n+ Para trabajar con logarimos en base 2:  __log10(x)__ ( Mejor conocido como \"log\" en la cálculadora científica.\n+ Logaritmo natural: __log(x,exp(1))__ Donde x el el valor al que le queres calcular el logaritmo natural\n\n\n\nDentro del paréntesis irá el valor que deseas cálcular!"
    },
    {
      "metadata": {},
      "cell_type": "markdown",
      "source": "Veamos varios ejemplos!\n\n1. Calcule el valor de la siguiente expresión. Recuerde que los valores a, b y c ya se encontran guardados d= sen(2*b) / c"
    },
    {
      "metadata": {
        "trusted": true
      },
      "cell_type": "code",
      "source": "d = sin(2*b) / c\n\nprint(d)",
      "execution_count": null,
      "outputs": []
    },
    {
      "metadata": {},
      "cell_type": "markdown",
      "source": "2. Calcule el valor de e = a^b"
    },
    {
      "metadata": {
        "trusted": true
      },
      "cell_type": "code",
      "source": "e = a**b\n\nprint(e)",
      "execution_count": null,
      "outputs": []
    },
    {
      "metadata": {},
      "cell_type": "markdown",
      "source": "3. Calcule la incertidumbre de log10(a)"
    },
    {
      "metadata": {
        "trusted": true
      },
      "cell_type": "code",
      "source": "print(log10(a))",
      "execution_count": null,
      "outputs": []
    },
    {
      "metadata": {},
      "cell_type": "markdown",
      "source": "4. Calcule la incertidumbre de e^(b) y guardela en la variable f"
    },
    {
      "metadata": {
        "trusted": true
      },
      "cell_type": "code",
      "source": "f = exp(b)\nprint(f)",
      "execution_count": null,
      "outputs": []
    },
    {
      "metadata": {},
      "cell_type": "markdown",
      "source": "5. Calcule la incertidumbre de a*ln(b) + c y guardela en la variable g"
    },
    {
      "metadata": {
        "trusted": true
      },
      "cell_type": "code",
      "source": "g = (a*log(b,exp(1))) + c\n\nprint(g)",
      "execution_count": null,
      "outputs": []
    },
    {
      "metadata": {},
      "cell_type": "markdown",
      "source": "6. Calcule la incertidumbre de sin(c*ln(a))/b  y guardela en la variable m"
    },
    {
      "metadata": {
        "trusted": true
      },
      "cell_type": "code",
      "source": "m = sin(c*log(a,exp(1))) / b\nprint(m)",
      "execution_count": null,
      "outputs": []
    },
    {
      "metadata": {},
      "cell_type": "markdown",
      "source": "Nota la diferencia sinó pones tu variable en la función print()"
    },
    {
      "metadata": {
        "trusted": true
      },
      "cell_type": "code",
      "source": "m # Sinó incluis el print() Python te va a tirar todos los decimales",
      "execution_count": null,
      "outputs": []
    },
    {
      "metadata": {},
      "cell_type": "markdown",
      "source": "# Ejemplo 1. Cálculo de la incertidumbre para la aceleración de la gravedad.\n\nRealice de nuevo el ejercicio del cálculo de la aceleración de la gravedad, sólo que en este caso, use el ufloat del paquete uncertainties.<br>\n\nRecuerde que $ g = 4*\\pi^2 * \\frac{L}{P^{2}} $\nY así mismo que $L = 1.01 \\pm 0.01$ y $P = 2.02 \\pm 0.01$ <br> <br>\n"
    },
    {
      "metadata": {},
      "cell_type": "markdown",
      "source": "__Paso 1__ Declare las variables L y P con su respectiva incertidumbre con ufloat"
    },
    {
      "metadata": {
        "trusted": true
      },
      "cell_type": "code",
      "source": "#Resuelva acá",
      "execution_count": null,
      "outputs": []
    },
    {
      "metadata": {},
      "cell_type": "markdown",
      "source": "__Paso 2__ Programe g y guardela en la variable g"
    },
    {
      "metadata": {
        "trusted": true
      },
      "cell_type": "code",
      "source": "#Resuelva acá",
      "execution_count": null,
      "outputs": []
    },
    {
      "metadata": {},
      "cell_type": "markdown",
      "source": "__Paso 3__   Imprima resultados"
    },
    {
      "metadata": {
        "trusted": true
      },
      "cell_type": "code",
      "source": "#Resuelva acá",
      "execution_count": null,
      "outputs": []
    },
    {
      "metadata": {},
      "cell_type": "markdown",
      "source": "## Ejemplo 2. Cálculo de Incertidumbres para Conductividad de Pb(SO4) y Kps\n\nEn su curso de Laboratorio de Fisicoquímica II usted aprenderá a determinar la Kps de una sal poco soluble como lo es el Sulfato de Plomo, usando mediciones de conductividad.<br>\n\nEl equilibrio de solubilidad del $Pb(SO_4)$ está dado por la siguiente expresión. <br>\n\n$$Pb(SO_{4})_{(s)} <=> Pb^{2+}_{(ac)} + {{SO_{4}}^{2-}}_{(ac)} (1)$$ <br>\n\nAl plantear el equilibrio , de inmediato puede verse que <br>\n\n$$Kps = s^2 (2)$$\n\nDonde s representa la solubilidad de la sal. <br>\n\nLa solubilidad __s__ puede medirse usando la siguiente expresión <br>\n$$s = \\frac{\\kappa}{\\Lambda_{m}^{0}} (3)$$ <br>\n\nDonde $\\kappa$ representa la conductividad de una disolución saturada del $Pb(SO_{4})_{(s)}$ , por otro lado $\\Lambda_{m}^{0}$ representa una cantidad conocida como la conductividad molar límite de la sal ( No te preocupes sinó entendes los términos, eventualmente los verás en fisicoquímica, por ahora concentremonos en el cálculo de incertidumbres) <br>\n\nPor lo tanto, sí sustituimos la expresión (3) en (2) puede verse que <br>\n\n$$Kps = {(\\frac{\\kappa}{\\Lambda_{m}^{0}})}^{2} (4)$$ <br>\n\nPara medir la conductividad $\\kappa$ usas un conductímetro (duh era obvio no? ) <br>\n\n<img src='http://img.medicalexpo.es/images_me/photo-mg/100041-8080034.jpg' alt=\"conductividad\" align= \"center\">\n\nPor otra parte ${\\Lambda_{m}^{0}}$ puede obtener a partir de la contribución de varias especies siguiendo la siguiente ecuación\n\n\n$${\\Lambda_{m}^{0} (Pb(SO_4))} = {\\Lambda_{m}^{0} (K_{2}(SO_4))} + {\\Lambda_{m}^{0} (Pb(NO_3)_{2})} - 2{\\Lambda_{m}^{0} (K(SO_4))} (5)$$\n\nPor ahora no te preocupes de donde sale esta expresión! Serán valores dados en este problema.\n\n\n\n\n\n"
    },
    {
      "metadata": {},
      "cell_type": "markdown",
      "source": "A partir de los siguientes datos . Cálcule la Kps y su incertidumbre para el sulfato de plomo.\n\n\n\nConductividad PbSO₄ saturada 0,00325 +- 0,00001S/m <br>\n\t\t\n\t\t\nSustancia  <br>\n * Λ°m (S m² / mol) Pb(NO₃)₂ =\t0,027 +- 0,001<br>\n *  Λ°m (S m² / mol) KNO₃ =    0,0148 +-0,0001<br>\n * Λ°m (S m² / mol) K₂SO₄ =    0,0329  +-0,0005<br>\n\n"
    },
    {
      "metadata": {
        "trusted": true
      },
      "cell_type": "code",
      "source": "#Resolución\n\n#Paso 1 Declaremos variables usando ufloat\n\nconduc_molar_limite_PbNO32 = ufloat( 0.028,0.001)\nconduc_molar_limite_K2SO4 = ufloat( 0.031,0.0001)\nconduc_molar_limite_KNO3 = ufloat( 0.0145,0.0001)\nconduc_PbSO4_Saturado = ufloat (0.00325, 0.00001)\n                              \n##Paso 2 Calculamos la conductividad molar límite del sulfato de plomo saturado usando la ecuación (5) y las varibales\n##declaradas en el paso 1\nconduc_molar_limite_PbSO4 =  conduc_molar_limite_K2SO4 + conduc_molar_limite_PbNO32 - 2* conduc_molar_limite_KNO3 \n                                    \nprint(conduc_molar_limite_PbSO4)\n",
      "execution_count": null,
      "outputs": []
    },
    {
      "metadata": {
        "trusted": true
      },
      "cell_type": "code",
      "source": "#Ya tenemos la conductividad molar límite del Sulfato de Plomo\n\n#Paso 3 Calcular kps según (4)\n\nKps = pow(conduc_PbSO4_Saturado / conduc_molar_limite_PbSO4 , 2)\n\nprint(Kps)",
      "execution_count": null,
      "outputs": []
    },
    {
      "metadata": {},
      "cell_type": "markdown",
      "source": "Te estaras preguntanto por que esa Kps es tan alta! Que recordabas de Cuali o Analítica, que las Kps eran cantidades muy bajas!\nY sí, tenés razón, a esa Kps ha que dividirla entre 1000 ( unidades SI y convención), sin embargo con esto hemos ejemplificado un gran ejemplo como aplicación!"
    },
    {
      "metadata": {},
      "cell_type": "markdown",
      "source": "# Ejemplo 3. Viscosidad de  butanol puro.\n\nEste problema se trabajará totalmente en unidades SI.\n\nEn el bloque de Fenómenos de Transferencia y Fuerzas Intermoleculares, usted medirá la viscosidad de varios líquidos y mezclas, usando un viscosímetro de Ostwald.\n\nEn este [vídeo](https://www.youtube.com/watch?v=N5QT2DSoTjo) o este [video](https://www.youtube.com/watch?v=tH38pt673GU) podes ver su funcionamiento.\n\nPara medir la viscosidad de líquidos, se compara con un líquido de referencia ( un líquido de referencia es aquel que sus propiedades han sido estudiandas extensivamente y se conocen con gran certidumbre). Por lo general el líquido de referencia es el peligroso monoxido de dihidrogeno ( pH 7 o.O ) <br>\n\nLa ecuación de viscosidad viene dada por: <br>\n* $\\eta$ representa la visosidad,\n* __tiempo__ representa el tiempo que tarda el líquido en pasar por las marcas A y B del viscosímetro ( ver vídeos)  \n* $\\rho$ densidades <br>\n\n$$ \\frac{\\eta_{Líquido de interés}}{\\eta_{Agua}} = \\frac{\\rho_{líquido de interés} * tiempo_{líquido interés}}{\\rho_{agua} * tiempo_{agua}} (1) $$\n\nGenial! Ahora despejemos la viscosidad del líquido de insterés ( en este caso butanol) <br>\n\n$$ \\eta_{butanol} = {\\eta_{Agua}} * \\frac{\\rho_{líquido de interés} * tiempo_{líquido interés}}{\\rho_{agua} * tiempo_{agua}} (2) $$\n\n\n"
    },
    {
      "metadata": {},
      "cell_type": "markdown",
      "source": "#### Datos Agua\nUsted primero introducirá 10 mL de agua en el viscosímetro. <br>\nPosteriormente medirá cuanto tiempo dura el agua en caer dentro del capilar del viscosímetro ( Ir de A hasta B). <br>\nEste paso se conoce como calibración de viscosímetro <br>\n\nUn grupo de estudiantes de Fisicoquímica realizó el experimento y tuvo como resultado que el agua tardó\n$ tiempo_{agua} = 29.35 \\pm 0.01 s $ <br>\n\nAsí mismo, en Tablas Tabuladas encontraron que la densidad del agua a Tempertura ambiente es <br>\n$\\rho_{agua}= 997.538 \\pm 0.002 \\frac{Kg}{m^{3}} $ <br>\n\nSu viscosidad según referencias de literatura es de \n$\\eta_{agua} = 0,000891 \\pm 0.000002 \\frac{Kg}{m*s} $ <br>\n\nEn resumen para el agua <br>\n$ tiempo_{agua} = 29.35 \\pm 0.01 s $ <br>\n$\\rho_{agua}= 997.538 \\pm 0.002 \\frac{Kg}{m^{3}} $ <br>\n$\\eta_{agua} = 0,000891 \\pm 0.000002 \\frac{Kg}{m*s} $ <br>"
    },
    {
      "metadata": {},
      "cell_type": "markdown",
      "source": "### Datos Butanol\n\nUna vez calibrado el viscosimetro. <br>\nProcede hacer mediciones con su líquido de interés. <br>\n\nUsted introduce 10 mL de butanol en el viscosímetro y mide los tiempos.\nEl tiempo despues de tres réplicas es\n$ tiempo_{butanol} = 100 s $\n\nPor último, usted mide la densidad del butanol midiendo en balanza cuanta masa se necesita para llenar un objeto cuyo  volumen de 25 mL. Para esto, usted procede hacer el cálculo por diferencia. <br>\n\nYa que, sabemos que la densidad de cualquier objeto o materia viene dada por:\n$$ \\rho_{butanol} = \\frac{masa_{butanol}}{V_{butanol}} (3)$$\n\nMide primero mide la masa por diferencia en balanza analítica.\n$ masa_{objeto vacio} = 28,9990 \\pm 0.0001  $ <br>\n$ masa_{objeto lleno de butanol} = 50.1922  \\pm 0.0001 $ <br>\n\nPor lo tanto la masa de butanol es\n<br> masa_{butanol} = masa_{objeto lleno de butanol} - masa_{objeto vacio} <br>\n\nPor último, sabe que el objeto donde introdujo el volumen de butanol tiene un volumen de 25.000 mL con incertidumbre de 0.002."
    },
    {
      "metadata": {},
      "cell_type": "markdown",
      "source": "#### Ejercicio. Calcule la densidad del butanol.\n\nPara esto vaya paso a paso."
    },
    {
      "metadata": {},
      "cell_type": "markdown",
      "source": "##### Paso 1. Según la ecuación (3) necesita la masa del butanol ( que es una diferencia de masas) y volumen.\nPor lo tanto declares las 3 variables usando ufloat() en la siguiente celda"
    },
    {
      "metadata": {
        "trusted": true
      },
      "cell_type": "code",
      "source": "# Resulva acá",
      "execution_count": null,
      "outputs": []
    },
    {
      "metadata": {},
      "cell_type": "markdown",
      "source": "##### Paso 2. Calcule la densidad de butanol y su incertidumbre combinando las tres variables anteriores.\nGuarde el resultado en densidad_butanol"
    },
    {
      "metadata": {
        "trusted": true
      },
      "cell_type": "code",
      "source": "# Resulva acá",
      "execution_count": null,
      "outputs": []
    },
    {
      "metadata": {},
      "cell_type": "markdown",
      "source": "##### Paso 3. Convierta su densidad de g/mL a unidades $SI Kg/m^{3}$\nGuarde este resultado en __densidad_SI__ <br>\n\n¿Al hacer la conversión la incertidumbre automáticamente cambio? <br>\nPara ver si hubo cambio imprima la variable que acab de definir __densidad_SI__ <br>"
    },
    {
      "metadata": {
        "trusted": true
      },
      "cell_type": "code",
      "source": "# Resulva acá",
      "execution_count": null,
      "outputs": []
    },
    {
      "metadata": {},
      "cell_type": "markdown",
      "source": "##### Ejercicio. Cálculo de viscosidad de butanol\n\nUtilice los datos suministrados anteriormente para el agua, tiempo de butanol y la densidad de butanol recién calculada para calcular la viscosidad del butanol según la ecuación (2) <br>\n\nPara esto\n\n1. Declare variables con ufloat()  ( Son 5 variables según la ecuación 2) <br>\n2. Programe la ecuación (2) empleando las variables recién declaradas , guardando el resultado en viscosidad_butanol <br>\n3. Imprima resultados"
    },
    {
      "metadata": {
        "trusted": true
      },
      "cell_type": "code",
      "source": "# Declare variables",
      "execution_count": null,
      "outputs": []
    },
    {
      "metadata": {
        "trusted": true
      },
      "cell_type": "code",
      "source": "# Programar ecuación (2)",
      "execution_count": null,
      "outputs": []
    },
    {
      "metadata": {
        "trusted": true
      },
      "cell_type": "code",
      "source": "# Imprimir resultados",
      "execution_count": null,
      "outputs": []
    },
    {
      "metadata": {},
      "cell_type": "markdown",
      "source": "[Volver al índice](https://notebooks.azure.com/jeff0994/libraries/QU-0560-1-1/html/01Introducci%C3%B3n-Indice.ipynb)"
    },
    {
      "metadata": {
        "trusted": true
      },
      "cell_type": "code",
      "source": "",
      "execution_count": null,
      "outputs": []
    }
  ],
  "metadata": {
    "kernelspec": {
      "name": "python36",
      "display_name": "Python 3.6",
      "language": "python"
    },
    "language_info": {
      "mimetype": "text/x-python",
      "nbconvert_exporter": "python",
      "name": "python",
      "pygments_lexer": "ipython3",
      "version": "3.6.6",
      "file_extension": ".py",
      "codemirror_mode": {
        "version": 3,
        "name": "ipython"
      }
    }
  },
  "nbformat": 4,
  "nbformat_minor": 2
}