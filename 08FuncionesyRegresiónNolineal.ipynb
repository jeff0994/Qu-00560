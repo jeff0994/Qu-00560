{
  "cells": [
    {
      "metadata": {
        "collapsed": true
      },
      "cell_type": "markdown",
      "source": "# Universidad de Costa Rica\n\n## Facultad de Ciencias\n\n## Escuela de Química\n\n## Sección de Fisicoquímica\n\n## Qu-0560 Tópicos de Química Física: Herramientas Computacionales para Química\n\n### Profesor Gutierrez\n### Asistente no oficial: Yefry López"
    },
    {
      "metadata": {},
      "cell_type": "markdown",
      "source": "# Objetivos\n\nEn esta hoja usted aprenderá\n\n* Como crear funciones para automatizar cálculos\n* Emplear el paquete de Scipython para optimizar funciones no lineales\n* Usar el paquete Gecko para optimizar los parámetros funciones no lineales\n"
    },
    {
      "metadata": {},
      "cell_type": "markdown",
      "source": "Por ahora has aprendi a crear código básico para resolver problemas sencillos desde calcular el área de un triangulo o calculas un densidad por ejemplo <br>\n\nAsí mismo, usando paquetes externos, haz aprendido a realizar calculos mas complejos!. Recordá que dentro de los paquetes hay código que una tercera persona creó y automatizó para ti! <br>\n\nEn esta hoja aprenderas a realizar algo similar, usando el conceptos de funciones! <br>\n\nSí , aprenderás a identificar funciones y crear tus propias funciones para automatizar problemas! <br>\n\n\n\n"
    },
    {
      "metadata": {},
      "cell_type": "markdown",
      "source": "## ¿ Que es una función?\n\n![funci%C3%B3n.PNG](attachment:funci%C3%B3n.PNG)",
      "attachments": {
        "funci%C3%B3n.PNG": {
          "image/png": "[encoded data removed]"
        }
      }
    },
    {
      "metadata": {},
      "cell_type": "markdown",
      "source": "Veamoslo con el diagrama anterior! <br>\n\nUna función son lineas de código que cumplen un objetivo! La función toma una entrada ( datos), los evalua dentro de la función y produce una salida o datos de salida  , un cambio!<br>.\n\nRegresemos a nuestras clases amadas de matemática elemental! <br>\n\nPor ejemplo aprendiste de la función lineal! <br>\n\n$$ y(x) = mx + b $$\n\nLa variable dependiente era y, la independiente es x y teniamos además dos parámetros m y b. <br>\n\nSupón que , deseamos evaluar la función lineal con x = 3 y así mismo sabemos que los parámetros m y b son 2 y 5 respectivamente. <br>\n\nNuestra entrada es <br>\n\nx = 3 <br>\nm = 2 <br>\nb = 5 <br>\n\nEsa entrada la vamos a introducir en la función y(x) = mx+ b\n\nEvaluación\n$$y(3) = 2*3 + 5 = 11 $$ \n\n\nQue claramente produce un output de 11 <br>\n\nPor lo tanto nuestra salida es <br>\n\nsalida = 11 <br>\n\n"
    },
    {
      "metadata": {},
      "cell_type": "markdown",
      "source": "Lo anterior es la idea esencial para las funciones cuando programamos. <br>\n\nVos tenes uno datos (entrada) que queres convertir en una salida específica para resolver tu problema! <br>\n\nPor lo tanto, para automatizar, crearás código dentro de una función <br>\n\nCon una función creada, en el escenario que tengas que resolver algún problema similar, ya no tenes que escribir código, simplemente usas las función que creaste y listo! <br>\n\nA estos se le conoce como programación funcional! <br>\n\nDe hecho, en casi todas las clases anteriores has estado usando funciones de terceros <br>"
    },
    {
      "metadata": {},
      "cell_type": "markdown",
      "source": "## Funciones construidas en Python que ya usaste"
    },
    {
      "metadata": {},
      "cell_type": "markdown",
      "source": "La función __len()__\n\nLa función len() toma una string como entrada, cuenta cuantos caracterés tiene dicha string y como salida de da el número de caracteres"
    },
    {
      "metadata": {
        "trusted": true
      },
      "cell_type": "code",
      "source": "entrada  = \"Ecuación diferencial\"\nlen(entrada)",
      "execution_count": null,
      "outputs": []
    },
    {
      "metadata": {},
      "cell_type": "markdown",
      "source": "Considere la siguiente lista!\n\nNotas = [77, 70 , 84 , 45 , 55 , 36 , 68 , 90 , 77 , 62 , 62 ,62 ,68 ,86 ,45 100]\n\nRepresentan las notas de cierto grupo de fisicoqúímica de hace una decada.\n\n¿Cuantos estudiantes hicieron el examen?"
    },
    {
      "metadata": {
        "trusted": true
      },
      "cell_type": "code",
      "source": "entrada = [77, 70 , 84 , 45 , 55 , 36 , 68 , 90 , 77 , 62 , 62 , 62 ,68 ,86 ,45 , 100]\nlen(entrada)",
      "execution_count": null,
      "outputs": []
    },
    {
      "metadata": {},
      "cell_type": "markdown",
      "source": "El output fue de 16 estudiantes!\n\nNosotros podemos guardar los outputs en nuevas variables!\n\nPor ejemplo "
    },
    {
      "metadata": {
        "trusted": true
      },
      "cell_type": "code",
      "source": "Cantidad = len(entrada)",
      "execution_count": null,
      "outputs": []
    },
    {
      "metadata": {
        "trusted": true
      },
      "cell_type": "code",
      "source": "Cantidad",
      "execution_count": null,
      "outputs": []
    },
    {
      "metadata": {},
      "cell_type": "markdown",
      "source": "¿Que tal si queres saber la suma de cada elemento dentro de esa lista?\n\nEmpleamos la función __sum__\n\nDe nuestro nuestro input es la lista, nuestra función es sum y el output será la suma de los elementos de dicha lista.\nGuardemos dicho output en la variable suma y usemos la función __print()__ para imprimir en pantalla el resultado.\n\nEn resumen:\n\nLlamamos a la función sum y la evaluamos con la lista  cuyo nombre es entrada\nsum() actua y hace lo siguiente\n\n suma 77 + 70 + 84 + 45 + 55 + 36 + 68 + 90 + 77 + 62 + 62 + 62 + 68 + 86 + 45 + 100"
    },
    {
      "metadata": {
        "trusted": true
      },
      "cell_type": "code",
      "source": "suma = sum(entrada)\nprint(suma)",
      "execution_count": null,
      "outputs": []
    },
    {
      "metadata": {
        "trusted": true
      },
      "cell_type": "code",
      "source": "¿Podes sacarle el promedio?",
      "execution_count": null,
      "outputs": []
    },
    {
      "metadata": {
        "trusted": true
      },
      "cell_type": "code",
      "source": "#Resuelve acá",
      "execution_count": null,
      "outputs": []
    },
    {
      "metadata": {},
      "cell_type": "markdown",
      "source": "## Diferencia entre métodos y funciones"
    },
    {
      "metadata": {},
      "cell_type": "markdown",
      "source": "Como aprendiste en los primeros módulos cada primitiva tiene sus propios métodos. <br>\nDe hecho, es muy común preguntarse ¿ okey cual es la diferencia entre un método y una función?  <br>\n\nPara ejemplificar estos, hagamos una comparación entre el método __.sort()__  (recuerdas ese punto?) y la función __sorted()__\n\nPara esto emplearemos la lista llamada __datos__\n\ndatos = [8.9 , 9.0 , 7.5 ,8.8 ,9.1 ,7.9 ,8.3 ,8.4 , 8.8]\n\nNuestra misión es acomodar dicha lista de menor a mayor"
    },
    {
      "metadata": {
        "trusted": true
      },
      "cell_type": "code",
      "source": "datos = [8.9 , 9.0 , 7.5 ,8.8 ,9.1 ,7.9 ,8.3 ,8.4 , 8.8]",
      "execution_count": null,
      "outputs": []
    },
    {
      "metadata": {},
      "cell_type": "markdown",
      "source": "#### Empleando la función sorted()"
    },
    {
      "metadata": {
        "trusted": true
      },
      "cell_type": "code",
      "source": "datos_ordenados = sorted(datos)",
      "execution_count": null,
      "outputs": []
    },
    {
      "metadata": {},
      "cell_type": "markdown",
      "source": "Sí preguntamos por datos_ordendados, obtenemos una nueva lista con los datos de la lista original, ordenados"
    },
    {
      "metadata": {
        "trusted": true
      },
      "cell_type": "code",
      "source": "datos_ordenados",
      "execution_count": null,
      "outputs": []
    },
    {
      "metadata": {},
      "cell_type": "markdown",
      "source": "Si preguntamos por la lista original __datos__ no ha cambiando nada!"
    },
    {
      "metadata": {
        "trusted": true
      },
      "cell_type": "code",
      "source": "datos",
      "execution_count": null,
      "outputs": []
    },
    {
      "metadata": {},
      "cell_type": "markdown",
      "source": "De forma general, las funciones toman un input, que transforman a un output!. <br>\nEl input nunca es cambiando! Las funciones toman el input como materia prima para producir el output, pero eso no afecta las varaibles origianles de la entrada <br>"
    },
    {
      "metadata": {},
      "cell_type": "markdown",
      "source": "Sí, usamos el método .sort()\n\nMira lo que pasa!"
    },
    {
      "metadata": {
        "trusted": true
      },
      "cell_type": "code",
      "source": "datos.sort()",
      "execution_count": null,
      "outputs": []
    },
    {
      "metadata": {
        "trusted": true
      },
      "cell_type": "code",
      "source": "datos",
      "execution_count": null,
      "outputs": []
    },
    {
      "metadata": {},
      "cell_type": "markdown",
      "source": "Lo viste? Los datos apecieron ya ordenados!\n\nA diferencia del caso anterior, la lista contenida en datos, al ser pasada por el método .sort() si ha cambiado!"
    },
    {
      "metadata": {},
      "cell_type": "markdown",
      "source": "## ¿Como programar tus propias funciones en Python?"
    },
    {
      "metadata": {},
      "cell_type": "markdown",
      "source": "Este es un ejemplo de como definir una función en Python!"
    },
    {
      "metadata": {
        "trusted": true
      },
      "cell_type": "code",
      "source": "def sumar1(a):\n    b = a + 1\n    \n    return b",
      "execution_count": null,
      "outputs": []
    },
    {
      "metadata": {},
      "cell_type": "markdown",
      "source": "Esta es una función que a un parámetro a (entrada) le suma una cantidad de 1 y lo guarda en la variable b.\n\nEl output o salida es b\n\nOsea basicamente, le sumas 1 a un número."
    },
    {
      "metadata": {},
      "cell_type": "markdown",
      "source": "![funci%C3%B3n2.PNG](attachment:funci%C3%B3n2.PNG)",
      "attachments": {
        "funci%C3%B3n2.PNG": {
          "image/png": "[encoded data removed]"
        }
      }
    },
    {
      "metadata": {},
      "cell_type": "markdown",
      "source": "### 1. Toda función inicia con def\n\nToda función inica con la palabra __def__ es una palabra reservada en Python! <br>\n\nSí querés crear una función, sí o sí, debe comenzar con def! <br>\n\n¿Que es una palabra reservada? <br>\nSon palabras que los creadores de un lenguaje de programación difinieron de tal modo que no se pueden usar como variables o nombres.\n\nPor ejemplo"
    },
    {
      "metadata": {
        "trusted": true
      },
      "cell_type": "code",
      "source": "def = 3",
      "execution_count": null,
      "outputs": []
    },
    {
      "metadata": {},
      "cell_type": "markdown",
      "source": "Te tiró erros verdad?\n\n__def__ al ser una palabra reservada, no se puede utilizar \n\nDe hecho, sí lo notaste, al escribir __def__ en una celda de tipo código, tiene un color distintivo!"
    },
    {
      "metadata": {},
      "cell_type": "markdown",
      "source": "### 2. Pon el nombre a tu función.\n\nDespues de usar la palabra def, debes escribir el nombre de tu función! <br>\nDicho nombre debe ser lo suficientemete claro, para que se entienda que hace tu función! <br>"
    },
    {
      "metadata": {},
      "cell_type": "markdown",
      "source": "### 3. Parámetros.\n\nDespues de nombre, continuas con los parámetros separados por coma y entre paréntesis. <br>\n\nUn parámetro es un valor que la función espera recibir cuando sea llamada (invocada), a fin de ejecutar acciones en base al mismo. Una función puede esperar uno o más parámetros (que irán separados por una coma) o ninguno.\n\nDichos parámetros, serán las entradas para tu función! <br>\n\nRecuerda poner los dos puntos al final! <br>\n\nPor ejemplo <br>\n\n* def sumar_dos_numeros(a,b): <br>\n\n* def sumar_dos_numeros(a,b) <br>\n\nEn el primer encabezado, vemos que todo está perfecto, pero en el segundo hacen falta los dos puntos.... <br>\n\nSi construis una función de esa manera, Python te va tirar error.... Así que recuerda, SIEMPRE PON LOS DOS PUNTOS. <br>"
    },
    {
      "metadata": {},
      "cell_type": "markdown",
      "source": "### 4. Cuerpo de tu función! \n\nInmediato que escribas los dos puntos, debes escribir el cuerpo de tu función! <br>\n\nLa parte que toma los inputs y los transforma en alguna salida, empleando el código que definas! <br>\n\n<font color='red'>Importante el cuerpo de tu función debe estar indentado a tu encabezado</font> <br>\n\nQue significa estar indentado? <br>\n\nSignifica que tu argumento debe estar al menos 4 espacios adelante de tu encabezado.<br>\n\nPor ejemplo para el siguien encabezado <br>\n\n<font color='green'> def función_ejemplo(a,b): </font> <br>\n    * Argumento \n    * Argumento \n    * Argumento \n    \nVés que las tres palabras __argumento__ no están al inicio de cada linea? ¿Sinó tienen cierto espacio con respecto al inicio? <br>\n\nA eso se llama estar indentado <br>\n\nLa indentación sirve para indicarle a Python estructuras de código dependientes a otras estructuras de código de mayor jerarquía!<br>\n\n¿Que pasa sinó indento? <br>\n  "
    },
    {
      "metadata": {
        "scrolled": true,
        "trusted": true
      },
      "cell_type": "code",
      "source": "def suma(a,b):\nc = a + b\nreturn c",
      "execution_count": null,
      "outputs": []
    },
    {
      "metadata": {},
      "cell_type": "markdown",
      "source": "Python te tiró error! <br>\n\nMira lo que el error dice <br>\n\n_IndentationError: expected an indented block_ <br>\n\n\nYa definiste una función, Python espera que dicha función tenga un argumento o código dependiente a dicha función. <br>\n\nAl no ver al indentación, Python no sabe como proceder y por tanto te tira error <br>\n\nArreglemos el error! <br>"
    },
    {
      "metadata": {
        "trusted": true
      },
      "cell_type": "code",
      "source": "def suma(a,b):\n    c = a + b\n    return c",
      "execution_count": null,
      "outputs": []
    },
    {
      "metadata": {},
      "cell_type": "markdown",
      "source": "Listo!"
    },
    {
      "metadata": {},
      "cell_type": "markdown",
      "source": "## Ya programé mi función. ¿Como la puedo usar?\n\nMediante una llamada! <br>\n\nPara llama una función, simplemente escribir el nombre de la función y adjuntas cuales parámetros queres que se evaluen! <br>\n\nPor ejemplo, hasta ahora hemos definidos dos funciones! <br>\n\n* Función sumar1(a) <br>\n* Función suma(a,b) <br>\n\nLlamemosla!\n\nSupón que a = 5 y b = 10"
    },
    {
      "metadata": {
        "trusted": true
      },
      "cell_type": "code",
      "source": "sumar1(5)",
      "execution_count": null,
      "outputs": []
    },
    {
      "metadata": {},
      "cell_type": "markdown",
      "source": "Al llamar la función __sumar1__ y evaluarla en a = 5, nuestro output es 6 <br>\n\nLo que era de esperar! <br>"
    },
    {
      "metadata": {
        "trusted": true
      },
      "cell_type": "code",
      "source": "suma(5,10)",
      "execution_count": null,
      "outputs": []
    },
    {
      "metadata": {
        "trusted": true
      },
      "cell_type": "code",
      "source": "#Podemos imprimir ambos resultados a la vez\n\nprint(sumar1(5))\nprint(suma(5,10))",
      "execution_count": null,
      "outputs": []
    },
    {
      "metadata": {},
      "cell_type": "markdown",
      "source": "TIP. <br>\nRecuerda que Python sigue reglas!<br>\n\nA como definas los parámetros al contruir tu función, así deben ir cuando la llames.<br>"
    },
    {
      "metadata": {},
      "cell_type": "markdown",
      "source": "Sí volmemos a llamar la función suma con diferentes parámetros, todo sucede igual tras bambalinas. <br>\n\nLa diferencia está en que los parámetros a y b ahora son diferentes, por tanto distinta salida <br>"
    },
    {
      "metadata": {
        "trusted": true
      },
      "cell_type": "code",
      "source": "suma(15,20)",
      "execution_count": null,
      "outputs": []
    },
    {
      "metadata": {},
      "cell_type": "markdown",
      "source": "### Multiples Parámetros\n\nUna función, puede tener multiples parámetros.\n\nPor ejemplo creemos una función qu multiplique tres  número a,b,c"
    },
    {
      "metadata": {
        "trusted": true
      },
      "cell_type": "code",
      "source": "def multiplicar_3_numeros(a,b,c):\n    return a*b*c",
      "execution_count": null,
      "outputs": []
    },
    {
      "metadata": {
        "trusted": true
      },
      "cell_type": "code",
      "source": "multiplicar_3_numeros(2,5,4)",
      "execution_count": null,
      "outputs": []
    },
    {
      "metadata": {},
      "cell_type": "markdown",
      "source": "O con __print()__"
    },
    {
      "metadata": {
        "trusted": true
      },
      "cell_type": "code",
      "source": "print(multiplicar_3_numeros(2,5,4))",
      "execution_count": null,
      "outputs": []
    },
    {
      "metadata": {
        "trusted": true
      },
      "cell_type": "code",
      "source": "El resultado fue un nuevo integer!\n\nLo que esperábamos!",
      "execution_count": null,
      "outputs": []
    },
    {
      "metadata": {},
      "cell_type": "markdown",
      "source": "### Documentando tus funciones.\n\nUna buena práctica de programación es que documentes tus funciones. <br>\nEs decir, que agregues texto indicando que hace cada función y dando lineas explicativas paso a paso, por si algún tercero la usa, puede enteder su fin y código. <br>\n\nPara documentar, usas comillas triples <br>"
    },
    {
      "metadata": {
        "trusted": true
      },
      "cell_type": "code",
      "source": "def multiplicar_3_numeros(a,b,c):\n    '''Función que toma tres números a ,\n       b c y provoca una salida , resultando en la multiplicación de dichos enteros\n    '''\n    \n    return a*b*c",
      "execution_count": null,
      "outputs": []
    },
    {
      "metadata": {},
      "cell_type": "markdown",
      "source": "Las triples comillas, Python las ignorará y entenderá que vos las pusiste como forma de documentar tu función!"
    },
    {
      "metadata": {},
      "cell_type": "markdown",
      "source": "### Funciones que no retornan ningún valor"
    },
    {
      "metadata": {},
      "cell_type": "markdown",
      "source": "La palabra __return__ dentro de una función indica a Python la salida que provocará la función.\n\nHay casos donde el valor del return es __NONE__ osea no retorna ninguna valor\n\nVeamos una función"
    },
    {
      "metadata": {
        "trusted": true
      },
      "cell_type": "code",
      "source": "def Química_Física():\n        print(\"Química vs Física\")",
      "execution_count": null,
      "outputs": []
    },
    {
      "metadata": {},
      "cell_type": "markdown",
      "source": "La función anterior __Química_Física()__ es una función que no tiene ningún parámetro y que no retorna ningun valor ( Como lo sabemos? No tiene la palabra __return__ dentro de la función.\n\n"
    },
    {
      "metadata": {
        "trusted": true
      },
      "cell_type": "code",
      "source": "Química_Física()",
      "execution_count": null,
      "outputs": []
    },
    {
      "metadata": {},
      "cell_type": "markdown",
      "source": "Sí bien imprimie un valor en pantalla, la función no retorna nada. <br>\n\nPaa darnos cuenta, sólo hace falta llamar a la función dentro de la función print() <br>"
    },
    {
      "metadata": {
        "trusted": true
      },
      "cell_type": "code",
      "source": "print(Química_Física())",
      "execution_count": null,
      "outputs": []
    },
    {
      "metadata": {},
      "cell_type": "markdown",
      "source": "Provocando un None. <br>\n\nIndicativo que no retorna nada. <br>"
    },
    {
      "metadata": {},
      "cell_type": "markdown",
      "source": "Mira otra función. <br>\n\nPero esta vez usaremos dentro de su cuerpo, la palabra reservada __pass__ <br>\n\n__pass__ lo que hace es simplemente el indicativo de continuar o ignorar. <br>"
    },
    {
      "metadata": {
        "trusted": true
      },
      "cell_type": "code",
      "source": "def No_Hace_Nada():\n    pass",
      "execution_count": null,
      "outputs": []
    },
    {
      "metadata": {
        "trusted": true
      },
      "cell_type": "code",
      "source": "print(No_Hace_Nada())",
      "execution_count": null,
      "outputs": []
    },
    {
      "metadata": {},
      "cell_type": "markdown",
      "source": "En resumen, sí dentro del a función no incluís el ___return___ <br>\n\nPYthon automaticamente asignará el valor __None__  <br>"
    },
    {
      "metadata": {},
      "cell_type": "markdown",
      "source": "#### Modifiquemos un poco nuestra función sumar1() que programamos hace poco.\n\nSerá casi la misma, pero vamos agregarle un print() dentro del cuerpo de la función"
    },
    {
      "metadata": {
        "trusted": true
      },
      "cell_type": "code",
      "source": "def sumar1(a):\n    b = a + 1\n    print(a, \"mas 1 es igual a\",b )\n    return b",
      "execution_count": null,
      "outputs": []
    },
    {
      "metadata": {},
      "cell_type": "markdown",
      "source": "Llamemos la función con el valor 2"
    },
    {
      "metadata": {
        "trusted": true
      },
      "cell_type": "code",
      "source": "sumar1(2)",
      "execution_count": null,
      "outputs": []
    },
    {
      "metadata": {},
      "cell_type": "markdown",
      "source": "Veamos que sucedio paso a paso! <br>\nRecuerda que Python es un lenguaje que va linea por linea, leyendo y produciendo resultados según tus códigos <br>\n\n* Llamamos la función mediante sumar1(2) <br>\n* La función asigna a a = 1 <br>\n* Por lo tanto b = 1 + 1 = 2 <br>\n* La siguiente linea es un print() , por lo tanto en pantalla aparecerá el valor de dicha impresión\n* Por último, Python observa el return, y provoca la salida del return\n\nprint() no intenfiere en el return, el simplemente se ejecuta.\nEn última instancia  la salida viene del return."
    },
    {
      "metadata": {},
      "cell_type": "markdown",
      "source": "#### Alcance de las variables definidas dentro de las funciones.\n\nLas variables que definas dentro de una función, sólo exiten dentro de dicha función!\nUna vez que la llamada de la función se cumple y termina, todas las variables que se encontraban dentro del cuerpo de la función dejan de existir <br>.\n\nVeamos un ejemplo con la función sumar(a,b) que definimos <br>"
    },
    {
      "metadata": {
        "trusted": true
      },
      "cell_type": "code",
      "source": "def suma(a,b):\n    c = a + b\n    return c",
      "execution_count": null,
      "outputs": []
    },
    {
      "metadata": {
        "trusted": true
      },
      "cell_type": "code",
      "source": "a = 2\nb = 7",
      "execution_count": null,
      "outputs": []
    },
    {
      "metadata": {
        "trusted": true
      },
      "cell_type": "code",
      "source": "Corramos c",
      "execution_count": null,
      "outputs": []
    },
    {
      "metadata": {
        "trusted": true
      },
      "cell_type": "code",
      "source": "c",
      "execution_count": null,
      "outputs": []
    },
    {
      "metadata": {},
      "cell_type": "markdown",
      "source": "Te va a tirar error, pues c es una variable que existe sólo dentro de la función sumar(a,b), su alcance unicamente se limita a que cuando llames a la función sumar(a,b), a función creará una variable momentanea llamada c, para retornar dicho valor. <br>\n\nDespues dejará de existir <br>"
    },
    {
      "metadata": {},
      "cell_type": "markdown",
      "source": "### Resumen\n\nPara repasar, podes ver el siguiente [video](http://videos.bigdatauniversity.com/PY0101EN/videos/PY0101EN%20-%20Functions.mp4)\n\nIgnora todo lo relacionado con loops. <br>\n\nLoops para efectos de este tutorial introductorio se encuentra fuera del alcance. <br>"
    },
    {
      "metadata": {},
      "cell_type": "markdown",
      "source": "### Ejemplos y ejercicios"
    },
    {
      "metadata": {},
      "cell_type": "markdown",
      "source": "#### 1. Programe una función que calcule el área de un circulo.\nRealice pruebas con los siguientes radios 1.1 , 2.3 ,4.5 y 5.7\n"
    },
    {
      "metadata": {},
      "cell_type": "markdown",
      "source": "###### Resolución\n\nPlanteo\n\nSabemos que el área del circulo está dado por\n$$ A = \\pi * r^{2} $$\nUna función sencilla con una párametro r , representando al radio."
    },
    {
      "metadata": {
        "trusted": true
      },
      "cell_type": "code",
      "source": "# Resolución 1\nimport math\n\ndef area_circulo_1(r):\n    return math.pi*(r**2)",
      "execution_count": null,
      "outputs": []
    },
    {
      "metadata": {
        "trusted": true
      },
      "cell_type": "code",
      "source": "# Resolución 2\n\ndef area_circulo_2(r):\n    area = math.pi*(r**2)\n    return area",
      "execution_count": null,
      "outputs": []
    },
    {
      "metadata": {},
      "cell_type": "markdown",
      "source": "Tenemos dos resoluciones! <br>\n\nEn la primera, sabiendo la fórmula del área del circulo , simplemente retornamos dicha formular. <br>\n\nEn la segunda, primero definimos una variable intermedia, llamada area que guarda la formula en la variable, posterior, retornamos dicha variable. <br>\n\nAmbas soluciones son equivalentes. <br>\n\nPero para efectos de código eficiente, la primera es preferible! <br>\n\nSin embargo, recuerda, si te cuesta plantear una función, ve poco a poco declarando variables <br>"
    },
    {
      "metadata": {},
      "cell_type": "markdown",
      "source": "Ahora podemos hacer la prueba con los diferentes radios , llamando la función las veces necesario.\n\n"
    },
    {
      "metadata": {
        "trusted": true
      },
      "cell_type": "code",
      "source": "r1 =  1.1\nr2 = 2.3\nr3 = 4.5\nr4 = 5.7\n\narea_1 = area_circulo_1(r1)\narea_2 = area_circulo_1(r2)\narea_3 = area_circulo_1(r3)\narea_4 = area_circulo_1(r4)\n\nprint(\"El area del circulo cuyo radio es\" , r1 , \"es\" ,area_1)\nprint(\"El area del circulo cuyo radio es\" , r2 , \"es\" ,area_2)\nprint(\"El area del circulo cuyo radio es\" , r3 , \"es\" ,area_3)\nprint(\"El area del circulo cuyo radio es\" , r4 , \"es\" ,area_4)\n",
      "execution_count": null,
      "outputs": []
    },
    {
      "metadata": {},
      "cell_type": "markdown",
      "source": "TIP. Recuerda que print puede usarse de diferentes formas.\n\nPor ejemplos la notación que separa texto de las variables por medio de coma.\nO la notación que separa texto de la variable concatenando! (Acá tenes que convertir todo a string mediante la funciòn str())\n\n"
    },
    {
      "metadata": {
        "trusted": true
      },
      "cell_type": "code",
      "source": "print(\"El area del ciruculo cuyu radio es \" + str(r1) + \" es \" + str(area_1))",
      "execution_count": null,
      "outputs": []
    },
    {
      "metadata": {},
      "cell_type": "markdown",
      "source": "En la pasada celda, tenemos el mismo output, unicamente agregamos texto concatenando con el símbolo \"+\" y conviritiendo las variables float en strings mediante la función str()."
    },
    {
      "metadata": {},
      "cell_type": "markdown",
      "source": "#### 2.La distancia de dos puntos en coordenadas cartesianas $(x_{0},y_{0})$ y $(x_{1},y_{1})$ se puede calcular mediante la siguiente expresión\n\n$$ distancia = \\sqrt{  (x_{0} - x_{1} )^{2} + (y_{0} - y_{1})^{2}} $$\n\nPrograme una función que calcule la distancia entre cualesquiera dos puntos del espacio cartesiano.\n\nRealice pruebas con los puntos \n\n* (1,2) y (5,4)\n* (8,9) y (6,7)\n* (13,9) y (4,2)\n"
    },
    {
      "metadata": {},
      "cell_type": "markdown",
      "source": "###### Resolución Trate de entender cada una\nLea los comentarios en las celdas code\n\nNecesitamos una función que acepte 4 parámetros para los puntos ($x_{0},y_{0}$) y ($x_{0},y_{1}$) <br>\nO una función que acepto dos parámetros , cada uno representando una lista de dos elementos)\n\n$x{0}$ representando el inicio en x ( x0) <br>\n$x{1}$ representando el final en x ( x1) <br>\n$y{0}$ representando el inicio en y ( y0) <br>\n$y{1}$ representando el final en y ( y1) <br>"
    },
    {
      "metadata": {
        "trusted": true
      },
      "cell_type": "code",
      "source": "# Resolución 1\nimport math # Para calcular la raiz cuadrada de forma mas sencilla\ndef distancia_entre_dos_puntos(x0,y0,x1,y1):\n    \n    #Empleamos la función del modulo de math math.sqrt para cacular la raiz cuadrada de una cantidad.\n    # Dentro de la raiz, usamos la función math.pow para calcular la diferencia al cuadrado del inicio y final\n    distancia = math.sqrt(math.pow( x0 - x1 ,2) + math.pow(y0 - y1,2))\n    return distancia",
      "execution_count": null,
      "outputs": []
    },
    {
      "metadata": {
        "trusted": true
      },
      "cell_type": "code",
      "source": "# Prueba\n\nx0 = 1\ny0 = 2\nx1 = 5\ny1 = 4\n\ndistancia = distancia_entre_dos_puntos(x0,y0,x1,y1) #Recuerde, siempre ponga parámetros en orden.\n\nprint(distancia)",
      "execution_count": null,
      "outputs": []
    },
    {
      "metadata": {
        "trusted": true
      },
      "cell_type": "code",
      "source": "# Resolución 2\n# Note que representan el mismo punto (x0,y0) y (x1,y1) , sólo que arbitrariamente nos dio por bautizarlos así con a0,b0,a1 y b1\na0 = 1\nb0 = 2\na1 = 5\nb1 = 4\n\ndef distancia2puntos(x0,y0,x1,y1): #Mismos parámetros\n    #Calculemos primero la diferencia que se encuentra en la fórmula tanto para x y y\n    # Diferencia entre x al inicio y final\n    diferencia_x = x0-x1\n    # Diferencientra entre y al inicio y final\n    diferencia_y = y0-y1\n    \n    #Elevemos al cuadrado dichas diferencias\n    \n    cuadrado_diferencia_x = diferencia_x**2\n    cuadrado_diferencia_y = diferencia_y**2\n    \n    #Sumemos las cantidades y aplicamos raiz cuadrada\n    distancia = math.sqrt(cuadrado_diferencia_x + cuadrado_diferencia_y)\n    return distancia",
      "execution_count": null,
      "outputs": []
    },
    {
      "metadata": {},
      "cell_type": "markdown",
      "source": "El código anterior, nos provoca el mismo resultado que la __Resolución1__, sin embargo tiene mas pasos <br>\n\nEl primer código es mas eficiente y legible <br>\nEl segundo código tiene mas pasos intermadios <br>\n\nPara aprender a programar de forma eficiente, se necesita tiempo y práctica.<br>\n\nLlamemos a la función recién programada"
    },
    {
      "metadata": {
        "trusted": true
      },
      "cell_type": "code",
      "source": "print(distancia2puntos(a0,b0,a1,b1)) #a y b son los parámetros dados en este problema",
      "execution_count": null,
      "outputs": []
    },
    {
      "metadata": {},
      "cell_type": "markdown",
      "source": "Mismo resultado :D"
    },
    {
      "metadata": {
        "trusted": true
      },
      "cell_type": "code",
      "source": "# Resolucion 3 Usando Listas como pared ordenados de la forma (x0,y0) y (x1,y1)\n\n#Esta es una función que tiene dos parámetros: Dos listas, cada una con dos elementos.\n# Los parámetros son listas vacias, eso le dice a Python que si bien es cierto no sabe cuantos elementos tienen, debe estar preparado para manejar datos\ndef distancia_puntos(punto1 = [], punto2 = []):\n    \n    diferencia_x = punto1[0]-punto2[0]\n    diferencia_y = punto1[1]-punto2[1]\n    \n    cuadrado_de_diferencias = diferencia_x**2 + diferencia_y**2\n    distancia = math.sqrt(cuadrado_de_diferencias)\n    return distancia\n    ",
      "execution_count": null,
      "outputs": []
    },
    {
      "metadata": {},
      "cell_type": "markdown",
      "source": "Los parámetros son dos listas! <br>\npunto1 con compenentes x0 y y0 <br>\npunto2 con compoenentes x1 y y1 <br>\n\nOJO! Que debes definir las variables punto1 y punto2 en el caso de que querás usar listas como parámetros <br>\n\nHagamos la prueba"
    },
    {
      "metadata": {
        "trusted": true
      },
      "cell_type": "code",
      "source": "punto1 = [1,2]\npunto2 = [5,4]\n\nprint(distancia_puntos(punto1,punto2))",
      "execution_count": null,
      "outputs": []
    },
    {
      "metadata": {
        "trusted": true
      },
      "cell_type": "code",
      "source": "# Resolución 4 Forma eficiente\n\ndef distancia_cartesiana_entre_dos_puntos( a =[] , b = []): #Acá le dices a Python, que espere dos listas a y b como parámetros. \n    #No le estas diciendo cuandos elementos tiene dichas listas, sólo debe saber que son listas\n    distancia = math.sqrt(math.pow(a[0]-b[0], 2) + math.pow(a[1]-b[1], 2))\n    return distancia",
      "execution_count": null,
      "outputs": []
    },
    {
      "metadata": {
        "trusted": true
      },
      "cell_type": "code",
      "source": "a = [1,2]\nb = [5,4]\nprint(distancia_cartesiana_entre_dos_puntos(a,b))",
      "execution_count": null,
      "outputs": []
    },
    {
      "metadata": {},
      "cell_type": "markdown",
      "source": "En conclusión!\nProgramar una función siempre tendrá multiples soluciones y formas de programar!"
    },
    {
      "metadata": {},
      "cell_type": "markdown",
      "source": "#### 2. Programe una función que calcule la tensión superficial para diferentes sustancias.\nPara eso su función será tension_superficial(masas = [masa1,masa2masa3]) y acepterán como entrada una lista de valores 3 mediciones de masa para la sustancia. A partir de dicha lista de tres valores, usted reportará la mediana de la tensión superficial.\n\nPara medir la Tensión, se utiliza la técnica de Plato de Wilhelmy.\nEn esta técnica, usted sumerge una placa de platino de longitud conocida poco a poco en la sustancia a analizar e irá tomando datos de masa. El valor de la masa máxima, representará la masa asociada con la tensión superficial, mediante la fórmula\n\n$$  \\gamma = \\frac{masa_{máxima}*g }{2*longitud} $$\n\nDonde $\\gamma$ representa la tensión superficial y así mismo g la aceleración de la gravedad.\n\nPara un poco del método, podes ver este [vídeo](https://www.youtube.com/watch?v=UF1UUr0bj1U)\n\nEn el vídeo, los investigadores, tienen un sensor, que va tomando de forma automática las masas de la placa, conforme se adhiere el líquido.\n\nPara calcular la tensión superficial usaremos los siguientes datos.\n\nEnlace https://raw.githubusercontent.com/jeff0994/Qu-00560/master/Datos3.csv\n\nLa longitud de la placa fue de 0.02445 m"
    },
    {
      "metadata": {
        "trusted": true
      },
      "cell_type": "code",
      "source": "#Resolucion\n#Importamos el paquete numpy, pues nos permite convertir listas a arrays\nimport numpy as np\nimport pandas as pd\ndef tension_superficial( masas = []):\n    masas_vector = np.array(masas) #convertimos la lista masas a un array\n    \n    masa_mediana = np.median(masas_vector) #Calculamos la mediana de las masas\n    longitud = 0.02445\n    tension = (masa_mediana)*9.81/(2*longitud)\n    return tension\n    ",
      "execution_count": null,
      "outputs": []
    },
    {
      "metadata": {
        "trusted": true
      },
      "cell_type": "code",
      "source": "ruta =   \"https://raw.githubusercontent.com/jeff0994/Qu-00560/master/Datos3.csv\"\ndf =pd.read_csv(ruta)",
      "execution_count": null,
      "outputs": []
    },
    {
      "metadata": {
        "trusted": true
      },
      "cell_type": "code",
      "source": "df.head()",
      "execution_count": null,
      "outputs": []
    },
    {
      "metadata": {},
      "cell_type": "markdown",
      "source": "Queremos crear una lista de cada valor!\n\n"
    },
    {
      "metadata": {
        "trusted": true
      },
      "cell_type": "code",
      "source": "masa_agua = list(df[\"Agua\"])\nmasa_etilenglicol = list(df[\"Etilenglicol\"])\nmasa_glicerina = list(df[\"Glicerina\"])",
      "execution_count": null,
      "outputs": []
    },
    {
      "metadata": {
        "trusted": true
      },
      "cell_type": "code",
      "source": "tension_superficial(masa_agua)",
      "execution_count": null,
      "outputs": []
    },
    {
      "metadata": {
        "trusted": true
      },
      "cell_type": "code",
      "source": "tension_superficial(masa_etilenglicol)",
      "execution_count": null,
      "outputs": []
    },
    {
      "metadata": {
        "trusted": true
      },
      "cell_type": "code",
      "source": "tension_superficial(masa_glicerina)",
      "execution_count": null,
      "outputs": []
    },
    {
      "metadata": {},
      "cell_type": "markdown",
      "source": "## Regresión No Lineal\n"
    },
    {
      "metadata": {},
      "cell_type": "markdown",
      "source": "### Regresión no lineal con Scypython\n\nYa tenes los suficientes conocimientos para lograr acabo una regresión no lineal :) <br>\nYa sabes  como programar funciones en Python, siguiente tema del curso <br>\n<br>\nLa regresión no lineal, es un tema que excel no puede hacer. Hay software como Origin, GNUPlot, Matlab que pueden ayudarte, sin embargo en caso de Origin, su sintaxis usa el lenjuaje C, aveces no  es tan sencillo como parece. <br>"
    },
    {
      "metadata": {},
      "cell_type": "markdown",
      "source": "#### Pasos Generales.\n\n1. Importar el modulo de optimización de Scpython. Código from scipy.optimize import curve\n2. Define tu eje x y eje y\n3. Crea una función en Python que tenga los parámetros y variables de interes. Esta debe retornar el modelo.\n    * Códido def nombre_de_funcion(parametros separados por coma):\n                  return modelo matemático\n4. Hacer el fit con el modelo. Código  params , extras = curve_fit(funcion , eje x , eje y)"
    },
    {
      "metadata": {},
      "cell_type": "markdown",
      "source": "#### Ejemplo. Ajuste no lineal exponecial\n\nQueremos realizar un ajuste no lineal al siguiente modelo <br>\n\n$$R = kT^m e^{-E_a/(R_gT)}$$ <br>\n\n$k$, $m$, y $(E_a/R_g)$, son parámetros ajustables. <br>\n\nDeseams encontrar el mejor ajuste. <br>"
    },
    {
      "metadata": {},
      "cell_type": "markdown",
      "source": "#### Paso 1. Importar paquete de optimización"
    },
    {
      "metadata": {
        "trusted": true
      },
      "cell_type": "code",
      "source": "from scipy.optimize import curve_fit",
      "execution_count": null,
      "outputs": []
    },
    {
      "metadata": {},
      "cell_type": "markdown",
      "source": "#### Paso 2. Definiendo tus ejes\n\nEn este caso, nosotros los vamos a generar, aunque por lo general vienen de mediciones que realizaste en el laboratorio. <br>"
    },
    {
      "metadata": {
        "trusted": true
      },
      "cell_type": "code",
      "source": "T = np.linspace(500.,1000.,8) #Espacio lineal que va de 500 a 1000 tomando datos con incrementos de 8\nR = [105.598, 89.700, 70.768, 66.996, 60.711, 58.992, 55.8328, 53.420]",
      "execution_count": null,
      "outputs": []
    },
    {
      "metadata": {},
      "cell_type": "markdown",
      "source": "#### Paso 3.  Definir función en Python"
    },
    {
      "metadata": {
        "trusted": true
      },
      "cell_type": "code",
      "source": "def f(x,k,m,EaRg):\n    return k*x**m*np.exp(-EaRg/x)",
      "execution_count": null,
      "outputs": []
    },
    {
      "metadata": {},
      "cell_type": "markdown",
      "source": "####  Paso 4. Optimización\n\nUsamos el código\n\n__params , extras  = curve_fit(funcion,ejeX,ejeY)__\n\nLe estas diciendo a Python que para la función con los datos x y y, haga un ajuste no lineal a la curva generada por esos puntos"
    },
    {
      "metadata": {
        "trusted": true
      },
      "cell_type": "code",
      "source": "params , extras = curve_fit(f,T,R)",
      "execution_count": null,
      "outputs": []
    },
    {
      "metadata": {},
      "cell_type": "markdown",
      "source": "Preguntemos por nuestros parámetros"
    },
    {
      "metadata": {
        "trusted": true
      },
      "cell_type": "code",
      "source": "params",
      "execution_count": null,
      "outputs": []
    },
    {
      "metadata": {},
      "cell_type": "markdown",
      "source": "Preguntemos por los extras\n\nLos extras representan las matriz de covarianza, dicha matriz, está relacionada con el error en los parámetros"
    },
    {
      "metadata": {
        "trusted": true
      },
      "cell_type": "code",
      "source": "extras",
      "execution_count": null,
      "outputs": []
    },
    {
      "metadata": {},
      "cell_type": "markdown",
      "source": "Sí queres saber el error del fit hacia los parámetros, usas el siquiente código"
    },
    {
      "metadata": {
        "trusted": true
      },
      "cell_type": "code",
      "source": "perr =np.sqrt(np.diag(extras))",
      "execution_count": null,
      "outputs": []
    },
    {
      "metadata": {
        "trusted": true
      },
      "cell_type": "code",
      "source": "perr",
      "execution_count": null,
      "outputs": []
    },
    {
      "metadata": {},
      "cell_type": "markdown",
      "source": "Generemos un gráfico!"
    },
    {
      "metadata": {
        "trusted": true
      },
      "cell_type": "code",
      "source": "import matplotlib.pyplot as plt\n\nplt.plot(T, R, 'x', label='Datos experimentales')\nplt.plot(T, f(T,1.12599232e-02,1.02459822e+00,-1.39367379e+03)  , 'b', label='Regresión No Lineal')\nplt.legend()\nplt.show()",
      "execution_count": null,
      "outputs": []
    },
    {
      "metadata": {},
      "cell_type": "markdown",
      "source": "Ojo, vós vas a hacer dos plots en el gráficos.\n\n* El primer plot, es simplemente graficar los puntos de T y R que encontraste en el laboratorio\n* El segundo plot es a partir de los parámetros encontrados de la regresión no lineal, evaluar en la función que progrmaste"
    },
    {
      "metadata": {},
      "cell_type": "markdown",
      "source": "#### Mejorando el gráfico!\n\nYa tenemos los valores de los parámetros, en última instancia nuestra misión en las regresiones es encontrar los parámetros de mejor ajuste..... \n\nQue tal sí le cambiamos esas \"x\" feas por puntos elegantes \"ro\"\n\nVeamos que sucede"
    },
    {
      "metadata": {
        "trusted": true
      },
      "cell_type": "code",
      "source": "plt.plot(T, R, 'ro', label='Datos experimentales')\nplt.plot(T, f(T,1.12599232e-02,1.02459822e+00,-1.39367379e+03)  , 'b', label='Regresión No Lineal')\nplt.legend()\nplt.show()",
      "execution_count": null,
      "outputs": []
    },
    {
      "metadata": {},
      "cell_type": "markdown",
      "source": "Se  ve mejor!\n\nQue tal si cambiamos la linea azul por una linea negra, para eso quitamos el 'b' y lo remplazamos con 'k-'"
    },
    {
      "metadata": {
        "trusted": true
      },
      "cell_type": "code",
      "source": "plt.plot(T, R, 'ro', label='Datos experimentales')\nplt.plot(T, f(T,1.12599232e-02,1.02459822e+00,-1.39367379e+03)  , 'k-', label='Regresión No Lineal')\nplt.legend()\nplt.show()",
      "execution_count": null,
      "outputs": []
    },
    {
      "metadata": {},
      "cell_type": "markdown",
      "source": "Ahora bien, no me gusta que la linea no sea tan suave y hayan saltitos por ahí.\n\nQue tal si generamos mas puntos!?\n\nPara eso evaluaremos en la función, pero con los parámetros optimizados!"
    },
    {
      "metadata": {},
      "cell_type": "markdown",
      "source": "T_mas_puntos = np.linspace(500.,1000.,100)\nR_fit = f(T_mas_puntos,1.12599232e-02,1.02459822e+00,-1.39367379e+03)\nplt.plot(T, R, 'ro', label='Datos experimentales') #Los datos experimentales\nplt.plot(T_mas_puntos, R_fit  , 'k-', label='Regresión No Lineal') # Ya que conocemos el modelo y sus parámetros, podemos genera muchos puntos mas mas optimizar la curva\nplt.legend()\nplt.show()"
    },
    {
      "metadata": {},
      "cell_type": "markdown",
      "source": "#### Mas tipos de Gráfica\nPodes generar el mismo efecto con\n\nplt.scatter(datos en x, datos en y,  c  , alpha)\n\nCon __c__ controlas el color.\nCon alpha la transparencia"
    },
    {
      "metadata": {
        "trusted": true
      },
      "cell_type": "code",
      "source": "plt.scatter(T, R , c = \"red\", alpha = 1)",
      "execution_count": null,
      "outputs": []
    },
    {
      "metadata": {
        "trusted": true
      },
      "cell_type": "code",
      "source": "plt.scatter(T, R , c = \"orange\", alpha = 1)",
      "execution_count": null,
      "outputs": []
    },
    {
      "metadata": {},
      "cell_type": "markdown",
      "source": "Me gusta el naranja!\n\nAhora agreguemosle, los datos de la regresión!"
    },
    {
      "metadata": {
        "trusted": true
      },
      "cell_type": "code",
      "source": "T_mas_puntos = np.linspace(500.0,1000.0,100)\nR_fit = f(T_mas_puntos,1.12599232e-02,1.02459822e+00,-1.39367379e+03)\n\n#Datos Experimentales\nplt.scatter(T, R , c = \"orange\", alpha = 1)\n#Datos de Regresión\nplt.plot(T_mas_puntos, R_fit , 'k-' )",
      "execution_count": null,
      "outputs": []
    },
    {
      "metadata": {},
      "cell_type": "markdown",
      "source": "Mmmm , qu tal si le agreguamos títulos a los ejes! \nY texto como leyendas!"
    },
    {
      "metadata": {
        "trusted": true
      },
      "cell_type": "code",
      "source": "T_mas_puntos = np.linspace(500.,1000.,100)\nR_fit = f(T_mas_puntos,1.12599232e-02,1.02459822e+00,-1.39367379e+03)\n\n#Datos Experimentales\nplt.scatter(T, R , c = \"orange\", alpha = 1 , label='Datos experimentales')\n#Datos de Regresión\nplt.plot(T_mas_puntos, R_fit , 'k-' ,label='Datos Optimizados' ) # 'k-' significa linea negra\nplt.legend(\"Hola\") #Permite colocar leyendas en la gráfica\nplt.ylabel('R') # Para bautizar tu eje y\nplt.xlabel('Temperatura Kelvin') # Para bautizar tu eje x\nplt.show()",
      "execution_count": null,
      "outputs": []
    },
    {
      "metadata": {},
      "cell_type": "markdown",
      "source": "Okey! Casi listo\n\nTalvez controlar el número de decimales en los ejes estaría perfecto y por supuesto, agregar la ecuación de la curva!\n\nPero esto lo dejamos para despues , continuemos!"
    },
    {
      "metadata": {},
      "cell_type": "markdown",
      "source": "### Regresión no lineal con Gekko"
    },
    {
      "metadata": {},
      "cell_type": "markdown",
      "source": "<img src=\"https://gekko.readthedocs.io/en/latest/_static/GekkoLogo.png\" alt=\"Gecko\" align= \"center\" >\n\n\nGecko es un programa de optimización escrito en Python! Puede resolver multitud de ecuaciones y problemas. <br>\nPara saber mas de su autor visita su [web](https://gekko.readthedocs.io/en/latest/) <br>"
    },
    {
      "metadata": {},
      "cell_type": "markdown",
      "source": "Instala Gekko con !pip"
    },
    {
      "metadata": {
        "trusted": true
      },
      "cell_type": "code",
      "source": "!pip install gekko",
      "execution_count": null,
      "outputs": []
    },
    {
      "metadata": {},
      "cell_type": "markdown",
      "source": "Importa Gekko con import"
    },
    {
      "metadata": {
        "trusted": true
      },
      "cell_type": "code",
      "source": "from gekko import GEKKO\nimport matplotlib as plt",
      "execution_count": null,
      "outputs": []
    },
    {
      "metadata": {},
      "cell_type": "markdown",
      "source": "#### Regresión no lineal con gekko\n\nPasos\n1. importe GEKKO con el código from gekko import GEKKO \n2. Ingrese sus datos\n3. Cree con nuevo modelo con el código modelo = GEKKO()\n4. Ingrese los parámetros.\n   * En Gekko hay dos tipos de parámetros\n    1. Parámetros que representan la variable independiente o las x y queremos ajustar\n    2. Parámetros fijos, a los cuales queremos encontrar el mejor ajuste ( su resultado será un unico valor)\n5. Ingrese variables de control que representa las datos dependientes o y\n6. Ingrese el modelo de regresió o ecuación de regresión\n7. Elija el modo de regresión\n8. Optimizar\n9. Ver resultados"
    },
    {
      "metadata": {},
      "cell_type": "markdown",
      "source": "Suponga que desea ajustar el siguiente modelo\n\n$$y = 0.1* e^{ax}$$\n\nNuestro objetivo es encontrar el parámetro __a__ que representa el mejor ajuste"
    },
    {
      "metadata": {
        "trusted": true
      },
      "cell_type": "code",
      "source": "import numpy as np\n#Paso 2 Datos tomados\n\nxm = np.array([0,1,2,3,4,5])\nym = np.array([0.1,0.2,0.3,0.5,0.8,2.0])",
      "execution_count": null,
      "outputs": []
    },
    {
      "metadata": {
        "trusted": true
      },
      "cell_type": "code",
      "source": "#Paso 3 Definiendo el modelo GEKKO \nm = GEKKO()",
      "execution_count": null,
      "outputs": []
    },
    {
      "metadata": {},
      "cell_type": "markdown",
      "source": "Recuerda que usamos m en todo el código pues así llamamos al modelo de GEKKO. <br>\nVos pudiste, ponerle otro nombre  <br>\nLos parámetros son los datos de entrada para la función. <br>\nEn este caso representan a los datos en x y el parámetro a. <br>\n\nA x se le conoce como Param y se le asigna un valor de xm, Gekko buscaré entonces ajustar <br>\nA a se le conoce como FV Fixed values, queremos llegar a optener un único valor que optimice los datos <br>\n\nEl a.STATUS puede tener dos opciones <br>\n\nSí STATUS = 1 significa On <br>\nSi STATUA = 0 sginifica Of <br>\n\nCon este le estas indicando que el hay un parámetro que tiene un valor único que debe ser optimizado, buscar el valor que optimice la curva. <br>\n\nEn a = m.FV() dentro del paréntesis podes agregar un valor por defecto <br>"
    },
    {
      "metadata": {
        "trusted": true
      },
      "cell_type": "code",
      "source": "# Paso 4 Parámetros\n\nx = m.Param(value=xm)\na = m.FV()\na.STATUS=1\n\n",
      "execution_count": null,
      "outputs": []
    },
    {
      "metadata": {
        "trusted": true
      },
      "cell_type": "code",
      "source": "# Paso 5 Variables\n# variables\ny = m.CV(value=ym)\ny.FSTATUS=1",
      "execution_count": null,
      "outputs": []
    },
    {
      "metadata": {},
      "cell_type": "markdown",
      "source": "Para explicar la celda anterior, y representa tu variable dependiente.\n\nSon los valores que vos que conconrden con el modelo. De ahí que sean Variables de Control o CV\n\nFSTATUS tiene dos opciones\n* FSTATUS=1 implica que la opción está encendida, vamos a minimizar una función para optimizar\n\n"
    },
    {
      "metadata": {
        "trusted": true
      },
      "cell_type": "code",
      "source": "# Paso 6 Ingresando el modelo o  ecuación de regresión\n# Se hace con el código nombre modelo.Equation()\nm.Equation(y==0.1*m.exp(a*x))",
      "execution_count": null,
      "outputs": []
    },
    {
      "metadata": {
        "trusted": true
      },
      "cell_type": "code",
      "source": "#Paso 7. Eligiendo el modo de regresión\n#Para la mayoría  de los casos será 2\n\nm.options.IMODE = 2",
      "execution_count": null,
      "outputs": []
    },
    {
      "metadata": {
        "trusted": true
      },
      "cell_type": "code",
      "source": "#Paso 8. Optimizando con el código .solve()\nm.solve(disp=False)",
      "execution_count": null,
      "outputs": []
    },
    {
      "metadata": {
        "trusted": true
      },
      "cell_type": "code",
      "source": "#Paso 9. Resultados\nprint('Optimimizado, a = ' + str(a.value[0]))",
      "execution_count": null,
      "outputs": []
    },
    {
      "metadata": {
        "trusted": true
      },
      "cell_type": "code",
      "source": "import matplotlib.pyplot as plt\n\n\nplt.plot(xm,ym,'bo')\nplt.plot(xm,y.value,'r-')",
      "execution_count": null,
      "outputs": []
    },
    {
      "metadata": {},
      "cell_type": "markdown",
      "source": "[Volver al índice](https://notebooks.azure.com/jeff0994/libraries/QU-0560-1-1/html/01Introducci%C3%B3n-Indice.ipynb)"
    },
    {
      "metadata": {
        "trusted": true
      },
      "cell_type": "code",
      "source": "",
      "execution_count": null,
      "outputs": []
    }
  ],
  "metadata": {
    "kernelspec": {
      "name": "python36",
      "display_name": "Python 3.6",
      "language": "python"
    },
    "language_info": {
      "mimetype": "text/x-python",
      "nbconvert_exporter": "python",
      "name": "python",
      "pygments_lexer": "ipython3",
      "version": "3.6.6",
      "file_extension": ".py",
      "codemirror_mode": {
        "version": 3,
        "name": "ipython"
      }
    }
  },
  "nbformat": 4,
  "nbformat_minor": 2
}