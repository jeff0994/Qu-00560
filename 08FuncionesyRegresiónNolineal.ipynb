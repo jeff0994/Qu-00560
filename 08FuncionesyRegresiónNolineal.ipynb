{
  "nbformat": 4,
  "nbformat_minor": 0,
  "metadata": {
    "kernelspec": {
      "name": "python36",
      "display_name": "Python 3.6",
      "language": "python"
    },
    "language_info": {
      "mimetype": "text/x-python",
      "nbconvert_exporter": "python",
      "name": "python",
      "pygments_lexer": "ipython3",
      "version": "3.6.6",
      "file_extension": ".py",
      "codemirror_mode": {
        "version": 3,
        "name": "ipython"
      }
    },
    "colab": {
      "name": "08FuncionesyRegresiónNolineal.ipynb",
      "provenance": [],
      "include_colab_link": true
    }
  },
  "cells": [
    {
      "cell_type": "markdown",
      "metadata": {
        "id": "view-in-github",
        "colab_type": "text"
      },
      "source": [
        "<a href=\"https://colab.research.google.com/github/jeff0994/Qu-00560/blob/master/08FuncionesyRegresi%C3%B3nNolineal.ipynb\" target=\"_parent\"><img src=\"https://colab.research.google.com/assets/colab-badge.svg\" alt=\"Open In Colab\"/></a>"
      ]
    },
    {
      "cell_type": "markdown",
      "metadata": {
        "collapsed": true,
        "id": "XHeFkntppmkh"
      },
      "source": [
        "# Universidad de Costa Rica\n",
        "\n",
        "## Facultad de Ciencias\n",
        "\n",
        "## Escuela de Química\n",
        "\n",
        "## Sección de Fisicoquímica\n",
        "\n",
        "## Qu-0560 Tópicos de Química Física: Herramientas Computacionales para Química\n",
        "\n",
        "### Profesor Gutiérrez\n",
        "### Asistente no oficial: Yefry López"
      ]
    },
    {
      "cell_type": "markdown",
      "metadata": {
        "id": "yaLkp8n7pmkj"
      },
      "source": [
        "# Objetivos\n",
        "\n",
        "En esta hoja usted aprenderá\n",
        "\n",
        "* Como crear funciones para automatizar cálculos\n",
        "* Emplear el paquete de Scipython para optimizar funciones no lineales\n",
        "* Usar el paquete Gecko para optimizar los parámetros funciones no lineales\n"
      ]
    },
    {
      "cell_type": "markdown",
      "metadata": {
        "id": "8vXDkTlEpmkj"
      },
      "source": [
        "Por ahora has aprendi a crear código básico para resolver problemas sencillos desde calcular el área de un triangulo o calculas un densidad por ejemplo <br>\n",
        "\n",
        "Así mismo, usando paquetes externos, haz aprendido a realizar calculos mas complejos!. Recordá que dentro de los paquetes hay código que una tercera persona creó y automatizó para ti! <br>\n",
        "\n",
        "En esta hoja aprenderas a realizar algo similar, usando el conceptos de funciones! <br>\n",
        "\n",
        "Sí , aprenderás a identificar funciones y crear tus propias funciones para automatizar problemas! <br>\n",
        "\n",
        "\n",
        "\n"
      ]
    },
    {
      "cell_type": "markdown",
      "metadata": {
        "id": "VEZ_nKRspmkk"
      },
      "source": [
        "## ¿ Que es una función?\n",
        "\n",
        "![funci%C3%B3n.PNG](attachment:funci%C3%B3n.PNG)"
      ]
    },
    {
      "cell_type": "markdown",
      "metadata": {
        "id": "vZvdl6qjpmkk"
      },
      "source": [
        "Veamoslo con el diagrama anterior! <br>\n",
        "\n",
        "Una función son lineas de código que cumplen un objetivo! La función toma una entrada ( datos), los evalua dentro de la función y produce una salida o datos de salida  , un cambio!<br>.\n",
        "\n",
        "Regresemos a nuestras clases amadas de matemática elemental! <br>\n",
        "\n",
        "Por ejemplo aprendiste de la función lineal! <br>\n",
        "\n",
        "$$ y(x) = mx + b $$\n",
        "\n",
        "La variable dependiente era y, la independiente es x y teniamos además dos parámetros m y b. <br>\n",
        "\n",
        "Supón que , deseamos evaluar la función lineal con x = 3 y así mismo sabemos que los parámetros m y b son 2 y 5 respectivamente. <br>\n",
        "\n",
        "Nuestra entrada es <br>\n",
        "\n",
        "x = 3 <br>\n",
        "m = 2 <br>\n",
        "b = 5 <br>\n",
        "\n",
        "Esa entrada la vamos a introducir en la función y(x) = mx+ b\n",
        "\n",
        "Evaluación\n",
        "$$y(3) = 2*3 + 5 = 11 $$ \n",
        "\n",
        "\n",
        "Que claramente produce un output de 11 <br>\n",
        "\n",
        "Por lo tanto nuestra salida es <br>\n",
        "\n",
        "salida = 11 <br>\n",
        "\n"
      ]
    },
    {
      "cell_type": "markdown",
      "metadata": {
        "id": "CHIgVClPpmkl"
      },
      "source": [
        "Lo anterior es la idea esencial para las funciones cuando programamos. <br>\n",
        "\n",
        "Vos tenes uno datos (entrada) que queres convertir en una salida específica para resolver tu problema! <br>\n",
        "\n",
        "Por lo tanto, para automatizar, crearás código dentro de una función <br>\n",
        "\n",
        "Con una función creada, en el escenario que tengas que resolver algún problema similar, ya no tenes que escribir código, simplemente usas las función que creaste y listo! <br>\n",
        "\n",
        "A estos se le conoce como programación funcional! <br>\n",
        "\n",
        "De hecho, en casi todas las clases anteriores has estado usando funciones de terceros <br>"
      ]
    },
    {
      "cell_type": "markdown",
      "metadata": {
        "id": "7LUrdTqHpmkl"
      },
      "source": [
        "## Funciones construidas en Python que ya usaste"
      ]
    },
    {
      "cell_type": "markdown",
      "metadata": {
        "id": "Ockc031mpmkl"
      },
      "source": [
        "La función __len()__\n",
        "\n",
        "La función len() toma una string como entrada, cuenta cuantos caracterés tiene dicha string y como salida de da el número de caracteres"
      ]
    },
    {
      "cell_type": "code",
      "metadata": {
        "trusted": true,
        "id": "h9kRvN7Lpmkm"
      },
      "source": [
        "entrada  = \"Ecuación diferencial\"\n",
        "len(entrada)"
      ],
      "execution_count": null,
      "outputs": []
    },
    {
      "cell_type": "markdown",
      "metadata": {
        "id": "pNx6kSl7pmkm"
      },
      "source": [
        "Considere la siguiente lista!\n",
        "\n",
        "Notas = [77, 70 , 84 , 45 , 55 , 36 , 68 , 90 , 77 , 62 , 62 ,62 ,68 ,86 ,45 100]\n",
        "\n",
        "Representan las notas de cierto grupo de fisicoqúímica de hace una decada.\n",
        "\n",
        "¿Cuantos estudiantes hicieron el examen?"
      ]
    },
    {
      "cell_type": "code",
      "metadata": {
        "trusted": true,
        "id": "mQ_1tUedpmkm"
      },
      "source": [
        "entrada = [77, 70 , 84 , 45 , 55 , 36 , 68 , 90 , 77 , 62 , 62 , 62 ,68 ,86 ,45 , 100]\n",
        "len(entrada)"
      ],
      "execution_count": null,
      "outputs": []
    },
    {
      "cell_type": "markdown",
      "metadata": {
        "id": "5HhI6sndpmkn"
      },
      "source": [
        "El output fue de 16 estudiantes!\n",
        "\n",
        "Nosotros podemos guardar los outputs en nuevas variables!\n",
        "\n",
        "Por ejemplo "
      ]
    },
    {
      "cell_type": "code",
      "metadata": {
        "trusted": true,
        "id": "JipDnV6Rpmkn"
      },
      "source": [
        "Cantidad = len(entrada)"
      ],
      "execution_count": null,
      "outputs": []
    },
    {
      "cell_type": "code",
      "metadata": {
        "trusted": true,
        "id": "Bg233d_bpmkn"
      },
      "source": [
        "Cantidad"
      ],
      "execution_count": null,
      "outputs": []
    },
    {
      "cell_type": "markdown",
      "metadata": {
        "id": "7rrWl8Nnpmkn"
      },
      "source": [
        "¿Que tal si queres saber la suma de cada elemento dentro de esa lista?\n",
        "\n",
        "Empleamos la función __sum__\n",
        "\n",
        "De nuestro nuestro input es la lista, nuestra función es sum y el output será la suma de los elementos de dicha lista.\n",
        "Guardemos dicho output en la variable suma y usemos la función __print()__ para imprimir en pantalla el resultado.\n",
        "\n",
        "En resumen:\n",
        "\n",
        "Llamamos a la función sum y la evaluamos con la lista  cuyo nombre es entrada\n",
        "sum() actua y hace lo siguiente\n",
        "\n",
        " suma 77 + 70 + 84 + 45 + 55 + 36 + 68 + 90 + 77 + 62 + 62 + 62 + 68 + 86 + 45 + 100"
      ]
    },
    {
      "cell_type": "code",
      "metadata": {
        "trusted": true,
        "id": "IAr3wNJepmko"
      },
      "source": [
        "suma = sum(entrada)\n",
        "print(suma)"
      ],
      "execution_count": null,
      "outputs": []
    },
    {
      "cell_type": "code",
      "metadata": {
        "trusted": true,
        "id": "5SRA9kvxpmko"
      },
      "source": [
        "¿Podes sacarle el promedio?"
      ],
      "execution_count": null,
      "outputs": []
    },
    {
      "cell_type": "code",
      "metadata": {
        "trusted": true,
        "id": "oBv_3UERpmko"
      },
      "source": [
        "#Resuelve acá"
      ],
      "execution_count": null,
      "outputs": []
    },
    {
      "cell_type": "markdown",
      "metadata": {
        "id": "UcCBn6Xapmko"
      },
      "source": [
        "## Diferencia entre métodos y funciones"
      ]
    },
    {
      "cell_type": "markdown",
      "metadata": {
        "id": "YXpHVss3pmkp"
      },
      "source": [
        "Como aprendiste en los primeros módulos cada primitiva tiene sus propios métodos. <br>\n",
        "De hecho, es muy común preguntarse ¿ okey cual es la diferencia entre un método y una función?  <br>\n",
        "\n",
        "Para ejemplificar estos, hagamos una comparación entre el método __.sort()__  (recuerdas ese punto?) y la función __sorted()__\n",
        "\n",
        "Para esto emplearemos la lista llamada __datos__\n",
        "\n",
        "datos = [8.9 , 9.0 , 7.5 ,8.8 ,9.1 ,7.9 ,8.3 ,8.4 , 8.8]\n",
        "\n",
        "Nuestra misión es acomodar dicha lista de menor a mayor"
      ]
    },
    {
      "cell_type": "code",
      "metadata": {
        "trusted": true,
        "id": "5oC8R3zRpmkp"
      },
      "source": [
        "datos = [8.9 , 9.0 , 7.5 ,8.8 ,9.1 ,7.9 ,8.3 ,8.4 , 8.8]"
      ],
      "execution_count": null,
      "outputs": []
    },
    {
      "cell_type": "markdown",
      "metadata": {
        "id": "qa_q39zzpmkp"
      },
      "source": [
        "#### Empleando la función sorted()"
      ]
    },
    {
      "cell_type": "code",
      "metadata": {
        "trusted": true,
        "id": "HD2Mm6RBpmkp"
      },
      "source": [
        "datos_ordenados = sorted(datos)"
      ],
      "execution_count": null,
      "outputs": []
    },
    {
      "cell_type": "markdown",
      "metadata": {
        "id": "KZ9chctHpmkp"
      },
      "source": [
        "Sí preguntamos por datos_ordendados, obtenemos una nueva lista con los datos de la lista original, ordenados"
      ]
    },
    {
      "cell_type": "code",
      "metadata": {
        "trusted": true,
        "id": "-rUcdy6Epmkq"
      },
      "source": [
        "datos_ordenados"
      ],
      "execution_count": null,
      "outputs": []
    },
    {
      "cell_type": "markdown",
      "metadata": {
        "id": "WR_DW9cMpmkq"
      },
      "source": [
        "Si preguntamos por la lista original __datos__ no ha cambiando nada!"
      ]
    },
    {
      "cell_type": "code",
      "metadata": {
        "trusted": true,
        "id": "wgSqrCehpmkq"
      },
      "source": [
        "datos"
      ],
      "execution_count": null,
      "outputs": []
    },
    {
      "cell_type": "markdown",
      "metadata": {
        "id": "E_G-aXYopmkq"
      },
      "source": [
        "De forma general, las funciones toman un input, que transforman a un output!. <br>\n",
        "El input nunca es cambiando! Las funciones toman el input como materia prima para producir el output, pero eso no afecta las varaibles origianles de la entrada <br>"
      ]
    },
    {
      "cell_type": "markdown",
      "metadata": {
        "id": "7ZsG9p9ypmkq"
      },
      "source": [
        "Sí, usamos el método .sort()\n",
        "\n",
        "Mira lo que pasa!"
      ]
    },
    {
      "cell_type": "code",
      "metadata": {
        "trusted": true,
        "id": "D1tbtrzKpmkq"
      },
      "source": [
        "datos.sort()"
      ],
      "execution_count": null,
      "outputs": []
    },
    {
      "cell_type": "code",
      "metadata": {
        "trusted": true,
        "id": "uKK-kgUCpmkr"
      },
      "source": [
        "datos"
      ],
      "execution_count": null,
      "outputs": []
    },
    {
      "cell_type": "markdown",
      "metadata": {
        "id": "sezsYk3qpmkr"
      },
      "source": [
        "Lo viste? Los datos apecieron ya ordenados!\n",
        "\n",
        "A diferencia del caso anterior, la lista contenida en datos, al ser pasada por el método .sort() si ha cambiado!"
      ]
    },
    {
      "cell_type": "markdown",
      "metadata": {
        "id": "1sgzqGJipmkr"
      },
      "source": [
        "## ¿Como programar tus propias funciones en Python?"
      ]
    },
    {
      "cell_type": "markdown",
      "metadata": {
        "id": "0QujXMOgpmkr"
      },
      "source": [
        "Este es un ejemplo de como definir una función en Python!"
      ]
    },
    {
      "cell_type": "code",
      "metadata": {
        "trusted": true,
        "id": "AWT1b2HNpmkr"
      },
      "source": [
        "def sumar1(a):\n",
        "    b = a + 1\n",
        "    \n",
        "    return b"
      ],
      "execution_count": null,
      "outputs": []
    },
    {
      "cell_type": "markdown",
      "metadata": {
        "id": "V-Re2Eh-pmks"
      },
      "source": [
        "Esta es una función que a un parámetro a (entrada) le suma una cantidad de 1 y lo guarda en la variable b.\n",
        "\n",
        "El output o salida es b\n",
        "\n",
        "Osea basicamente, le sumas 1 a un número."
      ]
    },
    {
      "cell_type": "markdown",
      "metadata": {
        "id": "d8zvyH5kpmks"
      },
      "source": [
        "![funci%C3%B3n2.PNG](attachment:funci%C3%B3n2.PNG)"
      ]
    },
    {
      "cell_type": "markdown",
      "metadata": {
        "id": "2ir9RQ77pmks"
      },
      "source": [
        "### 1. Toda función inicia con def\n",
        "\n",
        "Toda función inica con la palabra __def__ es una palabra reservada en Python! <br>\n",
        "\n",
        "Sí querés crear una función, sí o sí, debe comenzar con def! <br>\n",
        "\n",
        "¿Que es una palabra reservada? <br>\n",
        "Son palabras que los creadores de un lenguaje de programación difinieron de tal modo que no se pueden usar como variables o nombres.\n",
        "\n",
        "Por ejemplo"
      ]
    },
    {
      "cell_type": "code",
      "metadata": {
        "trusted": true,
        "id": "mYs0x-3Lpmks"
      },
      "source": [
        "def = 3"
      ],
      "execution_count": null,
      "outputs": []
    },
    {
      "cell_type": "markdown",
      "metadata": {
        "id": "yPcTMimUpmks"
      },
      "source": [
        "Te tiró erros verdad?\n",
        "\n",
        "__def__ al ser una palabra reservada, no se puede utilizar \n",
        "\n",
        "De hecho, sí lo notaste, al escribir __def__ en una celda de tipo código, tiene un color distintivo!"
      ]
    },
    {
      "cell_type": "markdown",
      "metadata": {
        "id": "4ALnnwhzpmks"
      },
      "source": [
        "### 2. Pon el nombre a tu función.\n",
        "\n",
        "Despues de usar la palabra def, debes escribir el nombre de tu función! <br>\n",
        "Dicho nombre debe ser lo suficientemete claro, para que se entienda que hace tu función! <br>"
      ]
    },
    {
      "cell_type": "markdown",
      "metadata": {
        "id": "ZJXdUpmkpmkt"
      },
      "source": [
        "### 3. Parámetros.\n",
        "\n",
        "Despues de nombre, continuas con los parámetros separados por coma y entre paréntesis. <br>\n",
        "\n",
        "Un parámetro es un valor que la función espera recibir cuando sea llamada (invocada), a fin de ejecutar acciones en base al mismo. Una función puede esperar uno o más parámetros (que irán separados por una coma) o ninguno.\n",
        "\n",
        "Dichos parámetros, serán las entradas para tu función! <br>\n",
        "\n",
        "Recuerda poner los dos puntos al final! <br>\n",
        "\n",
        "Por ejemplo <br>\n",
        "\n",
        "* def sumar_dos_numeros(a,b): <br>\n",
        "\n",
        "* def sumar_dos_numeros(a,b) <br>\n",
        "\n",
        "En el primer encabezado, vemos que todo está perfecto, pero en el segundo hacen falta los dos puntos.... <br>\n",
        "\n",
        "Si construis una función de esa manera, Python te va tirar error.... Así que recuerda, SIEMPRE PON LOS DOS PUNTOS. <br>"
      ]
    },
    {
      "cell_type": "markdown",
      "metadata": {
        "id": "tXqf2ceIpmkt"
      },
      "source": [
        "### 4. Cuerpo de tu función! \n",
        "\n",
        "Inmediato que escribas los dos puntos, debes escribir el cuerpo de tu función! <br>\n",
        "\n",
        "La parte que toma los inputs y los transforma en alguna salida, empleando el código que definas! <br>\n",
        "\n",
        "<font color='red'>Importante el cuerpo de tu función debe estar indentado a tu encabezado</font> <br>\n",
        "\n",
        "Que significa estar indentado? <br>\n",
        "\n",
        "Significa que tu argumento debe estar al menos 4 espacios adelante de tu encabezado.<br>\n",
        "\n",
        "Por ejemplo para el siguien encabezado <br>\n",
        "\n",
        "<font color='green'> def función_ejemplo(a,b): </font> <br>\n",
        "    * Argumento \n",
        "    * Argumento \n",
        "    * Argumento \n",
        "    \n",
        "Vés que las tres palabras __argumento__ no están al inicio de cada linea? ¿Sinó tienen cierto espacio con respecto al inicio? <br>\n",
        "\n",
        "A eso se llama estar indentado <br>\n",
        "\n",
        "La indentación sirve para indicarle a Python estructuras de código dependientes a otras estructuras de código de mayor jerarquía!<br>\n",
        "\n",
        "¿Que pasa sinó indento? <br>\n",
        "  "
      ]
    },
    {
      "cell_type": "code",
      "metadata": {
        "scrolled": true,
        "trusted": true,
        "id": "Zu7UYKajpmkt"
      },
      "source": [
        "def suma(a,b):\n",
        "c = a + b\n",
        "return c"
      ],
      "execution_count": null,
      "outputs": []
    },
    {
      "cell_type": "markdown",
      "metadata": {
        "id": "TaKSF3h3pmkt"
      },
      "source": [
        "Python te tiró error! <br>\n",
        "\n",
        "Mira lo que el error dice <br>\n",
        "\n",
        "_IndentationError: expected an indented block_ <br>\n",
        "\n",
        "\n",
        "Ya definiste una función, Python espera que dicha función tenga un argumento o código dependiente a dicha función. <br>\n",
        "\n",
        "Al no ver al indentación, Python no sabe como proceder y por tanto te tira error <br>\n",
        "\n",
        "Arreglemos el error! <br>"
      ]
    },
    {
      "cell_type": "code",
      "metadata": {
        "trusted": true,
        "id": "v6F_D2F1pmkt"
      },
      "source": [
        "def suma(a,b):\n",
        "    c = a + b\n",
        "    return c"
      ],
      "execution_count": null,
      "outputs": []
    },
    {
      "cell_type": "markdown",
      "metadata": {
        "id": "YQi7KeC3pmku"
      },
      "source": [
        "Listo!"
      ]
    },
    {
      "cell_type": "markdown",
      "metadata": {
        "id": "ndiPuke5pmku"
      },
      "source": [
        "## Ya programé mi función. ¿Como la puedo usar?\n",
        "\n",
        "Mediante una llamada! <br>\n",
        "\n",
        "Para llama una función, simplemente escribir el nombre de la función y adjuntas cuales parámetros queres que se evaluen! <br>\n",
        "\n",
        "Por ejemplo, hasta ahora hemos definidos dos funciones! <br>\n",
        "\n",
        "* Función sumar1(a) <br>\n",
        "* Función suma(a,b) <br>\n",
        "\n",
        "Llamemosla!\n",
        "\n",
        "Supón que a = 5 y b = 10"
      ]
    },
    {
      "cell_type": "code",
      "metadata": {
        "trusted": true,
        "id": "uoPThLfWpmku"
      },
      "source": [
        "sumar1(5)"
      ],
      "execution_count": null,
      "outputs": []
    },
    {
      "cell_type": "markdown",
      "metadata": {
        "id": "G3TZncEjpmku"
      },
      "source": [
        "Al llamar la función __sumar1__ y evaluarla en a = 5, nuestro output es 6 <br>\n",
        "\n",
        "Lo que era de esperar! <br>"
      ]
    },
    {
      "cell_type": "code",
      "metadata": {
        "trusted": true,
        "id": "IXGit29Opmku"
      },
      "source": [
        "suma(5,10)"
      ],
      "execution_count": null,
      "outputs": []
    },
    {
      "cell_type": "code",
      "metadata": {
        "trusted": true,
        "id": "H-Dy_aVJpmku"
      },
      "source": [
        "#Podemos imprimir ambos resultados a la vez\n",
        "\n",
        "print(sumar1(5))\n",
        "print(suma(5,10))"
      ],
      "execution_count": null,
      "outputs": []
    },
    {
      "cell_type": "markdown",
      "metadata": {
        "id": "eNCPrHEUpmkv"
      },
      "source": [
        "TIP. <br>\n",
        "Recuerda que Python sigue reglas!<br>\n",
        "\n",
        "A como definas los parámetros al contruir tu función, así deben ir cuando la llames.<br>"
      ]
    },
    {
      "cell_type": "markdown",
      "metadata": {
        "id": "YLUF69Ojpmkv"
      },
      "source": [
        "Sí volmemos a llamar la función suma con diferentes parámetros, todo sucede igual tras bambalinas. <br>\n",
        "\n",
        "La diferencia está en que los parámetros a y b ahora son diferentes, por tanto distinta salida <br>"
      ]
    },
    {
      "cell_type": "code",
      "metadata": {
        "trusted": true,
        "id": "_CRmycwGpmkv"
      },
      "source": [
        "suma(15,20)"
      ],
      "execution_count": null,
      "outputs": []
    },
    {
      "cell_type": "markdown",
      "metadata": {
        "id": "nZkVPgkbpmkv"
      },
      "source": [
        "### Multiples Parámetros\n",
        "\n",
        "Una función, puede tener multiples parámetros.\n",
        "\n",
        "Por ejemplo creemos una función qu multiplique tres  número a,b,c"
      ]
    },
    {
      "cell_type": "code",
      "metadata": {
        "trusted": true,
        "id": "VKhmHA4qpmkw"
      },
      "source": [
        "def multiplicar_3_numeros(a,b,c):\n",
        "    return a*b*c"
      ],
      "execution_count": null,
      "outputs": []
    },
    {
      "cell_type": "code",
      "metadata": {
        "trusted": true,
        "id": "QIHFsTAapmkw"
      },
      "source": [
        "multiplicar_3_numeros(2,5,4)"
      ],
      "execution_count": null,
      "outputs": []
    },
    {
      "cell_type": "markdown",
      "metadata": {
        "id": "BrD4ERnipmkx"
      },
      "source": [
        "O con __print()__"
      ]
    },
    {
      "cell_type": "code",
      "metadata": {
        "trusted": true,
        "id": "8XIHzsn-pmkx"
      },
      "source": [
        "print(multiplicar_3_numeros(2,5,4))"
      ],
      "execution_count": null,
      "outputs": []
    },
    {
      "cell_type": "code",
      "metadata": {
        "trusted": true,
        "id": "QcQqP2mNpmkx"
      },
      "source": [
        "El resultado fue un nuevo integer!\n",
        "\n",
        "Lo que esperábamos!"
      ],
      "execution_count": null,
      "outputs": []
    },
    {
      "cell_type": "markdown",
      "metadata": {
        "id": "Qlzlncvlpmkx"
      },
      "source": [
        "### Documentando tus funciones.\n",
        "\n",
        "Una buena práctica de programación es que documentes tus funciones. <br>\n",
        "Es decir, que agregues texto indicando que hace cada función y dando lineas explicativas paso a paso, por si algún tercero la usa, puede enteder su fin y código. <br>\n",
        "\n",
        "Para documentar, usas comillas triples <br>"
      ]
    },
    {
      "cell_type": "code",
      "metadata": {
        "trusted": true,
        "id": "vzi6d-mEpmkx"
      },
      "source": [
        "def multiplicar_3_numeros(a,b,c):\n",
        "    '''Función que toma tres números a ,\n",
        "       b c y provoca una salida , resultando en la multiplicación de dichos enteros\n",
        "    '''\n",
        "    \n",
        "    return a*b*c"
      ],
      "execution_count": null,
      "outputs": []
    },
    {
      "cell_type": "markdown",
      "metadata": {
        "id": "srjX-SHtpmkx"
      },
      "source": [
        "Las triples comillas, Python las ignorará y entenderá que vos las pusiste como forma de documentar tu función!"
      ]
    },
    {
      "cell_type": "markdown",
      "metadata": {
        "id": "oUTL7FENpmky"
      },
      "source": [
        "### Funciones que no retornan ningún valor"
      ]
    },
    {
      "cell_type": "markdown",
      "metadata": {
        "id": "RcjAyYPfpmky"
      },
      "source": [
        "La palabra __return__ dentro de una función indica a Python la salida que provocará la función.\n",
        "\n",
        "Hay casos donde el valor del return es __NONE__ osea no retorna ninguna valor\n",
        "\n",
        "Veamos una función"
      ]
    },
    {
      "cell_type": "code",
      "metadata": {
        "trusted": true,
        "id": "__FRDwrRpmky"
      },
      "source": [
        "def Química_Física():\n",
        "        print(\"Química vs Física\")"
      ],
      "execution_count": null,
      "outputs": []
    },
    {
      "cell_type": "markdown",
      "metadata": {
        "id": "J8y0OpQKpmky"
      },
      "source": [
        "La función anterior __Química_Física()__ es una función que no tiene ningún parámetro y que no retorna ningun valor ( Como lo sabemos? No tiene la palabra __return__ dentro de la función.\n",
        "\n"
      ]
    },
    {
      "cell_type": "code",
      "metadata": {
        "trusted": true,
        "id": "HC3OCQDppmky"
      },
      "source": [
        "Química_Física()"
      ],
      "execution_count": null,
      "outputs": []
    },
    {
      "cell_type": "markdown",
      "metadata": {
        "id": "Cfhx5ZpQpmky"
      },
      "source": [
        "Sí bien imprimie un valor en pantalla, la función no retorna nada. <br>\n",
        "\n",
        "Paa darnos cuenta, sólo hace falta llamar a la función dentro de la función print() <br>"
      ]
    },
    {
      "cell_type": "code",
      "metadata": {
        "trusted": true,
        "id": "lPlxtXO8pmkz"
      },
      "source": [
        "print(Química_Física())"
      ],
      "execution_count": null,
      "outputs": []
    },
    {
      "cell_type": "markdown",
      "metadata": {
        "id": "WsH4g-Okpmkz"
      },
      "source": [
        "Provocando un None. <br>\n",
        "\n",
        "Indicativo que no retorna nada. <br>"
      ]
    },
    {
      "cell_type": "markdown",
      "metadata": {
        "id": "zFRgDxITpmkz"
      },
      "source": [
        "Mira otra función. <br>\n",
        "\n",
        "Pero esta vez usaremos dentro de su cuerpo, la palabra reservada __pass__ <br>\n",
        "\n",
        "__pass__ lo que hace es simplemente el indicativo de continuar o ignorar. <br>"
      ]
    },
    {
      "cell_type": "code",
      "metadata": {
        "trusted": true,
        "id": "o1G0JG17pmkz"
      },
      "source": [
        "def No_Hace_Nada():\n",
        "    pass"
      ],
      "execution_count": null,
      "outputs": []
    },
    {
      "cell_type": "code",
      "metadata": {
        "trusted": true,
        "id": "xmDEOBWgpmk0"
      },
      "source": [
        "print(No_Hace_Nada())"
      ],
      "execution_count": null,
      "outputs": []
    },
    {
      "cell_type": "markdown",
      "metadata": {
        "id": "L7GYXmZIpmk0"
      },
      "source": [
        "En resumen, sí dentro del a función no incluís el ___return___ <br>\n",
        "\n",
        "PYthon automaticamente asignará el valor __None__  <br>"
      ]
    },
    {
      "cell_type": "markdown",
      "metadata": {
        "id": "eY_3rOf1pmk0"
      },
      "source": [
        "#### Modifiquemos un poco nuestra función sumar1() que programamos hace poco.\n",
        "\n",
        "Será casi la misma, pero vamos agregarle un print() dentro del cuerpo de la función"
      ]
    },
    {
      "cell_type": "code",
      "metadata": {
        "trusted": true,
        "id": "eWijDOYFpmk0"
      },
      "source": [
        "def sumar1(a):\n",
        "    b = a + 1\n",
        "    print(a, \"mas 1 es igual a\",b )\n",
        "    return b"
      ],
      "execution_count": null,
      "outputs": []
    },
    {
      "cell_type": "markdown",
      "metadata": {
        "id": "Ars8zFV9pmk0"
      },
      "source": [
        "Llamemos la función con el valor 2"
      ]
    },
    {
      "cell_type": "code",
      "metadata": {
        "trusted": true,
        "id": "z5ceC1Cdpmk1"
      },
      "source": [
        "sumar1(2)"
      ],
      "execution_count": null,
      "outputs": []
    },
    {
      "cell_type": "markdown",
      "metadata": {
        "id": "G4zjnEANpmk1"
      },
      "source": [
        "Veamos que sucedio paso a paso! <br>\n",
        "Recuerda que Python es un lenguaje que va linea por linea, leyendo y produciendo resultados según tus códigos <br>\n",
        "\n",
        "* Llamamos la función mediante sumar1(2) <br>\n",
        "* La función asigna a a = 1 <br>\n",
        "* Por lo tanto b = 1 + 1 = 2 <br>\n",
        "* La siguiente linea es un print() , por lo tanto en pantalla aparecerá el valor de dicha impresión\n",
        "* Por último, Python observa el return, y provoca la salida del return\n",
        "\n",
        "print() no intenfiere en el return, el simplemente se ejecuta.\n",
        "En última instancia  la salida viene del return."
      ]
    },
    {
      "cell_type": "markdown",
      "metadata": {
        "id": "KqOU-kIupmk1"
      },
      "source": [
        "#### Alcance de las variables definidas dentro de las funciones.\n",
        "\n",
        "Las variables que definas dentro de una función, sólo exiten dentro de dicha función!\n",
        "Una vez que la llamada de la función se cumple y termina, todas las variables que se encontraban dentro del cuerpo de la función dejan de existir <br>.\n",
        "\n",
        "Veamos un ejemplo con la función sumar(a,b) que definimos <br>"
      ]
    },
    {
      "cell_type": "code",
      "metadata": {
        "trusted": true,
        "id": "SILXKSBFpmk1"
      },
      "source": [
        "def suma(a,b):\n",
        "    c = a + b\n",
        "    return c"
      ],
      "execution_count": null,
      "outputs": []
    },
    {
      "cell_type": "code",
      "metadata": {
        "trusted": true,
        "id": "ZdJDlZ_Rpmk2"
      },
      "source": [
        "a = 2\n",
        "b = 7"
      ],
      "execution_count": null,
      "outputs": []
    },
    {
      "cell_type": "code",
      "metadata": {
        "trusted": true,
        "id": "r-weoiippmk2"
      },
      "source": [
        "Corramos c"
      ],
      "execution_count": null,
      "outputs": []
    },
    {
      "cell_type": "code",
      "metadata": {
        "trusted": true,
        "id": "_46Gmx2Dpmk2"
      },
      "source": [
        "c"
      ],
      "execution_count": null,
      "outputs": []
    },
    {
      "cell_type": "markdown",
      "metadata": {
        "id": "O6ey2GlBpmk2"
      },
      "source": [
        "Te va a tirar error, pues c es una variable que existe sólo dentro de la función sumar(a,b), su alcance unicamente se limita a que cuando llames a la función sumar(a,b), a función creará una variable momentanea llamada c, para retornar dicho valor. <br>\n",
        "\n",
        "Despues dejará de existir <br>"
      ]
    },
    {
      "cell_type": "markdown",
      "metadata": {
        "id": "mngNvf3-pmk2"
      },
      "source": [
        "### Resumen\n",
        "\n",
        "Para repasar, podes ver el siguiente [video](http://videos.bigdatauniversity.com/PY0101EN/videos/PY0101EN%20-%20Functions.mp4)\n",
        "\n",
        "Ignora todo lo relacionado con loops. <br>\n",
        "\n",
        "Loops para efectos de este tutorial introductorio se encuentra fuera del alcance. <br>"
      ]
    },
    {
      "cell_type": "markdown",
      "metadata": {
        "id": "MciOfWXapmk2"
      },
      "source": [
        "### Ejemplos y ejercicios"
      ]
    },
    {
      "cell_type": "markdown",
      "metadata": {
        "id": "c58tbc-Epmk3"
      },
      "source": [
        "#### 1. Programe una función que calcule el área de un circulo.\n",
        "Realice pruebas con los siguientes radios 1.1 , 2.3 ,4.5 y 5.7\n"
      ]
    },
    {
      "cell_type": "markdown",
      "metadata": {
        "id": "sEk7UWTApmk3"
      },
      "source": [
        "###### Resolución\n",
        "\n",
        "Planteo\n",
        "\n",
        "Sabemos que el área del circulo está dado por\n",
        "$$ A = \\pi * r^{2} $$\n",
        "Una función sencilla con una párametro r , representando al radio."
      ]
    },
    {
      "cell_type": "code",
      "metadata": {
        "trusted": true,
        "id": "aCusqhOlpmk3"
      },
      "source": [
        "# Resolución 1\n",
        "import math\n",
        "\n",
        "def area_circulo_1(r):\n",
        "    return math.pi*(r**2)"
      ],
      "execution_count": null,
      "outputs": []
    },
    {
      "cell_type": "code",
      "metadata": {
        "trusted": true,
        "id": "7JbKx0Izpmk3"
      },
      "source": [
        "# Resolución 2\n",
        "\n",
        "def area_circulo_2(r):\n",
        "    area = math.pi*(r**2)\n",
        "    return area"
      ],
      "execution_count": null,
      "outputs": []
    },
    {
      "cell_type": "markdown",
      "metadata": {
        "id": "UW_xw7QApmk3"
      },
      "source": [
        "Tenemos dos resoluciones! <br>\n",
        "\n",
        "En la primera, sabiendo la fórmula del área del circulo , simplemente retornamos dicha formular. <br>\n",
        "\n",
        "En la segunda, primero definimos una variable intermedia, llamada area que guarda la formula en la variable, posterior, retornamos dicha variable. <br>\n",
        "\n",
        "Ambas soluciones son equivalentes. <br>\n",
        "\n",
        "Pero para efectos de código eficiente, la primera es preferible! <br>\n",
        "\n",
        "Sin embargo, recuerda, si te cuesta plantear una función, ve poco a poco declarando variables <br>"
      ]
    },
    {
      "cell_type": "markdown",
      "metadata": {
        "id": "E593XC3Epmk3"
      },
      "source": [
        "Ahora podemos hacer la prueba con los diferentes radios , llamando la función las veces necesario.\n",
        "\n"
      ]
    },
    {
      "cell_type": "code",
      "metadata": {
        "trusted": true,
        "id": "RWbd0E4xpmk3"
      },
      "source": [
        "r1 =  1.1\n",
        "r2 = 2.3\n",
        "r3 = 4.5\n",
        "r4 = 5.7\n",
        "\n",
        "area_1 = area_circulo_1(r1)\n",
        "area_2 = area_circulo_1(r2)\n",
        "area_3 = area_circulo_1(r3)\n",
        "area_4 = area_circulo_1(r4)\n",
        "\n",
        "print(\"El area del circulo cuyo radio es\" , r1 , \"es\" ,area_1)\n",
        "print(\"El area del circulo cuyo radio es\" , r2 , \"es\" ,area_2)\n",
        "print(\"El area del circulo cuyo radio es\" , r3 , \"es\" ,area_3)\n",
        "print(\"El area del circulo cuyo radio es\" , r4 , \"es\" ,area_4)\n"
      ],
      "execution_count": null,
      "outputs": []
    },
    {
      "cell_type": "markdown",
      "metadata": {
        "id": "MQjh9Y8Xpmk4"
      },
      "source": [
        "TIP. Recuerda que print puede usarse de diferentes formas.\n",
        "\n",
        "Por ejemplos la notación que separa texto de las variables por medio de coma.\n",
        "O la notación que separa texto de la variable concatenando! (Acá tenes que convertir todo a string mediante la funciòn str())\n",
        "\n"
      ]
    },
    {
      "cell_type": "code",
      "metadata": {
        "trusted": true,
        "id": "Izqs-ZXbpmk4"
      },
      "source": [
        "print(\"El area del ciruculo cuyu radio es \" + str(r1) + \" es \" + str(area_1))"
      ],
      "execution_count": null,
      "outputs": []
    },
    {
      "cell_type": "markdown",
      "metadata": {
        "id": "R6e6F4y6pmk4"
      },
      "source": [
        "En la pasada celda, tenemos el mismo output, unicamente agregamos texto concatenando con el símbolo \"+\" y conviritiendo las variables float en strings mediante la función str()."
      ]
    },
    {
      "cell_type": "markdown",
      "metadata": {
        "id": "VoxGLM2gpmk4"
      },
      "source": [
        "#### 2.La distancia de dos puntos en coordenadas cartesianas $(x_{0},y_{0})$ y $(x_{1},y_{1})$ se puede calcular mediante la siguiente expresión\n",
        "\n",
        "$$ distancia = \\sqrt{  (x_{0} - x_{1} )^{2} + (y_{0} - y_{1})^{2}} $$\n",
        "\n",
        "Programe una función que calcule la distancia entre cualesquiera dos puntos del espacio cartesiano.\n",
        "\n",
        "Realice pruebas con los puntos \n",
        "\n",
        "* (1,2) y (5,4)\n",
        "* (8,9) y (6,7)\n",
        "* (13,9) y (4,2)\n"
      ]
    },
    {
      "cell_type": "markdown",
      "metadata": {
        "id": "k5qu4bMEpmk4"
      },
      "source": [
        "###### Resolución Trate de entender cada una\n",
        "Lea los comentarios en las celdas code\n",
        "\n",
        "Necesitamos una función que acepte 4 parámetros para los puntos ($x_{0},y_{0}$) y ($x_{0},y_{1}$) <br>\n",
        "O una función que acepto dos parámetros , cada uno representando una lista de dos elementos)\n",
        "\n",
        "$x{0}$ representando el inicio en x ( x0) <br>\n",
        "$x{1}$ representando el final en x ( x1) <br>\n",
        "$y{0}$ representando el inicio en y ( y0) <br>\n",
        "$y{1}$ representando el final en y ( y1) <br>"
      ]
    },
    {
      "cell_type": "code",
      "metadata": {
        "trusted": true,
        "id": "8m794_HXpmk4"
      },
      "source": [
        "# Resolución 1\n",
        "import math # Para calcular la raiz cuadrada de forma mas sencilla\n",
        "def distancia_entre_dos_puntos(x0,y0,x1,y1):\n",
        "    \n",
        "    #Empleamos la función del modulo de math math.sqrt para cacular la raiz cuadrada de una cantidad.\n",
        "    # Dentro de la raiz, usamos la función math.pow para calcular la diferencia al cuadrado del inicio y final\n",
        "    distancia = math.sqrt(math.pow( x0 - x1 ,2) + math.pow(y0 - y1,2))\n",
        "    return distancia"
      ],
      "execution_count": null,
      "outputs": []
    },
    {
      "cell_type": "code",
      "metadata": {
        "trusted": true,
        "id": "J3Vghns4pmk4"
      },
      "source": [
        "# Prueba\n",
        "\n",
        "x0 = 1\n",
        "y0 = 2\n",
        "x1 = 5\n",
        "y1 = 4\n",
        "\n",
        "distancia = distancia_entre_dos_puntos(x0,y0,x1,y1) #Recuerde, siempre ponga parámetros en orden.\n",
        "\n",
        "print(distancia)"
      ],
      "execution_count": null,
      "outputs": []
    },
    {
      "cell_type": "code",
      "metadata": {
        "trusted": true,
        "id": "t67VsMf3pmk5"
      },
      "source": [
        "# Resolución 2\n",
        "# Note que representan el mismo punto (x0,y0) y (x1,y1) , sólo que arbitrariamente nos dio por bautizarlos así con a0,b0,a1 y b1\n",
        "a0 = 1\n",
        "b0 = 2\n",
        "a1 = 5\n",
        "b1 = 4\n",
        "\n",
        "def distancia2puntos(x0,y0,x1,y1): #Mismos parámetros\n",
        "    #Calculemos primero la diferencia que se encuentra en la fórmula tanto para x y y\n",
        "    # Diferencia entre x al inicio y final\n",
        "    diferencia_x = x0-x1\n",
        "    # Diferencientra entre y al inicio y final\n",
        "    diferencia_y = y0-y1\n",
        "    \n",
        "    #Elevemos al cuadrado dichas diferencias\n",
        "    \n",
        "    cuadrado_diferencia_x = diferencia_x**2\n",
        "    cuadrado_diferencia_y = diferencia_y**2\n",
        "    \n",
        "    #Sumemos las cantidades y aplicamos raiz cuadrada\n",
        "    distancia = math.sqrt(cuadrado_diferencia_x + cuadrado_diferencia_y)\n",
        "    return distancia"
      ],
      "execution_count": null,
      "outputs": []
    },
    {
      "cell_type": "markdown",
      "metadata": {
        "id": "yx7s0uI-pmk5"
      },
      "source": [
        "El código anterior, nos provoca el mismo resultado que la __Resolución1__, sin embargo tiene mas pasos <br>\n",
        "\n",
        "El primer código es mas eficiente y legible <br>\n",
        "El segundo código tiene mas pasos intermadios <br>\n",
        "\n",
        "Para aprender a programar de forma eficiente, se necesita tiempo y práctica.<br>\n",
        "\n",
        "Llamemos a la función recién programada"
      ]
    },
    {
      "cell_type": "code",
      "metadata": {
        "trusted": true,
        "id": "fYWGJmHOpmk5"
      },
      "source": [
        "print(distancia2puntos(a0,b0,a1,b1)) #a y b son los parámetros dados en este problema"
      ],
      "execution_count": null,
      "outputs": []
    },
    {
      "cell_type": "markdown",
      "metadata": {
        "id": "z8P3Dbvgpmk5"
      },
      "source": [
        "Mismo resultado :D"
      ]
    },
    {
      "cell_type": "code",
      "metadata": {
        "trusted": true,
        "id": "qRDswvOtpmk5"
      },
      "source": [
        "# Resolucion 3 Usando Listas como pared ordenados de la forma (x0,y0) y (x1,y1)\n",
        "\n",
        "#Esta es una función que tiene dos parámetros: Dos listas, cada una con dos elementos.\n",
        "# Los parámetros son listas vacias, eso le dice a Python que si bien es cierto no sabe cuantos elementos tienen, debe estar preparado para manejar datos\n",
        "def distancia_puntos(punto1 = [], punto2 = []):\n",
        "    \n",
        "    diferencia_x = punto1[0]-punto2[0]\n",
        "    diferencia_y = punto1[1]-punto2[1]\n",
        "    \n",
        "    cuadrado_de_diferencias = diferencia_x**2 + diferencia_y**2\n",
        "    distancia = math.sqrt(cuadrado_de_diferencias)\n",
        "    return distancia\n",
        "    "
      ],
      "execution_count": null,
      "outputs": []
    },
    {
      "cell_type": "markdown",
      "metadata": {
        "id": "5kgFQr6zpmk5"
      },
      "source": [
        "Los parámetros son dos listas! <br>\n",
        "punto1 con compenentes x0 y y0 <br>\n",
        "punto2 con compoenentes x1 y y1 <br>\n",
        "\n",
        "OJO! Que debes definir las variables punto1 y punto2 en el caso de que querás usar listas como parámetros <br>\n",
        "\n",
        "Hagamos la prueba"
      ]
    },
    {
      "cell_type": "code",
      "metadata": {
        "trusted": true,
        "id": "dowoZ2_kpmk6"
      },
      "source": [
        "punto1 = [1,2]\n",
        "punto2 = [5,4]\n",
        "\n",
        "print(distancia_puntos(punto1,punto2))"
      ],
      "execution_count": null,
      "outputs": []
    },
    {
      "cell_type": "code",
      "metadata": {
        "trusted": true,
        "id": "yMMvB9xGpmk6"
      },
      "source": [
        "# Resolución 4 Forma eficiente\n",
        "\n",
        "def distancia_cartesiana_entre_dos_puntos( a =[] , b = []): #Acá le dices a Python, que espere dos listas a y b como parámetros. \n",
        "    #No le estas diciendo cuandos elementos tiene dichas listas, sólo debe saber que son listas\n",
        "    distancia = math.sqrt(math.pow(a[0]-b[0], 2) + math.pow(a[1]-b[1], 2))\n",
        "    return distancia"
      ],
      "execution_count": null,
      "outputs": []
    },
    {
      "cell_type": "code",
      "metadata": {
        "trusted": true,
        "id": "6up6Qs4upmk6"
      },
      "source": [
        "a = [1,2]\n",
        "b = [5,4]\n",
        "print(distancia_cartesiana_entre_dos_puntos(a,b))"
      ],
      "execution_count": null,
      "outputs": []
    },
    {
      "cell_type": "markdown",
      "metadata": {
        "id": "6eod7TzGpmk6"
      },
      "source": [
        "En conclusión!\n",
        "Programar una función siempre tendrá multiples soluciones y formas de programar!"
      ]
    },
    {
      "cell_type": "markdown",
      "metadata": {
        "id": "s-YoQ57qpmk6"
      },
      "source": [
        "#### 2. Programe una función que calcule la tensión superficial para diferentes sustancias.\n",
        "Para eso su función será tension_superficial(masas = [masa1,masa2masa3]) y acepterán como entrada una lista de valores 3 mediciones de masa para la sustancia. A partir de dicha lista de tres valores, usted reportará la mediana de la tensión superficial.\n",
        "\n",
        "Para medir la Tensión, se utiliza la técnica de Plato de Wilhelmy.\n",
        "En esta técnica, usted sumerge una placa de platino de longitud conocida poco a poco en la sustancia a analizar e irá tomando datos de masa. El valor de la masa máxima, representará la masa asociada con la tensión superficial, mediante la fórmula\n",
        "\n",
        "$$  \\gamma = \\frac{masa_{máxima}*g }{2*longitud} $$\n",
        "\n",
        "Donde $\\gamma$ representa la tensión superficial y así mismo g la aceleración de la gravedad.\n",
        "\n",
        "Para un poco del método, podes ver este [vídeo](https://www.youtube.com/watch?v=UF1UUr0bj1U)\n",
        "\n",
        "En el vídeo, los investigadores, tienen un sensor, que va tomando de forma automática las masas de la placa, conforme se adhiere el líquido.\n",
        "\n",
        "Para calcular la tensión superficial usaremos los siguientes datos.\n",
        "\n",
        "Enlace https://raw.githubusercontent.com/jeff0994/Qu-00560/master/Datos3.csv\n",
        "\n",
        "La longitud de la placa fue de 0.02445 m"
      ]
    },
    {
      "cell_type": "code",
      "metadata": {
        "trusted": true,
        "id": "RU4qFPsrpmk6"
      },
      "source": [
        "#Resolucion\n",
        "#Importamos el paquete numpy, pues nos permite convertir listas a arrays\n",
        "import numpy as np\n",
        "import pandas as pd\n",
        "def tension_superficial( masas = []):\n",
        "    masas_vector = np.array(masas) #convertimos la lista masas a un array\n",
        "    \n",
        "    masa_mediana = np.median(masas_vector) #Calculamos la mediana de las masas\n",
        "    longitud = 0.02445\n",
        "    tension = (masa_mediana)*9.81/(2*longitud)\n",
        "    return tension\n",
        "    "
      ],
      "execution_count": null,
      "outputs": []
    },
    {
      "cell_type": "code",
      "metadata": {
        "trusted": true,
        "id": "UdpWR1Lkpmk6"
      },
      "source": [
        "ruta =   \"https://raw.githubusercontent.com/jeff0994/Qu-00560/master/Datos3.csv\"\n",
        "df =pd.read_csv(ruta)"
      ],
      "execution_count": null,
      "outputs": []
    },
    {
      "cell_type": "code",
      "metadata": {
        "trusted": true,
        "id": "_RA_H5lypmk7"
      },
      "source": [
        "df.head()"
      ],
      "execution_count": null,
      "outputs": []
    },
    {
      "cell_type": "markdown",
      "metadata": {
        "id": "s9fUhrynpmk7"
      },
      "source": [
        "Queremos crear una lista de cada valor!\n",
        "\n"
      ]
    },
    {
      "cell_type": "code",
      "metadata": {
        "trusted": true,
        "id": "CL6nnluIpmk7"
      },
      "source": [
        "masa_agua = list(df[\"Agua\"])\n",
        "masa_etilenglicol = list(df[\"Etilenglicol\"])\n",
        "masa_glicerina = list(df[\"Glicerina\"])"
      ],
      "execution_count": null,
      "outputs": []
    },
    {
      "cell_type": "code",
      "metadata": {
        "trusted": true,
        "id": "-D2wf0AKpmk7"
      },
      "source": [
        "tension_superficial(masa_agua)"
      ],
      "execution_count": null,
      "outputs": []
    },
    {
      "cell_type": "code",
      "metadata": {
        "trusted": true,
        "id": "1NVS_0kxpmk7"
      },
      "source": [
        "tension_superficial(masa_etilenglicol)"
      ],
      "execution_count": null,
      "outputs": []
    },
    {
      "cell_type": "code",
      "metadata": {
        "trusted": true,
        "id": "pEXNajRepmk7"
      },
      "source": [
        "tension_superficial(masa_glicerina)"
      ],
      "execution_count": null,
      "outputs": []
    },
    {
      "cell_type": "markdown",
      "metadata": {
        "id": "gEIy34r6pmk8"
      },
      "source": [
        "## Regresión No Lineal\n"
      ]
    },
    {
      "cell_type": "markdown",
      "metadata": {
        "id": "nkgE1zR9pmk8"
      },
      "source": [
        "### Regresión no lineal con Scypython\n",
        "\n",
        "Ya tenes los suficientes conocimientos para lograr acabo una regresión no lineal :) <br>\n",
        "Ya sabes  como programar funciones en Python, siguiente tema del curso <br>\n",
        "<br>\n",
        "La regresión no lineal, es un tema que excel no puede hacer. Hay software como Origin, GNUPlot, Matlab que pueden ayudarte, sin embargo en caso de Origin, su sintaxis usa el lenjuaje C, aveces no  es tan sencillo como parece. <br>"
      ]
    },
    {
      "cell_type": "markdown",
      "metadata": {
        "id": "pB7M3fGJpmk8"
      },
      "source": [
        "#### Pasos Generales.\n",
        "\n",
        "1. Importar el modulo de optimización de Scpython. Código from scipy.optimize import curve\n",
        "2. Define tu eje x y eje y\n",
        "3. Crea una función en Python que tenga los parámetros y variables de interes. Esta debe retornar el modelo.\n",
        "    * Códido def nombre_de_funcion(parametros separados por coma):\n",
        "                  return modelo matemático\n",
        "4. Hacer el fit con el modelo. Código  params , extras = curve_fit(funcion , eje x , eje y)"
      ]
    },
    {
      "cell_type": "markdown",
      "metadata": {
        "id": "DEbjnwvxpmk8"
      },
      "source": [
        "#### Ejemplo. Ajuste no lineal exponecial\n",
        "\n",
        "Queremos realizar un ajuste no lineal al siguiente modelo <br>\n",
        "\n",
        "$$R = kT^m e^{-E_a/(R_gT)}$$ <br>\n",
        "\n",
        "$k$, $m$, y $(E_a/R_g)$, son parámetros ajustables. <br>\n",
        "\n",
        "Deseams encontrar el mejor ajuste. <br>"
      ]
    },
    {
      "cell_type": "markdown",
      "metadata": {
        "id": "n16I_9nOpmk8"
      },
      "source": [
        "#### Paso 1. Importar paquete de optimización"
      ]
    },
    {
      "cell_type": "code",
      "metadata": {
        "trusted": true,
        "id": "lgESRBnZpmk8"
      },
      "source": [
        "from scipy.optimize import curve_fit"
      ],
      "execution_count": null,
      "outputs": []
    },
    {
      "cell_type": "markdown",
      "metadata": {
        "id": "Dnr5lhgnpmk8"
      },
      "source": [
        "#### Paso 2. Definiendo tus ejes\n",
        "\n",
        "En este caso, nosotros los vamos a generar, aunque por lo general vienen de mediciones que realizaste en el laboratorio. <br>"
      ]
    },
    {
      "cell_type": "code",
      "metadata": {
        "trusted": true,
        "id": "b4ydf6YLpmk9"
      },
      "source": [
        "T = np.linspace(500.,1000.,8) #Espacio lineal que va de 500 a 1000 tomando datos con incrementos de 8\n",
        "R = [105.598, 89.700, 70.768, 66.996, 60.711, 58.992, 55.8328, 53.420]"
      ],
      "execution_count": null,
      "outputs": []
    },
    {
      "cell_type": "markdown",
      "metadata": {
        "id": "D7_Fftzxpmk9"
      },
      "source": [
        "#### Paso 3.  Definir función en Python"
      ]
    },
    {
      "cell_type": "code",
      "metadata": {
        "trusted": true,
        "id": "iy7Uy7Adpmk9"
      },
      "source": [
        "def f(x,k,m,EaRg):\n",
        "    return k*x**m*np.exp(-EaRg/x)"
      ],
      "execution_count": null,
      "outputs": []
    },
    {
      "cell_type": "markdown",
      "metadata": {
        "id": "EAg2Ywglpmk9"
      },
      "source": [
        "####  Paso 4. Optimización\n",
        "\n",
        "Usamos el código\n",
        "\n",
        "__params , extras  = curve_fit(funcion,ejeX,ejeY)__\n",
        "\n",
        "Le estas diciendo a Python que para la función con los datos x y y, haga un ajuste no lineal a la curva generada por esos puntos"
      ]
    },
    {
      "cell_type": "code",
      "metadata": {
        "trusted": true,
        "id": "yIPFG1Ljpmk9"
      },
      "source": [
        "params , extras = curve_fit(f,T,R)"
      ],
      "execution_count": null,
      "outputs": []
    },
    {
      "cell_type": "markdown",
      "metadata": {
        "id": "OMYt7RGbpmk9"
      },
      "source": [
        "Preguntemos por nuestros parámetros"
      ]
    },
    {
      "cell_type": "code",
      "metadata": {
        "trusted": true,
        "id": "I7starbdpmk-"
      },
      "source": [
        "params"
      ],
      "execution_count": null,
      "outputs": []
    },
    {
      "cell_type": "markdown",
      "metadata": {
        "id": "vUfNkWiypmk-"
      },
      "source": [
        "Preguntemos por los extras\n",
        "\n",
        "Los extras representan las matriz de covarianza, dicha matriz, está relacionada con el error en los parámetros"
      ]
    },
    {
      "cell_type": "code",
      "metadata": {
        "trusted": true,
        "id": "29gRkhXJpmk-"
      },
      "source": [
        "extras"
      ],
      "execution_count": null,
      "outputs": []
    },
    {
      "cell_type": "markdown",
      "metadata": {
        "id": "0S_cp9G9pmk-"
      },
      "source": [
        "Sí queres saber el error del fit hacia los parámetros, usas el siquiente código"
      ]
    },
    {
      "cell_type": "code",
      "metadata": {
        "trusted": true,
        "id": "aevdaNeApmk_"
      },
      "source": [
        "perr =np.sqrt(np.diag(extras))"
      ],
      "execution_count": null,
      "outputs": []
    },
    {
      "cell_type": "code",
      "metadata": {
        "trusted": true,
        "id": "fN6si7kmpmk_"
      },
      "source": [
        "perr"
      ],
      "execution_count": null,
      "outputs": []
    },
    {
      "cell_type": "markdown",
      "metadata": {
        "id": "fEjavlYSpmk_"
      },
      "source": [
        "Generemos un gráfico!"
      ]
    },
    {
      "cell_type": "code",
      "metadata": {
        "trusted": true,
        "id": "ZKHoPBq3pmk_"
      },
      "source": [
        "import matplotlib.pyplot as plt\n",
        "\n",
        "plt.plot(T, R, 'x', label='Datos experimentales')\n",
        "plt.plot(T, f(T,1.12599232e-02,1.02459822e+00,-1.39367379e+03)  , 'b', label='Regresión No Lineal')\n",
        "plt.legend()\n",
        "plt.show()"
      ],
      "execution_count": null,
      "outputs": []
    },
    {
      "cell_type": "markdown",
      "metadata": {
        "id": "0Md858uSpmk_"
      },
      "source": [
        "Ojo, vós vas a hacer dos plots en el gráficos.\n",
        "\n",
        "* El primer plot, es simplemente graficar los puntos de T y R que encontraste en el laboratorio\n",
        "* El segundo plot es a partir de los parámetros encontrados de la regresión no lineal, evaluar en la función que progrmaste"
      ]
    },
    {
      "cell_type": "markdown",
      "metadata": {
        "id": "O4sBqdjKpmlA"
      },
      "source": [
        "#### Mejorando el gráfico!\n",
        "\n",
        "Ya tenemos los valores de los parámetros, en última instancia nuestra misión en las regresiones es encontrar los parámetros de mejor ajuste..... \n",
        "\n",
        "Que tal sí le cambiamos esas \"x\" feas por puntos elegantes \"ro\"\n",
        "\n",
        "Veamos que sucede"
      ]
    },
    {
      "cell_type": "code",
      "metadata": {
        "trusted": true,
        "id": "-aiyRHLIpmlA"
      },
      "source": [
        "plt.plot(T, R, 'ro', label='Datos experimentales')\n",
        "plt.plot(T, f(T,1.12599232e-02,1.02459822e+00,-1.39367379e+03)  , 'b', label='Regresión No Lineal')\n",
        "plt.legend()\n",
        "plt.show()"
      ],
      "execution_count": null,
      "outputs": []
    },
    {
      "cell_type": "markdown",
      "metadata": {
        "id": "wqJ9pgfApmlA"
      },
      "source": [
        "Se  ve mejor!\n",
        "\n",
        "Que tal si cambiamos la linea azul por una linea negra, para eso quitamos el 'b' y lo remplazamos con 'k-'"
      ]
    },
    {
      "cell_type": "code",
      "metadata": {
        "trusted": true,
        "id": "IjaXdTeSpmlA"
      },
      "source": [
        "plt.plot(T, R, 'ro', label='Datos experimentales')\n",
        "plt.plot(T, f(T,1.12599232e-02,1.02459822e+00,-1.39367379e+03)  , 'k-', label='Regresión No Lineal')\n",
        "plt.legend()\n",
        "plt.show()"
      ],
      "execution_count": null,
      "outputs": []
    },
    {
      "cell_type": "markdown",
      "metadata": {
        "id": "JnoPKOSMpmlA"
      },
      "source": [
        "Ahora bien, no me gusta que la linea no sea tan suave y hayan saltitos por ahí.\n",
        "\n",
        "Que tal si generamos mas puntos!?\n",
        "\n",
        "Para eso evaluaremos en la función, pero con los parámetros optimizados!"
      ]
    },
    {
      "cell_type": "markdown",
      "metadata": {
        "id": "J4REON-TpmlB"
      },
      "source": [
        "T_mas_puntos = np.linspace(500.,1000.,100)\n",
        "R_fit = f(T_mas_puntos,1.12599232e-02,1.02459822e+00,-1.39367379e+03)\n",
        "plt.plot(T, R, 'ro', label='Datos experimentales') #Los datos experimentales\n",
        "plt.plot(T_mas_puntos, R_fit  , 'k-', label='Regresión No Lineal') # Ya que conocemos el modelo y sus parámetros, podemos genera muchos puntos mas mas optimizar la curva\n",
        "plt.legend()\n",
        "plt.show()"
      ]
    },
    {
      "cell_type": "markdown",
      "metadata": {
        "id": "922JR4aypmlB"
      },
      "source": [
        "#### Mas tipos de Gráfica\n",
        "Podes generar el mismo efecto con\n",
        "\n",
        "plt.scatter(datos en x, datos en y,  c  , alpha)\n",
        "\n",
        "Con __c__ controlas el color.\n",
        "Con alpha la transparencia"
      ]
    },
    {
      "cell_type": "code",
      "metadata": {
        "trusted": true,
        "id": "TpvFRFKQpmlB"
      },
      "source": [
        "plt.scatter(T, R , c = \"red\", alpha = 1)"
      ],
      "execution_count": null,
      "outputs": []
    },
    {
      "cell_type": "code",
      "metadata": {
        "trusted": true,
        "id": "69CBY41OpmlB"
      },
      "source": [
        "plt.scatter(T, R , c = \"orange\", alpha = 1)"
      ],
      "execution_count": null,
      "outputs": []
    },
    {
      "cell_type": "markdown",
      "metadata": {
        "id": "df9lP8rgpmlB"
      },
      "source": [
        "Me gusta el naranja!\n",
        "\n",
        "Ahora agreguemosle, los datos de la regresión!"
      ]
    },
    {
      "cell_type": "code",
      "metadata": {
        "trusted": true,
        "id": "2J5oeF5spmlC"
      },
      "source": [
        "T_mas_puntos = np.linspace(500.0,1000.0,100)\n",
        "R_fit = f(T_mas_puntos,1.12599232e-02,1.02459822e+00,-1.39367379e+03)\n",
        "\n",
        "#Datos Experimentales\n",
        "plt.scatter(T, R , c = \"orange\", alpha = 1)\n",
        "#Datos de Regresión\n",
        "plt.plot(T_mas_puntos, R_fit , 'k-' )"
      ],
      "execution_count": null,
      "outputs": []
    },
    {
      "cell_type": "markdown",
      "metadata": {
        "id": "dpfEtSYypmlC"
      },
      "source": [
        "Mmmm , qu tal si le agreguamos títulos a los ejes! \n",
        "Y texto como leyendas!"
      ]
    },
    {
      "cell_type": "code",
      "metadata": {
        "trusted": true,
        "id": "sZBtAhi2pmlC"
      },
      "source": [
        "T_mas_puntos = np.linspace(500.,1000.,100)\n",
        "R_fit = f(T_mas_puntos,1.12599232e-02,1.02459822e+00,-1.39367379e+03)\n",
        "\n",
        "#Datos Experimentales\n",
        "plt.scatter(T, R , c = \"orange\", alpha = 1 , label='Datos experimentales')\n",
        "#Datos de Regresión\n",
        "plt.plot(T_mas_puntos, R_fit , 'k-' ,label='Datos Optimizados' ) # 'k-' significa linea negra\n",
        "plt.legend(\"Hola\") #Permite colocar leyendas en la gráfica\n",
        "plt.ylabel('R') # Para bautizar tu eje y\n",
        "plt.xlabel('Temperatura Kelvin') # Para bautizar tu eje x\n",
        "plt.show()"
      ],
      "execution_count": null,
      "outputs": []
    },
    {
      "cell_type": "markdown",
      "metadata": {
        "id": "oU0riJu_pmlC"
      },
      "source": [
        "Okey! Casi listo\n",
        "\n",
        "Talvez controlar el número de decimales en los ejes estaría perfecto y por supuesto, agregar la ecuación de la curva!\n",
        "\n",
        "Pero esto lo dejamos para despues , continuemos!"
      ]
    },
    {
      "cell_type": "markdown",
      "metadata": {
        "id": "-otlpCc8pmlD"
      },
      "source": [
        "### Regresión no lineal con Gekko"
      ]
    },
    {
      "cell_type": "markdown",
      "metadata": {
        "id": "aekC7FRYpmlD"
      },
      "source": [
        "<img src=\"https://gekko.readthedocs.io/en/latest/_static/GekkoLogo.png\" alt=\"Gecko\" align= \"center\" >\n",
        "\n",
        "\n",
        "Gecko es un programa de optimización escrito en Python! Puede resolver multitud de ecuaciones y problemas. <br>\n",
        "Para saber mas de su autor visita su [web](https://gekko.readthedocs.io/en/latest/) <br>"
      ]
    },
    {
      "cell_type": "markdown",
      "metadata": {
        "id": "qY4Y87QTpmlD"
      },
      "source": [
        "Instala Gekko con !pip"
      ]
    },
    {
      "cell_type": "code",
      "metadata": {
        "trusted": true,
        "id": "Rb06TICNpmlD"
      },
      "source": [
        "!pip install gekko"
      ],
      "execution_count": null,
      "outputs": []
    },
    {
      "cell_type": "markdown",
      "metadata": {
        "id": "kT85DrG3pmlE"
      },
      "source": [
        "Importa Gekko con import"
      ]
    },
    {
      "cell_type": "code",
      "metadata": {
        "trusted": true,
        "id": "rwW_kNLIpmlE"
      },
      "source": [
        "from gekko import GEKKO\n",
        "import matplotlib as plt"
      ],
      "execution_count": null,
      "outputs": []
    },
    {
      "cell_type": "markdown",
      "metadata": {
        "id": "g8X6D9wrpmlE"
      },
      "source": [
        "#### Regresión no lineal con gekko\n",
        "\n",
        "Pasos\n",
        "1. importe GEKKO con el código from gekko import GEKKO \n",
        "2. Ingrese sus datos\n",
        "3. Cree con nuevo modelo con el código modelo = GEKKO()\n",
        "4. Ingrese los parámetros.\n",
        "   * En Gekko hay dos tipos de parámetros\n",
        "    1. Parámetros que representan la variable independiente o las x y queremos ajustar\n",
        "    2. Parámetros fijos, a los cuales queremos encontrar el mejor ajuste ( su resultado será un unico valor)\n",
        "5. Ingrese variables de control que representa las datos dependientes o y\n",
        "6. Ingrese el modelo de regresió o ecuación de regresión\n",
        "7. Elija el modo de regresión\n",
        "8. Optimizar\n",
        "9. Ver resultados"
      ]
    },
    {
      "cell_type": "markdown",
      "metadata": {
        "id": "ORm4U1FOpmlE"
      },
      "source": [
        "Suponga que desea ajustar el siguiente modelo\n",
        "\n",
        "$$y = 0.1* e^{ax}$$\n",
        "\n",
        "Nuestro objetivo es encontrar el parámetro __a__ que representa el mejor ajuste"
      ]
    },
    {
      "cell_type": "code",
      "metadata": {
        "trusted": true,
        "id": "0zCzdkJIpmlE"
      },
      "source": [
        "import numpy as np\n",
        "#Paso 2 Datos tomados\n",
        "\n",
        "xm = np.array([0,1,2,3,4,5])\n",
        "ym = np.array([0.1,0.2,0.3,0.5,0.8,2.0])"
      ],
      "execution_count": null,
      "outputs": []
    },
    {
      "cell_type": "code",
      "metadata": {
        "trusted": true,
        "id": "X5DrD8b8pmlE"
      },
      "source": [
        "#Paso 3 Definiendo el modelo GEKKO \n",
        "m = GEKKO()"
      ],
      "execution_count": null,
      "outputs": []
    },
    {
      "cell_type": "markdown",
      "metadata": {
        "id": "ovv8DcS9pmlE"
      },
      "source": [
        "Recuerda que usamos m en todo el código pues así llamamos al modelo de GEKKO. <br>\n",
        "Vos pudiste, ponerle otro nombre  <br>\n",
        "Los parámetros son los datos de entrada para la función. <br>\n",
        "En este caso representan a los datos en x y el parámetro a. <br>\n",
        "\n",
        "A x se le conoce como Param y se le asigna un valor de xm, Gekko buscaré entonces ajustar <br>\n",
        "A a se le conoce como FV Fixed values, queremos llegar a optener un único valor que optimice los datos <br>\n",
        "\n",
        "El a.STATUS puede tener dos opciones <br>\n",
        "\n",
        "Sí STATUS = 1 significa On <br>\n",
        "Si STATUA = 0 sginifica Of <br>\n",
        "\n",
        "Con este le estas indicando que el hay un parámetro que tiene un valor único que debe ser optimizado, buscar el valor que optimice la curva. <br>\n",
        "\n",
        "En a = m.FV() dentro del paréntesis podes agregar un valor por defecto <br>"
      ]
    },
    {
      "cell_type": "code",
      "metadata": {
        "trusted": true,
        "id": "vQLbhIscpmlF"
      },
      "source": [
        "# Paso 4 Parámetros\n",
        "\n",
        "x = m.Param(value=xm)\n",
        "a = m.FV()\n",
        "a.STATUS=1\n",
        "\n"
      ],
      "execution_count": null,
      "outputs": []
    },
    {
      "cell_type": "code",
      "metadata": {
        "trusted": true,
        "id": "czN3Cfl5pmlF"
      },
      "source": [
        "# Paso 5 Variables\n",
        "# variables\n",
        "y = m.CV(value=ym)\n",
        "y.FSTATUS=1"
      ],
      "execution_count": null,
      "outputs": []
    },
    {
      "cell_type": "markdown",
      "metadata": {
        "id": "HCpMNTGVpmlF"
      },
      "source": [
        "Para explicar la celda anterior, y representa tu variable dependiente.\n",
        "\n",
        "Son los valores que vos que conconrden con el modelo. De ahí que sean Variables de Control o CV\n",
        "\n",
        "FSTATUS tiene dos opciones\n",
        "* FSTATUS=1 implica que la opción está encendida, vamos a minimizar una función para optimizar\n",
        "\n"
      ]
    },
    {
      "cell_type": "code",
      "metadata": {
        "trusted": true,
        "id": "6RqZgPvMpmlF"
      },
      "source": [
        "# Paso 6 Ingresando el modelo o  ecuación de regresión\n",
        "# Se hace con el código nombre modelo.Equation()\n",
        "m.Equation(y==0.1*m.exp(a*x))"
      ],
      "execution_count": null,
      "outputs": []
    },
    {
      "cell_type": "code",
      "metadata": {
        "trusted": true,
        "id": "fSP2nWIYpmlG"
      },
      "source": [
        "#Paso 7. Eligiendo el modo de regresión\n",
        "#Para la mayoría  de los casos será 2\n",
        "\n",
        "m.options.IMODE = 2"
      ],
      "execution_count": null,
      "outputs": []
    },
    {
      "cell_type": "code",
      "metadata": {
        "trusted": true,
        "id": "bDeNBNXcpmlG"
      },
      "source": [
        "#Paso 8. Optimizando con el código .solve()\n",
        "m.solve(disp=False)"
      ],
      "execution_count": null,
      "outputs": []
    },
    {
      "cell_type": "code",
      "metadata": {
        "trusted": true,
        "id": "H0OjW4Y2pmlG"
      },
      "source": [
        "#Paso 9. Resultados\n",
        "print('Optimimizado, a = ' + str(a.value[0]))"
      ],
      "execution_count": null,
      "outputs": []
    },
    {
      "cell_type": "code",
      "metadata": {
        "trusted": true,
        "id": "HvOsAXfzpmlH"
      },
      "source": [
        "import matplotlib.pyplot as plt\n",
        "\n",
        "\n",
        "plt.plot(xm,ym,'bo')\n",
        "plt.plot(xm,y.value,'r-')"
      ],
      "execution_count": null,
      "outputs": []
    },
    {
      "cell_type": "markdown",
      "metadata": {
        "id": "tXp-apyfpmlH"
      },
      "source": [
        "[Volver al índice](https://notebooks.azure.com/jeff0994/libraries/QU-0560-1-1/html/01Introducci%C3%B3n-Indice.ipynb)"
      ]
    },
    {
      "cell_type": "code",
      "metadata": {
        "trusted": true,
        "id": "guIk4GHvpmlH"
      },
      "source": [
        ""
      ],
      "execution_count": null,
      "outputs": []
    }
  ]
}