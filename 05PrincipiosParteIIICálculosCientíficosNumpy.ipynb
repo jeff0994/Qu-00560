{
  "nbformat": 4,
  "nbformat_minor": 0,
  "metadata": {
    "kernelspec": {
      "name": "python36",
      "display_name": "Python 3.6",
      "language": "python"
    },
    "language_info": {
      "mimetype": "text/x-python",
      "nbconvert_exporter": "python",
      "name": "python",
      "pygments_lexer": "ipython3",
      "version": "3.6.6",
      "file_extension": ".py",
      "codemirror_mode": {
        "version": 3,
        "name": "ipython"
      }
    },
    "colab": {
      "name": "05PrincipiosParteIIICálculosCientíficosNumpy.ipynb",
      "provenance": [],
      "include_colab_link": true
    }
  },
  "cells": [
    {
      "cell_type": "markdown",
      "metadata": {
        "id": "view-in-github",
        "colab_type": "text"
      },
      "source": [
        "<a href=\"https://colab.research.google.com/github/jeff0994/Qu-00560/blob/master/05PrincipiosParteIIIC%C3%A1lculosCient%C3%ADficosNumpy.ipynb\" target=\"_parent\"><img src=\"https://colab.research.google.com/assets/colab-badge.svg\" alt=\"Open In Colab\"/></a>"
      ]
    },
    {
      "cell_type": "markdown",
      "metadata": {
        "collapsed": true,
        "id": "wDYzsmiply74"
      },
      "source": [
        "# Universidad de Costa Rica\n",
        "\n",
        "## Facultad de Ciencias\n",
        "\n",
        "## Escuela de Química\n",
        "\n",
        "## Sección de Fisicoquímica\n",
        "\n",
        "## Qu-0560 Tópicos de Química Física: Herramientas Computacionales para Química\n",
        "\n",
        "### Profesor Mauricio Gutiérrez\n",
        "### Asistente no oficial: Yefry López"
      ]
    },
    {
      "cell_type": "markdown",
      "metadata": {
        "id": "XpTLhlEJly77"
      },
      "source": [
        "# Módulo IV. Computación Numérica con Numpy"
      ]
    },
    {
      "cell_type": "markdown",
      "metadata": {
        "id": "q-2qk-5Vly78"
      },
      "source": [
        "## Objetivos de Aprendizaje\n",
        "***\n",
        "\n",
        "* Aprender el manejo de vectores en 1, 2 y N-dimensiones usando Numpy\n",
        "* Utilizar Numpy para resolver problemas de estadística\n",
        "* Utilizar Numpy para resolver problemas de Cálculo y Algebra Lineal"
      ]
    },
    {
      "cell_type": "markdown",
      "metadata": {
        "id": "GHtCcKqdly78"
      },
      "source": [
        "### ¿ Que es Numpy?\n",
        "\n",
        "<img src='https://upload.wikimedia.org/wikipedia/commons/thumb/3/31/NumPy_logo_2020.svg/512px-NumPy_logo_2020.svg.png' alt=\"Numpy\" align= \"center\">\n",
        "\n",
        "Numpy es el paquete Numérico de Python _Numeric Python_ , que permite realizar cálculos de computación científica con Python de forma eficiente.\n",
        "\n",
        "¿Que nos permite hacer?\n",
        "\n",
        "* Realizar cálculos numéricos con Python usando vectores de N-dimensiones.\n",
        "* Realizar operaciones que son rapidamente vectorizables mediante n-arrays.\n",
        "* Resolver problemas de Algebra Lineal, Cálculo y Ecuaciones diferenciales con mucha capacidad.\n",
        "* Permite simplicar de forma eficiente cálculos en Python que de otro modo tendrían que ser programados.\n",
        "\n",
        "Para mas información, visita la página del [autor](http://www.numpy.org/)"
      ]
    },
    {
      "cell_type": "markdown",
      "metadata": {
        "id": "ATH3VJFkly79"
      },
      "source": [
        "## Importando Numpy.\n",
        "\n",
        "Recuerda nuestra primer sesión!\n",
        "\n",
        "Para importar determinados paquete\n",
        "\n",
        "__import numpy as np ___"
      ]
    },
    {
      "cell_type": "markdown",
      "metadata": {
        "id": "uDKogrJily7-"
      },
      "source": [
        "Importa el paquete en la siguiente celda"
      ]
    },
    {
      "cell_type": "code",
      "metadata": {
        "trusted": true,
        "id": "L6c41m4Yly7-"
      },
      "source": [
        "import numpy as np"
      ],
      "execution_count": null,
      "outputs": []
    },
    {
      "cell_type": "markdown",
      "metadata": {
        "id": "zB_S_vyply7_"
      },
      "source": [
        "Recuerda, le hablaste a tu compa Python de la siguiente forma...\n",
        "\n",
        " Python, se que Jupyter ya se encuentra instalado Numpy, por lo tanto quiero que lo importes en esta hoja de Jupyter, así mismo deseo importarlo como __np__ (lo bauticé así porque quize )"
      ]
    },
    {
      "cell_type": "markdown",
      "metadata": {
        "id": "heOR9Vdply8A"
      },
      "source": [
        "## Trabajando con vectores o arrays.\n",
        "\n",
        "De tus amadas clases de Física I (sarcasmo), te recordarás que un vector es un objeto matemático que tiene magnitud y dirección.\n",
        "También que podes trabajar vectores en términos de sus componentes en i,j y k vectores unitarios. <br>\n",
        "\n",
        "Por ejemplo, supongamos un vector __A__ en el espacio de coordenas cartesianas. <br>\n",
        "Podemos escribir el vector __A__ de la siguiente forma. <br>\n",
        "\n",
        "$$ \\vec{A} = A_{x} \\hat{i} + A_{y} \\hat{j} +  A_{z} \\hat{k}$$\n",
        "\n",
        "Donde $A_{x}$ ,  $A_{y}$ ,  $A_{z}$ representan las componentes, elementos o entradas del vector __A__ <br>\n",
        "Y así mismo $\\hat{i}$ , $\\hat{j}$ , $\\hat{z}$ son las direcciones de cada componente o vector unitarios <br>\n",
        "\n",
        "Por notación, vos podes escribir el vector __A__ de la siguiente forma  <br>\n",
        "<br>\n",
        "$$ \\vec{A} = ( A_{x}, A_{y}, A_{z}) $$\n",
        "<br>\n",
        "Verdad que la expresión anterior te parece a algo conocido? Mira bien, tenemos un objeto __A__ que se conforma por tres elementos , cada uno separado por una coma y todo encerrado entre paréntesis... Te suena a algo?  <br>\n",
        "\n",
        "Correcto, es como si se tratase de un Tuple o una Lista  <br>\n"
      ]
    },
    {
      "cell_type": "markdown",
      "metadata": {
        "id": "Ihd8ufpdly8A"
      },
      "source": [
        "Por ahí va la cosa!<br>\n",
        "<br>\n",
        "Volvamos a nuestro vector __A__, supongamos que queremos mas generalizadad!\n",
        "Rebautizemos a nuestras componentes y vectores unitarios, <br>\n",
        "\n",
        " * $A_{x}$ =  $A_{1}$\n",
        " * $A_{y}$ =  $A_{2}$\n",
        " * $A_{z}$ =  $A_{3}$\n",
        " \n",
        "Y los vectores unitarios..\n",
        " *  $\\hat{i}$ = $\\hat{e_{1}}$\n",
        " *  $\\hat{j}$ = $\\hat{e_{2}}$\n",
        " *  $\\hat{k}$ = $\\hat{e_{3}}$\n"
      ]
    },
    {
      "cell_type": "markdown",
      "metadata": {
        "id": "hQD7Edr3ly8B"
      },
      "source": [
        "Entonces nuestro vector general __A__ queda de la siguiente forma\n",
        "\n",
        "$$ \\vec{A} = A_{1} \\hat{e_{1}} + A_{2} \\hat{e_{2}} +  A_{3} \\hat{e_{3}}$$\n",
        "$$ \\vec{A} = ( A_{1}, A_{2}, A_{3}) $$"
      ]
    },
    {
      "cell_type": "markdown",
      "metadata": {
        "id": "39uyyWfVly8B"
      },
      "source": [
        "Sí queremos generalizar para 4 componentes o elementos.... <br>\n",
        "\n",
        "$$ \\vec{A} = A_{1} \\hat{e_{1}} + A_{2} \\hat{e_{2}} +  A_{3} \\hat{e_{3}} +   A_{4} \\hat{e_{4}}$$\n",
        "$$ \\vec{A} = ( A_{1}, A_{2}, A_{3} ,  A_{4}) $$\n",
        "\n",
        "\n",
        "Para N-componentes tenemos que \n",
        "\n",
        "$$ \\vec{A} = A_{1} \\hat{e_{1}} + A_{2} \\hat{e_{2}} +  A_{3} \\hat{e_{3}} +  A_{4} \\hat{e_{4}} + ... + A_{N} \\hat{e_{N}} $$ <br>\n",
        "<br>\n",
        "O en notación de suma <br>\n",
        "\n",
        "$$ \\vec{A} = \\sum_{k=1}^N A_{N} \\hat{e_{N}} $$\n",
        "\n",
        "O notación por componentes <br>\n",
        "<br>\n",
        "$$ \\vec{A} = ( A_{1}, A_{2}, A_{3} ,  A_{4} , ... ,  A_{N} ) $$"
      ]
    },
    {
      "cell_type": "markdown",
      "metadata": {
        "id": "ge8pYF_Aly8B"
      },
      "source": [
        "En las celdas anteriores generalizamos la noción de vector o array. <br>\n",
        "Este concepto es de gran importancia en matemática y ciencia en general <br>\n",
        "\n",
        "Como ya mencionabamos, un array en términos de componentes tiene estructura de la primitiva __lista__ ... <br>\n",
        "\n",
        "Por lo tanto sí, en general en Python y otros lenguajes de programación, utilizamos los arrays o vectores con la notación que aprendimos para usar listas <br>"
      ]
    },
    {
      "cell_type": "markdown",
      "metadata": {
        "id": "EXNi8Uznly8C"
      },
      "source": [
        "## El problema de las listas en Python. \n",
        "### ¿Por que debemos definir un Array en Python , si ya existen las listas ?\n",
        "\n",
        "Supongamos que tenemos dos vectores __A__ y __B__ con las siguientes compoentes <br>\n",
        "\n",
        "$$ \\vec{A} = 3 \\hat{e_{1}} + 5 \\hat{e_{2}} +  8 \\hat{e_{3}}$$\n",
        "$$ \\vec{A} = ( 3, 5, 8) $$\n",
        "\n",
        "$$ \\vec{B} = 1 \\hat{e_{1}} + 2 \\hat{e_{2}} +  9 \\hat{e_{3}}$$\n",
        "$$ \\vec{B} = ( 1, 2, 9) $$\n",
        "\n",
        "Y que ahora queremos definir un nuevo vector __C__ como __A + B__ <br>\n",
        "\n",
        "De tus clases de física y cálculo ,te recordarás que dos vectores se suman componente por componente <br>\n",
        "\n",
        "Es decir:\n",
        "\n",
        "$$ \\vec{C} = \\vec{A} + \\vec{B} =  (3 + 1) \\hat{e_{1}} + (5 + 2) \\hat{e_{2}} +  (8 + 9) \\hat{e_{3}}$$\n",
        "$$ \\vec{C} =(4,7,17) $$"
      ]
    },
    {
      "cell_type": "markdown",
      "metadata": {
        "id": "Cd5k3sw1ly8C"
      },
      "source": [
        "Hagamos lo anterior con listas.\n",
        "Define dos listas llamadas A y B.\n",
        "\n",
        "Con los componentes respectivos"
      ]
    },
    {
      "cell_type": "code",
      "metadata": {
        "trusted": true,
        "id": "ehm3NV0vly8C"
      },
      "source": [
        "# Define la lista A\n"
      ],
      "execution_count": null,
      "outputs": []
    },
    {
      "cell_type": "code",
      "metadata": {
        "trusted": true,
        "id": "xrAuCKCOly8D"
      },
      "source": [
        "# Define la lista B\n"
      ],
      "execution_count": null,
      "outputs": []
    },
    {
      "cell_type": "markdown",
      "metadata": {
        "id": "xfKI0xLQly8D"
      },
      "source": [
        "Ahora crea la lista C como la suma de A y B\n",
        "\n",
        "C = A + B"
      ]
    },
    {
      "cell_type": "code",
      "metadata": {
        "trusted": true,
        "id": "R3msIkbkly8D"
      },
      "source": [
        "# Suma la lista A y B y guarda el resultado en la variable C"
      ],
      "execution_count": null,
      "outputs": []
    },
    {
      "cell_type": "code",
      "metadata": {
        "trusted": true,
        "id": "3T6O9vbnly8E"
      },
      "source": [
        "# Imprime la lista C\n"
      ],
      "execution_count": null,
      "outputs": []
    },
    {
      "cell_type": "markdown",
      "metadata": {
        "id": "Ta4DTYDLly8E"
      },
      "source": [
        "El resultado como te dio? <br>\n",
        "\n",
        "¿Te dio el resultado esperado C = (4 , 7, 17) ? <br>\n",
        "Correcto, simplemente concatenó ambas listas y ya, mas no sumó componente por componente como debería ser <br>\n",
        "\n",
        "Lo anterior ejemplifica el problema con las __listas__, si bien son bastante útiles y mucho mas fáciles de utilizar respecto a otros lenguajes... Las listas no siguen el comportamiento de un _array_ o _vector_\n",
        "\n",
        "Tratando de solucionar este problema, se crea Numpy y los arrays en Python! (tomando como bases las listas y tuples) <br>"
      ]
    },
    {
      "cell_type": "markdown",
      "metadata": {
        "id": "xU0nOEHnly8E"
      },
      "source": [
        "## Creando arrays en Python.\n",
        "\n",
        "Para crea un array en Python. <br>\n",
        "Primero importa el paquete Numpy <br>\n",
        "\n",
        "Sí lo importas como _np_ tenés que recordár usar el np <br>\n",
        "\n",
        "Por ejemplo supongamos que querés crear un vector con componentes 2,3 y 4 <br>\n",
        "\n",
        "Usarás la siguiente sintaxis <br>\n",
        "\n",
        "* a = np.array([2,3,4])\n",
        "\n",
        "O primero podes definir una lista <br>\n",
        "* A =  [2 3, 4]\n",
        "\n",
        "Luego la pones dentro del np.array. <br>\n",
        "* a = np.array(A)\n"
      ]
    },
    {
      "cell_type": "code",
      "metadata": {
        "trusted": true,
        "id": "WW-enQQtly8F"
      },
      "source": [
        "a = np.array([2,3,4])"
      ],
      "execution_count": null,
      "outputs": []
    },
    {
      "cell_type": "markdown",
      "metadata": {
        "id": "4qmIbeTDly8F"
      },
      "source": [
        "Preguntemos a Python que es a"
      ]
    },
    {
      "cell_type": "code",
      "metadata": {
        "trusted": true,
        "id": "AJrGC0VAly8F"
      },
      "source": [
        "#Imprime el array a en pantalla\n"
      ],
      "execution_count": null,
      "outputs": []
    },
    {
      "cell_type": "markdown",
      "metadata": {
        "id": "HiMJYo9Zly8F"
      },
      "source": [
        "De la misma manera que aprendimos en listas, podemos acceder a cada elemento del array, usando la notación index.\n",
        "\n",
        "Por ejemplo si quiero acceder al primer elemento del array"
      ]
    },
    {
      "cell_type": "code",
      "metadata": {
        "trusted": true,
        "id": "l7bp4hDply8G"
      },
      "source": [
        "a[0]"
      ],
      "execution_count": null,
      "outputs": []
    },
    {
      "cell_type": "markdown",
      "metadata": {
        "id": "fsV-d24xly8G"
      },
      "source": [
        "Accede al elemento tres del array"
      ]
    },
    {
      "cell_type": "code",
      "metadata": {
        "trusted": true,
        "id": "EjDGHcuAly8G"
      },
      "source": [
        "# Accede al elemente 3 del array"
      ],
      "execution_count": null,
      "outputs": []
    },
    {
      "cell_type": "markdown",
      "metadata": {
        "id": "FyuDDicgly8G"
      },
      "source": [
        "Si querés el tipo de objeto que es el array.\n",
        "Podes usar la función type()"
      ]
    },
    {
      "cell_type": "code",
      "metadata": {
        "trusted": true,
        "id": "xDiLc9pJly8H"
      },
      "source": [
        "# Corre esta celda\n",
        "type(a)"
      ],
      "execution_count": null,
      "outputs": []
    },
    {
      "cell_type": "markdown",
      "metadata": {
        "id": "sWUR5eklly8H"
      },
      "source": [
        "Okey okey, es un numpy array...\n",
        "\n",
        "Pero si quiero saber el tipo de ELEMENTOS que contiene el array?\n",
        "\n",
        "Usamos el método .dtype\n"
      ]
    },
    {
      "cell_type": "code",
      "metadata": {
        "trusted": true,
        "id": "OX0fZBNBly8H"
      },
      "source": [
        "# Corre la siguiente celda\n",
        "a.dtype"
      ],
      "execution_count": null,
      "outputs": []
    },
    {
      "cell_type": "code",
      "metadata": {
        "trusted": true,
        "id": "L89wMOtXly8I"
      },
      "source": [
        "Sí queres saber la cantidad de elementos que contiene el array usas el atributo .size"
      ],
      "execution_count": null,
      "outputs": []
    },
    {
      "cell_type": "code",
      "metadata": {
        "trusted": true,
        "id": "glHnxtfPly8I"
      },
      "source": [
        "# Corre la siguiente celda\n",
        "a.size"
      ],
      "execution_count": null,
      "outputs": []
    },
    {
      "cell_type": "markdown",
      "metadata": {
        "id": "sO9OJvusly8I"
      },
      "source": [
        "__HINT__ te diste cuenta que usamos los atributos __a.size__ y __a.dtype__ ? <br>\n",
        "\n",
        "Tienen forma de métodos, pero si recuerdas los métodos llevaban paréntesis () al final. <br>\n",
        "\n",
        "Cuando trabajas con numpy no hace falta usar los paréntesis al final. <br>\n",
        "\n",
        "En general la notación es <br>\n",
        "nombre del array.atributo <br>\n",
        "\n",
        "Por ejemplo\n",
        "\n",
        "* a.size\n",
        "* a.dtype"
      ]
    },
    {
      "cell_type": "markdown",
      "metadata": {
        "id": "MByJx_Yily8I"
      },
      "source": [
        "Sí queres conocer el número de dimensiones del array usamos el atributo .ndim"
      ]
    },
    {
      "cell_type": "code",
      "metadata": {
        "trusted": true,
        "id": "aYh7Ifofly8J"
      },
      "source": [
        "# Corre la siguiente celda\n",
        "a.ndim"
      ],
      "execution_count": null,
      "outputs": []
    },
    {
      "cell_type": "markdown",
      "metadata": {
        "id": "87qklwsely8J"
      },
      "source": [
        "Podes crear un array con números reales!\n",
        "\n",
        "Crea un array con los elementos [3.1 , 11.02 , 6.2 , 213.2 , 5.2] y guardalo en la variable b"
      ]
    },
    {
      "cell_type": "code",
      "metadata": {
        "trusted": true,
        "id": "Im6vzrdIly8J"
      },
      "source": [
        "# Crea el array b"
      ],
      "execution_count": null,
      "outputs": []
    },
    {
      "cell_type": "code",
      "metadata": {
        "trusted": true,
        "id": "N2aq6jJrly8J"
      },
      "source": [
        "# Accede al segundo elemento del array b"
      ],
      "execution_count": null,
      "outputs": []
    },
    {
      "cell_type": "markdown",
      "metadata": {
        "id": "C6w2ugYcly8K"
      },
      "source": [
        "Pregunta a Python el .dtype del array b"
      ]
    },
    {
      "cell_type": "code",
      "metadata": {
        "trusted": true,
        "id": "yNMH0m7Kly8K"
      },
      "source": [
        "# Cual es el dtype del array b"
      ],
      "execution_count": null,
      "outputs": []
    },
    {
      "cell_type": "code",
      "metadata": {
        "trusted": true,
        "id": "uITyGSaCly8K"
      },
      "source": [
        "Pregunta a Python el número de componentes de b con .size"
      ],
      "execution_count": null,
      "outputs": []
    },
    {
      "cell_type": "code",
      "metadata": {
        "trusted": true,
        "id": "UD9VrX7kly8K"
      },
      "source": [
        "# Cual es el número de compoenentes de b"
      ],
      "execution_count": null,
      "outputs": []
    },
    {
      "cell_type": "markdown",
      "metadata": {
        "id": "_ok2WI-vly8K"
      },
      "source": [
        "## Index y Slicing en arrays"
      ]
    },
    {
      "cell_type": "code",
      "metadata": {
        "trusted": true,
        "id": "LUzYdu2kly8L"
      },
      "source": [
        "Vamos a crear el array c con los elementos 4 , 5, 6 y 20"
      ],
      "execution_count": null,
      "outputs": []
    },
    {
      "cell_type": "code",
      "metadata": {
        "trusted": true,
        "id": "2HbjUdpWly8L"
      },
      "source": [
        "#Crea el array C"
      ],
      "execution_count": null,
      "outputs": []
    },
    {
      "cell_type": "code",
      "metadata": {
        "trusted": true,
        "id": "9TM_C__Bly8L"
      },
      "source": [
        "Accede a su primer elemento"
      ],
      "execution_count": null,
      "outputs": []
    },
    {
      "cell_type": "code",
      "metadata": {
        "trusted": true,
        "id": "Wnwo3uVxly8L"
      },
      "source": [
        "# Acceder al primer elemento"
      ],
      "execution_count": null,
      "outputs": []
    },
    {
      "cell_type": "markdown",
      "metadata": {
        "id": "46O28IQaly8L"
      },
      "source": [
        "Supongamos que queremos cambiar su primer elemento a 8 , para eso emplearemos el siguiente código"
      ]
    },
    {
      "cell_type": "code",
      "metadata": {
        "trusted": true,
        "id": "rohWw31Xly8L"
      },
      "source": [
        "c[0] = 8"
      ],
      "execution_count": null,
      "outputs": []
    },
    {
      "cell_type": "markdown",
      "metadata": {
        "id": "O-m2iUb7ly8M"
      },
      "source": [
        "Cambia el tercer elemento (6) al valor 11"
      ]
    },
    {
      "cell_type": "code",
      "metadata": {
        "trusted": true,
        "id": "Y7KLMa7Cly8M"
      },
      "source": [
        "#Cambia el tercer elemento"
      ],
      "execution_count": null,
      "outputs": []
    },
    {
      "cell_type": "markdown",
      "metadata": {
        "id": "GZLQnbE9ly8M"
      },
      "source": [
        "Para selecciones del segundo elemento al cuarto utilizamos la notación slicing"
      ]
    },
    {
      "cell_type": "code",
      "metadata": {
        "trusted": true,
        "id": "Tz-PLxFcly8M"
      },
      "source": [
        ""
      ],
      "execution_count": null,
      "outputs": []
    },
    {
      "cell_type": "markdown",
      "metadata": {
        "id": "NO1GPuP_ly8M"
      },
      "source": [
        "### Operaciones básicas en Numpy array\n",
        "\n",
        "Con Numpy array podes hacer las operaciones básicas\n",
        "\n",
        "Considera los vectores __u__ y __v__ , cada uno con dos elementos\n",
        "\n",
        "u = (1,3) <br>\n",
        "v = (3,5) <br>"
      ]
    },
    {
      "cell_type": "code",
      "metadata": {
        "trusted": true,
        "id": "u_wSVOmVly8M"
      },
      "source": [
        "u = np.array([1,3])"
      ],
      "execution_count": null,
      "outputs": []
    },
    {
      "cell_type": "markdown",
      "metadata": {
        "id": "HGrFoDB1ly8N"
      },
      "source": [
        "Declara el Numpy array v en la siguiente celda"
      ]
    },
    {
      "cell_type": "code",
      "metadata": {
        "trusted": true,
        "id": "FwBUDIprly8N"
      },
      "source": [
        "# Crea el array v"
      ],
      "execution_count": null,
      "outputs": []
    },
    {
      "cell_type": "markdown",
      "metadata": {
        "id": "w46D_4gYly8N"
      },
      "source": [
        "Vamos a realizar la suma de u y v y guardar el resultado en la variable c"
      ]
    },
    {
      "cell_type": "code",
      "metadata": {
        "trusted": true,
        "id": "Nh18eqFRly8N"
      },
      "source": [
        "c = u + v"
      ],
      "execution_count": null,
      "outputs": []
    },
    {
      "cell_type": "code",
      "metadata": {
        "trusted": true,
        "id": "fIXzQQp-ly8N"
      },
      "source": [
        "Veamos el resultado de c"
      ],
      "execution_count": null,
      "outputs": []
    },
    {
      "cell_type": "code",
      "metadata": {
        "trusted": true,
        "id": "1uB_l4fUly8N"
      },
      "source": [
        "# Corre esta celda\n",
        "v"
      ],
      "execution_count": null,
      "outputs": []
    },
    {
      "cell_type": "markdown",
      "metadata": {
        "id": "sa2DJO-Dly8O"
      },
      "source": [
        "¿Que sucede sí hacemos la operación u + 3 ?\n",
        "Veamoslo"
      ]
    },
    {
      "cell_type": "code",
      "metadata": {
        "trusted": true,
        "id": "kXK0npx7ly8O"
      },
      "source": [
        "u + 3"
      ],
      "execution_count": null,
      "outputs": []
    },
    {
      "cell_type": "markdown",
      "metadata": {
        "id": "mh-1I6BUly8O"
      },
      "source": [
        "Al efectuar u +3, Numpy suma la cantidad 3 a cada entrada!"
      ]
    },
    {
      "cell_type": "markdown",
      "metadata": {
        "id": "yexu2vbBly8O"
      },
      "source": [
        "Multipliquemos por un factor de 2 al vector __v__"
      ]
    },
    {
      "cell_type": "code",
      "metadata": {
        "trusted": true,
        "id": "VUnOrzkIly8O"
      },
      "source": [
        "2*v"
      ],
      "execution_count": null,
      "outputs": []
    },
    {
      "cell_type": "code",
      "metadata": {
        "trusted": true,
        "id": "YLZjbT1yly8O"
      },
      "source": [
        "¿Cada entrada es multiplicada por dos verdad ?"
      ],
      "execution_count": null,
      "outputs": []
    },
    {
      "cell_type": "markdown",
      "metadata": {
        "id": "f7Ll3dJ_ly8P"
      },
      "source": [
        "#### Producto especial producto hadamard\n",
        "\n",
        "Como sabes, los dos productos que manejamos en matemáticas para vectores son\n",
        "\n",
        "* Producto Punto entre dos vectores cuyo resultado es un escalar\n",
        "* Producto Cruz entre dos vectores cuyo resultado es un vector\n",
        "\n",
        "En ciencia de dato existe un producto especial conocido como hadamard product.\n",
        "\n",
        "Su resultado es un vector y es la multiplicación entrada por entrada de dos vectores."
      ]
    },
    {
      "cell_type": "markdown",
      "metadata": {
        "id": "-k1E-gPDly8P"
      },
      "source": [
        "Por ejemplo <br>\n",
        "\n",
        "considérese los vectores <br>\n",
        "\n",
        "T = np.array([2,3]) <br>\n",
        "N = np.array([5,8])<br>"
      ]
    },
    {
      "cell_type": "code",
      "metadata": {
        "trusted": true,
        "id": "reZsJreBly8P"
      },
      "source": [
        "T = np.array([2,3])\n",
        "N = np.array([5,8])"
      ],
      "execution_count": null,
      "outputs": []
    },
    {
      "cell_type": "markdown",
      "metadata": {
        "id": "gYzN0h1Kly8P"
      },
      "source": [
        "Veamos que pasa si hacemos T*N"
      ]
    },
    {
      "cell_type": "code",
      "metadata": {
        "trusted": true,
        "id": "TT_QVjqdly8P"
      },
      "source": [
        "T*N"
      ],
      "execution_count": null,
      "outputs": []
    },
    {
      "cell_type": "markdown",
      "metadata": {
        "id": "zLBckfjxly8P"
      },
      "source": [
        "Se forma vector, cuyas componentes son\n",
        "\n",
        "Primer entrada = 2*5 = 10\n",
        "Segunda entrada = 3*8 = 24\n",
        "\n",
        "¿Lo entendiste?"
      ]
    },
    {
      "cell_type": "markdown",
      "metadata": {
        "id": "JQo23VJEly8Q"
      },
      "source": [
        "#### Producto Punto\n",
        "\n",
        "Te acordas que el producto punto de dos vectores __A__ y __B__ estaba dado por : <br>\n",
        "\n",
        "$$ \\vec{A}\\cdot\\vec{B} = A_{1} B_{1} +  A_{2} B_{2} +  A_{3} B_{3} $$\n",
        "\n",
        "Componente por componete y sumabas para hacer un escalar <br>\n",
        "\n",
        "Numpy te permite calcular el producto punto entre dos vectores <br>\n",
        "\n",
        "Mediante el código __np.dot(vector 1 , vector 2)__ <br>\n",
        "\n",
        "Hagamos el producto punto de T y N y guardemos el resultado en la variable __resultado <br>"
      ]
    },
    {
      "cell_type": "code",
      "metadata": {
        "trusted": true,
        "id": "IG30rotzly8Q"
      },
      "source": [
        "resultado = np.dot(T,N)"
      ],
      "execution_count": null,
      "outputs": []
    },
    {
      "cell_type": "markdown",
      "metadata": {
        "id": "8sb6hCKXly8Q"
      },
      "source": [
        "Imprimimos el resultado"
      ]
    },
    {
      "cell_type": "code",
      "metadata": {
        "trusted": true,
        "id": "e3-ON4dvly8Q"
      },
      "source": [
        "resultado"
      ],
      "execution_count": null,
      "outputs": []
    },
    {
      "cell_type": "markdown",
      "metadata": {
        "id": "jkqjM71zly8Q"
      },
      "source": [
        "#### Funciones  y métodos en Numpy\n",
        "\n",
        "¿Te acordás todas las funciones que venian con el módulo matemático __math__ ? <br>\n",
        "\n",
        "Resulta ser que numpy las tiene programadas y así mismo muchas mas!  <br>\n",
        "\n",
        "Métodos en Numpy  <br>\n",
        "\n",
        "__Estadística__  <br>\n",
        "\n",
        "* Promedio .mean()\n",
        "* Máximo   .max()\n",
        "* Mínimo  .min()\n",
        "* Desviación estardar .std()\n",
        "\n",
        "\n",
        "__Funciones Matemáticas en Numpy__ <br>\n",
        "\n",
        "* Seno Aplicar funcion seno a cada componente en un array __np.sin(nombre del array)__ <br>\n",
        "* Coseno Aplicar funcion coseno a cada componente en un array __np.cos(nombre del array)__ <br>\n",
        "* Tangente Aplicar funcionTangente a cada componente en un array __np.tan(nombre del array)__  <br>\n",
        "* Producto Multplica componente por componente __np.prod(nombre del array)__ <br>\n",
        "* Para sumar todas las entradas en un vector __np.sum(nombre del array)__ <br>\n",
        "* Producto cruz __np.cross( vector 1, vector 2)__ <br>\n",
        "* Calcular el exponente de cada elemento del array __np.exp(nombre del vector)__ <br>\n",
        "* Calcular el logaritmo natural de cada elemento del array __np.log( vector)__ <br>\n",
        "* Raiz cuadradada de los elementos del vector __np.sqrt(vector)__ <br>\n",
        "\n",
        "\n",
        "__Funciones para crear arrays formas mas rápida__ <br>\n",
        "\n",
        "linspace te permite crear un array de cierta cantidad de elementes que vos definir. <br>\n",
        "\n",
        "Por ejemplo si quiero un array de 5 elementos que se encuentren entre -2 y 2  <br>\n",
        "__np.linspace(-2,2, num = 5)__ <br>\n",
        "\n",
        "-2 y 2 son los límites de mi array <br>\n",
        "num = 5 representa la cantidad de elementos que quiero en el array <br>"
      ]
    },
    {
      "cell_type": "markdown",
      "metadata": {
        "id": "4Ck4d3Ojly8R"
      },
      "source": [
        "Para mas funciones, podes acceder a este [enlace](https://docs.scipy.org/doc/numpy-1.13.0/reference/routines.math.html)"
      ]
    },
    {
      "cell_type": "markdown",
      "metadata": {
        "id": "uKDyofOaly8R"
      },
      "source": [
        "#### Resumen\n",
        "\n",
        "Para repasar podes usar el siguiente [video](https://youtu.be/PdQCaS9w_Qo)"
      ]
    },
    {
      "cell_type": "markdown",
      "metadata": {
        "id": "upVSQ-q6ly8R"
      },
      "source": [
        "#### Ejemplo 1. Graficando la funcion seno(x)\n",
        "\n",
        "1. Genere un vector llamado __x__ con 100 entradas con los siguientes intervalos: <br>\n",
        "* inicio = 0 <br>\n",
        "* final = 2*$\\pi$ <br>\n",
        "\n",
        "2. Cree un nuevo vector __y__ donde le aplique la función seno al vector x <br>\n",
        "3. Grafique el resultado usando el módulo matploblib utilizando el siguiente código <br>\n",
        "    import matploblib.pyplot as plt <br>\n",
        "    %matplotlib inline <br>\n",
        "    plt.plot(x,y) <br>\n",
        "    \n",
        "<br>\n",
        "\n",
        "Resolución. <br>\n",
        "Para generar el vector x, podemos utilizar la función np.linspace.<br>\n",
        "El termino $\\pi$ en Numpy, puede usarse como np.pi <br>"
      ]
    },
    {
      "cell_type": "markdown",
      "metadata": {
        "id": "PYxi4hmPly8S"
      },
      "source": [
        "Paso 1. Generando el vector x"
      ]
    },
    {
      "cell_type": "code",
      "metadata": {
        "trusted": true,
        "id": "CgplLxYvly8S"
      },
      "source": [
        "x = np.linspace(0 ,  2* np.pi , 100)"
      ],
      "execution_count": null,
      "outputs": []
    },
    {
      "cell_type": "markdown",
      "metadata": {
        "id": "uoasVtcLly8S"
      },
      "source": [
        "Paso 2. Generando el vector y"
      ]
    },
    {
      "cell_type": "code",
      "metadata": {
        "trusted": true,
        "id": "PmhTSSy0ly8S"
      },
      "source": [
        "y = np.sin(x)"
      ],
      "execution_count": null,
      "outputs": []
    },
    {
      "cell_type": "markdown",
      "metadata": {
        "id": "PEe0Ws_Rly8S"
      },
      "source": [
        "Paso 3. Gráfica"
      ]
    },
    {
      "cell_type": "code",
      "metadata": {
        "trusted": true,
        "id": "hoT_iM4cly8S"
      },
      "source": [
        "import matplotlib.pyplot as plt\n",
        "%matplotlib inline\n",
        "plt.plot(x,y) \n"
      ],
      "execution_count": null,
      "outputs": []
    },
    {
      "cell_type": "markdown",
      "metadata": {
        "id": "NQ88B3Kaly8T"
      },
      "source": [
        "Preguntemos por x"
      ]
    },
    {
      "cell_type": "code",
      "metadata": {
        "trusted": true,
        "id": "6yqM6w_Cly8T"
      },
      "source": [
        "x"
      ],
      "execution_count": null,
      "outputs": []
    },
    {
      "cell_type": "markdown",
      "metadata": {
        "id": "82H24KGuly8T"
      },
      "source": [
        "Son muchos puntos o.O !!!\n",
        "\n",
        "Por eso Numpy es uno de los Paquetes mas poderoso en Python! Simplifica mucho los cálculos"
      ]
    },
    {
      "cell_type": "markdown",
      "metadata": {
        "trusted": true,
        "id": "o8SxFb10ly8T"
      },
      "source": [
        "Te propongo el siguiente ejercicio! <br>\n",
        "\n",
        "Los factores exponenciales son clásicos en Química, están relaciones con la distribución de Boltzmann .<br>\n",
        "\n",
        "En Química se encuentran por todo lado! Te recordas de tus clases de Orgánica cuando hablaban de la Energía de activación habia un factor exponencial. <br>\n",
        "\n",
        "$$ y = e^{-0.005*x}$$ <br>\n",
        "\n",
        "* Grafica la anterior función exponencial. <br>\n",
        "* Para esto crea un array llamado x que se componen por 200 elementos que van de 20 a 300 <br>\n",
        "* Crea un array y que utilice la función np.exp(-0.005*x) para crear y <br>\n",
        "* Grafica el resultado con plt.plot(x,y) <br>\n",
        "\n"
      ]
    },
    {
      "cell_type": "code",
      "metadata": {
        "trusted": true,
        "id": "cKq0bftOly8T"
      },
      "source": [
        "# Crea el array x con linspace"
      ],
      "execution_count": null,
      "outputs": []
    },
    {
      "cell_type": "code",
      "metadata": {
        "trusted": true,
        "id": "O96Vhv81ly8U"
      },
      "source": [
        "# Imprime x\n",
        "x"
      ],
      "execution_count": null,
      "outputs": []
    },
    {
      "cell_type": "code",
      "metadata": {
        "trusted": true,
        "id": "xppZdY0Yly8U"
      },
      "source": [
        "# Crea el array y\n"
      ],
      "execution_count": null,
      "outputs": []
    },
    {
      "cell_type": "code",
      "metadata": {
        "trusted": true,
        "id": "rMiW4f4cly8U"
      },
      "source": [
        "#Imprimir y\n",
        "y"
      ],
      "execution_count": null,
      "outputs": []
    },
    {
      "cell_type": "code",
      "metadata": {
        "trusted": true,
        "id": "OPLG0kxNly8U"
      },
      "source": [
        "#Grafica la función con el comando plt.plot(x,y)"
      ],
      "execution_count": null,
      "outputs": []
    },
    {
      "cell_type": "markdown",
      "metadata": {
        "id": "DpMQHU1Xly8U"
      },
      "source": [
        "## Arrays en dos y mas dimensiones\n",
        "\n",
        "Considera la siguiente lista __a__\n",
        "\n",
        "a = [[11 ,12,13],[21,22,23],[31,32,33]]\n",
        "\n",
        "La lista a es una lista que a su vez contiene tres listas como elementos\n"
      ]
    },
    {
      "cell_type": "code",
      "metadata": {
        "trusted": true,
        "id": "PzkZ6hG1ly8U"
      },
      "source": [
        "a = [[11,12,13],[21,22,23],[31,32,33]]"
      ],
      "execution_count": null,
      "outputs": []
    },
    {
      "cell_type": "markdown",
      "metadata": {
        "id": "vTZCUe6Ely8V"
      },
      "source": [
        "Utilizando numpy podemos tranforma la lista en un numpy array"
      ]
    },
    {
      "cell_type": "code",
      "metadata": {
        "trusted": true,
        "id": "AlGcQI8Ely8V"
      },
      "source": [
        "A = np.array(a)"
      ],
      "execution_count": null,
      "outputs": []
    },
    {
      "cell_type": "code",
      "metadata": {
        "trusted": true,
        "id": "ZHXl4NLFly8X"
      },
      "source": [
        "A"
      ],
      "execution_count": null,
      "outputs": []
    },
    {
      "cell_type": "markdown",
      "metadata": {
        "id": "jRtFCCnUly8X"
      },
      "source": [
        "Listo! Acabamos de crear un array de tres dimensiones. <br>\n",
        "\n",
        "Basicamente es crear  listas anidadas dentro de una lista, luego convierte dicha lista en un np.array. <br>\n",
        "\n",
        "Técnicamente es una matriz! <br>"
      ]
    },
    {
      "cell_type": "markdown",
      "metadata": {
        "id": "0Nsx7waUly8X"
      },
      "source": [
        "Para saber la forma de la matriz podemos usar el atributo __.shape__"
      ]
    },
    {
      "cell_type": "code",
      "metadata": {
        "trusted": true,
        "id": "YQJyXF27ly8X"
      },
      "source": [
        "A.shape"
      ],
      "execution_count": null,
      "outputs": []
    },
    {
      "cell_type": "markdown",
      "metadata": {
        "id": "3tq2MLzTly8X"
      },
      "source": [
        "3x3 significa que tenemos tres filas o número de listas dentro de la lista y tres columnas o número de elementos dentro de las listas individuales"
      ]
    },
    {
      "cell_type": "markdown",
      "metadata": {
        "id": "ejFkhWDDly8Y"
      },
      "source": [
        "¿ Cuantos elementos en total tiene A ? Podes usar el atributo __.size__"
      ]
    },
    {
      "cell_type": "code",
      "metadata": {
        "trusted": true,
        "id": "onACMAcbly8Y"
      },
      "source": [
        "A.size"
      ],
      "execution_count": null,
      "outputs": []
    },
    {
      "cell_type": "markdown",
      "metadata": {
        "trusted": true,
        "id": "Ye499L9Aly8Y"
      },
      "source": [
        "Para acceder a los elementos de A, podemos usar la notación de index y doble index. <br>\n",
        "\n",
        "Recuerda que <br>\n",
        "\n",
        "$ A = (A[0] , A[1] , [A2]) $ <br>\n",
        "\n",
        "Donde <br>\n",
        "\n",
        "* $A[0]$ es $[11,12,13]$ <br>\n",
        "* $A[1]$ es $[21,22,23]$ <br>\n",
        "* $A[2]$ es $[31,32,33]$ <br>\n",
        "\n",
        "Y su vez, para acceder a los elementos mas individuales <br>\n",
        "\n",
        "$A = [A[0][0],A[0][1],A[0][2],A[1][0],A[1][1],A[1][2],A[2][0],A[2][1],A[2][2]]$ <br>\n",
        "\n",
        "\n",
        "\n",
        "Lo podes ver como una matriz\n",
        "\n",
        "$$ A= \\begin{bmatrix}{A[0][0]}&{A[0][1]}&{A[0][2]}\\\\{A[0][0]}&{A[0][1]}&{A[0][2]}\\\\{A[0][0]}&{A[0][1]}&{A[0][2]}\\end{bmatrix} $$"
      ]
    },
    {
      "cell_type": "markdown",
      "metadata": {
        "id": "O3zMLr1Qly8Z"
      },
      "source": [
        "### Slicing\n",
        "\n",
        "Las mismas reglas que aprendiste en listas, aplican para los Numpy arrays.\n",
        "\n",
        "Por ejemplo si quiero obtener los primeros elementos de la fila 1 hago lo siguiente\n",
        "\n",
        "Recuerda la notación!\n",
        "A[fila][columna]"
      ]
    },
    {
      "cell_type": "code",
      "metadata": {
        "trusted": true,
        "id": "z28Vtfe2ly8Z"
      },
      "source": [
        "A[0][0:2]"
      ],
      "execution_count": null,
      "outputs": []
    },
    {
      "cell_type": "markdown",
      "metadata": {
        "id": "H6b-kxuEly8Z"
      },
      "source": [
        "Le estoy diciendo a Python. <br>\n",
        "\n",
        "Busca en la primer fila, index cero <br>\n",
        "Luego muestrame los primeros dos elementos <br>"
      ]
    },
    {
      "cell_type": "markdown",
      "metadata": {
        "id": "ys5oUqBZly8Z"
      },
      "source": [
        "Busca en la tercer fila, los dos últimos elementos. <br>\n"
      ]
    },
    {
      "cell_type": "code",
      "metadata": {
        "trusted": true,
        "id": "sa0HeCG9ly8Z"
      },
      "source": [
        "A[2][1:3]\n"
      ],
      "execution_count": null,
      "outputs": []
    },
    {
      "cell_type": "markdown",
      "metadata": {
        "id": "KV1zojkfly8Z"
      },
      "source": [
        "Te propongo que busques en la segunda fila, los dos últimos elementos de la maxtriz"
      ]
    },
    {
      "cell_type": "code",
      "metadata": {
        "trusted": true,
        "id": "sHRisC3Aly8a"
      },
      "source": [
        "#Haz el ejercicio acá"
      ],
      "execution_count": null,
      "outputs": []
    },
    {
      "cell_type": "markdown",
      "metadata": {
        "id": "FroPZuO8ly8a"
      },
      "source": [
        "Recerda que en Python en general <br>\n",
        "\n",
        "index 0 es el primer elemento <br>\n",
        "index 1 es el segundo elemento <br>\n",
        "index 2 es el tercer elemento <br>\n",
        "     __.__ <br>\n",
        "     __.__ <br>\n",
        "     __.__ <br>\n",
        "index(N-1) es el N-enésimo elemento    <br>"
      ]
    },
    {
      "cell_type": "markdown",
      "metadata": {
        "id": "TQB1wjOFly8a"
      },
      "source": [
        ""
      ]
    },
    {
      "cell_type": "markdown",
      "metadata": {
        "id": "k6ZXYA4Xly8a"
      },
      "source": [
        "### Operaciones Básicas para arrays\n",
        "\n",
        "Lo que aprendiste para arrays en una dimensión también se aplicar para dimensiones mayores. <br>\n",
        "\n",
        "Hagamos el siguiente ejercicio <br>\n",
        "\n",
        "Crea dos matrices U y V\n",
        "\n",
        "U = [[2,3],[4,5]] <br>\n",
        "V = [[5,6],[4,7]] <br>"
      ]
    },
    {
      "cell_type": "code",
      "metadata": {
        "trusted": true,
        "id": "PdMc9kM_ly8a"
      },
      "source": [
        "# Haz el ejercicio acá\n",
        "# Crea las matrices U y V acá.\n",
        "# Recuerda, primeros podes definir las listas \n",
        "# Luego conviertelas en un np.array \n",
        "\n",
        "\n"
      ],
      "execution_count": null,
      "outputs": []
    },
    {
      "cell_type": "markdown",
      "metadata": {
        "id": "TxK08vVQly8a"
      },
      "source": [
        "Crea una nueva matriz W, que sea la suma U + V <br>\n",
        "Imprime en pantalla el resultado <br>"
      ]
    },
    {
      "cell_type": "code",
      "metadata": {
        "trusted": true,
        "id": "WmCcLuNtly8a"
      },
      "source": [
        "# Crea W = U + V\n",
        "#Imprime el resultado\n",
        "\n"
      ],
      "execution_count": null,
      "outputs": []
    },
    {
      "cell_type": "markdown",
      "metadata": {
        "id": "IPQMEvGxly8b"
      },
      "source": [
        "Lo viste? La suma de matrices de la misma forma __.shape__ es simplemente la suma entrada por entrada\n",
        "\n",
        "$$ W = U + V = \\begin{bmatrix}{(U[0][0] + V[0][0])}&{(U[0][1] + V[0][1])}\\\\{(U[1][0] + V[1][0])}&{(U[1][1] + V[1][1])}\\end{bmatrix} $$ <br>\n",
        "<br>\n",
        "<br>\n",
        "$$ W = U + V  \\begin{bmatrix}{W[0][0]}&{W[0][1]}\\\\{W[1][0]}&{W[1][1]}\\end{bmatrix} $$ <br>\n",
        "\n",
        "\n",
        "\n",
        "Osea W <br>\n",
        "\n",
        "$$ W = U + V = \\begin{bmatrix}{(2 + 5)}&{(3 + 6)}\\\\{(4 + 4)}&{(5 + 7)}\\end{bmatrix} $$ <br>\n",
        "<br>\n",
        "<br>\n",
        "$$ W = U + V  \\begin{bmatrix}{7}&{9}\\\\{8}&{12}\\end{bmatrix} $$ <br>\n",
        "\n"
      ]
    },
    {
      "cell_type": "markdown",
      "metadata": {
        "id": "PSv2W6Pely8b"
      },
      "source": [
        "¿Que suce si multiplicamos la matriz U por 2?"
      ]
    },
    {
      "cell_type": "code",
      "metadata": {
        "trusted": true,
        "id": "5UjuS3PTly8b"
      },
      "source": [
        "2*U"
      ],
      "execution_count": null,
      "outputs": []
    },
    {
      "cell_type": "markdown",
      "metadata": {
        "id": "PT618u_0ly8b"
      },
      "source": [
        "###  Productos en matrices\n",
        "\n",
        "En matrices tenemos el productor hadamard (definido para ciencia de datos) y así mismo el producto matricial."
      ]
    },
    {
      "cell_type": "markdown",
      "metadata": {
        "id": "m4vHqbCNly8b"
      },
      "source": [
        "Producto hadamard entre U y V"
      ]
    },
    {
      "cell_type": "code",
      "metadata": {
        "trusted": true,
        "id": "Dss-9i58ly8b"
      },
      "source": [
        "U*V"
      ],
      "execution_count": null,
      "outputs": []
    },
    {
      "cell_type": "code",
      "metadata": {
        "trusted": true,
        "id": "ccQ3v8EWly8b"
      },
      "source": [
        "Producto matricial entre U y V\n",
        "\n",
        "Misma notación que e producto punto entre vectores, pero dando como resultado una matriz"
      ],
      "execution_count": null,
      "outputs": []
    },
    {
      "cell_type": "code",
      "metadata": {
        "trusted": true,
        "id": "Nudj2aUtly8c"
      },
      "source": [
        "Z = np.dot(U,V)\n",
        "print(Z)"
      ],
      "execution_count": null,
      "outputs": []
    },
    {
      "cell_type": "markdown",
      "metadata": {
        "id": "OWq3LUJJly8c"
      },
      "source": [
        "#### Resumen\n",
        "\n",
        "Para repasar matrices te recomendamos este [vídeo](https://youtu.be/mskohEk97oc)"
      ]
    },
    {
      "cell_type": "markdown",
      "metadata": {
        "trusted": true,
        "id": "81oegrw1ly8c"
      },
      "source": [
        "[Volver al índice](https://notebooks.azure.com/jeff0994/libraries/QU-0560-1-1/html/01Introducci%C3%B3n-Indice.ipynb)"
      ]
    },
    {
      "cell_type": "code",
      "metadata": {
        "trusted": true,
        "id": "hn7MX44Fly8c"
      },
      "source": [
        ""
      ],
      "execution_count": null,
      "outputs": []
    }
  ]
}