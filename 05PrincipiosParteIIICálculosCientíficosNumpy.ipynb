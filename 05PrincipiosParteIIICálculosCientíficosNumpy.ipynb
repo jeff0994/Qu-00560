{
  "cells": [
    {
      "metadata": {
        "collapsed": true
      },
      "cell_type": "markdown",
      "source": "# Universidad de Costa Rica\n\n## Facultad de Ciencias\n\n## Escuela de Química\n\n## Sección de Fisicoquímica\n\n## Qu-0560 Tópicos de Química Física: Herramientas Computacionales para Química\n\n### Profesor Mauricio Gutierrez\n### Asistente no oficial: Yefry López"
    },
    {
      "metadata": {},
      "cell_type": "markdown",
      "source": "# Módulo IV. Computación Numérica con Numpy"
    },
    {
      "metadata": {},
      "cell_type": "markdown",
      "source": "## Objetivos de Aprendizaje\n***\n\n* Aprender el manejo de vectores en 1, 2 y N-dimensiones usando Numpy\n* Utilizar Numpy para resolver problemas de estadística\n* Utilizar Numpy para resolver problemas de Cálculo y Algebra Lineal"
    },
    {
      "metadata": {},
      "cell_type": "markdown",
      "source": "### ¿ Que es Numpy?\n\n<img src='http://www.numpy.org/_static/numpy_logo.png' alt=\"Numpy\" align= \"center\">\n\nNumpy es el paquete Numérico de Python _Numeric Python_ , que permite realizar cálculos de computación científica con Python de forma eficiente.\n\n¿Que nos permite hacer?\n\n* Realizar cálculos numéricos con Python usando vectores de N-dimensiones.\n* Realizar operaciones que son rapidamente vectorizables mediante n-arrays.\n* Resolver problemas de Algebra Lineal, Cálculo y Ecuaciones diferenciales con mucha capacidad.\n* Permite simplicar de forma eficiente cálculos en Python que de otro modo tendrían que ser programados.\n\nPara mas información, visida la página del [autor](http://www.numpy.org/)"
    },
    {
      "metadata": {},
      "cell_type": "markdown",
      "source": ""
    },
    {
      "metadata": {},
      "cell_type": "markdown",
      "source": "## Importando Numpy.\n\nRecuerda nuestra primer sesión!\n\nPara importar determinados paquete\n\n__import numpy as np ___"
    },
    {
      "metadata": {},
      "cell_type": "markdown",
      "source": "Importa el paquete en la siguiente celda"
    },
    {
      "metadata": {
        "trusted": true
      },
      "cell_type": "code",
      "source": "import numpy as np",
      "execution_count": null,
      "outputs": []
    },
    {
      "metadata": {},
      "cell_type": "markdown",
      "source": "Recuerda, le hablaste a tu compa Python de la siguiente forma...\n\n Python, se que Jupyter ya se encuentra instalado Numpy, por lo tanto quiero que lo importes en esta hoja de Jupyter, así mismo deseo importarlo como __np__ (lo bauticé así porque quize )"
    },
    {
      "metadata": {},
      "cell_type": "markdown",
      "source": "## Trabajando con vectores o arrays.\n\nDe tus amadas clases de Física I (sarcasmo), te recordarás que un vector es un objeto matemático que tiene magnitud y dirección.\nTambién que podes trabajar vectores en términos de sus componentes en i,j y k vectores unitarios. <br>\n\nPor ejemplo, supongamos un vector __A__ en el espacio de coordenas cartesianas. <br>\nPodemos escribir el vector __A__ de la siguiente forma. <br>\n\n$$ \\vec{A} = A_{x} \\hat{i} + A_{y} \\hat{j} +  A_{z} \\hat{k}$$\n\nDonde $A_{x}$ ,  $A_{y}$ ,  $A_{z}$ representan las componentes, elementos o entradas del vector __A__ <br>\nY así mismo $\\hat{i}$ , $\\hat{j}$ , $\\hat{z}$ son las direcciones de cada componente o vector unitarios <br>\n\nPor notación, vos podes escribir el vector __A__ de la siguiente forma  <br>\n<br>\n$$ \\vec{A} = ( A_{x}, A_{y}, A_{z}) $$\n<br>\nVerdad que la expresión anterior te parece a algo conocido? Mira bien, tenemos un objeto __A__ que se conforma por tres elementos , cada uno separado por una coma y todo encerrado entre paréntesis... Te suena a algo?  <br>\n\nCorrecto, es como si se tratase de un Tuple o una Lista  <br>\n"
    },
    {
      "metadata": {},
      "cell_type": "markdown",
      "source": "Por ahí va la cosa!<br>\n<br>\nVolvamos a nuestro vector __A__, supongamos que queremos mas generalizadad!\nRebautizemos a nuestras componentes y vectores unitarios, <br>\n\n * $A_{x}$ =  $A_{1}$\n * $A_{y}$ =  $A_{2}$\n * $A_{z}$ =  $A_{3}$\n \nY los vectores unitarios..\n *  $\\hat{i}$ = $\\hat{e_{1}}$\n *  $\\hat{j}$ = $\\hat{e_{2}}$\n *  $\\hat{k}$ = $\\hat{e_{3}}$\n"
    },
    {
      "metadata": {},
      "cell_type": "markdown",
      "source": "Entonces nuestro vector general __A__ queda de la siguiente forma\n\n$$ \\vec{A} = A_{1} \\hat{e_{1}} + A_{2} \\hat{e_{2}} +  A_{3} \\hat{e_{3}}$$\n$$ \\vec{A} = ( A_{1}, A_{2}, A_{3}) $$"
    },
    {
      "metadata": {},
      "cell_type": "markdown",
      "source": "Sí queremos generalizar para 4 componentes o elementos.... <br>\n\n$$ \\vec{A} = A_{1} \\hat{e_{1}} + A_{2} \\hat{e_{2}} +  A_{3} \\hat{e_{3}} +   A_{4} \\hat{e_{4}}$$\n$$ \\vec{A} = ( A_{1}, A_{2}, A_{3} ,  A_{4}) $$\n\n\nPara N-componentes tenemos que \n\n$$ \\vec{A} = A_{1} \\hat{e_{1}} + A_{2} \\hat{e_{2}} +  A_{3} \\hat{e_{3}} +  A_{4} \\hat{e_{4}} + ... + A_{N} \\hat{e_{N}} $$ <br>\n<br>\nO en notación de suma <br>\n\n$$ \\vec{A} = \\sum_{k=1}^N A_{N} \\hat{e_{N}} $$\n\nO notación por compoenentes <br>\n<br>\n$$ \\vec{A} = ( A_{1}, A_{2}, A_{3} ,  A_{4} , ... ,  A_{N} ) $$"
    },
    {
      "metadata": {},
      "cell_type": "markdown",
      "source": "En las celdas anteriores generalizamos la noción de vector o array. <br>\nEste concepto es de gran importancia en matemática y ciencia en general <br>\n\nComo ya mencionabamos, un array en términos de componentes tiene estructura de la primitiva __lista__ ... <br>\n\nPor lo tanto sí, en general en Python y otros lenguajes de programación, utilizamos los arrays o vectores con la notación que aprendimos para usar listas <br>"
    },
    {
      "metadata": {},
      "cell_type": "markdown",
      "source": "## El problema de las listas en Python. \n### ¿Por que debemos definir un Array en Python , si ya existen las listas ?\n\nSupongamos que tenemos dos vectores __A__ y __B__ con las siguientes compoentes <br>\n\n$$ \\vec{A} = 3 \\hat{e_{1}} + 5 \\hat{e_{2}} +  8 \\hat{e_{3}}$$\n$$ \\vec{A} = ( 3, 5, 8) $$\n\n$$ \\vec{B} = 1 \\hat{e_{1}} + 2 \\hat{e_{2}} +  9 \\hat{e_{3}}$$\n$$ \\vec{B} = ( 1, 2, 9) $$\n\nY que ahora queremos definir un nuevo vector __C__ como __A + B__ <br>\n\nDe tus clases de física y cálculo ,te recordarás que dos vectores se suman componente por componente <br>\n\nEs decir:\n\n$$ \\vec{C} = \\vec{A} + \\vec{B} =  (3 + 1) \\hat{e_{1}} + (5 + 2) \\hat{e_{2}} +  (8 + 9) \\hat{e_{3}}$$\n$$ \\vec{C} =(4,7,17) $$"
    },
    {
      "metadata": {},
      "cell_type": "markdown",
      "source": "Hagamos lo anterior con listas.\nDefine dos listas llamadas A y B.\n\nCon los componentes respectivos"
    },
    {
      "metadata": {
        "trusted": true
      },
      "cell_type": "code",
      "source": "# Define la lista A\n",
      "execution_count": null,
      "outputs": []
    },
    {
      "metadata": {
        "trusted": true
      },
      "cell_type": "code",
      "source": "# Define la lista B\n",
      "execution_count": null,
      "outputs": []
    },
    {
      "metadata": {},
      "cell_type": "markdown",
      "source": "Ahora crea la lista C como la suma de A y B\n\nC = A + B"
    },
    {
      "metadata": {
        "trusted": true
      },
      "cell_type": "code",
      "source": "# Suma la lista A y B y guarda el resultado en la variable C",
      "execution_count": null,
      "outputs": []
    },
    {
      "metadata": {
        "trusted": true
      },
      "cell_type": "code",
      "source": "# Imprime la lista C\n",
      "execution_count": null,
      "outputs": []
    },
    {
      "metadata": {},
      "cell_type": "markdown",
      "source": "El resultado como te dio? <br>\n\n¿Te dio el resultado esperado C = (4 , 7, 17) ? <br>\nCorrecto, simplemente concatenó ambas listas y ya, mas no sumó componente por componente como debería ser <br>\n\nLo anterior ejemplifica el problema con las __listas__, si bien son bastante útiles y mucho mas fáciles de utilizar respecto a otros lenguajes... Las listas no siguen el comportamiento de un _array_ o _vector_\n\nTratando de solucionar este problema, se crea Numpy y los arrays en Python! (tomando como bases las listas y tuples) <br>"
    },
    {
      "metadata": {},
      "cell_type": "markdown",
      "source": "## Creando arrays en Python.\n\nPara crea un array en Python. <br>\nPrimero importa el paquete Numpy <br>\n\nSí lo importas como _np_ tenés que recordár usar el np <br>\n\nPor ejemplo supongamos que querés crear un vector con componentes 2,3 y 4 <br>\n\nUsarás la siguiente sintaxis <br>\n\n* a = np.array([2,3,4])\n\nO primero podes definir una lista <br>\n* A =  [2 3, 4]\n\nLuego la pones dentro del np.array. <br>\n* a = np.array(A)\n"
    },
    {
      "metadata": {
        "trusted": true
      },
      "cell_type": "code",
      "source": "a = np.array([2,3,4])",
      "execution_count": null,
      "outputs": []
    },
    {
      "metadata": {},
      "cell_type": "markdown",
      "source": "Preguntemos a Python que es a"
    },
    {
      "metadata": {
        "trusted": true
      },
      "cell_type": "code",
      "source": "#Imprime el array a en pantalla\n",
      "execution_count": null,
      "outputs": []
    },
    {
      "metadata": {},
      "cell_type": "markdown",
      "source": "De la misma manera que aprendimos en listas, podemos acceder a cada elemento del array, usando la notación index.\n\nPor ejemplo si quiero acceder al primer elemento del array"
    },
    {
      "metadata": {
        "trusted": true
      },
      "cell_type": "code",
      "source": "a[0]",
      "execution_count": null,
      "outputs": []
    },
    {
      "metadata": {},
      "cell_type": "markdown",
      "source": "Accede al elemento tres del array"
    },
    {
      "metadata": {
        "trusted": true
      },
      "cell_type": "code",
      "source": "# Accede al elemente 3 del array",
      "execution_count": null,
      "outputs": []
    },
    {
      "metadata": {},
      "cell_type": "markdown",
      "source": "Si querés el tipo de objeto que es el array.\nPodes usar la función type()"
    },
    {
      "metadata": {
        "trusted": true
      },
      "cell_type": "code",
      "source": "# Corre esta celda\ntype(a)",
      "execution_count": null,
      "outputs": []
    },
    {
      "metadata": {},
      "cell_type": "markdown",
      "source": "Okey okey, es un numpy array...\n\nPero si quiero saber el tipo de ELEMENTOS que contiene el array?\n\nUsamos el método .dtype\n"
    },
    {
      "metadata": {
        "trusted": true
      },
      "cell_type": "code",
      "source": "# Corre la siguiente celda\na.dtype",
      "execution_count": null,
      "outputs": []
    },
    {
      "metadata": {
        "trusted": true
      },
      "cell_type": "code",
      "source": "Sí queres saber la cantidad de elementos que contiene el array usas el atributo .size",
      "execution_count": null,
      "outputs": []
    },
    {
      "metadata": {
        "trusted": true
      },
      "cell_type": "code",
      "source": "# Corre la siguiente celda\na.size",
      "execution_count": null,
      "outputs": []
    },
    {
      "metadata": {},
      "cell_type": "markdown",
      "source": "__HINT__ te diste cuenta que usamos los atributos __a.size__ y __a.dtype__ ? <br>\n\nTienen forma de métodos, pero si recuerdas los métodos llevaban paréntesis () al final. <br>\n\nCuando trabajas con numpy no hace falta usar los paréntesis al final. <br>\n\nEn general la notación es <br>\nnombre del array.atributo <br>\n\nPor ejemplo\n\n* a.size\n* a.dtype"
    },
    {
      "metadata": {},
      "cell_type": "markdown",
      "source": "Sí queres conocer el número de dimensiones del array usamos el atributo .ndim"
    },
    {
      "metadata": {
        "trusted": true
      },
      "cell_type": "code",
      "source": "# Corre la siguiente celda\na.ndim",
      "execution_count": null,
      "outputs": []
    },
    {
      "metadata": {},
      "cell_type": "markdown",
      "source": "Podes crear un array con números reales!\n\nCrea un array con los elementos [3.1 , 11.02 , 6.2 , 213.2 , 5.2] y guardalo en la variable b"
    },
    {
      "metadata": {
        "trusted": true
      },
      "cell_type": "code",
      "source": "# Crea el array b",
      "execution_count": null,
      "outputs": []
    },
    {
      "metadata": {
        "trusted": true
      },
      "cell_type": "code",
      "source": "# Accede al segundo elemento del array b",
      "execution_count": null,
      "outputs": []
    },
    {
      "metadata": {},
      "cell_type": "markdown",
      "source": "Pregunta a Python el .dtype del array b"
    },
    {
      "metadata": {
        "trusted": true
      },
      "cell_type": "code",
      "source": "# Cual es el dtype del array b",
      "execution_count": null,
      "outputs": []
    },
    {
      "metadata": {
        "trusted": true
      },
      "cell_type": "code",
      "source": "Pregunta a Python el número de componentes de b con .size",
      "execution_count": null,
      "outputs": []
    },
    {
      "metadata": {
        "trusted": true
      },
      "cell_type": "code",
      "source": "# Cual es el número de compoenentes de b",
      "execution_count": null,
      "outputs": []
    },
    {
      "metadata": {},
      "cell_type": "markdown",
      "source": "## Index y Slicing en arrays"
    },
    {
      "metadata": {
        "trusted": true
      },
      "cell_type": "code",
      "source": "Vamos a crear el array c con los elementos 4 , 5, 6 y 20",
      "execution_count": null,
      "outputs": []
    },
    {
      "metadata": {
        "trusted": true
      },
      "cell_type": "code",
      "source": "#Crea el array C",
      "execution_count": null,
      "outputs": []
    },
    {
      "metadata": {
        "trusted": true
      },
      "cell_type": "code",
      "source": "Accede a su primer elemento",
      "execution_count": null,
      "outputs": []
    },
    {
      "metadata": {
        "trusted": true
      },
      "cell_type": "code",
      "source": "# Acceder al primer elemento",
      "execution_count": null,
      "outputs": []
    },
    {
      "metadata": {},
      "cell_type": "markdown",
      "source": "Supongamos que queremos cambiar su primer elemento a 8 , para eso emplearemos el siguiente código"
    },
    {
      "metadata": {
        "trusted": true
      },
      "cell_type": "code",
      "source": "c[0] = 8",
      "execution_count": null,
      "outputs": []
    },
    {
      "metadata": {},
      "cell_type": "markdown",
      "source": "Cambia el tercer elemento (6) al valor 11"
    },
    {
      "metadata": {
        "trusted": true
      },
      "cell_type": "code",
      "source": "#Cambia el tercer elemento",
      "execution_count": null,
      "outputs": []
    },
    {
      "metadata": {},
      "cell_type": "markdown",
      "source": "Para selecciones del segundo elemento al cuarto utilizamos la notación slicing"
    },
    {
      "metadata": {
        "trusted": true
      },
      "cell_type": "code",
      "source": "",
      "execution_count": null,
      "outputs": []
    },
    {
      "metadata": {},
      "cell_type": "markdown",
      "source": "### Operaciones básicas en Numpy array\n\nCon Numpy array podes hacer las operaciones básicas\n\nConsidera los vectores __u__ y __v__ , cada uno con dos elementos\n\nu = (1,3) <br>\nv = (3,5) <br>"
    },
    {
      "metadata": {
        "trusted": true
      },
      "cell_type": "code",
      "source": "u = np.array([1,3])",
      "execution_count": null,
      "outputs": []
    },
    {
      "metadata": {},
      "cell_type": "markdown",
      "source": "Declara el Numpy array v en la siguiente celda"
    },
    {
      "metadata": {
        "trusted": true
      },
      "cell_type": "code",
      "source": "# Crea el array v",
      "execution_count": null,
      "outputs": []
    },
    {
      "metadata": {},
      "cell_type": "markdown",
      "source": "Vamos a realizar la suma de u y v y guardar el resultado en la variable c"
    },
    {
      "metadata": {
        "trusted": true
      },
      "cell_type": "code",
      "source": "c = u + v",
      "execution_count": null,
      "outputs": []
    },
    {
      "metadata": {
        "trusted": true
      },
      "cell_type": "code",
      "source": "Veamos el resultado de c",
      "execution_count": null,
      "outputs": []
    },
    {
      "metadata": {
        "trusted": true
      },
      "cell_type": "code",
      "source": "# Corre esta celda\nv",
      "execution_count": null,
      "outputs": []
    },
    {
      "metadata": {},
      "cell_type": "markdown",
      "source": "¿Que sucede sí hacemos la operación u + 3 ?\nVeamoslo"
    },
    {
      "metadata": {
        "trusted": true
      },
      "cell_type": "code",
      "source": "u + 3",
      "execution_count": null,
      "outputs": []
    },
    {
      "metadata": {},
      "cell_type": "markdown",
      "source": "Al efectuar u +3, Numpy suma la cantidad 3 a cada entrada!"
    },
    {
      "metadata": {},
      "cell_type": "markdown",
      "source": "Multipliquemos por un factor de 2 al vector __v__"
    },
    {
      "metadata": {
        "trusted": true
      },
      "cell_type": "code",
      "source": "2*v",
      "execution_count": null,
      "outputs": []
    },
    {
      "metadata": {
        "trusted": true
      },
      "cell_type": "code",
      "source": "¿Cada entrada es multiplicada por dos verdad ?",
      "execution_count": null,
      "outputs": []
    },
    {
      "metadata": {},
      "cell_type": "markdown",
      "source": "#### Producto especial producto hadamard\n\nComo sabes, los dos productos que manejamos en matemáticas para vectores son\n\n* Producto Punto entre dos vectores cuyo resultado es un escalar\n* Producto Cruz entre dos vectores cuyo resultado es un vector\n\nEn ciencia de dato existe un producto especial conocido como hadamard product.\n\nSu resultado es un vector y es la multiplicación entrada por entrada de dos vectores."
    },
    {
      "metadata": {},
      "cell_type": "markdown",
      "source": "Por ejemplo <br>\n\nconsidérese los vectores <br>\n\nT = np.array([2,3]) <br>\nN = np.array([5,8])<br>"
    },
    {
      "metadata": {
        "trusted": true
      },
      "cell_type": "code",
      "source": "T = np.array([2,3])\nN = np.array([5,8])",
      "execution_count": null,
      "outputs": []
    },
    {
      "metadata": {},
      "cell_type": "markdown",
      "source": "Veamos que pasa si hacemos T*N"
    },
    {
      "metadata": {
        "trusted": true
      },
      "cell_type": "code",
      "source": "T*N",
      "execution_count": null,
      "outputs": []
    },
    {
      "metadata": {},
      "cell_type": "markdown",
      "source": "Se forma vector, cuyas componentes son\n\nPrimer entrada = 2*5 = 10\nSegunda entrada = 3*8 = 24\n\n¿Lo entendiste?"
    },
    {
      "metadata": {},
      "cell_type": "markdown",
      "source": "#### Producto Punto\n\nTe acordas que el producto punto de dos vectores __A__ y __B__ estaba dado por : <br>\n\n$$ \\vec{A}\\cdot\\vec{B} = A_{1} B_{1} +  A_{2} B_{2} +  A_{3} B_{3} $$\n\nComponente por componete y sumabas para hacer un escalar <br>\n\nNumpy te permite calcular el producto punto entre dos vectores <br>\n\nMediante el código __np.dot(vector 1 , vector 2)__ <br>\n\nHagamos el producto punto de T y N y guardemos el resultado en la variable __resultado <br>"
    },
    {
      "metadata": {
        "trusted": true
      },
      "cell_type": "code",
      "source": "resultado = np.dot(T,N)",
      "execution_count": null,
      "outputs": []
    },
    {
      "metadata": {},
      "cell_type": "markdown",
      "source": "Imprimimos el resultado"
    },
    {
      "metadata": {
        "trusted": true
      },
      "cell_type": "code",
      "source": "resultado",
      "execution_count": null,
      "outputs": []
    },
    {
      "metadata": {},
      "cell_type": "markdown",
      "source": "#### Funciones  y métodos en Numpy\n\n¿Te acordás todas las funciones que venian con el módulo matemático __math__ ? <br>\n\nResulta ser que numpy las tiene programadas y así mismo muchas mas!  <br>\n\nMétodos en Numpy  <br>\n\n__Estadística__  <br>\n\n* Promedio .mean()\n* Máximo   .max()\n* Mínimo  .min()\n* Desviación estardar .std()\n\n\n__Funciones Matemáticas en Numpy__ <br>\n\n* Seno Aplicar funcion seno a cada componente en un array __np.sin(nombre del array)__ <br>\n* Coseno Aplicar funcion coseno a cada componente en un array __np.cos(nombre del array)__ <br>\n* Tangente Aplicar funcionTangente a cada componente en un array __np.tan(nombre del array)__  <br>\n* Producto Multplica componente por componente __np.prod(nombre del array)__ <br>\n* Para sumar todas las entradas en un vector __np.sum(nombre del array)__ <br>\n* Producto cruz __np.cross( vector 1, vector 2)__ <br>\n* Calcular el exponente de cada elemento del array __np.exp(nombre del vector)__ <br>\n* Calcular el logaritmo natural de cada elemento del array __np.log( vector)__ <br>\n* Raiz cuadradada de los elementos del vector __np.sqrt(vector)__ <br>\n\n\n__Funciones para crear arrays formas mas rápida__ <br>\n\nlinspace te permite crear un array de cierta cantidad de elementes que vos definir. <br>\n\nPor ejemplo si quiero un array de 5 elementos que se encuentren entre -2 y 2  <br>\n__np.linspace(-2,2, num = 5)__ <br>\n\n-2 y 2 son los límites de mi array <br>\nnum = 5 representa la cantidad de elementos que quiero en el array <br>"
    },
    {
      "metadata": {},
      "cell_type": "markdown",
      "source": "Para mas funciones, podes acceder a este [enlace](https://docs.scipy.org/doc/numpy-1.13.0/reference/routines.math.html)"
    },
    {
      "metadata": {},
      "cell_type": "markdown",
      "source": "#### Resumen\n\nPara repasar podes usar el siguiente [video](https://youtu.be/PdQCaS9w_Qo)"
    },
    {
      "metadata": {},
      "cell_type": "markdown",
      "source": "#### Ejemplo 1. Graficando la funcion seno(x)\n\n1. Genere un vector llamado __x__ con 100 entradas con los siguientes intervalos: <br>\n* inicio = 0 <br>\n* final = 2*$\\pi$ <br>\n\n2. Cree un nuevo vector __y__ donde le aplique la función seno al vector x <br>\n3. Grafique el resultado usando el módulo matploblib utilizando el siguiente código <br>\n    import matploblib.pyplot as plt <br>\n    %matplotlib inline <br>\n    plt.plot(x,y) <br>\n    \n<br>\n\nResolución. <br>\nPara generar el vector x, podemos utilizar la función np.linspace.<br>\nEl termino $\\pi$ en Numpy, puede usarse como np.pi <br>"
    },
    {
      "metadata": {},
      "cell_type": "markdown",
      "source": "Paso 1. Generando el vector x"
    },
    {
      "metadata": {
        "trusted": true
      },
      "cell_type": "code",
      "source": "x = np.linspace(0 ,  2* np.pi , 100)",
      "execution_count": null,
      "outputs": []
    },
    {
      "metadata": {},
      "cell_type": "markdown",
      "source": "Paso 2. Generando el vector y"
    },
    {
      "metadata": {
        "trusted": true
      },
      "cell_type": "code",
      "source": "y = np.sin(x)",
      "execution_count": null,
      "outputs": []
    },
    {
      "metadata": {},
      "cell_type": "markdown",
      "source": "Paso 3. Gráfica"
    },
    {
      "metadata": {
        "trusted": true
      },
      "cell_type": "code",
      "source": "import matplotlib.pyplot as plt\n%matplotlib inline\nplt.plot(x,y) \n",
      "execution_count": null,
      "outputs": []
    },
    {
      "metadata": {},
      "cell_type": "markdown",
      "source": "Preguntemos por x"
    },
    {
      "metadata": {
        "trusted": true
      },
      "cell_type": "code",
      "source": "x",
      "execution_count": null,
      "outputs": []
    },
    {
      "metadata": {},
      "cell_type": "markdown",
      "source": "Son muchos puntos o.O !!!\n\nPor eso Numpy es uno de los Paquetes mas poderoso en Python! Simplifica mucho los cálculos"
    },
    {
      "metadata": {
        "trusted": true
      },
      "cell_type": "markdown",
      "source": "Te propongo el siguiente ejercicio! <br>\n\nLos factores exponenciales son clásicos en Química, están relaciones con la distribución de Boltzmann .<br>\n\nEn Química se encuentran por todo lado! Te recordas de tus clases de Orgánica cuando hablaban de la Energía de activación habia un factor exponencial. <br>\n\n$$ y = e^{-0.005*x}$$ <br>\n\n* Grafica la anterior función exponencial. <br>\n* Para esto crea un array llamado x que se componen por 200 elementos que van de 20 a 300 <br>\n* Crea un array y que utilice la función np.exp(-0.005*x) para crear y <br>\n* Grafica el resultado con plt.plot(x,y) <br>\n\n"
    },
    {
      "metadata": {
        "trusted": true
      },
      "cell_type": "code",
      "source": "# Crea el array x con linspace",
      "execution_count": null,
      "outputs": []
    },
    {
      "metadata": {
        "trusted": true
      },
      "cell_type": "code",
      "source": "# Imprime x\nx",
      "execution_count": null,
      "outputs": []
    },
    {
      "metadata": {
        "trusted": true
      },
      "cell_type": "code",
      "source": "# Crea el array y\n",
      "execution_count": null,
      "outputs": []
    },
    {
      "metadata": {
        "trusted": true
      },
      "cell_type": "code",
      "source": "#Imprimir y\ny",
      "execution_count": null,
      "outputs": []
    },
    {
      "metadata": {
        "trusted": true
      },
      "cell_type": "code",
      "source": "#Grafica la función con el comando plt.plot(x,y)",
      "execution_count": null,
      "outputs": []
    },
    {
      "metadata": {},
      "cell_type": "markdown",
      "source": "## Arrays en dos y mas dimensiones\n\nConsidera la siguiente lista __a__\n\na = [[11 ,12,13],[21,22,23],[31,32,33]]\n\nLa lista a es una lista que a su vez contiene tres listas como elementos\n"
    },
    {
      "metadata": {
        "trusted": true
      },
      "cell_type": "code",
      "source": "a = [[11,12,13],[21,22,23],[31,32,33]]",
      "execution_count": null,
      "outputs": []
    },
    {
      "metadata": {},
      "cell_type": "markdown",
      "source": "Utilizando numpy podemos tranforma la lista en un numpy array"
    },
    {
      "metadata": {
        "trusted": true
      },
      "cell_type": "code",
      "source": "A = np.array(a)",
      "execution_count": null,
      "outputs": []
    },
    {
      "metadata": {
        "trusted": true
      },
      "cell_type": "code",
      "source": "A",
      "execution_count": null,
      "outputs": []
    },
    {
      "metadata": {},
      "cell_type": "markdown",
      "source": "Listo! Acabamos de crear un array de tres dimensiones. <br>\n\nBasicamente es crear  listas anidadas dentro de una lista, luego convierte dicha lista en un np.array. <br>\n\nTécnicamente es una matriz! <br>"
    },
    {
      "metadata": {},
      "cell_type": "markdown",
      "source": "Para saber la forma de la matriz podemos usar el atributo __.shape__"
    },
    {
      "metadata": {
        "trusted": true
      },
      "cell_type": "code",
      "source": "A.shape",
      "execution_count": null,
      "outputs": []
    },
    {
      "metadata": {},
      "cell_type": "markdown",
      "source": "3x3 significa que tenemos tres filas o número de listas dentro de la lista y tres columnas o número de elementos dentro de las listas individuales"
    },
    {
      "metadata": {},
      "cell_type": "markdown",
      "source": "¿ Cuantos elementos en total tiene A ? Podes usar el atributo __.size__"
    },
    {
      "metadata": {
        "trusted": true
      },
      "cell_type": "code",
      "source": "A.size",
      "execution_count": null,
      "outputs": []
    },
    {
      "metadata": {
        "trusted": true
      },
      "cell_type": "markdown",
      "source": "Para acceder a los elementos de A, podemos usar la notación de index y doble index. <br>\n\nRecuerda que <br>\n\n$ A = (A[0] , A[1] , [A2]) $ <br>\n\nDonde <br>\n\n* $A[0]$ es $[11,12,13]$ <br>\n* $A[1]$ es $[21,22,23]$ <br>\n* $A[2]$ es $[31,32,33]$ <br>\n\nY su vez, para acceder a los elementos mas individuales <br>\n\n$A = [A[0][0],A[0][1],A[0][2],A[1][0],A[1][1],A[1][2],A[2][0],A[2][1],A[2][2]]$ <br>\n\n\n\nLo podes ver como una matriz\n\n$$ A= \\begin{bmatrix}{A[0][0]}&{A[0][1]}&{A[0][2]}\\\\{A[0][0]}&{A[0][1]}&{A[0][2]}\\\\{A[0][0]}&{A[0][1]}&{A[0][2]}\\end{bmatrix} $$"
    },
    {
      "metadata": {},
      "cell_type": "markdown",
      "source": "### Slicing\n\nLas mismas reglas que aprendiste en listas, aplican para los Numpy arrays.\n\nPor ejemplo si quiero obtener los primeros elementos de la fila 1 hago lo siguiente\n\nRecuerda la notación!\nA[fila][columna]"
    },
    {
      "metadata": {
        "trusted": true
      },
      "cell_type": "code",
      "source": "A[0][0:2]",
      "execution_count": null,
      "outputs": []
    },
    {
      "metadata": {},
      "cell_type": "markdown",
      "source": "Le estoy diciendo a Python. <br>\n\nBusca en la primer fila, index cero <br>\nLuego muestrame los primeros dos elementos <br>"
    },
    {
      "metadata": {},
      "cell_type": "markdown",
      "source": "Busca en la tercer fila, los dos últimos elementos. <br>\n"
    },
    {
      "metadata": {
        "trusted": true
      },
      "cell_type": "code",
      "source": "A[2][1:3]\n",
      "execution_count": null,
      "outputs": []
    },
    {
      "metadata": {},
      "cell_type": "markdown",
      "source": "Te propongo que busques en la segunda fila, los dos últimos elementos de la maxtriz"
    },
    {
      "metadata": {
        "trusted": true
      },
      "cell_type": "code",
      "source": "#Haz el ejercicio acá",
      "execution_count": null,
      "outputs": []
    },
    {
      "metadata": {},
      "cell_type": "markdown",
      "source": "Recerda que en Python en general <br>\n\nindex 0 es el primer elemento <br>\nindex 1 es el segundo elemento <br>\nindex 2 es el tercer elemento <br>\n     __.__ <br>\n     __.__ <br>\n     __.__ <br>\nindex(N-1) es el N-enésimo elemento    <br>"
    },
    {
      "metadata": {},
      "cell_type": "markdown",
      "source": ""
    },
    {
      "metadata": {},
      "cell_type": "markdown",
      "source": "### Operaciones Básicas para arrays\n\nLo que aprendiste para arrays en una dimensión también se aplicar para dimensiones mayores. <br>\n\nHagamos el siguiente ejercicio <br>\n\nCrea dos matrices U y V\n\nU = [[2,3],[4,5]] <br>\nV = [[5,6],[4,7]] <br>"
    },
    {
      "metadata": {
        "trusted": true
      },
      "cell_type": "code",
      "source": "# Haz el ejercicio acá\n# Crea las matrices U y V acá.\n# Recuerda, primeros podes definir las listas \n# Luego conviertelas en un np.array \n\n\n",
      "execution_count": null,
      "outputs": []
    },
    {
      "metadata": {},
      "cell_type": "markdown",
      "source": "Crea una nueva matriz W, que sea la suma U + V <br>\nImprime en pantalla el resultado <br>"
    },
    {
      "metadata": {
        "trusted": true
      },
      "cell_type": "code",
      "source": "# Crea W = U + V\n#Imprime el resultado\n\n",
      "execution_count": null,
      "outputs": []
    },
    {
      "metadata": {},
      "cell_type": "markdown",
      "source": "Lo viste? La suma de matrices de la misma forma __.shape__ es simplemente la suma entrada por entrada\n\n$$ W = U + V = \\begin{bmatrix}{(U[0][0] + V[0][0])}&{(U[0][1] + V[0][1])}\\\\{(U[1][0] + V[1][0])}&{(U[1][1] + V[1][1])}\\end{bmatrix} $$ <br>\n<br>\n<br>\n$$ W = U + V  \\begin{bmatrix}{W[0][0]}&{W[0][1]}\\\\{W[1][0]}&{W[1][1]}\\end{bmatrix} $$ <br>\n\n\n\nOsea W <br>\n\n$$ W = U + V = \\begin{bmatrix}{(2 + 5)}&{(3 + 6)}\\\\{(4 + 4)}&{(5 + 7)}\\end{bmatrix} $$ <br>\n<br>\n<br>\n$$ W = U + V  \\begin{bmatrix}{7}&{9}\\\\{8}&{12}\\end{bmatrix} $$ <br>\n\n"
    },
    {
      "metadata": {},
      "cell_type": "markdown",
      "source": "¿Que suce si multiplicamos la matriz U por 2?"
    },
    {
      "metadata": {
        "trusted": true
      },
      "cell_type": "code",
      "source": "2*U",
      "execution_count": null,
      "outputs": []
    },
    {
      "metadata": {},
      "cell_type": "markdown",
      "source": "###  Productos en matrices\n\nEn matrices tenemos el productor hadamard (definido para ciencia de datos) y así mismo el producto matricial."
    },
    {
      "metadata": {},
      "cell_type": "markdown",
      "source": "Producto hadamard entre U y V"
    },
    {
      "metadata": {
        "trusted": true
      },
      "cell_type": "code",
      "source": "U*V",
      "execution_count": null,
      "outputs": []
    },
    {
      "metadata": {
        "trusted": true
      },
      "cell_type": "code",
      "source": "Producto matricial entre U y V\n\nMisma notación que e producto punto entre vectores, pero dando como resultado una matriz",
      "execution_count": null,
      "outputs": []
    },
    {
      "metadata": {
        "trusted": true
      },
      "cell_type": "code",
      "source": "Z = np.dot(U,V)\nprint(Z)",
      "execution_count": null,
      "outputs": []
    },
    {
      "metadata": {},
      "cell_type": "markdown",
      "source": "#### Resumen\n\nPara repasar matrices te recomendamos este [vídeo](https://youtu.be/mskohEk97oc)"
    },
    {
      "metadata": {
        "trusted": true
      },
      "cell_type": "markdown",
      "source": "[Volver al índice](https://notebooks.azure.com/jeff0994/libraries/QU-0560-1-1/html/01Introducci%C3%B3n-Indice.ipynb)"
    },
    {
      "metadata": {
        "trusted": true
      },
      "cell_type": "code",
      "source": "",
      "execution_count": null,
      "outputs": []
    }
  ],
  "metadata": {
    "kernelspec": {
      "name": "python36",
      "display_name": "Python 3.6",
      "language": "python"
    },
    "language_info": {
      "mimetype": "text/x-python",
      "nbconvert_exporter": "python",
      "name": "python",
      "pygments_lexer": "ipython3",
      "version": "3.6.6",
      "file_extension": ".py",
      "codemirror_mode": {
        "version": 3,
        "name": "ipython"
      }
    }
  },
  "nbformat": 4,
  "nbformat_minor": 2
}