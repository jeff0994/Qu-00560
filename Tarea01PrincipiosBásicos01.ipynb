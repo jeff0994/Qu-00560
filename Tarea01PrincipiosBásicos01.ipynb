{
  "nbformat": 4,
  "nbformat_minor": 0,
  "metadata": {
    "kernelspec": {
      "name": "python36",
      "display_name": "Python 3.6",
      "language": "python"
    },
    "language_info": {
      "mimetype": "text/x-python",
      "nbconvert_exporter": "python",
      "name": "python",
      "pygments_lexer": "ipython3",
      "version": "3.6.6",
      "file_extension": ".py",
      "codemirror_mode": {
        "version": 3,
        "name": "ipython"
      }
    },
    "colab": {
      "name": "Tarea01PrincipiosBásicos01.ipynb",
      "provenance": [],
      "include_colab_link": true
    }
  },
  "cells": [
    {
      "cell_type": "markdown",
      "metadata": {
        "id": "view-in-github",
        "colab_type": "text"
      },
      "source": [
        "<a href=\"https://colab.research.google.com/github/jeff0994/Qu-00560/blob/master/Tarea01PrincipiosB%C3%A1sicos01.ipynb\" target=\"_parent\"><img src=\"https://colab.research.google.com/assets/colab-badge.svg\" alt=\"Open In Colab\"/></a>"
      ]
    },
    {
      "cell_type": "markdown",
      "metadata": {
        "collapsed": true,
        "id": "xeYMhKdMpotk"
      },
      "source": [
        "# Universidad de Costa Rica\n",
        "\n",
        "## Facultad de Ciencias\n",
        "\n",
        "## Escuela de Química\n",
        "\n",
        "## Sección de Fisicoquímica\n",
        "\n",
        "## Qu-0560 Tópicos de Química Física: Herramientas Computacionales para Química\n",
        "\n",
        "### Profesor Mauricio Gutiérrez\n",
        "### Asistente no oficial: Yefry López"
      ]
    },
    {
      "cell_type": "markdown",
      "metadata": {
        "id": "L0mJUWJZpotn"
      },
      "source": [
        "# Tarea 01 Principios Básicos I\n",
        "\n",
        "Realice los siguientes ejercicios usando lo aprendido en la Hoja principios Básicos <br>"
      ]
    },
    {
      "cell_type": "markdown",
      "metadata": {
        "id": "sR5Gps5ppoto"
      },
      "source": [
        "## Ejercicio 1. Área del Circulo\n",
        "\n",
        "1. Programe la ecuación del área de un círculo de rádio 5 cm . Debe crear las siguientes variables: __Radio__ para almacenar el valor del radio dado, __Area__ para almancenar la fórmula del área. Así mismo debe usar __PI__ del módulo math (recuerde importar primero el módulo).Por último, imprima en pantalla con print() el valor del área. Debe realizar un dialogo como \"El valor del área de un circulo con radio de X es Y.\n",
        "\n",
        "<br>\n",
        "HINT: Donde X y Y representan las variables.  Recuerde usar la notación de suma dentro de print y  usar la función str().<br>\n",
        "\n",
        "\n",
        "\n"
      ]
    },
    {
      "cell_type": "code",
      "metadata": {
        "trusted": true,
        "id": "483ly7Prpotp"
      },
      "source": [
        "# Resuelva el ejercicio en esta celda"
      ],
      "execution_count": null,
      "outputs": []
    },
    {
      "cell_type": "markdown",
      "metadata": {
        "id": "rqKkUYMrpotp"
      },
      "source": [
        "## Ejercicio 2. Conversión de pies a millas.\n",
        "2. En una milla hay 5280 pies. Escriba una expresión en Python que calcule e imprima el número de pies en 1313 millas.\n"
      ]
    },
    {
      "cell_type": "code",
      "metadata": {
        "trusted": true,
        "id": "_HjGLDahpotq"
      },
      "source": [
        "# Resuelva el ejercicio en esta celda"
      ],
      "execution_count": null,
      "outputs": []
    },
    {
      "cell_type": "markdown",
      "metadata": {
        "id": "S1ykYEzQpotq"
      },
      "source": [
        "## Ejercicio 3. Conversión a segundos\n",
        "\n",
        "3. Escriba una expresión en Python que calcule e imprima en pantalla el número de segundos que hay en 7 horas 21 minutos y 37 segundos.\n"
      ]
    },
    {
      "cell_type": "code",
      "metadata": {
        "trusted": true,
        "id": "FY7anGyvpotq"
      },
      "source": [
        "# Resuelva el ejercicio en esta celda"
      ],
      "execution_count": null,
      "outputs": []
    },
    {
      "cell_type": "markdown",
      "metadata": {
        "id": "AlQb79TUpotq"
      },
      "source": [
        "## Ejercicio 4. Ecuación de caida libre.\n",
        "\n",
        "4. Un tornillo cae accidentalmente desde la parte superior de un edificio. 45 segundos después está golpeando el suelo. ¿Cual será la altura del edificio?. Guarde el tiempo en una variable __t__ y utilice la ecuación de movimiento rectilineo uniformemente acelerado para calcular la altura __h__. Imprima su resultado en pantalla con dialogo"
      ]
    },
    {
      "cell_type": "code",
      "metadata": {
        "trusted": true,
        "id": "PEKe-Q5Hpotr"
      },
      "source": [
        "# Resuelva el ejercicio en esta celda"
      ],
      "execution_count": null,
      "outputs": []
    },
    {
      "cell_type": "markdown",
      "metadata": {
        "id": "BHOEz_MGpotr"
      },
      "source": [
        "## Ejercicio 5. \n",
        "\n",
        "5. La siguiente expresión nos permite predecir de manera básica el comportamiento de p dolares despues de determinados __y__ años, con __r__ cantidad de intereses.\n",
        "\n",
        "$$ Precio = p(1+0.01r)^{y}$$\n",
        "\n",
        "Calcule el valor futuro de $1000 dentro de 10 años , al 7% de intereses. <br>\n",
        "Imprima el valor en pantalla.<br>"
      ]
    },
    {
      "cell_type": "code",
      "metadata": {
        "trusted": true,
        "id": "tS-06M4Gpotr"
      },
      "source": [
        "# Resuelva el ejercicio en esta celda"
      ],
      "execution_count": null,
      "outputs": []
    },
    {
      "cell_type": "markdown",
      "metadata": {
        "id": "A0tgJsFzpots"
      },
      "source": [
        "## Ejercicio 6. Cálculo de la distancia entre puntos.\n",
        "\n",
        "6. La distancia de dos puntos en coordenadas cartesianas $(x_{0},y_{0})$ y $(x_{1},y_{1})$ se puede calcular mediante la siguiente expresión\n",
        "\n",
        "$$ distancia = \\sqrt{  (x_{0} - x_{1} )^{2} + (y_{0} - y_{1})^{2}} $$\n",
        "\n",
        "Escribar una expresión en Python que calcule la distancia de los puntos (2 , 2) y (5 , 6 ). <br>\n",
        "\n",
        "HINT: Recuerde que para usar raiz cuadrada el módulo de math  ( que puede importar) tiene una función raiz y función potencia."
      ]
    },
    {
      "cell_type": "code",
      "metadata": {
        "trusted": true,
        "id": "iYGW2uxdpots"
      },
      "source": [
        "# Resuelva el ejercicio en esta celda"
      ],
      "execution_count": null,
      "outputs": []
    },
    {
      "cell_type": "markdown",
      "metadata": {
        "id": "kDwFZ1S2pots"
      },
      "source": [
        "## Ejercicio 7. Preparación de una disolución para medir su espectro visible en Química Inorgánica.\n",
        "\n",
        "![sacarinatos.jpg](attachment:sacarinatos.jpg)\n",
        "\n",
        "__Figura.__ Serie isolectrónica de sacarinatos para los elementos del bloque 3d, sintetizados en el Laboratorio de Inorgánica II, durante el I Semestre del 2018. Foto Yefry Lopez.\n",
        "\n",
        "7. La ley de Beer-Lambert está dada por la siguiente expresión <br>\n",
        "\n",
        "$$ A = \\epsilon lc $$ <br>\n",
        "\n",
        "Donde __A__ es la absorbancia , __l__ la longitud de onda y $\\epsilon$ la absortividad molar.\n",
        "\n",
        "* En la __Práctica 05__ de su curso de Laboratorio de Química Inorgánica II. Usted sintetizará y caracterizará un complejo de sacarinato mediante espectroscopia de absorción visible. Usando la ley de Beer , calcule la concentración necesaria para que la Absorbancia y Absortividad molar tengan un valor de 1 y 100 respectivamente. La celda tiene una longitud __l__  de 1 cm <br>\n",
        "\n",
        "<br>\n",
        "\n",
        "* Una vez calculada la concentración, calcule la cantidad masa de sacarinato de zinc que debe medir en balanza analítica para preparar una disolución de 50 mL de dicha concentración. <br>\n",
        "\n",
        "HINT1: La masa molar del sacarinato sintetizado es de 519.8102 <br>\n",
        "HINT2: Vaya paso a paso declarando variables para no enrredarse <br>"
      ]
    },
    {
      "cell_type": "code",
      "metadata": {
        "trusted": true,
        "id": "l9hj91hfpott"
      },
      "source": [
        "# Resuelva el ejercicio en esta celda"
      ],
      "execution_count": null,
      "outputs": []
    },
    {
      "cell_type": "markdown",
      "metadata": {
        "id": "-u_N7sKEpott"
      },
      "source": [
        "## Comparación ecuación de estado del gas ideal con ecuación de estado de Redlich–Kwong.\n",
        "\n",
        "Para resolver este ejercicio, en la siguiente celda se le ofrece un machote de resolución. <br>\n",
        "\n",
        "En su curso de Química General y Cualitativa en el capítulo de gases aprendió la ecuación de estado del Gas Ideal<br>\n",
        "\n",
        "$$ P = \\frac{RT}{V_{m}} $$\n",
        "\n",
        "<br>\n",
        "Donde $V_{m}$ representa el volumen molar del gas. <br>\n",
        "\n",
        "Para su primer curso de Fisicoquímica, aprenderá que existen otras ecuaciones de estado que toman en cuenta las fuerzas intermoleculares entre las moléculas o átomos que conforman el gas. Por ejemplo, la ecuación de estado Redlich–Kwong .\n",
        "\n",
        "$$ P = \\frac{RT}{V_{m} - b} - \\frac{a}{\\sqrt{T}V_{m}(V_{m} + b)}$$ <br>\n",
        "<br>\n",
        "\n",
        "Donde a y b están dados por <br>\n",
        "\n",
        "<br>\n",
        "\n",
        "$$ a = \\frac{0.427*R^{2}*(T_{c})^{2}}{P_{c}} $$ <br>\n",
        "$$ b = \\frac{0.0866*R*T_{c}}{P_{c}} $$ <br>\n",
        "\n",
        "<br>\n",
        "\n",
        "$T_{c} , P_{c}$ representan las variables críticas ( Calcularlas será un ejercicio divertido en Fisicoquímica.Recuerda en Cálculo I o II como sacar un punto crítico  Máximo o mínimo ... Pero eso se lo dejamos al Fisicoquímica <br>\n",
        "\n",
        "<br>\n",
        "8. Calcule la presión de una gas usando el gas ideal y despues a presión gas de Redlich–Kwong. Imprima los resultados en pantalla.<br>\n",
        "\n",
        "Para imprimir, puede usar el siguiente código <br>\n",
        "\n",
        "<br>\n",
        "* print(\"The ideal gas pressure: \" + str(VARIABLE P IDEAL) + \" Pa\")__ <br>\n",
        "* print(\"The Redlich-Kwong pressure: \" + str(VARIABLE P REDLICH-KWONG) + \" Pa\")<br>\n",
        "<br>\n",
        "\n",
        "Para esto use los siguientes parámetros <br>\n",
        "<br>\n",
        "* R = 0.0821   L-atm/K\n",
        "* T = 500      K\n",
        "* V = 5        L/mol\n",
        "* Pc = 37.2    atm\n",
        "* Tc = 132.5   K\n",
        "\n",
        "<br>\n",
        "\n",
        "\n"
      ]
    },
    {
      "cell_type": "code",
      "metadata": {
        "trusted": true,
        "id": "dzgNNagNpott"
      },
      "source": [
        "##  Guía de la Resolución\n",
        "## Paso 1 importe el paquete math\n",
        "\n",
        "## Paso 2. Declare y asigne las variables R, T, V, Pc y Tc\n",
        "\n",
        "## Paso 3. Programe a y b usando los módulos math.pow(valor , potencia que quiere elevar)\n",
        "\n",
        "## Paso 4. Programe P del gas ideal guardela Pideal\n",
        "\n",
        "## Paso 5. Programe P del gas de Redlich–Kwong, guardela en Preal\n",
        "\n",
        "## Paso 6. Imprima sus resultados"
      ],
      "execution_count": null,
      "outputs": []
    },
    {
      "cell_type": "markdown",
      "metadata": {
        "id": "bffXlV2Qpotv"
      },
      "source": [
        "### Fin de Tarea"
      ]
    },
    {
      "cell_type": "code",
      "metadata": {
        "trusted": true,
        "id": "u92SYHp2potv"
      },
      "source": [
        ""
      ],
      "execution_count": null,
      "outputs": []
    }
  ]
}