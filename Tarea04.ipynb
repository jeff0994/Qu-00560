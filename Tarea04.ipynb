{
  "nbformat": 4,
  "nbformat_minor": 0,
  "metadata": {
    "kernelspec": {
      "name": "python36",
      "display_name": "Python 3.6",
      "language": "python"
    },
    "language_info": {
      "mimetype": "text/x-python",
      "nbconvert_exporter": "python",
      "name": "python",
      "pygments_lexer": "ipython3",
      "version": "3.6.6",
      "file_extension": ".py",
      "codemirror_mode": {
        "version": 3,
        "name": "ipython"
      }
    },
    "colab": {
      "name": "Tarea04.ipynb",
      "provenance": [],
      "include_colab_link": true
    }
  },
  "cells": [
    {
      "cell_type": "markdown",
      "metadata": {
        "id": "view-in-github",
        "colab_type": "text"
      },
      "source": [
        "<a href=\"https://colab.research.google.com/github/jeff0994/Qu-00560/blob/master/Tarea04.ipynb\" target=\"_parent\"><img src=\"https://colab.research.google.com/assets/colab-badge.svg\" alt=\"Open In Colab\"/></a>"
      ]
    },
    {
      "cell_type": "markdown",
      "metadata": {
        "collapsed": true,
        "id": "amJ6JOCxpqqq"
      },
      "source": [
        "# Universidad de Costa Rica\n",
        "\n",
        "## Facultad de Ciencias\n",
        "\n",
        "## Escuela de Química\n",
        "\n",
        "## Sección de Fisicoquímica\n",
        "\n",
        "## Qu-0560 Tópicos de Química Física: Herramientas Computacionales para Química\n",
        "\n",
        "### Profesor Gutierrez\n",
        "### Asistente no oficial: Yefry López"
      ]
    },
    {
      "cell_type": "markdown",
      "metadata": {
        "id": "n6lTiLrppqqs"
      },
      "source": [
        "### Tarea 04. Regresiones en la Carrera de Química"
      ]
    },
    {
      "cell_type": "markdown",
      "metadata": {
        "id": "H0H_3hqxpqqt"
      },
      "source": [
        "#### Ejercicio 1. Cálculando la Ka del ácido acético mediante mediciones de conductimetría.\n",
        "\n",
        "Una manera de determinar la constante de equilibrio de ácidos débiles, es mediante conductimetría usando el modelo de Oswald<br>\n",
        "El modelo indica lo siguiente <br>\n",
        "\n",
        "$$ \\frac{1}{\\Lambda_{m}} = \\frac{1}{\\Lambda_{m}^{0}} + \\frac{\\Lambda_{m}*c}{ K_{a} \\left(\\Lambda_{m}^{0}\\right)^{2}} $$ <br>\n",
        "\n",
        "Clararamente lo anterios es una linea recta si realizamos una gráfica de: <br>\n",
        "\n",
        "$ \\frac{1}{\\Lambda_{m}} $ vs $\\frac{1}{\\Lambda_{m}}$ <br>\n",
        "\n",
        "Donde el intercepto está dado por $\\frac{1}{\\Lambda_{m}^{0}}$ <br>\n",
        "Y la pendiente sería $ K_{a} \\left(\\Lambda_{m}^{0}\\right)^{2}$ <br>\n",
        "\n",
        "Donde $\\Lambda_{m}$ representa la conductividad molar , c la concentración del ácido acético y $\\Lambda_{m}^{0}$ la conductividad molar límite. <br>\n",
        "\n",
        "Empleando statsmodels o scipython calcule la constante ácida del ácido acético. <br>\n",
        "\n",
        "TIP. De la regresión calcule la pendiente y el intercepto. <br>\n",
        "De intercepto y la pendiente puede calcular la Ka. <br>\n",
        "\n",
        "Los datos son los siguientes: Todo ya se encuentra en Sistema SI <br>\n",
        "https://raw.githubusercontent.com/jeff0994/Qu-00560/master/Datos4.csv <br>"
      ]
    },
    {
      "cell_type": "markdown",
      "metadata": {
        "id": "6kxADpqNpqqt"
      },
      "source": [
        "#### Ejercicio 2. Calculando la Energía de Activación de una cinética.\n",
        "\n",
        "La constante de velocidad intrinseca de una reacción ,depende de la temperatura del sistema. <br>\n",
        "La ecuación que relaciona dicha variables es la siguiente <br>\n",
        "\n",
        "$$ k = A*e^{\\frac{-E_{a}}{RT}}(1)$$ <br>\n",
        "\n",
        "Donde k representa la constante de la cinética, Ea la energía de activación, R la constante de los gases y T la temperatura. <br>\n",
        "A es un factor pre-exponencial que mide la frecuencia de choque entre moléculas. <br>\n",
        "\n",
        "Si aplicamos logaritmo natural a ambos lados a (1), la ecuación resultante es la siguiente <br>\n",
        "$$ ln(k) = ln(A) - \\frac{E_{a}}{RT} $$ \n",
        "\n",
        "Realice una regresión lineal de ln(k) vs 1/T\n",
        "\n",
        "Reporte el valor de la energía de activación, incertidumbre y así mismo realice gráfica.\n",
        "\n",
        "Datos:\n",
        "https://raw.githubusercontent.com/jeff0994/Qu-00560/master/Datos5.csv"
      ]
    },
    {
      "cell_type": "markdown",
      "metadata": {
        "id": "ldpLzxSUpqqu"
      },
      "source": [
        "#### Ejercicio 3. Para la siguiente curva de calibración\n",
        "\n",
        "https://raw.githubusercontent.com/jeff0994/Qu-00560/master/Datos6.csv\n",
        "    \n",
        "Encuentre la ecuación de mejor ajuste, pendiente e intercepto con sus intertidumbres respectivas. <br>\n",
        "Así mismo su factor $R$ y $R^2$ <br>"
      ]
    },
    {
      "cell_type": "markdown",
      "metadata": {
        "trusted": true,
        "id": "pSWisTlHpqqu"
      },
      "source": [
        "### Fin de Tarea"
      ]
    },
    {
      "cell_type": "code",
      "metadata": {
        "trusted": true,
        "id": "Kvvh4ddBpqqu"
      },
      "source": [
        ""
      ],
      "execution_count": null,
      "outputs": []
    }
  ]
}