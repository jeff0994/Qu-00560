{
  "cells": [
    {
      "metadata": {
        "collapsed": true
      },
      "cell_type": "markdown",
      "source": "# Universidad de Costa Rica\n\n## Facultad de Ciencias\n\n## Escuela de Química\n\n## Sección de Fisicoquímica\n\n## Qu-0560 Tópicos de Química Física: Herramientas Computacionales para Química\n\n### Profesor Gutierrez\n### Asistente no oficial: Yefry López"
    },
    {
      "metadata": {},
      "cell_type": "markdown",
      "source": "### Tarea 04. Regresiones en la Carrera de Química"
    },
    {
      "metadata": {},
      "cell_type": "markdown",
      "source": "#### Ejercicio 1. Cálculando la Ka del ácido acético mediante mediciones de conductimetría.\n\nUna manera de determinar la constante de equilibrio de ácidos débiles, es mediante conductimetría usando el modelo de Oswald<br>\nEl modelo indica lo siguiente <br>\n\n$$ \\frac{1}{\\Lambda_{m}} = \\frac{1}{\\Lambda_{m}^{0}} + \\frac{\\Lambda_{m}*c}{ K_{a} \\left(\\Lambda_{m}^{0}\\right)^{2}} $$ <br>\n\nClararamente lo anterios es una linea recta si realizamos una gráfica de: <br>\n\n$ \\frac{1}{\\Lambda_{m}} $ vs $\\frac{1}{\\Lambda_{m}}$ <br>\n\nDonde el intercepto está dado por $\\frac{1}{\\Lambda_{m}^{0}}$ <br>\nY la pendiente sería $ K_{a} \\left(\\Lambda_{m}^{0}\\right)^{2}$ <br>\n\nDonde $\\Lambda_{m}$ representa la conductividad molar , c la concentración del ácido acético y $\\Lambda_{m}^{0}$ la conductividad molar límite. <br>\n\nEmpleando statsmodels o scipython calcule la constante ácida del ácido acético. <br>\n\nTIP. De la regresión calcule la pendiente y el intercepto. <br>\nDe intercepto y la pendiente puede calcular la Ka. <br>\n\nLos datos son los siguientes: Todo ya se encuentra en Sistema SI <br>\nhttps://raw.githubusercontent.com/jeff0994/Qu-00560/master/Datos4.csv <br>"
    },
    {
      "metadata": {},
      "cell_type": "markdown",
      "source": "#### Ejercicio 2. Calculando la Energía de Activación de una cinética.\n\nLa constante de velocidad intrinseca de una reacción ,depende de la temperatura del sistema. <br>\nLa ecuación que relaciona dicha variables es la siguiente <br>\n\n$$ k = A*e^{\\frac{-E_{a}}{RT}}(1)$$ <br>\n\nDonde k representa la constante de la cinética, Ea la energía de activación, R la constante de los gases y T la temperatura. <br>\nA es un factor pre-exponencial que mide la frecuencia de choque entre moléculas. <br>\n\nSi aplicamos logaritmo natural a ambos lados a (1), la ecuación resultante es la siguiente <br>\n$$ ln(k) = ln(A) - \\frac{E_{a}}{RT} $$ \n\nRealice una regresión lineal de ln(k) vs 1/T\n\nReporte el valor de la energía de activación, incertidumbre y así mismo realice gráfica.\n\nDatos:\nhttps://raw.githubusercontent.com/jeff0994/Qu-00560/master/Datos5.csv"
    },
    {
      "metadata": {},
      "cell_type": "markdown",
      "source": "#### Ejercicio 3. Para la siguiente curva de calibración\n\nhttps://raw.githubusercontent.com/jeff0994/Qu-00560/master/Datos6.csv\n    \nEncuentre la ecuación de mejor ajuste, pendiente e intercepto con sus intertidumbres respectivas. <br>\nAsí mismo su factor $R$ y $R^2$ <br>"
    },
    {
      "metadata": {
        "trusted": true
      },
      "cell_type": "markdown",
      "source": "### Fin de Tarea"
    },
    {
      "metadata": {
        "trusted": true
      },
      "cell_type": "code",
      "source": "",
      "execution_count": null,
      "outputs": []
    }
  ],
  "metadata": {
    "kernelspec": {
      "name": "python36",
      "display_name": "Python 3.6",
      "language": "python"
    },
    "language_info": {
      "mimetype": "text/x-python",
      "nbconvert_exporter": "python",
      "name": "python",
      "pygments_lexer": "ipython3",
      "version": "3.6.6",
      "file_extension": ".py",
      "codemirror_mode": {
        "version": 3,
        "name": "ipython"
      }
    }
  },
  "nbformat": 4,
  "nbformat_minor": 2
}